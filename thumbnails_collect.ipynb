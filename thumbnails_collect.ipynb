{
  "cells": [
    {
      "cell_type": "markdown",
      "source": [
        "####Connect with google drive\n"
      ],
      "metadata": {
        "id": "x5xCbbu-fjl-"
      },
      "id": "x5xCbbu-fjl-"
    },
    {
      "cell_type": "code",
      "execution_count": 1,
      "id": "7xmqgamVz465",
      "metadata": {
        "colab": {
          "base_uri": "https://localhost:8080/"
        },
        "id": "7xmqgamVz465",
        "outputId": "a4fd51d9-a62f-434d-caa7-e9dd96bf5ded"
      },
      "outputs": [
        {
          "output_type": "stream",
          "name": "stdout",
          "text": [
            "Mounted at /content/gdrive\n"
          ]
        }
      ],
      "source": [
        "from google.colab import drive\n",
        "drive.mount('/content/gdrive')"
      ]
    },
    {
      "cell_type": "markdown",
      "source": [
        "Take in dataset from: [Popular Youtube Channels Dataset](https://www.kaggle.com/datasets/zhitaochen/channels)"
      ],
      "metadata": {
        "id": "iSc6fG02fqks"
      },
      "id": "iSc6fG02fqks"
    },
    {
      "cell_type": "code",
      "execution_count": null,
      "id": "6435a719-1aa6-4904-add8-8d7776fb5e07",
      "metadata": {
        "id": "6435a719-1aa6-4904-add8-8d7776fb5e07"
      },
      "outputs": [],
      "source": [
        "import pandas as pd\n",
        "import csv\n",
        "data = pd.read_csv(\"./gdrive/MyDrive/youtube_thumbnails/channels.csv\", encoding='utf-8',on_bad_lines='skip',engine=\"python\")"
      ]
    },
    {
      "cell_type": "code",
      "execution_count": null,
      "id": "LvVi8i_yqMxv",
      "metadata": {
        "colab": {
          "base_uri": "https://localhost:8080/",
          "height": 423
        },
        "id": "LvVi8i_yqMxv",
        "outputId": "389d3f55-5919-49a2-8ec7-fad4f97d2099"
      },
      "outputs": [
        {
          "output_type": "execute_result",
          "data": {
            "text/plain": [
              "                             id  \\\n",
              "0      UCMdRkWIe9mdpsw4-8EID4rw   \n",
              "1      UCUsTSbCLD96-pcWi2Kqaitg   \n",
              "2      UCyCyTe_1bT2aIPwG_gxbyeg   \n",
              "3      UCHuD3bhRhvOuAPqVJZlQfWw   \n",
              "4      UCW2OUlFrrWiZvSsZRwOYmNg   \n",
              "...                         ...   \n",
              "16378  UC4SUWizzKc1tptprBkWjX2Q   \n",
              "16379  UCVNFzYxySA5UFvAi32vD0cg   \n",
              "16380  UC3hhq3Twc_jTYWzfL5BCa1A   \n",
              "16381  UCAt0ZufG7-TvfgbwkCbKd3Q   \n",
              "16382  UCLogORgVX9dA3WODIaZTulQ   \n",
              "\n",
              "                                                     url  \\\n",
              "0      https://www.youtube.com/channel/UCMdRkWIe9mdps...   \n",
              "1      https://www.youtube.com/channel/UCUsTSbCLD96-p...   \n",
              "2      https://www.youtube.com/channel/UCyCyTe_1bT2aI...   \n",
              "3      https://www.youtube.com/channel/UCHuD3bhRhvOuA...   \n",
              "4      https://www.youtube.com/channel/UCW2OUlFrrWiZv...   \n",
              "...                                                  ...   \n",
              "16378  https://www.youtube.com/channel/UC4SUWizzKc1tp...   \n",
              "16379  https://www.youtube.com/channel/UCVNFzYxySA5UF...   \n",
              "16380  https://www.youtube.com/channel/UC3hhq3Twc_jTY...   \n",
              "16381  https://www.youtube.com/channel/UCAt0ZufG7-Tvf...   \n",
              "16382  https://www.youtube.com/channel/UCLogORgVX9dA3...   \n",
              "\n",
              "                                             description  \n",
              "0      Movies. Music. Entertainment. Justified - Open...  \n",
              "1      Lifestyle. Aussie Comedian. Gaming Video Creat...  \n",
              "2      Lifestyle. The Lanning family has been making ...  \n",
              "3      Entertainment. Movies. N.R.P Cinemas is a mark...  \n",
              "4      Vehicles. Lifestyle. YOUCAR is the world's fir...  \n",
              "...                                                  ...  \n",
              "16378  Society. Coco Lee remembered as hundreds of mo...  \n",
              "16379  Vehicles. Lifestyle. reXpair brings evolution ...  \n",
              "16380  Music. Pop music. Official YouTube channel for...  \n",
              "16381  Entertainment. Movies. Hello Guys I m Paritosh...  \n",
              "16382  Lifestyle. Hobby. Chasing Summer Productions i...  \n",
              "\n",
              "[16383 rows x 3 columns]"
            ],
            "text/html": [
              "\n",
              "  <div id=\"df-ed9f511a-f020-4ec1-847b-3227fb30525b\" class=\"colab-df-container\">\n",
              "    <div>\n",
              "<style scoped>\n",
              "    .dataframe tbody tr th:only-of-type {\n",
              "        vertical-align: middle;\n",
              "    }\n",
              "\n",
              "    .dataframe tbody tr th {\n",
              "        vertical-align: top;\n",
              "    }\n",
              "\n",
              "    .dataframe thead th {\n",
              "        text-align: right;\n",
              "    }\n",
              "</style>\n",
              "<table border=\"1\" class=\"dataframe\">\n",
              "  <thead>\n",
              "    <tr style=\"text-align: right;\">\n",
              "      <th></th>\n",
              "      <th>id</th>\n",
              "      <th>url</th>\n",
              "      <th>description</th>\n",
              "    </tr>\n",
              "  </thead>\n",
              "  <tbody>\n",
              "    <tr>\n",
              "      <th>0</th>\n",
              "      <td>UCMdRkWIe9mdpsw4-8EID4rw</td>\n",
              "      <td>https://www.youtube.com/channel/UCMdRkWIe9mdps...</td>\n",
              "      <td>Movies. Music. Entertainment. Justified - Open...</td>\n",
              "    </tr>\n",
              "    <tr>\n",
              "      <th>1</th>\n",
              "      <td>UCUsTSbCLD96-pcWi2Kqaitg</td>\n",
              "      <td>https://www.youtube.com/channel/UCUsTSbCLD96-p...</td>\n",
              "      <td>Lifestyle. Aussie Comedian. Gaming Video Creat...</td>\n",
              "    </tr>\n",
              "    <tr>\n",
              "      <th>2</th>\n",
              "      <td>UCyCyTe_1bT2aIPwG_gxbyeg</td>\n",
              "      <td>https://www.youtube.com/channel/UCyCyTe_1bT2aI...</td>\n",
              "      <td>Lifestyle. The Lanning family has been making ...</td>\n",
              "    </tr>\n",
              "    <tr>\n",
              "      <th>3</th>\n",
              "      <td>UCHuD3bhRhvOuAPqVJZlQfWw</td>\n",
              "      <td>https://www.youtube.com/channel/UCHuD3bhRhvOuA...</td>\n",
              "      <td>Entertainment. Movies. N.R.P Cinemas is a mark...</td>\n",
              "    </tr>\n",
              "    <tr>\n",
              "      <th>4</th>\n",
              "      <td>UCW2OUlFrrWiZvSsZRwOYmNg</td>\n",
              "      <td>https://www.youtube.com/channel/UCW2OUlFrrWiZv...</td>\n",
              "      <td>Vehicles. Lifestyle. YOUCAR is the world's fir...</td>\n",
              "    </tr>\n",
              "    <tr>\n",
              "      <th>...</th>\n",
              "      <td>...</td>\n",
              "      <td>...</td>\n",
              "      <td>...</td>\n",
              "    </tr>\n",
              "    <tr>\n",
              "      <th>16378</th>\n",
              "      <td>UC4SUWizzKc1tptprBkWjX2Q</td>\n",
              "      <td>https://www.youtube.com/channel/UC4SUWizzKc1tp...</td>\n",
              "      <td>Society. Coco Lee remembered as hundreds of mo...</td>\n",
              "    </tr>\n",
              "    <tr>\n",
              "      <th>16379</th>\n",
              "      <td>UCVNFzYxySA5UFvAi32vD0cg</td>\n",
              "      <td>https://www.youtube.com/channel/UCVNFzYxySA5UF...</td>\n",
              "      <td>Vehicles. Lifestyle. reXpair brings evolution ...</td>\n",
              "    </tr>\n",
              "    <tr>\n",
              "      <th>16380</th>\n",
              "      <td>UC3hhq3Twc_jTYWzfL5BCa1A</td>\n",
              "      <td>https://www.youtube.com/channel/UC3hhq3Twc_jTY...</td>\n",
              "      <td>Music. Pop music. Official YouTube channel for...</td>\n",
              "    </tr>\n",
              "    <tr>\n",
              "      <th>16381</th>\n",
              "      <td>UCAt0ZufG7-TvfgbwkCbKd3Q</td>\n",
              "      <td>https://www.youtube.com/channel/UCAt0ZufG7-Tvf...</td>\n",
              "      <td>Entertainment. Movies. Hello Guys I m Paritosh...</td>\n",
              "    </tr>\n",
              "    <tr>\n",
              "      <th>16382</th>\n",
              "      <td>UCLogORgVX9dA3WODIaZTulQ</td>\n",
              "      <td>https://www.youtube.com/channel/UCLogORgVX9dA3...</td>\n",
              "      <td>Lifestyle. Hobby. Chasing Summer Productions i...</td>\n",
              "    </tr>\n",
              "  </tbody>\n",
              "</table>\n",
              "<p>16383 rows × 3 columns</p>\n",
              "</div>\n",
              "    <div class=\"colab-df-buttons\">\n",
              "\n",
              "  <div class=\"colab-df-container\">\n",
              "    <button class=\"colab-df-convert\" onclick=\"convertToInteractive('df-ed9f511a-f020-4ec1-847b-3227fb30525b')\"\n",
              "            title=\"Convert this dataframe to an interactive table.\"\n",
              "            style=\"display:none;\">\n",
              "\n",
              "  <svg xmlns=\"http://www.w3.org/2000/svg\" height=\"24px\" viewBox=\"0 -960 960 960\">\n",
              "    <path d=\"M120-120v-720h720v720H120Zm60-500h600v-160H180v160Zm220 220h160v-160H400v160Zm0 220h160v-160H400v160ZM180-400h160v-160H180v160Zm440 0h160v-160H620v160ZM180-180h160v-160H180v160Zm440 0h160v-160H620v160Z\"/>\n",
              "  </svg>\n",
              "    </button>\n",
              "\n",
              "  <style>\n",
              "    .colab-df-container {\n",
              "      display:flex;\n",
              "      gap: 12px;\n",
              "    }\n",
              "\n",
              "    .colab-df-convert {\n",
              "      background-color: #E8F0FE;\n",
              "      border: none;\n",
              "      border-radius: 50%;\n",
              "      cursor: pointer;\n",
              "      display: none;\n",
              "      fill: #1967D2;\n",
              "      height: 32px;\n",
              "      padding: 0 0 0 0;\n",
              "      width: 32px;\n",
              "    }\n",
              "\n",
              "    .colab-df-convert:hover {\n",
              "      background-color: #E2EBFA;\n",
              "      box-shadow: 0px 1px 2px rgba(60, 64, 67, 0.3), 0px 1px 3px 1px rgba(60, 64, 67, 0.15);\n",
              "      fill: #174EA6;\n",
              "    }\n",
              "\n",
              "    .colab-df-buttons div {\n",
              "      margin-bottom: 4px;\n",
              "    }\n",
              "\n",
              "    [theme=dark] .colab-df-convert {\n",
              "      background-color: #3B4455;\n",
              "      fill: #D2E3FC;\n",
              "    }\n",
              "\n",
              "    [theme=dark] .colab-df-convert:hover {\n",
              "      background-color: #434B5C;\n",
              "      box-shadow: 0px 1px 3px 1px rgba(0, 0, 0, 0.15);\n",
              "      filter: drop-shadow(0px 1px 2px rgba(0, 0, 0, 0.3));\n",
              "      fill: #FFFFFF;\n",
              "    }\n",
              "  </style>\n",
              "\n",
              "    <script>\n",
              "      const buttonEl =\n",
              "        document.querySelector('#df-ed9f511a-f020-4ec1-847b-3227fb30525b button.colab-df-convert');\n",
              "      buttonEl.style.display =\n",
              "        google.colab.kernel.accessAllowed ? 'block' : 'none';\n",
              "\n",
              "      async function convertToInteractive(key) {\n",
              "        const element = document.querySelector('#df-ed9f511a-f020-4ec1-847b-3227fb30525b');\n",
              "        const dataTable =\n",
              "          await google.colab.kernel.invokeFunction('convertToInteractive',\n",
              "                                                    [key], {});\n",
              "        if (!dataTable) return;\n",
              "\n",
              "        const docLinkHtml = 'Like what you see? Visit the ' +\n",
              "          '<a target=\"_blank\" href=https://colab.research.google.com/notebooks/data_table.ipynb>data table notebook</a>'\n",
              "          + ' to learn more about interactive tables.';\n",
              "        element.innerHTML = '';\n",
              "        dataTable['output_type'] = 'display_data';\n",
              "        await google.colab.output.renderOutput(dataTable, element);\n",
              "        const docLink = document.createElement('div');\n",
              "        docLink.innerHTML = docLinkHtml;\n",
              "        element.appendChild(docLink);\n",
              "      }\n",
              "    </script>\n",
              "  </div>\n",
              "\n",
              "\n",
              "<div id=\"df-74b64b71-07df-4541-991c-7973891ff5c3\">\n",
              "  <button class=\"colab-df-quickchart\" onclick=\"quickchart('df-74b64b71-07df-4541-991c-7973891ff5c3')\"\n",
              "            title=\"Suggest charts\"\n",
              "            style=\"display:none;\">\n",
              "\n",
              "<svg xmlns=\"http://www.w3.org/2000/svg\" height=\"24px\"viewBox=\"0 0 24 24\"\n",
              "     width=\"24px\">\n",
              "    <g>\n",
              "        <path d=\"M19 3H5c-1.1 0-2 .9-2 2v14c0 1.1.9 2 2 2h14c1.1 0 2-.9 2-2V5c0-1.1-.9-2-2-2zM9 17H7v-7h2v7zm4 0h-2V7h2v10zm4 0h-2v-4h2v4z\"/>\n",
              "    </g>\n",
              "</svg>\n",
              "  </button>\n",
              "\n",
              "<style>\n",
              "  .colab-df-quickchart {\n",
              "      --bg-color: #E8F0FE;\n",
              "      --fill-color: #1967D2;\n",
              "      --hover-bg-color: #E2EBFA;\n",
              "      --hover-fill-color: #174EA6;\n",
              "      --disabled-fill-color: #AAA;\n",
              "      --disabled-bg-color: #DDD;\n",
              "  }\n",
              "\n",
              "  [theme=dark] .colab-df-quickchart {\n",
              "      --bg-color: #3B4455;\n",
              "      --fill-color: #D2E3FC;\n",
              "      --hover-bg-color: #434B5C;\n",
              "      --hover-fill-color: #FFFFFF;\n",
              "      --disabled-bg-color: #3B4455;\n",
              "      --disabled-fill-color: #666;\n",
              "  }\n",
              "\n",
              "  .colab-df-quickchart {\n",
              "    background-color: var(--bg-color);\n",
              "    border: none;\n",
              "    border-radius: 50%;\n",
              "    cursor: pointer;\n",
              "    display: none;\n",
              "    fill: var(--fill-color);\n",
              "    height: 32px;\n",
              "    padding: 0;\n",
              "    width: 32px;\n",
              "  }\n",
              "\n",
              "  .colab-df-quickchart:hover {\n",
              "    background-color: var(--hover-bg-color);\n",
              "    box-shadow: 0 1px 2px rgba(60, 64, 67, 0.3), 0 1px 3px 1px rgba(60, 64, 67, 0.15);\n",
              "    fill: var(--button-hover-fill-color);\n",
              "  }\n",
              "\n",
              "  .colab-df-quickchart-complete:disabled,\n",
              "  .colab-df-quickchart-complete:disabled:hover {\n",
              "    background-color: var(--disabled-bg-color);\n",
              "    fill: var(--disabled-fill-color);\n",
              "    box-shadow: none;\n",
              "  }\n",
              "\n",
              "  .colab-df-spinner {\n",
              "    border: 2px solid var(--fill-color);\n",
              "    border-color: transparent;\n",
              "    border-bottom-color: var(--fill-color);\n",
              "    animation:\n",
              "      spin 1s steps(1) infinite;\n",
              "  }\n",
              "\n",
              "  @keyframes spin {\n",
              "    0% {\n",
              "      border-color: transparent;\n",
              "      border-bottom-color: var(--fill-color);\n",
              "      border-left-color: var(--fill-color);\n",
              "    }\n",
              "    20% {\n",
              "      border-color: transparent;\n",
              "      border-left-color: var(--fill-color);\n",
              "      border-top-color: var(--fill-color);\n",
              "    }\n",
              "    30% {\n",
              "      border-color: transparent;\n",
              "      border-left-color: var(--fill-color);\n",
              "      border-top-color: var(--fill-color);\n",
              "      border-right-color: var(--fill-color);\n",
              "    }\n",
              "    40% {\n",
              "      border-color: transparent;\n",
              "      border-right-color: var(--fill-color);\n",
              "      border-top-color: var(--fill-color);\n",
              "    }\n",
              "    60% {\n",
              "      border-color: transparent;\n",
              "      border-right-color: var(--fill-color);\n",
              "    }\n",
              "    80% {\n",
              "      border-color: transparent;\n",
              "      border-right-color: var(--fill-color);\n",
              "      border-bottom-color: var(--fill-color);\n",
              "    }\n",
              "    90% {\n",
              "      border-color: transparent;\n",
              "      border-bottom-color: var(--fill-color);\n",
              "    }\n",
              "  }\n",
              "</style>\n",
              "\n",
              "  <script>\n",
              "    async function quickchart(key) {\n",
              "      const quickchartButtonEl =\n",
              "        document.querySelector('#' + key + ' button');\n",
              "      quickchartButtonEl.disabled = true;  // To prevent multiple clicks.\n",
              "      quickchartButtonEl.classList.add('colab-df-spinner');\n",
              "      try {\n",
              "        const charts = await google.colab.kernel.invokeFunction(\n",
              "            'suggestCharts', [key], {});\n",
              "      } catch (error) {\n",
              "        console.error('Error during call to suggestCharts:', error);\n",
              "      }\n",
              "      quickchartButtonEl.classList.remove('colab-df-spinner');\n",
              "      quickchartButtonEl.classList.add('colab-df-quickchart-complete');\n",
              "    }\n",
              "    (() => {\n",
              "      let quickchartButtonEl =\n",
              "        document.querySelector('#df-74b64b71-07df-4541-991c-7973891ff5c3 button');\n",
              "      quickchartButtonEl.style.display =\n",
              "        google.colab.kernel.accessAllowed ? 'block' : 'none';\n",
              "    })();\n",
              "  </script>\n",
              "</div>\n",
              "\n",
              "  <div id=\"id_644a231c-6e1c-4a58-a88f-652edb0f88f7\">\n",
              "    <style>\n",
              "      .colab-df-generate {\n",
              "        background-color: #E8F0FE;\n",
              "        border: none;\n",
              "        border-radius: 50%;\n",
              "        cursor: pointer;\n",
              "        display: none;\n",
              "        fill: #1967D2;\n",
              "        height: 32px;\n",
              "        padding: 0 0 0 0;\n",
              "        width: 32px;\n",
              "      }\n",
              "\n",
              "      .colab-df-generate:hover {\n",
              "        background-color: #E2EBFA;\n",
              "        box-shadow: 0px 1px 2px rgba(60, 64, 67, 0.3), 0px 1px 3px 1px rgba(60, 64, 67, 0.15);\n",
              "        fill: #174EA6;\n",
              "      }\n",
              "\n",
              "      [theme=dark] .colab-df-generate {\n",
              "        background-color: #3B4455;\n",
              "        fill: #D2E3FC;\n",
              "      }\n",
              "\n",
              "      [theme=dark] .colab-df-generate:hover {\n",
              "        background-color: #434B5C;\n",
              "        box-shadow: 0px 1px 3px 1px rgba(0, 0, 0, 0.15);\n",
              "        filter: drop-shadow(0px 1px 2px rgba(0, 0, 0, 0.3));\n",
              "        fill: #FFFFFF;\n",
              "      }\n",
              "    </style>\n",
              "    <button class=\"colab-df-generate\" onclick=\"generateWithVariable('data')\"\n",
              "            title=\"Generate code using this dataframe.\"\n",
              "            style=\"display:none;\">\n",
              "\n",
              "  <svg xmlns=\"http://www.w3.org/2000/svg\" height=\"24px\"viewBox=\"0 0 24 24\"\n",
              "       width=\"24px\">\n",
              "    <path d=\"M7,19H8.4L18.45,9,17,7.55,7,17.6ZM5,21V16.75L18.45,3.32a2,2,0,0,1,2.83,0l1.4,1.43a1.91,1.91,0,0,1,.58,1.4,1.91,1.91,0,0,1-.58,1.4L9.25,21ZM18.45,9,17,7.55Zm-12,3A5.31,5.31,0,0,0,4.9,8.1,5.31,5.31,0,0,0,1,6.5,5.31,5.31,0,0,0,4.9,4.9,5.31,5.31,0,0,0,6.5,1,5.31,5.31,0,0,0,8.1,4.9,5.31,5.31,0,0,0,12,6.5,5.46,5.46,0,0,0,6.5,12Z\"/>\n",
              "  </svg>\n",
              "    </button>\n",
              "    <script>\n",
              "      (() => {\n",
              "      const buttonEl =\n",
              "        document.querySelector('#id_644a231c-6e1c-4a58-a88f-652edb0f88f7 button.colab-df-generate');\n",
              "      buttonEl.style.display =\n",
              "        google.colab.kernel.accessAllowed ? 'block' : 'none';\n",
              "\n",
              "      buttonEl.onclick = () => {\n",
              "        google.colab.notebook.generateWithVariable('data');\n",
              "      }\n",
              "      })();\n",
              "    </script>\n",
              "  </div>\n",
              "\n",
              "    </div>\n",
              "  </div>\n"
            ],
            "application/vnd.google.colaboratory.intrinsic+json": {
              "type": "dataframe",
              "variable_name": "data",
              "summary": "{\n  \"name\": \"data\",\n  \"rows\": 16383,\n  \"fields\": [\n    {\n      \"column\": \"id\",\n      \"properties\": {\n        \"dtype\": \"string\",\n        \"num_unique_values\": 16383,\n        \"samples\": [\n          \"UCO_hWjivU900eBRkSQNtlAw\",\n          \"UC7x7gqeQQ5dazPAvDgC7TIw\",\n          \"UCN4mM1uNt5ErmDEOD-6ejeQ\"\n        ],\n        \"semantic_type\": \"\",\n        \"description\": \"\"\n      }\n    },\n    {\n      \"column\": \"url\",\n      \"properties\": {\n        \"dtype\": \"string\",\n        \"num_unique_values\": 16383,\n        \"samples\": [\n          \"https://www.youtube.com/channel/UCO_hWjivU900eBRkSQNtlAw\",\n          \"https://www.youtube.com/channel/UC7x7gqeQQ5dazPAvDgC7TIw\",\n          \"https://www.youtube.com/channel/UCN4mM1uNt5ErmDEOD-6ejeQ\"\n        ],\n        \"semantic_type\": \"\",\n        \"description\": \"\"\n      }\n    },\n    {\n      \"column\": \"description\",\n      \"properties\": {\n        \"dtype\": \"string\",\n        \"num_unique_values\": 16383,\n        \"samples\": [\n          \"Pop music. Independent music. Music. Rock music. Man's World. Out Now. . i look like i live in an old mountain village in Greece aka the dream. If you re looking for a sign . Wednesday s child. MARINA - Electra Heart Official Audio . Happiest 10 year anniversary to Electra Heart! I'll write a book about it one day. It was a thrilling creative journey met with a lot of passion from fans and a lot of hilarious rancor from press at the time. I'm so glad she got her justice 10 years later. 2 platinum records and one gold, all thanks to you. Happiest 10 year anniversary to Electra Heart! I'll write a book about it one day. It was a thrilling creative journey met with a lot of passion from fans and a lot of hilarious rancor from press at the time. I'm so glad she got her justice 10 years later. 2 platinum records and one gold, all thanks to you. MARINA - Ancient Dreams In A Modern Land Demo 'ANCIENT DREAMS IN A MODERN LAND DELUXE EDITION ' MARINA - Venus Fly Trap Demo 'ANCIENT DREAMS IN A MODERN LAND DELUXE EDITION ' MARINA - Pink Convertible Official Audio . 'ANCIENT DREAMS IN A MODERN LAND DELUXE EDITION ' Jesy Odio Video Commissioner Trevor J Newton Crush Charlie Adelman David Russell Animator Leah Putnam DP Tony Medina Make-up Artist Tami El Sombati Production Coordinator AC Matt Sumney 2nd AC Michael Caparelli Gaffer Kyle Bart Reid Key Grip Anthony Schrader CCO Andy Pancho PA MARINA - Free Woman Official Audio . MARINA - Happy Loner Official Audio . MARINA - Highly Emotional People Le Sac Remix MARINA - I Love You But I Love Me More feat. I Love You But I Love Me More feat. MARINA - Bubblegum Bitch Live from the Desert . Laura Gordon 1st AC- Bryant Marcontel Key 2nd AC- Jed hernandez Camera PA- Hector Manuel Azurmendi Technical Advisor- Jake Bayless BTS Photo Video- Brendan Walter Key Grip- Daniel Kusenda Best Boy Grip- Nestor Valenzuela Best Boy Electric- Eric Rosa Production Designer- Justin Ryan Brown Leadman - Randall Papavero Set Dressers- Dylan Tracy Daniel Paller Art PA- Kati Thomas Eitan Meskin Wardrobe Stylist- Mercedes Natalia Custom wardrobe for MARINA- Olima Makeup Artist- Anthony Nguy n Hair Stylist- Rena Calhoun Wardrobe Assistant- Fernanda Linhares Cruz Hair Assistant- Tyler Algozzino Production Assistant Driver- Noah Woodbridge Covid Compliance Officer- Anthony Pedone CCO Assist- Kati Thomas Edit Color- Ryan Ohm Special thanks Gaby Fainsilber, Trevor Newton, Atlantic Records. and I'll spit you out 'Cause that's what young love is all about So pull me closer and kiss me hard I'm gonna pop your bubblegum heart I'm Miss Sugar Pink, liquor, liquor lips Hit me with your sweet love, steal me with a kiss I'm Miss Sugar Pink, liquor, liquor lips I'm gonna be your bubblegum bitch I'm gonna be your bubblegum bitch Queentex, latex, I'm your wondermaid Life gave me some lemons so I made some lemonade Soda pop, soda pop, baby, here I come Straight to number one Oh, dear diary, I met a boy He made my doll heart light up with joy Oh, dear diary, we fell apart Welcome to the life of Electra Heart I'm Miss Sugar Pink, liquor, liquor lips Hit me with your sweet love, steal me with a kiss I'm Miss Sugar Pink, liquor, liquor lips I'm gonna be your bubblegum bitch I'm gonna be your bubblegum bitch I think I want your, your American tan Oh, oh, oh I think you're gonna be my biggest fan I'm Miss Sugar Pink, liquor, liquor lips Hit me with your sweet love, steal me with a kiss I'm Miss Sugar Pink, liquor, liquor lips I'm gonna be your bubblegum bitch I'm gonna be your bubblegum bitch I'm Miss Sugar Pink, liquor, liquor lips Hit me with your sweet love, steal me with a kiss I'm Miss Sugar Pink, liquor, liquor lips I'm gonna be your bubblegum bitch I'm gonna be your bubblegum bitch. MARINA - Venus Fly Trap Sofi Tukker Remix\",\n          \"Technology. Lifestyle. Reliance Jio Infocomm Limited, a subsidiary of Jio Platforms Limited, has built a world-class all-IP data strong future proof network with 4G LTE technology. The network is 5G ready with no legacy infrastructure and indigenous 5G stack. It is the only network conceived as a Mobile Video Network from the ground up. It is future ready and can be easily upgraded to support even more data, as technologies advance on to 6G and beyond. Jio has brought transformational changes in the Indian digital services space to enable the vision of Digital India for 1.3 billion Indians and propel India into global leadership in the digital economy. It has created an eco-system comprising of network, devices, applications and content, service experience and affordable tariffs for everyone to live the Jio Digital Life. . JioBusiness Your One-Stop Partner for Growth. Introducing JioBusiness, your one-stop partner for all digital solutions. And since then, Jio has come a long way. In Oct 2022, Jio began rolling out 5G services in select cities in India. Currently, Jio users who receive the Welcome Offer will be able to enjoy unlimited internet consumption at no extra cost if their mobile has an active recharge plan- prepaid or postpaid- for Rs 239 or higher. Jio continues to be a major player in the Indian telecommunications market, offering both 4G and 5G services to its customers, as well as other services such as home broadband and enterprise solutions. Jio Set Top Box - Easy Installation Guide. In this video follow an easy step-by-step guide on how to install and make the most of your all-new JioFiber set-top box. Steps to install Jio Set top box below 1. Unboxing Cabling - Unbox each component from the kit - Connect the HDMI to the TV and note the HDMI port number. - Connect the LAN cable to the Ethernet port of STB and Wi-Fi router. - Connect the power adapter to the STB and a power source. 2. Pairing Your Jio Remote with Set top box - Insert AAA batteries and long press any key for 10 secs - Press OK to continue 3. Configuring the Jio Set-top box - Go to 'Display settings' and select HDMI resolution then select 'Auto Resolution and press continue - Select preferred Wi-Fi preferably 5 Ghz to connect your STB to the internet - Scroll down, read, and accept the T C - Your set-top box is now successfully connected. You're now all set to enjoy unlimited entertainment! In this video follow an easy step-by-step guide in Hindi on how to install and make the most of your all-new JioFiber set-top box. Steps to install Jio Set top box in Hindi below 1. Unboxing Cabling - Unbox each component from the kit - Connect the HDMI to the TV and note the HDMI port number. - Connect the LAN cable to the Ethernet port of STB and Wi-Fi router. - Connect the power adapter to the STB and a power source. 2. Pairing Your Jio Remote with Set top box - Insert AAA batteries and long press any key for 10 secs - Press OK to continue 3. Configuring the Jio Set-top box - Go to 'Display settings' and select HDMI resolution then select 'Auto Resolution and press continue - Select preferred Wi-Fi preferably 5 Ghz to connect your STB to the internet - Scroll down, read, and accept the T C - Your set-top box is now successfully connected. You're now all set to enjoy unlimited entertainment! In this video, you can learn the exact steps to follow in order to check your mobile data balance your JioBharat phone in Hindi. Just follow the instructions given in the video to find out your data balance. And since then, Jio has come a long way. In Oct 2022, Jio began rolling out 5G services in select cities in India. Currently, Jio users who receive the Welcome Offer will be able to enjoy unlimited internet consumption at no extra cost if their mobile has an active recharge plan- prepaid or postpaid- for Rs 239 or higher. Jio continues to be a major player in the Indian telecommunications market, offering both 4G and 5G services to its customers, as well as other services such as home broadband and enterprise solutions. How To Convert Your Physical SIM To ESIM or Transfer Jio ESIM To A Samsung Device. And since then, Jio has come a long way. In Oct 2022, Jio began rolling out 5G services in select cities in India. Currently, Jio users who receive the Welcome Offer will be able to enjoy unlimited internet consumption at no extra cost if their mobile has an active recharge plan- prepaid or postpaid- for Rs 239 or higher. Jio continues to be a major player in the Indian telecommunications market, offering both 4G and 5G services to its customers, as well as other services such as home broadband and enterprise solutions. Step into a 4G-powered digital life with JioBharat. Introducing the JioBharat 4G Phone. And since then, Jio has come a long way. In Oct 2022, Jio began rolling out 5G services in select cities in India. Currently, Jio users who receive the Welcome Offer will be able to enjoy unlimited internet consumption at no extra cost if their mobile has an active recharge plan- prepaid or postpaid- for Rs 239 or higher. Jio continues to be a major player in the Indian telecommunications market, offering both 4G and 5G services to its customers, as well as other services such as home broadband and enterprise solutions. Understanding Postpaid Bill For JioPlus Hindi . This video will help you understand the break-up of your Jio Postpaid Mobile bill in Hindi. And since then, Jio has come a long way. In Oct 2022, Jio began rolling out 5G services in select cities in India. Currently, Jio users who receive the Welcome Offer will be able to enjoy unlimited internet consumption at no extra cost if their mobile has an active recharge plan- prepaid or postpaid- for Rs 239 or higher. Jio continues to be a major player in the Indian telecommunications market, offering both 4G and 5G services to its customers, as well as other services such as home broadband and enterprise solutions. How To Manage Your JioFiber Router Using MyJio App Hindi . Through this video you can learn to manage your Jio WiFi router using the MyJio app on your smartphone. Watch the video to understand the exact steps involved. For any help and support for your Jio services open the MyJio app and get instant solutions at your fingertips. JioSign How Group Users Can Move Documents From Personal Profile. Watch this video to understand how a group user can move documents from personal profile. JioSign is a digital signing platform. Now you can digitally sign any kind of document as well as invite multiple people to sign the document digitally. To sign any document just create your account on JioSign, upload your document and add the person s who you want to sign the document. Once done then you can sign and send the same automatically to others for signing. Mukesh Ambani, the owner of Reliance Industries Limited RIL whose Reliance Jio is the telecom subsidiary, had unveiled details of Jio's fourth-generation 4G services on 12 June 2015 at RIL's 41st annual general meeting. Jio is the largest 4G network in India offering High-Speed Internet Unlimited Free Voice Calls. JioSign - How a Group User can join JioSign after receiving the email or SMS invite. Watch this video to understand how a group user can join JioSign after receiving the email or SMS invite. JioSign is a digital signing platform. Now you can digitally sign any kind of document as well as invite multiple people to sign the document digitally. To sign any document just create your account on JioSign, upload your document and add the person s who you want to sign the document. Once done then you can sign and send the same automatically to others for signing. Mukesh Ambani, the owner of Reliance Industries Limited RIL whose Reliance Jio is the telecom subsidiary, had unveiled details of Jio's fourth-generation 4G services on 12 June 2015 at RIL's 41st annual general meeting. Jio is the largest 4G network in India offering High-Speed Internet Unlimited Free Voice Calls. JioSign - How Can The Group Manager Add, Remove and Edit Users. Watch this video to understand how a group manager can add, remove or edit users. JioSign is a digital signing platform. Now you can digitally sign any kind of document as well as invite multiple people to sign the document digitally. To sign any document just create your account on JioSign, upload your document and add the person s who you want to sign the document. Once done then you can sign and send the same automatically to others for signing. Mukesh Ambani, the owner of Reliance Industries Limited RIL whose Reliance Jio is the telecom subsidiary, had unveiled details of Jio's fourth-generation 4G services on 12 June 2015 at RIL's 41st annual general meeting. Jio is the largest 4G network in India offering High-Speed Internet Unlimited Free Voice Calls. JioSign - How A Group Manager Can Add Groups Department. Watch this video to understand how a group manager can add groups and department. JioSign is a digital signing platform. Now you can digitally sign any kind of document as well as invite multiple people to sign the document digitally. To sign any document just create your account on JioSign, upload your document and add the person s who you want to sign the document. Once done then you can sign and send the same automatically to others for signing. Mukesh Ambani, the owner of Reliance Industries Limited RIL whose Reliance Jio is the telecom subsidiary, had unveiled details of Jio's fourth-generation 4G services on 12 June 2015 at RIL's 41st annual general meeting. Jio is the largest 4G network in India offering High-Speed Internet Unlimited Free Voice Calls. JioSign - How To Accept Invitation for JioSign Business Account as a Group Manager. Watch this video to understand how to accept invitation for JioSign business account as a group manager. JioSign is a digital signing platform. Now you can digitally sign any kind of document as well as invite multiple people to sign the document digitally. To sign any document just create your account on JioSign, upload your document and add the person s who you want to sign the document. Once done then you can sign and send the same automatically to others for signing. Mukesh Ambani, the owner of Reliance Industries Limited RIL whose Reliance Jio is the telecom subsidiary, had unveiled details of Jio's fourth-generation 4G services on 12 June 2015 at RIL's 41st annual general meeting. Jio is the largest 4G network in India offering High-Speed Internet Unlimited Free Voice Calls.\",\n          \"Lifestyle. Pets. Odin the German Shepherd and amson the Boxer are the co-stars of this YouTube Channel along with BELLA the Saved Dirty Hannah the Yellow Lab Remington the Yellow Lab Former Stray Magnificent Midnight the Black Lab Beautiful and Sweet Erie Shock-Collar Maggie and occasionally Leroy and Winston the tailless Manx cat Odin the German Shepherd Backyard FIRE Samson the Boxer BELLA the Chorkie. Since Odin passed, I find it hard to make YouTube videos I just don t feel like doing it recently sorry everyone. We first saw Midnight in December 2017, he was starving, freezing, and terribly scared of humans. After being taken in and adopted by my next door neighbors and their 2 yellow Labs Hannah Remington Midnight is now thriving, healthy and confident. We are so proud of Midnight Black. Samson the Boxer and BELLA the Chorkie come to visit. Don t fence me in. BELLA was abandoned, left tied up to a trash can outside of a gas station, all alone, for over 9 hours. She was rescued by my Son's girlfriend and immediately adopted by my parents aka Nana Grandad BELLA is now thriving, safe and happy, with her new family including brother amson the Boxer Dog and nephew Odin the German Shepherd. Cute little Dog gets to explore new area Plus a playful Boxer. Thanks for Watching. Amazing Gift from a Subscriber. Thank You Gregor Miller! We have a great YouTube community. You all are very much appreciated. Thank You ! I was at the local shopping center and got caught in a traffic jam. She Loves Me BELLA Dale . BELLA was abandoned, left tied up to a trash can outside of a gas station, all alone, for over 9 hours. She was rescued by my Son's girlfriend and immediately adopted by my parents aka Nana Grandad BELLA is now thriving, safe and happy, with her new family including brother amson the Boxer Dog and nephew Odin the German Shepherd. Tacos with Samson BELLA. She was rescued by my Son's girlfriend and immediately adopted by my parents aka Nana Grandad BELLA is now thriving, safe and happy, with her new family including brother amson the Boxer Dog and nephew Odin the German Shepherd. This channel co-stars these great dogs Odin the German Shepherd, my parent's dogs amson the Boxer and little BELLA, next-door Labs Dirty Hannah, Remington, Midnight Black, my daughters dog Erie the Great Pyrenees Border Collie, Shock-Collar Maggie from next door, Carrots the horse, and my wife's tailless Manx cats Winston and Leroy... ODIN SAMSON PLAYLIST We first saw Midnight in December 2017, he was starving, freezing, and terribly scared of humans. After being taken in and adopted by my next door neighbors and their 2 yellow Labs Hannah Remington Midnight is now thriving, healthy and confident. We are so proud of Midnight Black. Check out Odin's Instagram! That s all folks Goodbye Ireland . That s all folks . Kilkenny. We make it to Kilkenny Ireland, visit Kilkenny castle, explore the beautiful churches and have a nice meal as we walk around town.\"\n        ],\n        \"semantic_type\": \"\",\n        \"description\": \"\"\n      }\n    }\n  ]\n}"
            }
          },
          "metadata": {},
          "execution_count": 3
        }
      ],
      "source": [
        "data"
      ]
    },
    {
      "cell_type": "code",
      "execution_count": null,
      "id": "78a31384-ef96-44e5-a0db-655cf834ecd7",
      "metadata": {
        "colab": {
          "base_uri": "https://localhost:8080/"
        },
        "id": "78a31384-ef96-44e5-a0db-655cf834ecd7",
        "outputId": "7969fb8b-231a-4c30-e388-191d7d4951f7"
      },
      "outputs": [
        {
          "output_type": "execute_result",
          "data": {
            "text/plain": [
              "16383"
            ]
          },
          "metadata": {},
          "execution_count": 4
        }
      ],
      "source": [
        "len(data)"
      ]
    },
    {
      "cell_type": "markdown",
      "source": [
        "####Download titles and thumbnails_links into all_urls.pickle"
      ],
      "metadata": {
        "id": "biDjzDDrj-XZ"
      },
      "id": "biDjzDDrj-XZ"
    },
    {
      "cell_type": "code",
      "execution_count": null,
      "id": "cc1ce106-cca6-45ff-b514-be8a4500d0ca",
      "metadata": {
        "colab": {
          "base_uri": "https://localhost:8080/"
        },
        "id": "cc1ce106-cca6-45ff-b514-be8a4500d0ca",
        "outputId": "40f4f308-58c5-4d1e-8d13-c16648122d62"
      },
      "outputs": [
        {
          "output_type": "stream",
          "name": "stdout",
          "text": [
            "Collecting pytubefix\n",
            "  Downloading pytubefix-6.11.0-py3-none-any.whl.metadata (5.5 kB)\n",
            "Downloading pytubefix-6.11.0-py3-none-any.whl (75 kB)\n",
            "\u001b[?25l   \u001b[90m━━━━━━━━━━━━━━━━━━━━━━━━━━━━━━━━━━━━━━━━\u001b[0m \u001b[32m0.0/75.2 kB\u001b[0m \u001b[31m?\u001b[0m eta \u001b[36m-:--:--\u001b[0m\r\u001b[2K   \u001b[90m━━━━━━━━━━━━━━━━━━━━━━━━━━━━━━━━━━━━━━━━\u001b[0m \u001b[32m75.2/75.2 kB\u001b[0m \u001b[31m2.3 MB/s\u001b[0m eta \u001b[36m0:00:00\u001b[0m\n",
            "\u001b[?25hInstalling collected packages: pytubefix\n",
            "Successfully installed pytubefix-6.11.0\n",
            "Requirement already satisfied: progressbar2 in /usr/local/lib/python3.10/dist-packages (4.2.0)\n",
            "Requirement already satisfied: python-utils>=3.0.0 in /usr/local/lib/python3.10/dist-packages (from progressbar2) (3.8.2)\n",
            "Requirement already satisfied: typing-extensions>3.10.0.2 in /usr/local/lib/python3.10/dist-packages (from python-utils>=3.0.0->progressbar2) (4.12.2)\n"
          ]
        }
      ],
      "source": [
        "%pip install pytubefix\n",
        "%pip install progressbar2"
      ]
    },
    {
      "cell_type": "code",
      "execution_count": null,
      "id": "d552c8c2-738e-4048-a02d-d17336ae4a8c",
      "metadata": {
        "id": "d552c8c2-738e-4048-a02d-d17336ae4a8c"
      },
      "outputs": [],
      "source": [
        "from pytubefix import Channel,YouTube\n",
        "from pytubefix.cli import on_progress\n",
        "from rich.progress import Progress, BarColumn, TaskProgressColumn, TimeRemainingColumn,MofNCompleteColumn,TimeElapsedColumn,TextColumn\n",
        "from time import sleep\n",
        "import pickle"
      ]
    },
    {
      "cell_type": "code",
      "execution_count": null,
      "id": "-Ny5pyvIg2Wu",
      "metadata": {
        "colab": {
          "base_uri": "https://localhost:8080/"
        },
        "id": "-Ny5pyvIg2Wu",
        "outputId": "ea03f8a2-eb66-4df9-b0d6-ff074dad0fc9"
      },
      "outputs": [
        {
          "output_type": "stream",
          "name": "stdout",
          "text": [
            "https://www.youtube.com/channel/UCMdRkWIe9mdpsw4-8EID4rw\n"
          ]
        }
      ],
      "source": [
        "url_channel=data[\"url\"][0]\n",
        "channel=Channel(url_channel)\n",
        "print(url_channel)"
      ]
    },
    {
      "cell_type": "code",
      "execution_count": null,
      "id": "JwLQHodKwwRb",
      "metadata": {
        "id": "JwLQHodKwwRb"
      },
      "outputs": [],
      "source": [
        "def load_data_to_file(data):\n",
        "  with open('./gdrive/MyDrive/youtube_thumbnails/all_urls.pickle', 'a+b') as handle:\n",
        "    pickle.dump(data, handle, protocol=pickle.HIGHEST_PROTOCOL)\n",
        "  handle.close()\n",
        "def create_chunk_from_channel_url(channel_url,progress_bar):\n",
        "  try:\n",
        "    channel=Channel(channel_url)\n",
        "    chunk_data={\"description\":channel.description.partition('\\n'),\n",
        "          \"channel_name\":channel.channel_name,\n",
        "          \"channel_url\":channel_url,\n",
        "          \"thumb_title\":[]}\n",
        "    t1 = progress_bar.add_task( total=int(channel.length.split(\" \")[0]),description=channel_url, start=True, )\n",
        "    for j,video in enumerate(channel.videos):\n",
        "      progress_bar.update(task_id=t1, completed=j+1)\n",
        "      try:\n",
        "          yt = YouTube(video.watch_url, use_oauth=True, allow_oauth_cache=True, on_progress_callback = on_progress)\n",
        "      except:\n",
        "            continue\n",
        "      chunk_data[\"thumb_title\"].append((yt.title,yt.thumbnail_url,yt.views))\n",
        "    progress_bar.update(task_id=t1, completed=int(channel.length.split(\" \")[0]))\n",
        "    progress_bar.remove_task(t1,)\n",
        "\n",
        "    return chunk_data\n",
        "  except:\n",
        "    return None\n"
      ]
    },
    {
      "cell_type": "code",
      "execution_count": null,
      "id": "Anu7oQ8_8IDt",
      "metadata": {
        "id": "Anu7oQ8_8IDt"
      },
      "outputs": [],
      "source": [
        "# with open('./gdrive/MyDrive/youtube_thumbnails/configuration.pickle', 'wb') as handle:#обновляет значение\n",
        "#     pickle.dump({\"channel_id\":0}, handle, protocol=pickle.HIGHEST_PROTOCOL)\n",
        "# open('all_urls.pickle', 'wb').close()"
      ]
    },
    {
      "cell_type": "code",
      "execution_count": null,
      "id": "e2c5213a-157f-47ef-acf0-ca8624545823",
      "metadata": {
        "colab": {
          "base_uri": "https://localhost:8080/",
          "height": 51,
          "referenced_widgets": [
            "ef5f08cce0a3425798831e36f55327ed",
            "0e0a3784d89942909e96771bd1d9c486"
          ]
        },
        "id": "e2c5213a-157f-47ef-acf0-ca8624545823",
        "outputId": "6dc47b0a-16c1-41cf-b934-22581520f77b"
      },
      "outputs": [
        {
          "output_type": "display_data",
          "data": {
            "text/plain": [
              "Output()"
            ],
            "application/vnd.jupyter.widget-view+json": {
              "version_major": 2,
              "version_minor": 0,
              "model_id": "ef5f08cce0a3425798831e36f55327ed"
            }
          },
          "metadata": {}
        },
        {
          "output_type": "display_data",
          "data": {
            "text/plain": [
              "Please open https://www.google.com/device and input code RJZ-CQX-SWHS\n"
            ],
            "text/html": [
              "<pre style=\"white-space:pre;overflow-x:auto;line-height:normal;font-family:Menlo,'DejaVu Sans Mono',consolas,'Courier New',monospace\">Please open https://www.google.com/device and input code RJZ-CQX-SWHS\n",
              "</pre>\n"
            ]
          },
          "metadata": {}
        },
        {
          "name": "stdout",
          "output_type": "stream",
          "text": [
            "Press enter when you have completed this step.\n"
          ]
        },
        {
          "output_type": "display_data",
          "data": {
            "text/plain": [],
            "text/html": [
              "<pre style=\"white-space:pre;overflow-x:auto;line-height:normal;font-family:Menlo,'DejaVu Sans Mono',consolas,'Courier New',monospace\"></pre>\n"
            ]
          },
          "metadata": {}
        },
        {
          "output_type": "display_data",
          "data": {
            "text/plain": [
              "\n"
            ],
            "text/html": [
              "<pre style=\"white-space:pre;overflow-x:auto;line-height:normal;font-family:Menlo,'DejaVu Sans Mono',consolas,'Courier New',monospace\">\n",
              "</pre>\n"
            ]
          },
          "metadata": {}
        }
      ],
      "source": [
        "with open('./gdrive/MyDrive/youtube_thumbnails/configuration.pickle', 'rb') as handle:\n",
        "    configuration = pickle.load(handle)\n",
        "    handle.close()\n",
        "from rich.progress import Progress\n",
        "\n",
        "with Progress(MofNCompleteColumn(),\n",
        "              BarColumn(),\n",
        "              TaskProgressColumn(),\n",
        "              TimeRemainingColumn(elapsed_when_finished=True),\n",
        "              TimeElapsedColumn(),\n",
        "              TextColumn(\" [bold blue]{task.description}\", justify=\"right\"),\n",
        "              transient=True) as pb:\n",
        "    indexes_loaded=configuration[\"channel_id\"]\n",
        "    t2 = pb.add_task(total=len(data[\"url\"])-indexes_loaded,description=\"\",start=True)\n",
        "    for i,url_channel in enumerate(data[\"url\"]):\n",
        "      if(i<configuration[\"channel_id\"]):\n",
        "        continue\n",
        "      chunk_data=create_chunk_from_channel_url(url_channel,pb)\n",
        "      if chunk_data!=None:\n",
        "        load_data_to_file(chunk_data)\n",
        "      with open('./gdrive/MyDrive/youtube_thumbnails/configuration.pickle', 'wb') as handle:\n",
        "        pickle.dump(configuration, handle, protocol=pickle.HIGHEST_PROTOCOL)\n",
        "        handle.close()\n",
        "      configuration[\"channel_id\"]=i+1\n",
        "      sleep(0.01)\n",
        "      pb.update(task_id=t2, completed=i + 1-indexes_loaded)"
      ]
    },
    {
      "cell_type": "code",
      "execution_count": null,
      "id": "Yu2vbdEV-GpT",
      "metadata": {
        "id": "Yu2vbdEV-GpT"
      },
      "outputs": [],
      "source": [
        "import pickle\n",
        "data_thumbnail = []\n",
        "with open('./gdrive/MyDrive/youtube_thumbnails/all_urls.pickle', 'rb') as fr:\n",
        "    try:\n",
        "        while True:\n",
        "            data_thumbnail.append(pickle.load(fr))\n",
        "    except EOFError:\n",
        "        pass"
      ]
    },
    {
      "cell_type": "code",
      "execution_count": null,
      "id": "dnIDd9AibhQW",
      "metadata": {
        "id": "dnIDd9AibhQW",
        "colab": {
          "base_uri": "https://localhost:8080/"
        },
        "outputId": "3af97fdb-ae6c-4f52-c441-864daea0ad2f"
      },
      "outputs": [
        {
          "output_type": "execute_result",
          "data": {
            "text/plain": [
              "{'description': (\"My name is JR Alli. I'm a 26 year old Filmmaker from Toronto, Canada. Click that Subscribe button if you enjoy short films or adventures.\",\n",
              "  '\\n',\n",
              "  '\\nI want to share with you my thoughts on how we as humans need to start living life in the moment. I just want to inspire other people to go out into the world and see what it has to offer, and I hope to achieve this through my Filmmaking. If you are interested, come along for the ride and subscribe! :)\\n\\n__________________________________________________________________________________________________'),\n",
              " 'channel_name': 'JR Alli',\n",
              " 'channel_url': 'https://www.youtube.com/channel/UC94IKgdvTjCqoKqSlbj2bVA',\n",
              " 'thumb_title': [('I travelled alone to Tokyo.',\n",
              "   'https://i.ytimg.com/vi/cTT_VcZYJuw/sddefault.jpg',\n",
              "   20705),\n",
              "  ('The Age of Addiction',\n",
              "   'https://i.ytimg.com/vi/oyGmpCJJfHU/sddefault.jpg',\n",
              "   16284),\n",
              "  ('AROUND THE WORLD 2023',\n",
              "   'https://i.ytimg.com/vi/NTlEQRZzd4A/sddefault.jpg',\n",
              "   17218),\n",
              "  ('a MOMENT in Dubai.',\n",
              "   'https://i.ytimg.com/vi/p3fm5ADktP4/sddefault.jpg',\n",
              "   259450),\n",
              "  ('the Memory Palace',\n",
              "   'https://i.ytimg.com/vi/lQfadWsNIXQ/sddefault.jpg',\n",
              "   83667),\n",
              "  ('FREEZE TIME EFFECT  Wrapping Up 2019',\n",
              "   'https://i.ytimg.com/vi/qKsuta4c3OA/sddefault.jpg',\n",
              "   157865),\n",
              "  ('Dear Iceland,',\n",
              "   'https://i.ytimg.com/vi/f-fJ6aav-Cs/sddefault.jpg',\n",
              "   170228),\n",
              "  ('RONIN-SC Hands On Review in TALLINN!',\n",
              "   'https://i.ytimg.com/vi/KYzk7Br6vd4/sddefault.jpg',\n",
              "   69699),\n",
              "  ('Home.  The Vietnam Story',\n",
              "   'https://i.ytimg.com/vi/qxWxPrLHq9Y/sddefault.jpg',\n",
              "   185011),\n",
              "  ('HOW I CAPTURED HONG KONG ft. BennTk',\n",
              "   'https://i.ytimg.com/vi/BMywbQ28kWU/sddefault.jpg',\n",
              "   150834),\n",
              "  ('Silence the Voices.  Out of Sight SUMMER',\n",
              "   'https://i.ytimg.com/vi/XzXWDfRowcA/sddefault.jpg',\n",
              "   115089),\n",
              "  ('Out of Sight.',\n",
              "   'https://i.ytimg.com/vi/v3z98nm_5yc/sddefault.jpg',\n",
              "   214119),\n",
              "  ('Whats In My Camera Bag 2019!',\n",
              "   'https://i.ytimg.com/vi/WBHSKBc9GJc/sddefault.jpg',\n",
              "   118370),\n",
              "  ('EGYPT BTS + Revealing Some Editing Tips!',\n",
              "   'https://i.ytimg.com/vi/j4iNVhqpJhk/sddefault.jpg',\n",
              "   156746),\n",
              "  ('EGYPT- Like Never Before.',\n",
              "   'https://i.ytimg.com/vi/TvzWNwJ41_k/sddefault.jpg',\n",
              "   1361875),\n",
              "  (\"it's okay to be a little broken.\",\n",
              "   'https://i.ytimg.com/vi/jsdrg6unfGU/sddefault.jpg',\n",
              "   202236),\n",
              "  ('UNCOVERING PERU',\n",
              "   'https://i.ytimg.com/vi/oeZtla5bCws/sddefault.jpg',\n",
              "   217601),\n",
              "  ('THE HAWAII QUEST.',\n",
              "   'https://i.ytimg.com/vi/i5kHT9kVL6Q/sddefault.jpg',\n",
              "   145952),\n",
              "  ('POWER of PRE-PLANNING - How to MAXIMIZE your Time Shooting Travel Videos!',\n",
              "   'https://i.ytimg.com/vi/dFE07GycmOQ/sddefault.jpg',\n",
              "   159387),\n",
              "  ('I MADE A LUT PACK!',\n",
              "   'https://i.ytimg.com/vi/qOk-nrOvwkA/sddefault.jpg',\n",
              "   107980),\n",
              "  ('A Japanese Dream.',\n",
              "   'https://i.ytimg.com/vi/A6XdQHYkaZY/sddefault.jpg',\n",
              "   270189),\n",
              "  ('One Last Ride.. End of Summer 2018',\n",
              "   'https://i.ytimg.com/vi/3IPL7sg7j-4/sddefault.jpg',\n",
              "   123121),\n",
              "  ('Nostalgic Dream- Brussels',\n",
              "   'https://i.ytimg.com/vi/f6h9oafR7hM/sddefault.jpg',\n",
              "   201297),\n",
              "  ('The Guatemala Story',\n",
              "   'https://i.ytimg.com/vi/SrZK4AzT4Vs/sddefault.jpg',\n",
              "   133449),\n",
              "  ('What every Creative NEEDS to hear. w Chris Hau',\n",
              "   'https://i.ytimg.com/vi/zuEMnLo4uD0/sddefault.jpg',\n",
              "   106232),\n",
              "  (\"NEW YORK CITY - Don't Blink.\",\n",
              "   'https://i.ytimg.com/vi/IbiN9xldVlM/sddefault.jpg',\n",
              "   1488681),\n",
              "  ('The Lofoten Story (NORWAY)',\n",
              "   'https://i.ytimg.com/vi/thfwOh-8x-k/sddefault.jpg',\n",
              "   248897),\n",
              "  ('D I S C O N N E C T E D  Moment Invitational',\n",
              "   'https://i.ytimg.com/vi/yNjGkfBphVo/sddefault.jpg',\n",
              "   217999),\n",
              "  ('TRIP GIVEAWAY Join Me On An Adventure to Guatemala. [CLOSED]',\n",
              "   'https://i.ytimg.com/vi/V4vv_J-wLqI/sddefault.jpg',\n",
              "   40385),\n",
              "  (\"Let's Talk About Storytelling..\",\n",
              "   'https://i.ytimg.com/vi/NbiNhn1jIRk/sddefault.jpg',\n",
              "   88724),\n",
              "  ('My Year 2017 - Frozen Memories  JR Alli',\n",
              "   'https://i.ytimg.com/vi/p_nRzDp38Nk/sddefault.jpg',\n",
              "   571226),\n",
              "  ('Lost in Translation (Shot on iPhone)',\n",
              "   'https://i.ytimg.com/vi/8aYOd1mAJXg/sddefault.jpg',\n",
              "   217886),\n",
              "  ('How to COLOR GRADE your footage w LUTS!',\n",
              "   'https://i.ytimg.com/vi/VeegqKsTyHM/sddefault.jpg',\n",
              "   145139),\n",
              "  ('Beautiful HAWAII - JR Alli',\n",
              "   'https://i.ytimg.com/vi/emcBMwRg0gA/sddefault.jpg',\n",
              "   311936),\n",
              "  ('A Moment in KAUAI.',\n",
              "   'https://i.ytimg.com/vi/frCbgRYle_Y/sddefault.jpg',\n",
              "   94227),\n",
              "  ('Why SOUND DESIGN is really important!',\n",
              "   'https://i.ytimg.com/vi/LhzChpmPrBw/sddefault.jpg',\n",
              "   160089),\n",
              "  ('ICELAND - The Adventurers Story',\n",
              "   'https://i.ytimg.com/vi/SRbUTQyjJCQ/sddefault.jpg',\n",
              "   327037),\n",
              "  ('TORONTO  The City of Dreams',\n",
              "   'https://i.ytimg.com/vi/qhWPIJK8xqo/sddefault.jpg',\n",
              "   408629),\n",
              "  (\"WHAT'S IN MY CAMERA BAG?  Gear List 2017\",\n",
              "   'https://i.ytimg.com/vi/bdy9K1gRZIk/sddefault.jpg',\n",
              "   224061),\n",
              "  ('LONDON - CITY IN MOTION',\n",
              "   'https://i.ytimg.com/vi/bqSY4MSvFc8/sddefault.jpg',\n",
              "   1898164),\n",
              "  ('M I S T (Snowdonia, Wales)',\n",
              "   'https://i.ytimg.com/vi/l5bTCWPpSiA/sddefault.jpg',\n",
              "   67398),\n",
              "  ('1 WEEK IN PARADISE (Mexico)',\n",
              "   'https://i.ytimg.com/vi/T_2x8FCA-4I/sddefault.jpg',\n",
              "   67182),\n",
              "  ('Collective Iris.  The Beginning 👁️👁️',\n",
              "   'https://i.ytimg.com/vi/caJ5ytwBz5g/sddefault.jpg',\n",
              "   36298),\n",
              "  ('Mountain Heli Ride Above The Clouds (Beautiful BC)',\n",
              "   'https://i.ytimg.com/vi/kIL-uASU88g/sddefault.jpg',\n",
              "   32820),\n",
              "  ('My Year 2016 - JR Alli  Greatest Year of My Life.',\n",
              "   'https://i.ytimg.com/vi/tgR2wrIlAj0/sddefault.jpg',\n",
              "   117115),\n",
              "  ('Into the Wild - Short Film (Explore Ontario)',\n",
              "   'https://i.ytimg.com/vi/m81vSrc6b0A/sddefault.jpg',\n",
              "   71820),\n",
              "  ('Q and A- Editing, Transitions, & Camera Equipment',\n",
              "   'https://i.ytimg.com/vi/3knXud4ynoU/sddefault.jpg',\n",
              "   154291),\n",
              "  ('BEAUTIFUL Baja Mexico',\n",
              "   'https://i.ytimg.com/vi/6DmtWBhnumU/sddefault.jpg',\n",
              "   42550),\n",
              "  ('Memories of a Lifetime- Vancouver Short Film (Explore BC)',\n",
              "   'https://i.ytimg.com/vi/ZbkBB1qf4ug/sddefault.jpg',\n",
              "   41943),\n",
              "  ('The Greatest Summer of My Life',\n",
              "   'https://i.ytimg.com/vi/TtMw1vmFBoQ/sddefault.jpg',\n",
              "   210826),\n",
              "  ('The City is Ours- Toronto Short Film',\n",
              "   'https://i.ytimg.com/vi/gzLv9xMzQoU/sddefault.jpg',\n",
              "   296566),\n",
              "  ('This Is My Home. (Canada Day Adventures)',\n",
              "   'https://i.ytimg.com/vi/xiKBUuzu0Hs/sddefault.jpg',\n",
              "   51551),\n",
              "  ('Smoke Bombs in Abandoned Factory',\n",
              "   'https://i.ytimg.com/vi/DvrjGn7E8HY/sddefault.jpg',\n",
              "   166354),\n",
              "  ('Find The Light',\n",
              "   'https://i.ytimg.com/vi/abKzF_cpzJs/sddefault.jpg',\n",
              "   51990),\n",
              "  ('The Photographer',\n",
              "   'https://i.ytimg.com/vi/wbY5dzxGt6A/sddefault.jpg',\n",
              "   101666),\n",
              "  ('The Little Boy - Short Film',\n",
              "   'https://i.ytimg.com/vi/fZRKqVvtDjE/sddefault.jpg',\n",
              "   35786),\n",
              "  ('PASSION - Motivational Video',\n",
              "   'https://i.ytimg.com/vi/DIAFf7Hd1JI/sddefault.jpg',\n",
              "   127293),\n",
              "  ('Nature Sparks Creativity',\n",
              "   'https://i.ytimg.com/vi/s2-bhHSQIaU/sddefault.jpg',\n",
              "   30540),\n",
              "  ('A Look Through My Eyes',\n",
              "   'https://i.ytimg.com/vi/lX2ODVKfEpA/sddefault.jpg',\n",
              "   41842),\n",
              "  ('An Autumn Dream',\n",
              "   'https://i.ytimg.com/vi/PYbHK9267Uk/sddefault.jpg',\n",
              "   22502),\n",
              "  ('Time Does Not Delay.',\n",
              "   'https://i.ytimg.com/vi/WZpcpdO1cJw/sddefault.jpg',\n",
              "   25160),\n",
              "  ('Exploring with an Old Friend',\n",
              "   'https://i.ytimg.com/vi/FYECFHUNprY/sddefault.jpg',\n",
              "   21124),\n",
              "  ('C A R N I V A L',\n",
              "   'https://i.ytimg.com/vi/DOjpDdEtn8c/sddefault.jpg',\n",
              "   22803),\n",
              "  ('Take Risks.', 'https://i.ytimg.com/vi/keOk6KDQBog/sddefault.jpg', 42985),\n",
              "  ('Mexico - Explore Earth',\n",
              "   'https://i.ytimg.com/vi/8oFjxss2KE8/sddefault.jpg',\n",
              "   24438),\n",
              "  ('Chasing Sunsets',\n",
              "   'https://i.ytimg.com/vi/RsIXGKGX2Uc/sddefault.jpg',\n",
              "   24301),\n",
              "  ('My Canada Day in Toronto',\n",
              "   'https://i.ytimg.com/vi/LouZkbuG91w/sddefault.jpg',\n",
              "   28443),\n",
              "  ('Welcome To ME!',\n",
              "   'https://i.ytimg.com/vi/RKWEqxNdpyg/sddefault.jpg',\n",
              "   51313)]}"
            ]
          },
          "metadata": {},
          "execution_count": 2
        }
      ],
      "source": [
        "data_thumbnail[0]"
      ]
    },
    {
      "cell_type": "markdown",
      "source": [
        "####Filter data to have english title"
      ],
      "metadata": {
        "id": "n_OrzQyokYwq"
      },
      "id": "n_OrzQyokYwq"
    },
    {
      "cell_type": "code",
      "source": [
        "counter=0\n",
        "for i in data_thumbnail:\n",
        "  counter+=len(i[\"thumb_title\"])\n",
        "counter"
      ],
      "metadata": {
        "colab": {
          "base_uri": "https://localhost:8080/"
        },
        "id": "hAaE-fMZLw3Y",
        "outputId": "92f79e6e-cc4b-4e08-b35d-5297286ef9b8"
      },
      "id": "hAaE-fMZLw3Y",
      "execution_count": null,
      "outputs": [
        {
          "output_type": "execute_result",
          "data": {
            "text/plain": [
              "2567725"
            ]
          },
          "metadata": {},
          "execution_count": 3
        }
      ]
    },
    {
      "cell_type": "code",
      "execution_count": null,
      "id": "UMscGx6BcBKU",
      "metadata": {
        "id": "UMscGx6BcBKU",
        "colab": {
          "base_uri": "https://localhost:8080/"
        },
        "outputId": "dabe3d85-bcac-42f0-8153-33095f0666e2"
      },
      "outputs": [
        {
          "output_type": "stream",
          "name": "stdout",
          "text": [
            "Requirement already satisfied: langdetect in /usr/local/lib/python3.10/dist-packages (1.0.9)\n",
            "Requirement already satisfied: six in /usr/local/lib/python3.10/dist-packages (from langdetect) (1.16.0)\n"
          ]
        }
      ],
      "source": [
        "%pip install langdetect"
      ]
    },
    {
      "cell_type": "code",
      "source": [
        "open('./gdrive/MyDrive/youtube_thumbnails/training_data.csv', 'w', newline='').close()"
      ],
      "metadata": {
        "id": "LM-rBsZ0Pb6_"
      },
      "id": "LM-rBsZ0Pb6_",
      "execution_count": null,
      "outputs": []
    },
    {
      "cell_type": "code",
      "execution_count": null,
      "id": "zDxOcLAnZ_Yo",
      "metadata": {
        "id": "zDxOcLAnZ_Yo",
        "colab": {
          "base_uri": "https://localhost:8080/"
        },
        "outputId": "cee0919a-015b-45f9-c17c-6f794eab416b"
      },
      "outputs": [
        {
          "metadata": {
            "tags": null
          },
          "name": "stderr",
          "output_type": "stream",
          "text": [
            "  1%|          | 59/10879 [00:38<1:50:44,  1.63it/s]"
          ]
        },
        {
          "metadata": {
            "tags": null
          },
          "name": "stdout",
          "output_type": "stream",
          "text": [
            "This row throws and error: https://www.youtube.com/channel/UCiJfplrc7idtWYpDsI325yQ ට්‍රිප් එකක් ගිය වෙලාවෙ ගෙදරට හොරු පැනලා. CCTV දර්ශන සහිතයි.\n"
          ]
        },
        {
          "metadata": {
            "tags": null
          },
          "name": "stderr",
          "output_type": "stream",
          "text": [
            "  1%|          | 93/10879 [01:00<1:54:30,  1.57it/s]"
          ]
        },
        {
          "metadata": {
            "tags": null
          },
          "name": "stdout",
          "output_type": "stream",
          "text": [
            "This row throws and error: https://www.youtube.com/channel/UCT2ZNwfdGCRQPYCK0ZvCWsg #2020\n"
          ]
        },
        {
          "metadata": {
            "tags": null
          },
          "name": "stderr",
          "output_type": "stream",
          "text": [
            "  2%|▏         | 182/10879 [02:07<1:50:39,  1.61it/s]"
          ]
        },
        {
          "metadata": {
            "tags": null
          },
          "name": "stdout",
          "output_type": "stream",
          "text": [
            "This row throws and error: https://www.youtube.com/channel/UCxUFjnwSkc9a8hh-btvN46g 01010010 01001111 01000010 01001100 01001111 01011000\n"
          ]
        },
        {
          "metadata": {
            "tags": null
          },
          "name": "stderr",
          "output_type": "stream",
          "text": [
            "  2%|▏         | 233/10879 [02:46<1:48:50,  1.63it/s]"
          ]
        },
        {
          "metadata": {
            "tags": null
          },
          "name": "stdout",
          "output_type": "stream",
          "text": [
            "This row throws and error: https://www.youtube.com/channel/UCdFAl3bZf7bi7A5HX7USKzg හොඳම මාළුව වෙනුවෙන් ඉතිහාසයේ පළමු වරට මැණික් ඔබ්බපු කුසලානයක්  Pet Talk\n",
            "This row throws and error: https://www.youtube.com/channel/UCdFAl3bZf7bi7A5HX7USKzg සෙනරත් පරණවිතානටත් විසඳන්න බැරි වූ දෙවිනුවර විෂ්ණු දේවාලයේ රහස  Pet Talk\n",
            "This row throws and error: https://www.youtube.com/channel/UCdFAl3bZf7bi7A5HX7USKzg ජෝවාගේ පහරදීමෙන් මැරෙන්න ගිය කලණ පැය ගාණක මෙහෙයුමකින් පසු බේරාගත් හැටි  Pet Talk\n",
            "This row throws and error: https://www.youtube.com/channel/UCdFAl3bZf7bi7A5HX7USKzg ලංකාවට ආපු දුර්ලභ මලාවිත් එක්ක කවුරුත් ඉල්ලපු මොන්ස්ටර්  Pet Talk\n",
            "This row throws and error: https://www.youtube.com/channel/UCdFAl3bZf7bi7A5HX7USKzg ඉතිහාසගත වූ අපේ නිවුන් අලි පැටව් දෙන්නත් එක්ක පින්නවල කතාව  Pet Talk\n",
            "This row throws and error: https://www.youtube.com/channel/UCdFAl3bZf7bi7A5HX7USKzg කුරුලු වර්ග රැසකින් පිරුණු හන්තාන කඳු මුදුනේ තියෙන කුරුලු පාරාදීසය  Pet Talk\n",
            "This row throws and error: https://www.youtube.com/channel/UCdFAl3bZf7bi7A5HX7USKzg මෙතෙක් එතෙක් දැක්ක ලොකුම කිඹුලා ළඟටම ගිය බිහිසුණු ගමන   Pet Talk  Pinnawala Zoo\n",
            "This row throws and error: https://www.youtube.com/channel/UCdFAl3bZf7bi7A5HX7USKzg මැරෙන්න ගිය අග්බෝ ජීවත් කරවූ මානුෂීය මෙහෙයුම - දැන් සම්පූර්ණයෙන්ම සුවයි  Pet Talk #agbo #tusker\n",
            "This row throws and error: https://www.youtube.com/channel/UCdFAl3bZf7bi7A5HX7USKzg ඇස් කොනෙන් එන වතුර බිංදුවෙන් ඇඟ හෝදගන්න ගිනි පිග්  C\n"
          ]
        },
        {
          "metadata": {
            "tags": null
          },
          "name": "stderr",
          "output_type": "stream",
          "text": [
            "\r  2%|▏         | 234/10879 [02:46<1:32:10,  1.92it/s]"
          ]
        },
        {
          "metadata": {
            "tags": null
          },
          "name": "stdout",
          "output_type": "stream",
          "text": [
            "This row throws and error: https://www.youtube.com/channel/UCdFAl3bZf7bi7A5HX7USKzg මැරෙන්න ගිහිපු නයිට් ගොඩදැම්මේ දොස්තර හොඳහිත  - @ratta 's බල්ලා  Pet Talk\n",
            "This row throws and error: https://www.youtube.com/channel/UCdFAl3bZf7bi7A5HX7USKzg ලෝකයේ හොඳම 3 ලංකාවට   Pet Talk\n",
            "This row throws and error: https://www.youtube.com/channel/UCdFAl3bZf7bi7A5HX7USKzg ගැහැණු පිරිමි දෙකටම දළ තියෙන අප්‍රිකානු හස්තියා - ලංකාවටම එකයි  - Joa The African Giant  Pet Talk\n",
            "This row throws and error: https://www.youtube.com/channel/UCdFAl3bZf7bi7A5HX7USKzg කඩු පහරට මැරෙන්න ගිය කේන්ව දෙවි කෙනෙක් වගේ බේරගත්ත දොස්තර හොඳහිතගේ අලුත්ම Hospital එක  @ratta\n",
            "This row throws and error: https://www.youtube.com/channel/UCdFAl3bZf7bi7A5HX7USKzg කැලේ හිටියනම් මැරුම්කන - ලංකාවේ ලොකුම අලියා  Gajaba  Pet Talk\n",
            "This row throws and error: https://www.youtube.com/channel/UCdFAl3bZf7bi7A5HX7USKzg මස් කන ගිජු ලිහිණියොත් එක්ක ලෝකයේ ලොකුම බිත්තරය ලංකාවෙන් හමුවෙයි  Pet Talk\n",
            "This row throws and error: https://www.youtube.com/channel/UCdFAl3bZf7bi7A5HX7USKzg නායකයා වෙන්න මරාගෙන මැරෙන අවුරුදු ගාණකට කලින් ලංකාවෙත් හිටපු සිංහයෝ  Safari Ride in SL   Pet Talk\n"
          ]
        },
        {
          "metadata": {
            "tags": null
          },
          "name": "stderr",
          "output_type": "stream",
          "text": [
            "  2%|▏         | 257/10879 [03:05<2:10:51,  1.35it/s]"
          ]
        },
        {
          "metadata": {
            "tags": null
          },
          "name": "stdout",
          "output_type": "stream",
          "text": [
            "This row throws and error: https://www.youtube.com/channel/UCJbxRq_IlWyzvB9KK0Mrs8A චීනෙං I love you කියන හැටි මුලිංම ලංකාවට ඉගැන්නුවෙ අංකල්, වෛරස් වීඩියෝ එකේ!!😁😎😂  🇱🇰🇨🇳\n"
          ]
        },
        {
          "metadata": {
            "tags": null
          },
          "name": "stderr",
          "output_type": "stream",
          "text": [
            "  3%|▎         | 280/10879 [03:28<46:24,  3.81it/s]  "
          ]
        },
        {
          "metadata": {
            "tags": null
          },
          "name": "stdout",
          "output_type": "stream",
          "text": [
            "This row throws and error: https://www.youtube.com/channel/UCdyJCZxBWFmsv8qaZojzi2w ♕ 𝐆𝐎𝐋𝐃 ━ 𝐓𝐲𝐫𝐞𝐥𝐥𝐢𝐨𝐭\n"
          ]
        },
        {
          "metadata": {
            "tags": null
          },
          "name": "stderr",
          "output_type": "stream",
          "text": [
            "  4%|▎         | 385/10879 [04:57<2:05:04,  1.40it/s]"
          ]
        },
        {
          "metadata": {
            "tags": null
          },
          "name": "stdout",
          "output_type": "stream",
          "text": [
            "This row throws and error: https://www.youtube.com/channel/UCahRghBkidF24RvCXLL4ezA ＳＵＺＵＭＥ\n"
          ]
        },
        {
          "metadata": {
            "tags": null
          },
          "name": "stderr",
          "output_type": "stream",
          "text": [
            "  4%|▍         | 426/10879 [05:30<2:11:07,  1.33it/s]"
          ]
        },
        {
          "metadata": {
            "tags": null
          },
          "name": "stdout",
          "output_type": "stream",
          "text": [
            "This row throws and error: https://www.youtube.com/channel/UCZESvFbPmlmF9rnT4Ke1uKQ 1,000,000\n"
          ]
        },
        {
          "metadata": {
            "tags": null
          },
          "name": "stderr",
          "output_type": "stream",
          "text": [
            "  5%|▍         | 509/10879 [06:30<1:03:17,  2.73it/s]"
          ]
        },
        {
          "metadata": {
            "tags": null
          },
          "name": "stdout",
          "output_type": "stream",
          "text": [
            "This row throws and error: https://www.youtube.com/channel/UCI1KCp4Wa3dGfcmxgik1mCw 𝓢𝓱𝓪𝓻𝓴 𝓪𝓷𝓭 𝓣𝓻𝓪𝓷𝓺𝓾𝓲𝓵𝓲𝓽𝔂\n"
          ]
        },
        {
          "metadata": {
            "tags": null
          },
          "name": "stderr",
          "output_type": "stream",
          "text": [
            "  5%|▌         | 550/10879 [07:13<8:31:51,  2.97s/it] "
          ]
        },
        {
          "metadata": {
            "tags": null
          },
          "name": "stdout",
          "output_type": "stream",
          "text": [
            "This row throws and error: https://www.youtube.com/channel/UCRHXUZ0BxbkU2MYZgsuFgkQ 𝘾𝙄𝙑𝙄𝙇𝙄𝙕𝘼𝙏𝙄𝙊𝙉 𝙀𝙓𝙏𝙍𝙀𝙈𝙀 𝙀𝘿𝙄𝙏𝙄𝙊𝙉 ™\n",
            "This row throws and error: https://www.youtube.com/channel/UCRHXUZ0BxbkU2MYZgsuFgkQ 𝙏𝙝𝙚 𝙒𝙤𝙧𝙨𝙩 𝙎𝙠𝙮𝙧𝙞𝙢 𝘽𝙪𝙞𝙡𝙙.\n"
          ]
        },
        {
          "metadata": {
            "tags": null
          },
          "name": "stderr",
          "output_type": "stream",
          "text": [
            "  5%|▌         | 578/10879 [07:45<2:34:15,  1.11it/s]"
          ]
        },
        {
          "metadata": {
            "tags": null
          },
          "name": "stdout",
          "output_type": "stream",
          "text": [
            "This row throws and error: https://www.youtube.com/channel/UCwY36CFjP79tWsgstRuEdXg በጣም በቅናሽ በ አሪፍ ኳሊቲ የገዛውት የቤት እቃ ( 🎁 በነፃ ስጦታ አለው )የ100 ዩሮ 🔥\n",
            "This row throws and error: https://www.youtube.com/channel/UCwY36CFjP79tWsgstRuEdXg አዲስ መኪና ገዛን Audi Q3 🥰🥰🥰\n",
            "This row throws and error: https://www.youtube.com/channel/UCwY36CFjP79tWsgstRuEdXg ባህር ላይ ያልተጠበቀ ነገር ገጠመን  አስገራሚ ቆይታ 🫣🫣🫣\n",
            "This row throws and error: https://www.youtube.com/channel/UCwY36CFjP79tWsgstRuEdXg ማልታ ሃገር ከመምጣታቹ በፊት ይሄን ቪዲዮ ለናተ ነው 🛑🛑🛑 Fani Samri vlog\n",
            "This row throws and error: https://www.youtube.com/channel/UCwY36CFjP79tWsgstRuEdXg በማልታ ያልጠበቅነው ነገር ገጠመን\n",
            "This row throws and error: https://www.youtube.com/channel/UCwY36CFjP79tWsgstRuEdXg ፍቅረኛውን ባልጠበቀችበት መንገድ ሰፕራይዝ ተደረገች Surprise 🥰🥰🥰\n",
            "This row throws and error: https://www.youtube.com/channel/UCwY36CFjP79tWsgstRuEdXg ሁሉም ለበጎ ነበር ተመልሰን መተናል 🫣🫣🫣\n",
            "This row throws and error: https://www.youtube.com/channel/UCwY36CFjP79tWsgstRuEdXg መልካም የዳግማ ትንሳዔ በአል ይሁንላቹ\n",
            "This row throws and error: https://www.youtube.com/channel/UCwY36CFjP79tWsgstRuEdXg TEMU-App🎀😍 ምርጥ ልብሶች በቅናሽ ዋጋ 💓\n",
            "This row throws and error: https://www.youtube.com/channel/UCwY36CFjP79tWsgstRuEdXg ፊሎን ሰፕራይዝ አደረግናት 🥰🥰🥰\n",
            "This row throws and error: https://www.youtube.com/channel/UCwY36CFjP79tWsgstRuEdXg እርጉዝ ነኝ መሰለኝ  ፋኒ ደነገጠ  🛑🛑🛑\n",
            "This row throws and error: https://www.youtube.com/channel/UCwY36CFjP79tWsgstRuEdXg ለ 1 ቀን ወንድ ሆኜ ዋልኩ  🛑 በሳቅ ገደለችን 🛑 😂😂😂 fanisamri\n",
            "This row throws and error: https://www.youtube.com/channel/UCwY36CFjP79tWsgstRuEdXg 3 ልጅ ለመድገም አሰብኩ ሳምሪ እርጉዝ ነሽ ወይ 🛑🛑🛑\n",
            "This row throws and error: https://www.youtube.com/channel/UCwY36CFjP79tWsgstRuEdXg እንደዚ ለብሰሽ በፍፁም አትወጭም  🛑🛑 ፋኒ የእውነት ተናደደ 🛑🛑 Fani Samri\n",
            "This row throws and error: https://www.youtube.com/channel/UCwY36CFjP79tWsgstRuEdXg ፊሎ እና አዳም ፍቅራቸው ❤️❤️❤️\n",
            "This row throws and error: https://www.youtube.com/channel/UCwY36CFjP79tWsgstRuEdXg በጣም ከፍቶኛል\n",
            "This row throws and error: https://www.youtube.com/channel/UCwY36CFjP79tWsgstRuEdXg የዛሬ 8 ወር በፊት የገዛነው ሱቅ 🫣🥰🥰\n",
            "This row throws and error: https://www.youtube.com/channel/UCwY36CFjP79tWsgstRuEdXg የገና በዓል በደማቁ አከበርን\n",
            "This row throws and error: https://www.youtube.com/channel/UCwY36CFjP79tWsgstRuEdXg በመሀል አዲስ አበባ ሻራተን አጠገብ አስገራሚ ቤት\n",
            "This row throws and error: https://www.youtube.com/channel/UCwY36CFjP79tWsgstRuEdXg እንኳን ለአመቱ ቅዱስ ገብሬኤል በአል በሰላም አደረሳቹ\n",
            "This row throws and error: https://www.youtube.com/channel/UCwY36CFjP79tWsgstRuEdXg ለፋኒን እናት 3 ልጅ እንዳረገዝኩ ነገርኳት\n",
            "This row throws and error: https://www.youtube.com/channel/UCwY36CFjP79tWsgstRuEdXg ጉዞ ወደ ኢትዮጵያ በድንገት ሄድን\n"
          ]
        },
        {
          "metadata": {
            "tags": null
          },
          "name": "stderr",
          "output_type": "stream",
          "text": [
            "\r  5%|▌         | 579/10879 [07:45<2:05:33,  1.37it/s]"
          ]
        },
        {
          "metadata": {
            "tags": null
          },
          "name": "stdout",
          "output_type": "stream",
          "text": [
            "This row throws and error: https://www.youtube.com/channel/UCwY36CFjP79tWsgstRuEdXg ወንድሜን ለልደቱ ቤቱ ሄደን ሰፕራይዝ  አረግነው\n",
            "This row throws and error: https://www.youtube.com/channel/UCwY36CFjP79tWsgstRuEdXg የአዳም 1 ዓመት ልደት በደማቁ ተከበረ 🎉🎉🎉\n",
            "This row throws and error: https://www.youtube.com/channel/UCwY36CFjP79tWsgstRuEdXg ፊቴን ወደ ወዙ የመለሰልኝ ሚስጥር   ትልቅ ለውጥ ታዪበታላቹ 👍\n",
            "This row throws and error: https://www.youtube.com/channel/UCwY36CFjP79tWsgstRuEdXg ልጃችን ልደት 1 ዓመት ዣሬ ሳምሪ ደስታ ነው 🤩🤩🤩\n",
            "This row throws and error: https://www.youtube.com/channel/UCwY36CFjP79tWsgstRuEdXg ሳምሪ በድንገት ሰፕራይዝ አረገችን በመጀመሪያ ደሞዝ\\\\\n",
            "This row throws and error: https://www.youtube.com/channel/UCwY36CFjP79tWsgstRuEdXg ሚስት ወይስ ወንድም ፋኒ በቪዲዮ መሃል ተናደደ⛔️⛔️⛔️\n",
            "This row throws and error: https://www.youtube.com/channel/UCwY36CFjP79tWsgstRuEdXg ብቻዬን ከሁለት ልጆች ጋር ⛔️⛔️⛔️\n",
            "This row throws and error: https://www.youtube.com/channel/UCwY36CFjP79tWsgstRuEdXg ትምህርት ቤት ያላሰብኩት ገጠመኝ ወይ ጉድ 🛑🛑🛑\n",
            "This row throws and error: https://www.youtube.com/channel/UCwY36CFjP79tWsgstRuEdXg ሳምሪ ጥላኝ ሄደች 💔💔💔ብቻዬን ከሁለት ልጅ ጋር🛑🛑🛑\n",
            "This row throws and error: https://www.youtube.com/channel/UCwY36CFjP79tWsgstRuEdXg አዳም ጉድ ሰራን  🛑🛑🛑 ሳምሪ ተበሳጨች\n",
            "This row throws and error: https://www.youtube.com/channel/UCwY36CFjP79tWsgstRuEdXg ውፍረት ለመቀነስ የጠቀሙኝ ምግቦች\n"
          ]
        },
        {
          "metadata": {
            "tags": null
          },
          "name": "stderr",
          "output_type": "stream",
          "text": [
            "  6%|▌         | 652/10879 [08:42<1:57:01,  1.46it/s]"
          ]
        },
        {
          "metadata": {
            "tags": null
          },
          "name": "stdout",
          "output_type": "stream",
          "text": [
            "This row throws and error: https://www.youtube.com/channel/UCbUx0H90I6TqUcqT0TWv9wg ​\n"
          ]
        },
        {
          "metadata": {
            "tags": null
          },
          "name": "stderr",
          "output_type": "stream",
          "text": [
            "  8%|▊         | 922/10879 [11:52<3:08:45,  1.14s/it]"
          ]
        },
        {
          "metadata": {
            "tags": null
          },
          "name": "stdout",
          "output_type": "stream",
          "text": [
            "This row throws and error: https://www.youtube.com/channel/UCGfBXs27YPr0U8CFim-RefQ 𝕡𝕝𝕦𝕥𝕠𝕔𝕣𝕒𝕔𝕪 𝕤𝕪𝕟𝕥𝕙𝕨𝕒𝕧𝕖 𝕕𝕦𝕓𝕤𝕥𝕖𝕡 𝕣𝕖𝕞𝕚𝕩\n"
          ]
        },
        {
          "metadata": {
            "tags": null
          },
          "name": "stderr",
          "output_type": "stream",
          "text": [
            " 10%|▉         | 1034/10879 [13:32<3:02:15,  1.11s/it]"
          ]
        },
        {
          "metadata": {
            "tags": null
          },
          "name": "stdout",
          "output_type": "stream",
          "text": [
            "This row throws and error: https://www.youtube.com/channel/UCa0YfMRjgEMnCX1zk3QtNvg ‌\n",
            "This row throws and error: https://www.youtube.com/channel/UCa0YfMRjgEMnCX1zk3QtNvg ‌\n"
          ]
        },
        {
          "metadata": {
            "tags": null
          },
          "name": "stderr",
          "output_type": "stream",
          "text": [
            " 10%|▉         | 1070/10879 [13:59<2:37:48,  1.04it/s]"
          ]
        },
        {
          "metadata": {
            "tags": null
          },
          "name": "stdout",
          "output_type": "stream",
          "text": [
            "This row throws and error: https://www.youtube.com/channel/UCYZgaYpWAcJhTpo_vRuyZVQ 𝙒𝙝𝙚𝙧𝙚'𝙙 𝙖𝙡𝙡 𝙩𝙝𝙚 𝙩𝙞𝙢𝙚 𝙜𝙤?...🎓￼\n",
            "This row throws and error: https://www.youtube.com/channel/UCYZgaYpWAcJhTpo_vRuyZVQ 𝙄 𝙖𝙡𝙬𝙖𝙮𝙨 𝙛𝙚𝙚𝙡 𝙡𝙞𝙠𝙚 𝙨𝙤𝙢𝙚𝙗𝙤𝙙𝙮'𝙨 𝙬𝙖𝙩𝙘𝙝𝙞𝙣𝙜 𝙢𝙚....\n"
          ]
        },
        {
          "metadata": {
            "tags": null
          },
          "name": "stderr",
          "output_type": "stream",
          "text": [
            " 11%|█         | 1176/10879 [15:22<1:20:00,  2.02it/s]"
          ]
        },
        {
          "metadata": {
            "tags": null
          },
          "name": "stdout",
          "output_type": "stream",
          "text": [
            "This row throws and error: https://www.youtube.com/channel/UCkuVZ20MMjqVKesSqp6gwLg 𝐖𝐢𝐭𝐡𝐧𝐞𝐲 𝐇𝐨𝐮𝐬𝐭𝐨𝐧 - 𝗜 𝗪𝗔𝗡𝗡𝗔 𝗗𝗔𝗡𝗖𝗘 𝗪𝗜𝗧𝗛 𝗦𝗢𝗠𝗘𝗕𝗢𝗗𝗬 - 𝐖𝐢𝐭𝐡𝐧𝐞𝐲 𝐇𝐨𝐮𝐬𝐭𝐨𝐧 - instrum.\n",
            "This row throws and error: https://www.youtube.com/channel/UCkuVZ20MMjqVKesSqp6gwLg 𝗔𝗹 𝗚𝗿𝗲𝗲𝗻 - 𝗟𝗘𝗧'𝗦 𝗦𝗧𝗔𝗬 𝗧𝗢𝗚𝗘𝗧𝗛𝗘𝗥 - 𝗔 𝘁𝗶𝗺𝗲𝗹𝗲𝘀𝘀 𝗰𝗹𝗮𝘀𝘀𝗶𝗰\n",
            "This row throws and error: https://www.youtube.com/channel/UCkuVZ20MMjqVKesSqp6gwLg 𝗦𝘁𝗲𝘃𝗶𝗲 𝗪𝗼𝗻𝗱𝗲𝗿 - 𝗣𝗟𝗔𝗖𝗘 𝗜𝗡 𝗧𝗛𝗘 𝗦𝗨𝗡 - Tamla Motown\n",
            "This row throws and error: https://www.youtube.com/channel/UCkuVZ20MMjqVKesSqp6gwLg 𝗟𝗶𝗙𝗧 𝗠𝗘 𝗨𝗣 - 𝗥𝗶𝗛𝗔𝗡𝗡𝗔 - 𝘀𝗼𝘂𝗻𝗱𝘁𝗿𝗮𝗰𝗸 - 𝗕𝗹𝗮𝗰𝗸 𝗣𝗮𝗻𝘁𝗵𝗲𝗿 𝗪𝗮𝗸𝗮𝗻𝗱𝗮 𝗙𝗼𝗿𝗲𝘃𝗲𝗿\n",
            "This row throws and error: https://www.youtube.com/channel/UCkuVZ20MMjqVKesSqp6gwLg 𝗕𝗢𝗧𝗧𝗟𝗘 𝗞𝗜𝗖𝗞 - 𝗡𝗲𝘄 𝗛𝗼𝗿𝗶𝘇𝗼𝗻𝘀 - 𝗕𝗢𝗧𝗧𝗟𝗘 𝗖𝗛a𝗟𝗟𝗲𝗻g𝗘\n",
            "This row throws and error: https://www.youtube.com/channel/UCkuVZ20MMjqVKesSqp6gwLg 𝗦𝗲𝘅 𝗠𝗮𝗰𝗵𝗶𝗻𝗲 - 𝗵𝗶𝗱𝗱𝗲𝗻 𝗽𝗹𝗲𝗮𝘀𝘂𝗿𝗲 - 𝗝𝗮𝗺𝗲𝘀 𝗕𝗿𝗼𝘄𝗻\n",
            "This row throws and error: https://www.youtube.com/channel/UCkuVZ20MMjqVKesSqp6gwLg 𝗥𝗶𝗵𝗮𝗻𝗻𝗮 - 𝗟𝗶𝗙𝗧 𝗠𝗘 𝗨𝗣\n",
            "This row throws and error: https://www.youtube.com/channel/UCkuVZ20MMjqVKesSqp6gwLg 𝗚𝗟𝗜𝗠𝗣𝗦𝗘 𝗢𝗙 𝗨𝗦 - 𝗯𝘆 𝗝𝗼𝗷𝗶\n",
            "This row throws and error: https://www.youtube.com/channel/UCkuVZ20MMjqVKesSqp6gwLg -𝗖𝗮𝗺𝗶𝗹𝗮 𝗖𝗮𝗯𝗲𝗹𝗹𝗼 - 𝗳𝘁. 𝗘𝗱 𝗦𝗵𝗲𝗲𝗿𝗮𝗻 𝗕𝗔𝗠 𝗕𝗔𝗠 - [𝗦𝗮𝗹𝘀𝗮 𝗩𝗲𝗿𝘀𝗶𝗼𝗻]\n",
            "This row throws and error: https://www.youtube.com/channel/UCkuVZ20MMjqVKesSqp6gwLg 𝗧𝗵𝗲 𝗥𝗼𝗻𝗲𝘁𝘁𝗲𝘀 - 𝐁𝐞 𝐌𝐲 𝐁𝐚𝐛𝐲 - l𝗶𝘃𝗲  [𝗰𝗼𝗹𝗼𝗿]\n",
            "This row throws and error: https://www.youtube.com/channel/UCkuVZ20MMjqVKesSqp6gwLg Beach Walk - 𝗕𝗲𝗮𝘂𝘁𝘆 𝗪𝗶𝗹𝗹 𝗦𝗮𝘃𝗲 𝗧𝗵𝗲 𝗪𝗼𝗿𝗹𝗱\n",
            "This row throws and error: https://www.youtube.com/channel/UCkuVZ20MMjqVKesSqp6gwLg 𝗗𝗼𝗯𝗶𝗲 𝗚𝗿𝗮𝘆 - 𝗗𝗥𝗜𝗙𝗧 𝗔𝗪𝗔𝗬\n",
            "This row throws and error: https://www.youtube.com/channel/UCkuVZ20MMjqVKesSqp6gwLg 𝗧𝗵𝗲 𝟱𝘁𝗵 𝗗𝗶𝗺𝗲𝗻𝘀𝗶𝗼𝗻  𝗔𝗤𝗨𝗔𝗥𝗜𝗨𝗦 ♒︎ 𝗟𝗲𝘁 𝗧𝗵𝗲 𝗦𝘂𝗻𝘀𝗵𝗶𝗻𝗲 𝗜𝗻 -  [Extended]\n",
            "This row throws and error: https://www.youtube.com/channel/UCkuVZ20MMjqVKesSqp6gwLg 𝗟𝗢𝗩𝗘 𝗨𝗡𝗟𝗜𝗠𝗜𝗧𝗘𝗗 - 𝗜𝘁 𝗠𝗮𝘆 𝗕𝗲 𝗪𝗶𝗻𝘁𝗲𝗿 𝗢𝘂𝘁𝘀𝗶𝗱𝗲 (𝗕𝘂𝘁 𝗜𝗻 𝗠𝘆 𝗵𝗲𝗮𝗿𝘁 💚 𝗜𝘁'𝘀 𝗦𝗽𝗿𝗶𝗻𝗴)\n",
            "This row throws and error: https://www.youtube.com/channel/UCkuVZ20MMjqVKesSqp6gwLg 𝗟𝗼𝘃𝗲 𝗨𝗻𝗹𝗶𝗺𝗶𝘁𝗲𝗱 - 𝗜𝘁 𝗠𝗮𝘆 𝗕𝗲 𝗪𝗶𝗻𝘁𝗲𝗿 𝗢𝘂𝘁𝘀𝗶𝗱𝗲 [𝗕𝘂𝘁 𝗜𝗻 𝗠𝘆 𝗛𝗲𝗮𝗿𝘁 💚 𝗜𝘁'𝘀 𝗦𝗽𝗿𝗶𝗻𝗴]\n",
            "This row throws and error: https://www.youtube.com/channel/UCkuVZ20MMjqVKesSqp6gwLg 𝗧𝗛𝗘 𝗕𝗟𝗔𝗭𝗘 - 𝗝𝘂𝘃𝗲𝗻𝗶𝗹𝗲\n"
          ]
        },
        {
          "metadata": {
            "tags": null
          },
          "name": "stderr",
          "output_type": "stream",
          "text": [
            "\r 11%|█         | 1177/10879 [15:22<1:23:38,  1.93it/s]"
          ]
        },
        {
          "metadata": {
            "tags": null
          },
          "name": "stdout",
          "output_type": "stream",
          "text": [
            "This row throws and error: https://www.youtube.com/channel/UCkuVZ20MMjqVKesSqp6gwLg 𝐉𝐚𝐜𝐤𝐢𝐞 𝐖𝐢𝐥𝐬𝐨𝐧 - 𝐇𝐈𝐆𝐇𝐄𝐑 𝐀𝐍𝐃 𝐇𝐈𝐆𝐇𝐄𝐑  -  𝐖 𝐊𝐚𝐭𝐡𝐞𝐫𝐢𝐧𝐞 𝐇𝐞𝐢𝐠𝐥\n",
            "This row throws and error: https://www.youtube.com/channel/UCkuVZ20MMjqVKesSqp6gwLg 𝐊𝐞𝐢𝐫𝐚 𝐊𝐧𝐢𝐠𝐡𝐭𝐥𝐞𝐲 𝐚𝐧𝐝 𝐇𝐚𝐢𝐥𝐞𝐞 𝐒𝐭𝐞𝐢𝐧𝐟𝐞𝐥𝐝 - 𝐓𝐄𝐋𝐋 𝐌𝐄 𝐈𝐅 𝐘𝐎𝐔 𝐖𝐀𝐍𝐍𝐀 𝐆𝐎 𝐇𝐎𝐌𝐄 [𝐎𝐫𝐢𝐠𝐢𝐧𝐚𝐥 𝐒𝐨𝐮𝐧𝐝𝐭𝐫𝐚𝐜𝐤]\n"
          ]
        },
        {
          "metadata": {
            "tags": null
          },
          "name": "stderr",
          "output_type": "stream",
          "text": [
            " 12%|█▏        | 1279/10879 [16:37<2:07:52,  1.25it/s]"
          ]
        },
        {
          "metadata": {
            "tags": null
          },
          "name": "stdout",
          "output_type": "stream",
          "text": [
            "This row throws and error: https://www.youtube.com/channel/UCwjZLzqHYImv4oCJQcZ8Hig 1,000,000\n"
          ]
        },
        {
          "metadata": {
            "tags": null
          },
          "name": "stderr",
          "output_type": "stream",
          "text": [
            " 14%|█▎        | 1471/10879 [19:18<1:43:15,  1.52it/s]"
          ]
        },
        {
          "metadata": {
            "tags": null
          },
          "name": "stdout",
          "output_type": "stream",
          "text": [
            "This row throws and error: https://www.youtube.com/channel/UCxYsbv83VYHAeCUpXnbicDw 2024\n"
          ]
        },
        {
          "metadata": {
            "tags": null
          },
          "name": "stderr",
          "output_type": "stream",
          "text": [
            "\r 14%|█▎        | 1472/10879 [19:18<1:33:41,  1.67it/s]"
          ]
        },
        {
          "metadata": {
            "tags": null
          },
          "name": "stdout",
          "output_type": "stream",
          "text": [
            "This row throws and error: https://www.youtube.com/channel/UCA1tCgovx0YFuZR6CCcI7Wg 0️⃣5️⃣2️⃣7️⃣2️⃣0️⃣8️⃣1️⃣7️⃣5️⃣ order now\n",
            "This row throws and error: https://www.youtube.com/channel/UCA1tCgovx0YFuZR6CCcI7Wg 0️⃣5️⃣2️⃣7️⃣2️⃣0️⃣8️⃣1️⃣7️⃣5️⃣ order now\n",
            "This row throws and error: https://www.youtube.com/channel/UCA1tCgovx0YFuZR6CCcI7Wg 0️⃣5️⃣2️⃣7️⃣2️⃣0️⃣8️⃣1️⃣7️⃣5️⃣ order now\n",
            "This row throws and error: https://www.youtube.com/channel/UCA1tCgovx0YFuZR6CCcI7Wg 0️⃣5️⃣2️⃣ 7️⃣2️⃣ 8️⃣1️⃣8️⃣7️⃣1️⃣ order now\n"
          ]
        },
        {
          "metadata": {
            "tags": null
          },
          "name": "stderr",
          "output_type": "stream",
          "text": [
            " 14%|█▍        | 1519/10879 [19:54<53:22,  2.92it/s]  "
          ]
        },
        {
          "metadata": {
            "tags": null
          },
          "name": "stdout",
          "output_type": "stream",
          "text": [
            "This row throws and error: https://www.youtube.com/channel/UCt6B6bBEz0fGZIx6nVhhgjQ 31 🎂\n"
          ]
        },
        {
          "metadata": {
            "tags": null
          },
          "name": "stderr",
          "output_type": "stream",
          "text": [
            " 14%|█▍        | 1542/10879 [20:12<1:34:52,  1.64it/s]"
          ]
        },
        {
          "metadata": {
            "tags": null
          },
          "name": "stdout",
          "output_type": "stream",
          "text": [
            "This row throws and error: https://www.youtube.com/channel/UCN_0I6J-8Pf3N5OrHeareaA හදිස්සියේම මාලන්ට වැහුනේ කාවද?\n",
            "This row throws and error: https://www.youtube.com/channel/UCN_0I6J-8Pf3N5OrHeareaA මනමාලන් පාර මැද්දේ Wife එක්ක සරුංගලයක් ඇරපු හැටි.\n",
            "This row throws and error: https://www.youtube.com/channel/UCN_0I6J-8Pf3N5OrHeareaA Chef Hubby  හබල පෙති සරලවම හදාගන්නේ කොහොමද?\n"
          ]
        },
        {
          "metadata": {
            "tags": null
          },
          "name": "stderr",
          "output_type": "stream",
          "text": [
            " 15%|█▍        | 1581/10879 [20:40<1:39:06,  1.56it/s]"
          ]
        },
        {
          "metadata": {
            "tags": null
          },
          "name": "stdout",
          "output_type": "stream",
          "text": [
            "This row throws and error: https://www.youtube.com/channel/UCh3tzzP6n5b1EWcMUpiEhXg 10.10.2020\n"
          ]
        },
        {
          "metadata": {
            "tags": null
          },
          "name": "stderr",
          "output_type": "stream",
          "text": [
            " 16%|█▌        | 1713/10879 [22:13<1:12:36,  2.10it/s]"
          ]
        },
        {
          "metadata": {
            "tags": null
          },
          "name": "stdout",
          "output_type": "stream",
          "text": [
            "This row throws and error: https://www.youtube.com/channel/UCj_ULO_jDdvbzOCsojquneQ 14.04.23\n"
          ]
        },
        {
          "metadata": {
            "tags": null
          },
          "name": "stderr",
          "output_type": "stream",
          "text": [
            " 16%|█▋        | 1781/10879 [23:20<2:26:21,  1.04it/s]"
          ]
        },
        {
          "metadata": {
            "tags": null
          },
          "name": "stdout",
          "output_type": "stream",
          "text": [
            "This row throws and error: https://www.youtube.com/channel/UCE57---z1ZS4EOFqK1tzjEA 2023\n"
          ]
        },
        {
          "metadata": {
            "tags": null
          },
          "name": "stderr",
          "output_type": "stream",
          "text": [
            " 18%|█▊        | 1937/10879 [25:50<2:43:18,  1.10s/it]"
          ]
        },
        {
          "metadata": {
            "tags": null
          },
          "name": "stdout",
          "output_type": "stream",
          "text": [
            "This row throws and error: https://www.youtube.com/channel/UCA3PLfFMuT963D-qGVjAFaw 531.\n"
          ]
        },
        {
          "metadata": {
            "tags": null
          },
          "name": "stderr",
          "output_type": "stream",
          "text": [
            " 19%|█▉        | 2077/10879 [27:43<1:06:51,  2.19it/s]"
          ]
        },
        {
          "metadata": {
            "tags": null
          },
          "name": "stdout",
          "output_type": "stream",
          "text": [
            "This row throws and error: https://www.youtube.com/channel/UCFRCiFkWWJN2rO6dsKU9-1A 1,000,000.\n"
          ]
        },
        {
          "metadata": {
            "tags": null
          },
          "name": "stderr",
          "output_type": "stream",
          "text": [
            " 20%|█▉        | 2138/10879 [28:30<1:01:18,  2.38it/s]"
          ]
        },
        {
          "metadata": {
            "tags": null
          },
          "name": "stdout",
          "output_type": "stream",
          "text": [
            "This row throws and error: https://www.youtube.com/channel/UChc-m3saf8K2oJHDSsnsj_A 01010011 01100011 01101001 01100110 01101001\n"
          ]
        },
        {
          "metadata": {
            "tags": null
          },
          "name": "stderr",
          "output_type": "stream",
          "text": [
            " 20%|█▉        | 2143/10879 [28:34<1:24:52,  1.72it/s]"
          ]
        },
        {
          "metadata": {
            "tags": null
          },
          "name": "stdout",
          "output_type": "stream",
          "text": [
            "This row throws and error: https://www.youtube.com/channel/UCzCedBCSSltI1TFd3bKyN6g ??\n"
          ]
        },
        {
          "metadata": {
            "tags": null
          },
          "name": "stderr",
          "output_type": "stream",
          "text": [
            " 20%|█▉        | 2170/10879 [28:59<1:58:31,  1.22it/s]"
          ]
        },
        {
          "metadata": {
            "tags": null
          },
          "name": "stdout",
          "output_type": "stream",
          "text": [
            "This row throws and error: https://www.youtube.com/channel/UCTHgs-JDUK_NOlps7pLwUqw ድርሳነ ማሕየዊ ዘሠሉስ\n",
            "This row throws and error: https://www.youtube.com/channel/UCTHgs-JDUK_NOlps7pLwUqw ድርሳነ ማሕየዊ መግቢያና ዘሰኑይ\n",
            "This row throws and error: https://www.youtube.com/channel/UCTHgs-JDUK_NOlps7pLwUqw ገድለ ገብረ መንፈስ ቅዱስ +++ ስለ እረፍታቸው\n",
            "This row throws and error: https://www.youtube.com/channel/UCTHgs-JDUK_NOlps7pLwUqw የቅዱስ ጊዮርጊስ ገድል +++ ጥር 23 የሚነበብ የቅዱስ ጊዮርጊስ ገድል\n",
            "This row throws and error: https://www.youtube.com/channel/UCTHgs-JDUK_NOlps7pLwUqw የቅዱስ ጊዮርጊስ ገድል +++ ጥር 18 የሚነበብ የቅዱስ ጊዮርጊስ ገድል\n",
            "This row throws and error: https://www.youtube.com/channel/UCTHgs-JDUK_NOlps7pLwUqw ድርሳነ ቅዱስ ገብርኤል +++ Kidus Gebrel +++  እንኳን ለሊቀ መላእክት ቅዱስ ገብርኤል በዓል በሰላም አደረሳችሁ\n",
            "This row throws and error: https://www.youtube.com/channel/UCTHgs-JDUK_NOlps7pLwUqw ዲያቆን ሄኖክ ኃይሌ ክፍል 9 - ንጹሕ መኝታ\n",
            "This row throws and error: https://www.youtube.com/channel/UCTHgs-JDUK_NOlps7pLwUqw ዲያቆን ሄኖክ ኃይሌ፤ መጋባት እና መግባባት +++ክፍል 8+++መጋባት እና መግባባት\n",
            "This row throws and error: https://www.youtube.com/channel/UCTHgs-JDUK_NOlps7pLwUqw ዲያቆን ሄኖክ ኃይሌ ፤ ክርስቲያናዊ ቤተሰብ ክፍል 7 +++ ሕይወት ከሠርግ ማግስት!\n",
            "This row throws and error: https://www.youtube.com/channel/UCTHgs-JDUK_NOlps7pLwUqw ዲያቆን ሄኖክ ኃይሌ ፤ ክርስቲያናዊ ቤተሰብ ክፍል 6    +++ ክርስቲያን ማለት ቤቱን ቤተክርስቲያን የሚያደርግ ቤተክርስቲያንን ቤቱ የሚያደርግ ነው!!!\n",
            "This row throws and error: https://www.youtube.com/channel/UCTHgs-JDUK_NOlps7pLwUqw ዘማሪት አዜብ ከበደ፤ ሥላሴን አመስግኑ\n",
            "This row throws and error: https://www.youtube.com/channel/UCTHgs-JDUK_NOlps7pLwUqw ዲን ዶር ቴዎድሮስ በለጠ ምድሪቱም ሴቲቱን ረዳቻት\n",
            "This row throws and error: https://www.youtube.com/channel/UCTHgs-JDUK_NOlps7pLwUqw ዲ ን ሔኖክ ኃይሌ፤ለክርስቲያን ሁሉ ስለ እመቤታችን መስማት ቀላል አይምሰለው\n",
            "This row throws and error: https://www.youtube.com/channel/UCTHgs-JDUK_NOlps7pLwUqw ዘማሪ ፍሬዘር ደሳለኝ፤ሰላም ለኪ እያለ…ቀጸላ መንግስቱ ለጊዮርጊስ…አክሊለ ጽጌ\n",
            "This row throws and error: https://www.youtube.com/channel/UCTHgs-JDUK_NOlps7pLwUqw ቅዱስ ቁርባን መቼ   የት   እንዴት   ለምን   በማን   ክፍል 3  በመጋቤ ብሉይ ወሐዲስ አባ ገብረ ኪዳን ግርማ\n",
            "This row throws and error: https://www.youtube.com/channel/UCTHgs-JDUK_NOlps7pLwUqw ቅዱስ ቁርባን መቼ   የት   እንዴት   ለምን   በማን   ክፍል 2  በመጋቤ ብሉይ ወሐዲስ አባ ገብረ ኪዳን ግር ማ #Subscribe Gubae tezekro\n",
            "This row throws and error: https://www.youtube.com/channel/UCTHgs-JDUK_NOlps7pLwUqw ዘማሪት ማርታ ኃይለ ሥላሴ፤ድንግል ሆይ ወደ እኔ ትመጪ ዘንድ እንዴት ይሆናል\n",
            "This row throws and error: https://www.youtube.com/channel/UCTHgs-JDUK_NOlps7pLwUqw መጋቤ ሐዲስ ምስጢረ ሥላሴ ማናዬ፤ስለ ጽድቅ የሚሰደዱ ብፁዓን ናቸው፥ መንግሥተ ሰማያት የእነርሱ ናትና\n",
            "This row throws and error: https://www.youtube.com/channel/UCTHgs-JDUK_NOlps7pLwUqw ዘማሪት ማርታ ኃይለ ሥላሴ ፤ ነነዌን ሊያቃጥል የወረደው እሣት\n",
            "This row throws and error: https://www.youtube.com/channel/UCTHgs-JDUK_NOlps7pLwUqw ቅዱስ ቁርባን መቼ  የት  እንዴት ለምን በማን   ክፍል 1  በመጋቤ ብሉይ ወሐዲስ አባ ገብረ ኪዳን ግርማ\n",
            "This row throws and error: https://www.youtube.com/channel/UCTHgs-JDUK_NOlps7pLwUqw ስለ እመቤታችን አዲስ እጅግ ድንቅ ስብከት  በመጋቤ ብሉይ ወሐዲስ አባ ገብረ ኪዳን ' የደናግል መመኪያ1 '\n",
            "This row throws and error: https://www.youtube.com/channel/UCTHgs-JDUK_NOlps7pLwUqw የብሉይ ኪዳን ጉባኤ ተዘክሮ ክፍል 13 (የቅዱስ ዳዊት መዝሙር ጥናት)  -እንደ ሸክላ ሰሪ እቃ ትቀጠቅጣቸዋለህ- በመጋቤ ብሉይ ወሐዲስ አባ ገብረ ኪዳን\n",
            "This row throws and error: https://www.youtube.com/channel/UCTHgs-JDUK_NOlps7pLwUqw እጅግ ድንቅ ትምህርት በመጋቤ ብሉይ ወሐዲስ ቆሞስ አባ ገብረ ኪዳን2\n",
            "This row throws and error: https://www.youtube.com/channel/UCTHgs-JDUK_NOlps7pLwUqw ሆ ብለን መጣን ቸርነቱን አይተን 2013\n",
            "This row throws and error: https://www.youtube.com/channel/UCTHgs-JDUK_NOlps7pLwUqw አዲስ እጅግ ድንቅ ስብከት  ከነዚህ ይልቅ ትወደኛለህን    ዝክረ ቅዱስ ጼጥሮስ ወጳውሎስ በመጋቤ ብሉይ ወሐዲስ አባ ገብረ ኪዳን\n",
            "This row throws and error: https://www.youtube.com/channel/UCTHgs-JDUK_NOlps7pLwUqw መድሀኒያለም የለም የሚሳነውዘማሪ እንዳለ ደረጄ\n",
            "This row throws and error: https://www.youtube.com/channel/UCTHgs-JDUK_NOlps7pLwUqw ትግላችን ከስጋና ከደም ጋር አይደለምየማናሸንፈው ፈተና የለም\n",
            "This row throws and error: https://www.youtube.com/channel/UCTHgs-JDUK_NOlps7pLwUqw ለዚህም ምስክሬ ማርያም ናትበመጋቤ ብሉይ ወሐዲስ አባ ገብረኪዳን 2012\n",
            "This row throws and error: https://www.youtube.com/channel/UCTHgs-JDUK_NOlps7pLwUqw በዚህ የመከራ ዘመን ምን እናድርግ እጅግ አስደናቂ ትምህርት\n",
            "This row throws and error: https://www.youtube.com/channel/UCTHgs-JDUK_NOlps7pLwUqw ''መንፈሳዊ መሆን እፈልጋለሁ ምን ላድርግ''\n",
            "This row throws and error: https://www.youtube.com/channel/UCTHgs-JDUK_NOlps7pLwUqw ''ክርስቲያን ለምን መከራ ይደርስበታል''\n",
            "This row throws and error: https://www.youtube.com/channel/UCTHgs-JDUK_NOlps7pLwUqw ሆያ ሆዬ በሉ  ክርስቲያኖች በሙሉ\n",
            "This row throws and error: https://www.youtube.com/channel/UCTHgs-JDUK_NOlps7pLwUqw አዲስ እጅግ ድንቅ ትምህርት  ብዙዎች በልደቱ ደስ ይላቸዋል  በመጋቤ ብሉይ ወሐዲስ አባ ገ ኪዳን ግርማ 2020\n",
            "This row throws and error: https://www.youtube.com/channel/UCTHgs-JDUK_NOlps7pLwUqw እኔ ግን በእነርሱ ላይ ንጉሥ ሆኜ ተሹሜአለሁ በመጋቤ ብሉይ ወሐዲስ አባ ገኪዳን ክፍል 11\n",
            "This row throws and error: https://www.youtube.com/channel/UCTHgs-JDUK_NOlps7pLwUqw “ጥበብ ከልጆቿ የተነሳ ጸደቀች” ክፍል 4 ቁ.2 በመጋቤ ብሉይ ወሐዲስ አባ ገብረኪዳን 2012\n",
            "This row throws and error: https://www.youtube.com/channel/UCTHgs-JDUK_NOlps7pLwUqw አሕዛብ ለምን አጉረመረሙ በመጋቤ ብሉይ ወሐዲስ አባ ገኪዳን ክፍል 11\n",
            "This row throws and error: https://www.youtube.com/channel/UCTHgs-JDUK_NOlps7pLwUqw “ጥበብ ከልጆቿ የተነሳ ጸደቀች” ክፍል 4 ቁ.1 በመጋቤ ብሉይ ወሐዲስ አባ ገብረኪዳን 2012\n",
            "This row throws and error: https://www.youtube.com/channel/UCTHgs-JDUK_NOlps7pLwUqw ሳይገባኝ - ዘማሪ ቀሲስ ምንዳዬ ብርሃኑ 2012\n",
            "This row throws and error: https://www.youtube.com/channel/UCTHgs-JDUK_NOlps7pLwUqw ሰላምን የሚያደርጉ ብጹዓን ናቸው ክፍል 2  በመጋቤ ብሉይ ወሐዲስ አባ ገብረኪዳን  2012\n",
            "This row throws and error: https://www.youtube.com/channel/UCTHgs-JDUK_NOlps7pLwUqw የኃጥአን መንገድ ግን ትጠፋለች ክፍል10  በመጋቤ ብሉይ ወሐዲስ አባ ገብረኪዳን 2012\n"
          ]
        },
        {
          "metadata": {
            "tags": null
          },
          "name": "stderr",
          "output_type": "stream",
          "text": [
            "\r 20%|█▉        | 2171/10879 [29:00<2:01:41,  1.19it/s]"
          ]
        },
        {
          "metadata": {
            "tags": null
          },
          "name": "stdout",
          "output_type": "stream",
          "text": [
            "This row throws and error: https://www.youtube.com/channel/UCTHgs-JDUK_NOlps7pLwUqw ኑ በእግዚአብሔር ደስ ይበለን - Zemarit azeb kebede ግሸን ደብረ ከርቤ በማኅበረ ጽዮን ማረፊያ አዳራሽ መስከረም 21 2012\n",
            "This row throws and error: https://www.youtube.com/channel/UCTHgs-JDUK_NOlps7pLwUqw ምርጥ ዕቃው ጳውሎስክፍል 3  በመጋቤ ብሉይ ወሐዲስ አባ ገብረኪዳን 2012\n",
            "This row throws and error: https://www.youtube.com/channel/UCTHgs-JDUK_NOlps7pLwUqw Ethiopia“ልዩ አጥንትን የሚያለመልሙ ነፍስን የሚያረሰርሱ የበገና መዝሙሮች ስብስብ” 2020\n",
            "This row throws and error: https://www.youtube.com/channel/UCTHgs-JDUK_NOlps7pLwUqw Ethiopiaየጻድቃንን መንገድ እግዚአብሔር ያውቃልበመጋቤ ብሉይ ወሐዲስ አባ ገብረኪዳን 2012\n",
            "This row throws and error: https://www.youtube.com/channel/UCTHgs-JDUK_NOlps7pLwUqw Ethiopia“የሕይወትናነ  የእውነት መንገድ እኔ ነኝ”  ዮሐ ፲፬፥፮ የኔታ ገብረ መድኅን 2012\n",
            "This row throws and error: https://www.youtube.com/channel/UCTHgs-JDUK_NOlps7pLwUqw Ethiopia ውሃው ክፉ ነው አገሩ ሠላም ነው መጋቤ ኃይማኖት መምህር ብሩክ ሰውነት 2012\n",
            "This row throws and error: https://www.youtube.com/channel/UCTHgs-JDUK_NOlps7pLwUqw Ethiopiaሰላምን የሚያደርጉ ብጹዓን ናቸው (ማቴ. ፭፱) በመጋቤ ብሉይ ወሐዲስ አባ ገብረኪዳን 2012\n",
            "This row throws and error: https://www.youtube.com/channel/UCTHgs-JDUK_NOlps7pLwUqw Ethiopiaከሦስት አመት በኋላ ኬፋን ለማየት ወደ ኢየሩሳሌም ወጣሁክፍል 2 በመጋቤ ብሉይ ወሐዲስ አባ ገብረኪዳን 2012\n",
            "This row throws and error: https://www.youtube.com/channel/UCTHgs-JDUK_NOlps7pLwUqw Ethiopia ሊረዳኝ መጣ ኃያል ሚካኤል ዘማሪ ቀሲስ ምንዳዬ ብርሃኑአባ ተክለሃይማኖትዘማሪት ሲስተር ሄለን ተስፋዬ 2012\n",
            "This row throws and error: https://www.youtube.com/channel/UCTHgs-JDUK_NOlps7pLwUqw Ethiopiaኃጥአን በጻድቃን ምክር አይሄዱምበመጋቤ ብሉይ ወሐዲስ አባ ገብረኪዳን 2012\n",
            "This row throws and error: https://www.youtube.com/channel/UCTHgs-JDUK_NOlps7pLwUqw Ethiopia“የጻድቃን እና የሀጥአን ስራቸው ይህ ነው”በመጋቤ ብሉይ ወሐዲስ አባ ገብረኪዳን 2012\n",
            "This row throws and error: https://www.youtube.com/channel/UCTHgs-JDUK_NOlps7pLwUqw ዘማሪ በኃይሉ ተበጀ +++(1.ነፍሱ የመረረ - +++2.እሱ ፃዲቅ ሲሆኖ ፍፁም ብሩክ አምላክ ብሩክ አምላክ)\n"
          ]
        },
        {
          "metadata": {
            "tags": null
          },
          "name": "stderr",
          "output_type": "stream",
          "text": [
            " 20%|██        | 2222/10879 [29:51<1:16:15,  1.89it/s]"
          ]
        },
        {
          "metadata": {
            "tags": null
          },
          "name": "stdout",
          "output_type": "stream",
          "text": [
            "This row throws and error: https://www.youtube.com/channel/UCBiew4z_p7Yc6D5qusfwx8w ｗｅ ａｒｅ ｎｕｍｂｅｒ 420\n"
          ]
        },
        {
          "metadata": {
            "tags": null
          },
          "name": "stderr",
          "output_type": "stream",
          "text": [
            " 23%|██▎       | 2470/10879 [32:49<1:02:17,  2.25it/s]"
          ]
        },
        {
          "metadata": {
            "tags": null
          },
          "name": "stdout",
          "output_type": "stream",
          "text": [
            "This row throws and error: https://www.youtube.com/channel/UCEChYvWCOvbn8yZkrDsgU0g ˢᵒˡᵈⁱᵉʳ'ˢ ᵈⁱˢᵖᵉⁿˢᵉʳ ᶜᵒˡˡᵃᵇ\n"
          ]
        },
        {
          "metadata": {
            "tags": null
          },
          "name": "stderr",
          "output_type": "stream",
          "text": [
            " 24%|██▍       | 2616/10879 [34:38<2:44:41,  1.20s/it]"
          ]
        },
        {
          "metadata": {
            "tags": null
          },
          "name": "stdout",
          "output_type": "stream",
          "text": [
            "This row throws and error: https://www.youtube.com/channel/UCwXfRdTtVeVnXXF4poaYw0Q ඉබන්බතුතා ගිය ගමන් මාර්ගයේ ගිහින් බඩු ගමු\n",
            "This row throws and error: https://www.youtube.com/channel/UCwXfRdTtVeVnXXF4poaYw0Q හිතා ගන්නවත් බැහැ නේද මියන්මා‍රේ මාර්කට් එකේ තියෙන දේවල්   Travel with Chatura\n",
            "This row throws and error: https://www.youtube.com/channel/UCwXfRdTtVeVnXXF4poaYw0Q ඩුබායි මැරිනාවේ ශ්‍රී ලාංකීය නම රැන්දු අවන්හලෙන් කෑමවේලක් සමඟින් yacht එකක සවාරියක්\n",
            "This row throws and error: https://www.youtube.com/channel/UCwXfRdTtVeVnXXF4poaYw0Q ඇල්ල සුන්දර කරන විදේශිකයොත් ඇවිත් භාවනා කරන පුදබිම   Travel with Chatura\n",
            "This row throws and error: https://www.youtube.com/channel/UCwXfRdTtVeVnXXF4poaYw0Q පිටරට ඉඳලත් වෙඩින් ගන්න විදේශිකයෝ එන ඉවතලන ද්‍රව්‍යවලින් හදපු එකම හෝටලය  Travel with Chatura\n",
            "This row throws and error: https://www.youtube.com/channel/UCwXfRdTtVeVnXXF4poaYw0Q අමෙරිකාවේ රියදුරු බලපත්‍ර තිබුණට හැම ප්‍රාන්තයේම රිය පදවන්න බැහැ,කොහොමද රියදුරු බලපත්‍රය ගන්නේ?\n",
            "This row throws and error: https://www.youtube.com/channel/UCwXfRdTtVeVnXXF4poaYw0Q අමෙරිකාවේ ටෙක්සාස් හී විශාලතම අවන්හල් ජාලය හිමි ශ්‍රී ලාංකිකයා  Travel with Chatura Ameraica\n",
            "This row throws and error: https://www.youtube.com/channel/UCwXfRdTtVeVnXXF4poaYw0Q Travel With Chatura  අමෙරිකාවේ ටෙක්සාස් ප්‍රාන්තයේ ඔස්ටින්හී පැවති අවුරුදු උත්සවය\n",
            "This row throws and error: https://www.youtube.com/channel/UCwXfRdTtVeVnXXF4poaYw0Q මිනිස්සුන්ට යන්න පහසු විදියටම හදලා තියෙන ප්‍රංශයේ බස් , දුම්රිය RER සහ මෙට්‍රෝ පද්ධතිය\n",
            "This row throws and error: https://www.youtube.com/channel/UCwXfRdTtVeVnXXF4poaYw0Q ලංකාවේ උසම තැන තියෙන ලයිට් නැති වත්ත  ලාම්පු වත්ත  Travel With Chatura\n",
            "This row throws and error: https://www.youtube.com/channel/UCwXfRdTtVeVnXXF4poaYw0Q දකුණුලකට හිල්ටන් හෝටලය ගෙනා ශ්‍රී ලාංකික ව්‍යාපාරිකයා  Travel With Chatura\n",
            "This row throws and error: https://www.youtube.com/channel/UCwXfRdTtVeVnXXF4poaYw0Q ලංකාවට වැඩිම ප්‍රංශ සංචාරකයින් ගෙන්වන හෝටල් හිමියා  Travel With Chatura\n",
            "This row throws and error: https://www.youtube.com/channel/UCwXfRdTtVeVnXXF4poaYw0Q කැනඩා හමුදාවේ ඉන්න අපේ රටේ දමිළ තරුණයාගේ ගෙදරින් කාපු කෑමවේල  Travel With Chatura  Canada\n",
            "This row throws and error: https://www.youtube.com/channel/UCwXfRdTtVeVnXXF4poaYw0Q කැනඩාවේ ව්‍යාපාරයක් ආරම්භ කරන්න හරිම ලේසියි...\n",
            "This row throws and error: https://www.youtube.com/channel/UCwXfRdTtVeVnXXF4poaYw0Q සිංගප්පූරුවේ දළදා වහන්සේ වැඩ සිටින පන්සලට ගියෙමි  Travel With Chatura\n",
            "This row throws and error: https://www.youtube.com/channel/UCwXfRdTtVeVnXXF4poaYw0Q කැනඩාවේ ටොරොන්ටෝ නගරයේ සංචාරය සහ ලංකාවේ කොන්සල් කාර්යාලයේ සේවාවන්  Travel With Chatura\n",
            "This row throws and error: https://www.youtube.com/channel/UCwXfRdTtVeVnXXF4poaYw0Q ශ්‍රී ලාංකික සම්භවයක් ඇති කැනඩාවේ දැවැන්ත ව්‍යාපාරිකයා සොයා ගිය ගමන\n",
            "This row throws and error: https://www.youtube.com/channel/UCwXfRdTtVeVnXXF4poaYw0Q දිනකට 11,000කට නොමිලේ කන්න දෙන සිංගප්පූරුවේ ප්‍රජා මුළුතැන්ගෙය   Travel With Chatura\n",
            "This row throws and error: https://www.youtube.com/channel/UCwXfRdTtVeVnXXF4poaYw0Q සිංගප්පුරුවේ සිදුකෙරුණු දැවැන්ත සිවුරු පූජාව  Travel with chatura\n",
            "This row throws and error: https://www.youtube.com/channel/UCwXfRdTtVeVnXXF4poaYw0Q කෙටිම කාලයකින් කොරියාවේ සාර්ථක වූ ශ්‍රී ලාංකික ව්‍යාපාරිකයා   South Korea\n",
            "This row throws and error: https://www.youtube.com/channel/UCwXfRdTtVeVnXXF4poaYw0Q කොරියාවේ සාම්ප්‍රදායික ගම  South Korea\n",
            "This row throws and error: https://www.youtube.com/channel/UCwXfRdTtVeVnXXF4poaYw0Q කොරියාවේ පැවැත්වූ ධර්ම දේශනාව   South Korea\n",
            "This row throws and error: https://www.youtube.com/channel/UCwXfRdTtVeVnXXF4poaYw0Q කොරියාවේ නගර සභාවක් ක්‍රියාත්මක වෙන හැටි  South Korea\n",
            "This row throws and error: https://www.youtube.com/channel/UCwXfRdTtVeVnXXF4poaYw0Q අපි උන්ඩියල්වලින් සල්ලි එවන්නේ.. අපිට රට ගැන විශ්වාසයක් නෑ  South Korea\n",
            "This row throws and error: https://www.youtube.com/channel/UCwXfRdTtVeVnXXF4poaYw0Q බිත්තර දාන්න එන කැස්බෑවියගේ  බඩ කපලා බිත්තර අරගෙන\n",
            "This row throws and error: https://www.youtube.com/channel/UCwXfRdTtVeVnXXF4poaYw0Q බයිසිකලෙන් යන්න හිතනව නම් අනිවාර්යයෙන්ම දැනගන්න...\n",
            "This row throws and error: https://www.youtube.com/channel/UCwXfRdTtVeVnXXF4poaYw0Q ඩිකැප්‍රියෝ දුටු ඛේදවාචකය\n",
            "This row throws and error: https://www.youtube.com/channel/UCwXfRdTtVeVnXXF4poaYw0Q ආදිවාසී නායකතුමාගේ බිරිද පෙනීසිටි පළමු රූපවාහිනී වැඩසටහන - Travel With Chatura\n",
            "This row throws and error: https://www.youtube.com/channel/UCwXfRdTtVeVnXXF4poaYw0Q Travel With Chatura  රට යන්න ඉන්න හැමෝටම වැදගත් වෙයි. කොවිඩ් -19 එන්නත් සහතිකය Online ගන්න විදිහ\n",
            "This row throws and error: https://www.youtube.com/channel/UCwXfRdTtVeVnXXF4poaYw0Q Travel With Chatura  නැවේ විනාශයයෙන් කැස්බෑවොම මැරෙන්න්නේ ඇයි?\n",
            "This row throws and error: https://www.youtube.com/channel/UCwXfRdTtVeVnXXF4poaYw0Q ඔන්ලින් ඉගෙනගන්න කදු නගින දරුවන්\n",
            "This row throws and error: https://www.youtube.com/channel/UCwXfRdTtVeVnXXF4poaYw0Q ලෝක සමුද්‍ර දිනයේ\n",
            "This row throws and error: https://www.youtube.com/channel/UCwXfRdTtVeVnXXF4poaYw0Q නිදහස විඳි ලකී සේනානායක\n",
            "This row throws and error: https://www.youtube.com/channel/UCwXfRdTtVeVnXXF4poaYw0Q පාම් ඔයිල් තහනමෙන් බැට කෑ ආස්මි ගම්මානය\n",
            "This row throws and error: https://www.youtube.com/channel/UCwXfRdTtVeVnXXF4poaYw0Q Travel with Chatura  කොවිඩ්වලින් සංචාරක කර්මාන්තයට බලපෑම එල්ල වූ - හිරිකැටිය\n"
          ]
        },
        {
          "metadata": {
            "tags": null
          },
          "name": "stderr",
          "output_type": "stream",
          "text": [
            "\r 24%|██▍       | 2617/10879 [34:39<2:37:37,  1.14s/it]"
          ]
        },
        {
          "metadata": {
            "tags": null
          },
          "name": "stdout",
          "output_type": "stream",
          "text": [
            "This row throws and error: https://www.youtube.com/channel/UCwXfRdTtVeVnXXF4poaYw0Q කවුරුත් කතා කරන මීගමුව කලපුවේ ක්‍රීඩා පිටි අවුරුදු 5කට කලින් තිබුණු හැටි  Travel With Chatura\n"
          ]
        },
        {
          "metadata": {
            "tags": null
          },
          "name": "stderr",
          "output_type": "stream",
          "text": [
            " 24%|██▍       | 2635/10879 [34:52<1:30:30,  1.52it/s]"
          ]
        },
        {
          "metadata": {
            "tags": null
          },
          "name": "stdout",
          "output_type": "stream",
          "text": [
            "This row throws and error: https://www.youtube.com/channel/UC7pp8pL0dwUXcbcah6J576w 🍔\n"
          ]
        },
        {
          "metadata": {
            "tags": null
          },
          "name": "stderr",
          "output_type": "stream",
          "text": [
            " 25%|██▍       | 2706/10879 [35:49<2:39:08,  1.17s/it]"
          ]
        },
        {
          "metadata": {
            "tags": null
          },
          "name": "stdout",
          "output_type": "stream",
          "text": [
            "This row throws and error: https://www.youtube.com/channel/UC_TVqp_SyG6j5hG-xVRy95A ☠️🔥\n"
          ]
        },
        {
          "metadata": {
            "tags": null
          },
          "name": "stderr",
          "output_type": "stream",
          "text": [
            " 25%|██▌       | 2724/10879 [36:01<1:08:09,  1.99it/s]"
          ]
        },
        {
          "metadata": {
            "tags": null
          },
          "name": "stdout",
          "output_type": "stream",
          "text": [
            "This row throws and error: https://www.youtube.com/channel/UCJUvCS5CLN0zLSwF5Mle4vw ⠀\n"
          ]
        },
        {
          "metadata": {
            "tags": null
          },
          "name": "stderr",
          "output_type": "stream",
          "text": [
            " 26%|██▌       | 2820/10879 [37:40<1:21:35,  1.65it/s]"
          ]
        },
        {
          "metadata": {
            "tags": null
          },
          "name": "stdout",
          "output_type": "stream",
          "text": [
            "This row throws and error: https://www.youtube.com/channel/UCTU7zMqyCsIcaYWwtjemYoQ ＯＯＧＡ ＢＯＧＧＡ\n",
            "This row throws and error: https://www.youtube.com/channel/UCTU7zMqyCsIcaYWwtjemYoQ ＢＯＧＧＥＤ\n"
          ]
        },
        {
          "metadata": {
            "tags": null
          },
          "name": "stderr",
          "output_type": "stream",
          "text": [
            " 26%|██▌       | 2839/10879 [37:55<1:24:21,  1.59it/s]"
          ]
        },
        {
          "metadata": {
            "tags": null
          },
          "name": "stdout",
          "output_type": "stream",
          "text": [
            "This row throws and error: https://www.youtube.com/channel/UCLIeH_RaUCItm8W0vATCazQ ඔබ මේවා දකින්නේ ජිවිතේ පළමු වතාවට EP376\n",
            "This row throws and error: https://www.youtube.com/channel/UCLIeH_RaUCItm8W0vATCazQ ඔබ මේවා දකින්නේ ජිවිතේ පළමු වතාවට EP375\n",
            "This row throws and error: https://www.youtube.com/channel/UCLIeH_RaUCItm8W0vATCazQ ඔබ මේවා දකින්නේ ජිවිතේ පළමු වතාවට EP374\n",
            "This row throws and error: https://www.youtube.com/channel/UCLIeH_RaUCItm8W0vATCazQ ඔබ මේවා දකින්නේ ජිවිතේ පළමු වතාවට EP373\n",
            "This row throws and error: https://www.youtube.com/channel/UCLIeH_RaUCItm8W0vATCazQ ඔබ මේවා දකින්නේ ජිවිතේ පළමු වතාවට EP372\n",
            "This row throws and error: https://www.youtube.com/channel/UCLIeH_RaUCItm8W0vATCazQ ඔබ මේවා දකින්නේ ජිවිතේ පළමු වතාවට EP371\n",
            "This row throws and error: https://www.youtube.com/channel/UCLIeH_RaUCItm8W0vATCazQ ඔබ මේවා දකින්නේ ජිවිතේ පළමු වතාවට EP370\n",
            "This row throws and error: https://www.youtube.com/channel/UCLIeH_RaUCItm8W0vATCazQ ඔබ මේවා දකින්නේ ජිවිතේ පළමු වතාවට EP369\n",
            "This row throws and error: https://www.youtube.com/channel/UCLIeH_RaUCItm8W0vATCazQ මුල් මාස හයේ Mr.පුදුමයගේ හොඳම ටික මෙන්න EP 03\n",
            "This row throws and error: https://www.youtube.com/channel/UCLIeH_RaUCItm8W0vATCazQ ඔබ මේවා දකින්නේ ජිවිතේ පළමු වතාවට EP368\n",
            "This row throws and error: https://www.youtube.com/channel/UCLIeH_RaUCItm8W0vATCazQ ඔබ මේවා දකින්නේ ජිවිතේ පළමු වතාවට EP367\n",
            "This row throws and error: https://www.youtube.com/channel/UCLIeH_RaUCItm8W0vATCazQ ඔබ මේවා දකින්නේ ජිවිතේ පළමු වතාවට EP366\n",
            "This row throws and error: https://www.youtube.com/channel/UCLIeH_RaUCItm8W0vATCazQ මුල් මාස හයේ Mr.පුදුමයගේ හොඳම ටික මෙන්න EP 02\n",
            "This row throws and error: https://www.youtube.com/channel/UCLIeH_RaUCItm8W0vATCazQ ඔබ මේවා දකින්නේ ජිවිතේ පළමු වතාවට EP365\n",
            "This row throws and error: https://www.youtube.com/channel/UCLIeH_RaUCItm8W0vATCazQ මුල් මාස හයේ Mr.පුදුමයගේ හොඳම ටික මෙන්න\n",
            "This row throws and error: https://www.youtube.com/channel/UCLIeH_RaUCItm8W0vATCazQ ඔබ මේවා දකින්නේ ජිවිතේ පළමු වතාවට EP364\n",
            "This row throws and error: https://www.youtube.com/channel/UCLIeH_RaUCItm8W0vATCazQ ඔබ මේවා දකින්නේ ජිවිතේ පළමු වතාවට EP363\n",
            "This row throws and error: https://www.youtube.com/channel/UCLIeH_RaUCItm8W0vATCazQ ඔබ මේවා දකින්නේ ජිවිතේ පළමු වතාවට EP362\n",
            "This row throws and error: https://www.youtube.com/channel/UCLIeH_RaUCItm8W0vATCazQ ඔබ මේවා දකින්නේ ජිවිතේ පළමු වතාවට EP361\n",
            "This row throws and error: https://www.youtube.com/channel/UCLIeH_RaUCItm8W0vATCazQ ඔබ මේවා දකින්නේ ජිවිතේ පළමු වතාවට EP360\n",
            "This row throws and error: https://www.youtube.com/channel/UCLIeH_RaUCItm8W0vATCazQ ඔබ මේවා දකින්නේ ජිවිතේ පළමු වතාවට EP359\n",
            "This row throws and error: https://www.youtube.com/channel/UCLIeH_RaUCItm8W0vATCazQ ඔබ මේවා දකින්නේ ජිවිතේ පළමු වතාවට EP358\n",
            "This row throws and error: https://www.youtube.com/channel/UCLIeH_RaUCItm8W0vATCazQ ඔබ මේවා දකින්නේ ජිවිතේ පළමු වතාවට EP357\n",
            "This row throws and error: https://www.youtube.com/channel/UCLIeH_RaUCItm8W0vATCazQ ඔබ මේවා දකින්නේ ජිවිතේ පළමු වතාවට EP356\n",
            "This row throws and error: https://www.youtube.com/channel/UCLIeH_RaUCItm8W0vATCazQ ඔබ මේවා දකින්නේ ජිවිතේ පළමු වතාවට EP355\n",
            "This row throws and error: https://www.youtube.com/channel/UCLIeH_RaUCItm8W0vATCazQ ඔබ මේවා දකින්නේ ජිවිතේ පළමු වතාවට EP354\n",
            "This row throws and error: https://www.youtube.com/channel/UCLIeH_RaUCItm8W0vATCazQ ඔබ මේවා දකින්නේ ජිවිතේ පළමු වතාවට EP353\n",
            "This row throws and error: https://www.youtube.com/channel/UCLIeH_RaUCItm8W0vATCazQ සුබ ආරංචියක් .....\n",
            "This row throws and error: https://www.youtube.com/channel/UCLIeH_RaUCItm8W0vATCazQ ඔබ මේවා දකින්නේ ජිවිතේ පළමු වතාවට EP352\n",
            "This row throws and error: https://www.youtube.com/channel/UCLIeH_RaUCItm8W0vATCazQ ඔබ මේවා දකින්නේ ජිවිතේ පළමු වතාවට EP351\n",
            "This row throws and error: https://www.youtube.com/channel/UCLIeH_RaUCItm8W0vATCazQ ඔබ මේවා දකින්නේ ජිවිතේ පළමු වතාවට EP350\n",
            "This row throws and error: https://www.youtube.com/channel/UCLIeH_RaUCItm8W0vATCazQ ඔබ මේවා දකින්නේ ජිවිතේ පළමු වතාවට EP349\n",
            "This row throws and error: https://www.youtube.com/channel/UCLIeH_RaUCItm8W0vATCazQ ඔබ මේවා දකින්නේ ජිවිතේ පළමු වතාවට EP348\n",
            "This row throws and error: https://www.youtube.com/channel/UCLIeH_RaUCItm8W0vATCazQ ඔබ මේවා දකින්නේ ජිවිතේ පළමු වතාවට EP347\n",
            "This row throws and error: https://www.youtube.com/channel/UCLIeH_RaUCItm8W0vATCazQ ඔබ මේවා දකින්නේ ජිවිතේ පළමු වතාවට EP346\n",
            "This row throws and error: https://www.youtube.com/channel/UCLIeH_RaUCItm8W0vATCazQ ඔබ මේවා දකින්නේ ජිවිතේ පළමු වතාවට EP345\n",
            "This row throws and error: https://www.youtube.com/channel/UCLIeH_RaUCItm8W0vATCazQ ඔබ මේවා දකින්නේ ජිවිතේ පළමු වතාවට EP344\n",
            "This row throws and error: https://www.youtube.com/channel/UCLIeH_RaUCItm8W0vATCazQ ඔබ මේවා දකින්නේ ජිවිතේ පළමු වතාවට EP343\n",
            "This row throws and error: https://www.youtube.com/channel/UCLIeH_RaUCItm8W0vATCazQ ඔබ මේවා දකින්නේ ජිවිතේ පළමු වතාවට EP342\n",
            "This row throws and error: https://www.youtube.com/channel/UCLIeH_RaUCItm8W0vATCazQ ඔබ මේවා දකින්නේ ජිවිතේ පළමු වතාවට EP341\n",
            "This row throws and error: https://www.youtube.com/channel/UCLIeH_RaUCItm8W0vATCazQ ඔබ මේවා දකින්නේ ජිවිතේ පළමු වතාවට EP340\n",
            "This row throws and error: https://www.youtube.com/channel/UCLIeH_RaUCItm8W0vATCazQ ඔබ මේවා දකින්නේ ජිවිතේ පළමු වතාවට EP339\n",
            "This row throws and error: https://www.youtube.com/channel/UCLIeH_RaUCItm8W0vATCazQ ඔබ මේවා දකින්නේ ජිවිතේ පළමු වතාවට EP338\n",
            "This row throws and error: https://www.youtube.com/channel/UCLIeH_RaUCItm8W0vATCazQ ඔබ මේවා දකින්නේ ජිවිතේ පළමු වතාවට EP337\n",
            "This row throws and error: https://www.youtube.com/channel/UCLIeH_RaUCItm8W0vATCazQ ඔබ මේවා දකින්නේ ජිවිතේ පළමු වතාවට EP336\n",
            "This row throws and error: https://www.youtube.com/channel/UCLIeH_RaUCItm8W0vATCazQ ඔබ මේවා දකින්නේ ජිවිතේ පළමු වතාවට EP335\n",
            "This row throws and error: https://www.youtube.com/channel/UCLIeH_RaUCItm8W0vATCazQ ඔබ මේවා දකින්නේ ජිවිතේ පළමු වතාවට EP334\n",
            "This row throws and error: https://www.youtube.com/channel/UCLIeH_RaUCItm8W0vATCazQ ඔබ මේවා දකින්නේ ජිවිතේ පළමු වතාවට EP333\n",
            "This row throws and error: https://www.youtube.com/channel/UCLIeH_RaUCItm8W0vATCazQ ඔබ මේවා දකින්නේ ජිවිතේ පළමු වතාවට EP332\n",
            "This row throws and error: https://www.youtube.com/channel/UCLIeH_RaUCItm8W0vATCazQ ඔබ මේවා දකින්නේ ජිවිතේ පළමු වතාවට EP331\n",
            "This row throws and error: https://www.youtube.com/channel/UCLIeH_RaUCItm8W0vATCazQ ඔබ මේවා දකින්නේ ජිවිතේ පළමු වතාවට EP330\n",
            "This row throws and error: https://www.youtube.com/channel/UCLIeH_RaUCItm8W0vATCazQ ඔබ මේවා දකින්නේ ජිවිතේ පළමු වතාවට EP329\n",
            "This row throws and error: https://www.youtube.com/channel/UCLIeH_RaUCItm8W0vATCazQ ඔබ මේවා දකින්නේ ජිවිතේ පළමු වතාවට EP328\n",
            "This row throws and error: https://www.youtube.com/channel/UCLIeH_RaUCItm8W0vATCazQ ඔබ මේවා දකින්නේ ජිවිතේ පළමු වතාවට EP327\n",
            "This row throws and error: https://www.youtube.com/channel/UCLIeH_RaUCItm8W0vATCazQ ඔබ මේවා දකින්නේ ජිවිතේ පළමු වතාවට EP326\n",
            "This row throws and error: https://www.youtube.com/channel/UCLIeH_RaUCItm8W0vATCazQ ඔබ මේවා දකින්නේ ජිවිතේ පළමු වතාවට EP325\n",
            "This row throws and error: https://www.youtube.com/channel/UCLIeH_RaUCItm8W0vATCazQ ඔබ මේවා දකින්නේ ජිවිතේ පළමු වතාවට EP324\n",
            "This row throws and error: https://www.youtube.com/channel/UCLIeH_RaUCItm8W0vATCazQ ඔබ මේවා දකින්නේ ජිවිතේ පළමු වතාවට EP323\n",
            "This row throws and error: https://www.youtube.com/channel/UCLIeH_RaUCItm8W0vATCazQ ඔබ මේවා දකින්නේ ජිවිතේ පළමු වතාවට EP322\n",
            "This row throws and error: https://www.youtube.com/channel/UCLIeH_RaUCItm8W0vATCazQ ඔබ මේවා දකින්නේ ජිවිතේ පළමු වතාවට EP321\n",
            "This row throws and error: https://www.youtube.com/channel/UCLIeH_RaUCItm8W0vATCazQ ඔබ මේවා දකින්නේ ජිවිතේ පළමු වතාවට EP320\n",
            "This row throws and error: https://www.youtube.com/channel/UCLIeH_RaUCItm8W0vATCazQ ඔබ මේවා දකින්නේ ජිවිතේ පළමු වතාවට EP319\n",
            "This row throws and error: https://www.youtube.com/channel/UCLIeH_RaUCItm8W0vATCazQ ඔබ මේවා දකින්නේ ජිවිතේ පළමු වතාවට EP318\n",
            "This row throws and error: https://www.youtube.com/channel/UCLIeH_RaUCItm8W0vATCazQ ඔබ මේවා දකින්නේ ජිවිතේ පළමු වතාවට EP317\n",
            "This row throws and error: https://www.youtube.com/channel/UCLIeH_RaUCItm8W0vATCazQ ඔබ මේවා දකින්නේ ජිවිතේ පළමු වතාවට EP316\n",
            "This row throws and error: https://www.youtube.com/channel/UCLIeH_RaUCItm8W0vATCazQ ඔබ මේවා දකින්නේ ජිවිතේ පළමු වතාවට EP315\n",
            "This row throws and error: https://www.youtube.com/channel/UCLIeH_RaUCItm8W0vATCazQ ඔබ මේවා දකින්නේ ජිවිතේ පළමු වතාවට EP314\n",
            "This row throws and error: https://www.youtube.com/channel/UCLIeH_RaUCItm8W0vATCazQ ඔබ මේවා දකින්නේ ජිවිතේ පළමු වතාවට EP313\n",
            "This row throws and error: https://www.youtube.com/channel/UCLIeH_RaUCItm8W0vATCazQ ඔබ මේවා දකින්නේ ජිවිතේ පළමු වතාවට EP312\n",
            "This row throws and error: https://www.youtube.com/channel/UCLIeH_RaUCItm8W0vATCazQ ඔබ මේවා දකින්නේ ජිවිතේ පළමු වතාවට EP311\n",
            "This row throws and error: https://www.youtube.com/channel/UCLIeH_RaUCItm8W0vATCazQ ඔබ මේවා දකින්නේ ජිවිතේ පළමු වතාවට EP310\n",
            "This row throws and error: https://www.youtube.com/channel/UCLIeH_RaUCItm8W0vATCazQ ඔබ මේවා දකින්නේ ජිවිතේ පළමු වතාවට EP309\n",
            "This row throws and error: https://www.youtube.com/channel/UCLIeH_RaUCItm8W0vATCazQ ඔබ මේවා දකින්නේ ජිවිතේ පළමු වතාවට EP308\n",
            "This row throws and error: https://www.youtube.com/channel/UCLIeH_RaUCItm8W0vATCazQ ඔබ මේවා දකින්නේ ජිවිතේ පළමු වතාවට EP307\n",
            "This row throws and error: https://www.youtube.com/channel/UCLIeH_RaUCItm8W0vATCazQ ඔබ මේවා දකින්නේ ජිවිතේ පළමු වතාවට EP306\n",
            "This row throws and error: https://www.youtube.com/channel/UCLIeH_RaUCItm8W0vATCazQ ඔබ මේවා දකින්නේ ජිවිතේ පළමු වතාවට EP305\n",
            "This row throws and error: https://www.youtube.com/channel/UCLIeH_RaUCItm8W0vATCazQ ඔබ මේවා දකින්නේ ජිවිතේ පළමු වතාවට EP304\n",
            "This row throws and error: https://www.youtube.com/channel/UCLIeH_RaUCItm8W0vATCazQ ඔබ මේවා දකින්නේ ජිවිතේ පළමු වතාවට EP303\n",
            "This row throws and error: https://www.youtube.com/channel/UCLIeH_RaUCItm8W0vATCazQ ඔබ මේවා දකින්නේ ජිවිතේ පළමු වතාවට EP302\n",
            "This row throws and error: https://www.youtube.com/channel/UCLIeH_RaUCItm8W0vATCazQ ඔබ මේවා දකින්නේ ජිවිතේ පළමු වතාවට EP301\n",
            "This row throws and error: https://www.youtube.com/channel/UCLIeH_RaUCItm8W0vATCazQ ඔබ මේවා දකින්නේ ජිවිතේ පළමු වතාවට EP300\n",
            "This row throws and error: https://www.youtube.com/channel/UCLIeH_RaUCItm8W0vATCazQ ඔබ මේවා දකින්නේ ජිවිතේ පළමු වතාවට EP299\n",
            "This row throws and error: https://www.youtube.com/channel/UCLIeH_RaUCItm8W0vATCazQ ඔබ මේවා දකින්නේ ජිවිතේ පළමු වතාවට 2023 වසරේ හොඳම ටික\n",
            "This row throws and error: https://www.youtube.com/channel/UCLIeH_RaUCItm8W0vATCazQ ඔබ මේවා දකින්නේ ජිවිතේ පළමු වතාවට EP298\n",
            "This row throws and error: https://www.youtube.com/channel/UCLIeH_RaUCItm8W0vATCazQ ඔබ මේවා දකින්නේ ජිවිතේ පළමු වතාවට EP297\n",
            "This row throws and error: https://www.youtube.com/channel/UCLIeH_RaUCItm8W0vATCazQ ඔබ මේවා දකින්නේ ජිවිතේ පළමු වතාවට EP296\n",
            "This row throws and error: https://www.youtube.com/channel/UCLIeH_RaUCItm8W0vATCazQ ඔබ මේවා දකින්නේ ජිවිතේ පළමු වතාවට EP295\n",
            "This row throws and error: https://www.youtube.com/channel/UCLIeH_RaUCItm8W0vATCazQ ඔබ මේවා දකින්නේ ජිවිතේ පළමු වතාවට EP294\n",
            "This row throws and error: https://www.youtube.com/channel/UCLIeH_RaUCItm8W0vATCazQ අදහගන්න බැරිතරම් හැකියාවල් තියන මිනිස්සු  EP05\n",
            "This row throws and error: https://www.youtube.com/channel/UCLIeH_RaUCItm8W0vATCazQ ඔබ මේවා දකින්නේ ජිවිතේ පළමු වතාවට EP293\n",
            "This row throws and error: https://www.youtube.com/channel/UCLIeH_RaUCItm8W0vATCazQ ඔබ මේවා දකින්නේ ජිවිතේ පළමු වතාවට EP292\n",
            "This row throws and error: https://www.youtube.com/channel/UCLIeH_RaUCItm8W0vATCazQ ඔබ මේවා දකින්නේ ජිවිතේ පළමු වතාවට EP291\n",
            "This row throws and error: https://www.youtube.com/channel/UCLIeH_RaUCItm8W0vATCazQ ඔබ මේවා දකින්නේ ජිවිතේ පළමු වතාවට EP290\n",
            "This row throws and error: https://www.youtube.com/channel/UCLIeH_RaUCItm8W0vATCazQ ඔබ මේවා දකින්නේ ජිවිතේ පළමු වතාවට EP289\n",
            "This row throws and error: https://www.youtube.com/channel/UCLIeH_RaUCItm8W0vATCazQ ඔබ මේවා දකින්නේ ජිවිතේ පළමු වතාවට EP288\n",
            "This row throws and error: https://www.youtube.com/channel/UCLIeH_RaUCItm8W0vATCazQ ඔබ මේවා දකින්නේ ජිවිතේ පළමු වතාවට EP287\n",
            "This row throws and error: https://www.youtube.com/channel/UCLIeH_RaUCItm8W0vATCazQ ඔබ මේවා දකින්නේ ජිවිතේ පළමු වතාවට EP286\n",
            "This row throws and error: https://www.youtube.com/channel/UCLIeH_RaUCItm8W0vATCazQ ඔබ මේවා දකින්නේ ජිවිතේ පළමු වතාවට EP285  මෙන්න බලන්න ක්‍රිකට් ලෝක කුසලානය හදන හැටි\n",
            "This row throws and error: https://www.youtube.com/channel/UCLIeH_RaUCItm8W0vATCazQ ඔබ මේවා දකින්නේ ජිවිතේ පළමු වතාවට EP284\n",
            "This row throws and error: https://www.youtube.com/channel/UCLIeH_RaUCItm8W0vATCazQ ඔබ මේවා දකින්නේ ජිවිතේ පළමු වතාවට EP283\n",
            "This row throws and error: https://www.youtube.com/channel/UCLIeH_RaUCItm8W0vATCazQ ඔබ මේවා දකින්නේ ජිවිතේ පළමු වතාවට EP282\n",
            "This row throws and error: https://www.youtube.com/channel/UCLIeH_RaUCItm8W0vATCazQ ඔබ මේවා දකින්නේ ජිවිතේ පළමු වතාවට EP281\n",
            "This row throws and error: https://www.youtube.com/channel/UCLIeH_RaUCItm8W0vATCazQ ඔබ මේවා දකින්නේ ජිවිතේ පළමු වතාවට EP280\n",
            "This row throws and error: https://www.youtube.com/channel/UCLIeH_RaUCItm8W0vATCazQ ඔබ මේවා දකින්නේ ජිවිතේ පළමු වතාවට EP279\n",
            "This row throws and error: https://www.youtube.com/channel/UCLIeH_RaUCItm8W0vATCazQ ඔබ මේවා දකින්නේ ජිවිතේ පළමු වතාවට EP278\n",
            "This row throws and error: https://www.youtube.com/channel/UCLIeH_RaUCItm8W0vATCazQ ඔබ මේවා දකින්නේ ජිවිතේ පළමු වතාවට EP277\n",
            "This row throws and error: https://www.youtube.com/channel/UCLIeH_RaUCItm8W0vATCazQ ඔබ මේවා දකින්නේ ජිවිතේ පළමු වතාවට EP276\n",
            "This row throws and error: https://www.youtube.com/channel/UCLIeH_RaUCItm8W0vATCazQ ඔබ මේවා දකින්නේ ජිවිතේ පළමු වතාවට EP275\n",
            "This row throws and error: https://www.youtube.com/channel/UCLIeH_RaUCItm8W0vATCazQ ඔබ මේවා දකින්නේ ජිවිතේ පළමු වතාවට EP274\n",
            "This row throws and error: https://www.youtube.com/channel/UCLIeH_RaUCItm8W0vATCazQ ඔබ මේවා දකින්නේ ජිවිතේ පළමු වතාවට EP273\n",
            "This row throws and error: https://www.youtube.com/channel/UCLIeH_RaUCItm8W0vATCazQ ඔබ මේවා දකින්නේ ජිවිතේ පළමු වතාවට EP272\n",
            "This row throws and error: https://www.youtube.com/channel/UCLIeH_RaUCItm8W0vATCazQ ඔබ මේවා දකින්නේ ජිවිතේ පළමු වතාවට EP271\n",
            "This row throws and error: https://www.youtube.com/channel/UCLIeH_RaUCItm8W0vATCazQ ඔබ මේවා දකින්නේ ජිවිතේ පළමු වතාවට EP270\n",
            "This row throws and error: https://www.youtube.com/channel/UCLIeH_RaUCItm8W0vATCazQ ඔබ මේවා දකින්නේ ජිවිතේ පළමු වතාවට EP269\n",
            "This row throws and error: https://www.youtube.com/channel/UCLIeH_RaUCItm8W0vATCazQ ඔබ මේවා දකින්නේ ජිවිතේ පළමු වතාවට EP268\n",
            "This row throws and error: https://www.youtube.com/channel/UCLIeH_RaUCItm8W0vATCazQ ඔබ මේවා දකින්නේ ජිවිතේ පළමු වතාවට EP267\n",
            "This row throws and error: https://www.youtube.com/channel/UCLIeH_RaUCItm8W0vATCazQ ඔබ මේවා දකින්නේ ජිවිතේ පළමු වතාවට EP266\n",
            "This row throws and error: https://www.youtube.com/channel/UCLIeH_RaUCItm8W0vATCazQ ඔබ මේවා දකින්නේ ජිවිතේ පළමු වතාවට EP265\n",
            "This row throws and error: https://www.youtube.com/channel/UCLIeH_RaUCItm8W0vATCazQ ඔබ මේවා දකින්නේ ජිවිතේ පළමු වතාවට EP264\n",
            "This row throws and error: https://www.youtube.com/channel/UCLIeH_RaUCItm8W0vATCazQ අදහගන්න බැරිතරම් හැකියාවල් තියන මිනිස්සු  EP04\n",
            "This row throws and error: https://www.youtube.com/channel/UCLIeH_RaUCItm8W0vATCazQ ඔබ මේවා දකින්නේ ජිවිතේ පළමු වතාවට EP263\n",
            "This row throws and error: https://www.youtube.com/channel/UCLIeH_RaUCItm8W0vATCazQ ඔබ මේවා දකින්නේ ජිවිතේ පළමු වතාවට EP262\n",
            "This row throws and error: https://www.youtube.com/channel/UCLIeH_RaUCItm8W0vATCazQ ඔබ මේවා දකින්නේ ජිවිතේ පළමු වතාවට EP261\n",
            "This row throws and error: https://www.youtube.com/channel/UCLIeH_RaUCItm8W0vATCazQ ඔබ මේවා දකින්නේ ජිවිතේ පළමු වතාවට EP260\n",
            "This row throws and error: https://www.youtube.com/channel/UCLIeH_RaUCItm8W0vATCazQ ඔබ මේවා දකින්නේ ජිවිතේ පළමු වතාවට EP259\n",
            "This row throws and error: https://www.youtube.com/channel/UCLIeH_RaUCItm8W0vATCazQ ඔබ මේවා දකින්නේ ජිවිතේ පළමු වතාවට EP258\n",
            "This row throws and error: https://www.youtube.com/channel/UCLIeH_RaUCItm8W0vATCazQ අදහගන්න බැරිතරම් හැකියාවල් තියන මිනිස්සු  EP03\n",
            "This row throws and error: https://www.youtube.com/channel/UCLIeH_RaUCItm8W0vATCazQ ඔබ මේවා දකින්නේ ජිවිතේ පළමු වතාවට EP257\n",
            "This row throws and error: https://www.youtube.com/channel/UCLIeH_RaUCItm8W0vATCazQ ඔබ මේවා දකින්නේ ජිවිතේ පළමු වතාවට EP256\n",
            "This row throws and error: https://www.youtube.com/channel/UCLIeH_RaUCItm8W0vATCazQ ඔබ මේවා දකින්නේ ජිවිතේ පළමු වතාවට EP255\n",
            "This row throws and error: https://www.youtube.com/channel/UCLIeH_RaUCItm8W0vATCazQ අදහගන්න බැරිතරම් හැකියාවල් තියන මිනිස්සු  EP02\n",
            "This row throws and error: https://www.youtube.com/channel/UCLIeH_RaUCItm8W0vATCazQ ඔබ මේවා දකින්නේ ජිවිතේ පළමු වතාවට EP254\n",
            "This row throws and error: https://www.youtube.com/channel/UCLIeH_RaUCItm8W0vATCazQ අදහගන්න බැරිතරම් හැකියාවල් තියන මිනිස්සු  EP01\n",
            "This row throws and error: https://www.youtube.com/channel/UCLIeH_RaUCItm8W0vATCazQ ඔබ මේවා දකින්නේ ජිවිතේ පළමු වතාවට EP253\n",
            "This row throws and error: https://www.youtube.com/channel/UCLIeH_RaUCItm8W0vATCazQ ඔබ මේවා දකින්නේ ජිවිතේ පළමු වතාවට EP252\n",
            "This row throws and error: https://www.youtube.com/channel/UCLIeH_RaUCItm8W0vATCazQ ඔබ මේවා දකින්නේ ජිවිතේ පළමු වතාවට EP251\n",
            "This row throws and error: https://www.youtube.com/channel/UCLIeH_RaUCItm8W0vATCazQ ඔබ මේවා දකින්නේ ජිවිතේ පළමු වතාවට EP250\n",
            "This row throws and error: https://www.youtube.com/channel/UCLIeH_RaUCItm8W0vATCazQ ඔබ මේවා දකින්නේ ජිවිතේ පළමු වතාවට EP249\n",
            "This row throws and error: https://www.youtube.com/channel/UCLIeH_RaUCItm8W0vATCazQ ඔබ මේවා දකින්නේ ජිවිතේ පළමු වතාවට EP248\n",
            "This row throws and error: https://www.youtube.com/channel/UCLIeH_RaUCItm8W0vATCazQ ඔබ මේවා දකින්නේ ජිවිතේ පළමු වතාවට EP247\n",
            "This row throws and error: https://www.youtube.com/channel/UCLIeH_RaUCItm8W0vATCazQ ඔබ මේවා දකින්නේ ජිවිතේ පළමු වතාවට EP246\n",
            "This row throws and error: https://www.youtube.com/channel/UCLIeH_RaUCItm8W0vATCazQ ඔබ මේවා දකින්නේ ජිවිතේ පළමු වතාවට EP245\n",
            "This row throws and error: https://www.youtube.com/channel/UCLIeH_RaUCItm8W0vATCazQ ඔබ මේවා දකින්නේ ජිවිතේ පළමු වතාවට EP244\n",
            "This row throws and error: https://www.youtube.com/channel/UCLIeH_RaUCItm8W0vATCazQ ඔබ මේවා දකින්නේ ජිවිතේ පළමු වතාවට EP243\n",
            "This row throws and error: https://www.youtube.com/channel/UCLIeH_RaUCItm8W0vATCazQ ඔබ මේවා දකින්නේ ජිවිතේ පළමු වතාවට EP242\n",
            "This row throws and error: https://www.youtube.com/channel/UCLIeH_RaUCItm8W0vATCazQ ඔබ මේවා දකින්නේ ජිවිතේ පළමු වතාවට EP241\n",
            "This row throws and error: https://www.youtube.com/channel/UCLIeH_RaUCItm8W0vATCazQ ඔබ මේවා දකින්නේ ජිවිතේ පළමු වතාවට EP240\n",
            "This row throws and error: https://www.youtube.com/channel/UCLIeH_RaUCItm8W0vATCazQ ඔබ මේවා දකින්නේ ජිවිතේ පළමු වතාවට EP239\n",
            "This row throws and error: https://www.youtube.com/channel/UCLIeH_RaUCItm8W0vATCazQ ඔබ මේවා දකින්නේ ජිවිතේ පළමු වතාවට EP238\n",
            "This row throws and error: https://www.youtube.com/channel/UCLIeH_RaUCItm8W0vATCazQ ඔබ මේවා දකින්නේ ජිවිතේ පළමු වතාවට EP237\n",
            "This row throws and error: https://www.youtube.com/channel/UCLIeH_RaUCItm8W0vATCazQ ඔබ මේවා දකින්නේ ජිවිතේ පළමු වතාවට EP236\n",
            "This row throws and error: https://www.youtube.com/channel/UCLIeH_RaUCItm8W0vATCazQ ඔබ මේවා දකින්නේ ජිවිතේ පළමු වතාවට EP235\n",
            "This row throws and error: https://www.youtube.com/channel/UCLIeH_RaUCItm8W0vATCazQ ඔබ මේවා දකින්නේ ජිවිතේ පළමු වතාවට EP234\n",
            "This row throws and error: https://www.youtube.com/channel/UCLIeH_RaUCItm8W0vATCazQ ඔබ මේවා දකින්නේ ජිවිතේ පළමු වතාවට EP233\n",
            "This row throws and error: https://www.youtube.com/channel/UCLIeH_RaUCItm8W0vATCazQ ඔබ මේවා දකින්නේ ජිවිතේ පළමු වතාවට EP232\n",
            "This row throws and error: https://www.youtube.com/channel/UCLIeH_RaUCItm8W0vATCazQ ඔබ මේවා දකින්නේ ජිවිතේ පළමු වතාවට EP231\n",
            "This row throws and error: https://www.youtube.com/channel/UCLIeH_RaUCItm8W0vATCazQ ඔබ මේවා දකින්නේ ජිවිතේ පළමු වතාවට EP230\n",
            "This row throws and error: https://www.youtube.com/channel/UCLIeH_RaUCItm8W0vATCazQ ඔබ මේවා දකින්නේ ජිවිතේ පළමු වතාවට EP229\n",
            "This row throws and error: https://www.youtube.com/channel/UCLIeH_RaUCItm8W0vATCazQ ඔබ මේවා දකින්නේ ජිවිතේ පළමු වතාවට EP228\n",
            "This row throws and error: https://www.youtube.com/channel/UCLIeH_RaUCItm8W0vATCazQ ඔබ මේවා දකින්නේ ජිවිතේ පළමු වතාවට EP227\n",
            "This row throws and error: https://www.youtube.com/channel/UCLIeH_RaUCItm8W0vATCazQ ඔබ මේවා දකින්නේ ජිවිතේ පළමු වතාවට EP226\n",
            "This row throws and error: https://www.youtube.com/channel/UCLIeH_RaUCItm8W0vATCazQ ඔබ මේවා දකින්නේ ජිවිතේ පළමු වතාවට EP225\n",
            "This row throws and error: https://www.youtube.com/channel/UCLIeH_RaUCItm8W0vATCazQ ඔබ මේවා දකින්නේ ජිවිතේ පළමු වතාවට EP224\n",
            "This row throws and error: https://www.youtube.com/channel/UCLIeH_RaUCItm8W0vATCazQ ඔබ මේවා දකින්නේ ජිවිතේ පළමු වතාවට EP223\n",
            "This row throws and error: https://www.youtube.com/channel/UCLIeH_RaUCItm8W0vATCazQ ඔබ මේවා දකින්නේ ජිවිතේ පළමු වතාවට EP222\n",
            "This row throws and error: https://www.youtube.com/channel/UCLIeH_RaUCItm8W0vATCazQ ඔබ මේවා දකින්නේ ජිවිතේ පළමු වතාවට EP221\n",
            "This row throws and error: https://www.youtube.com/channel/UCLIeH_RaUCItm8W0vATCazQ ඔබ මේවා දකින්නේ ජිවිතේ පළමු වතාවට EP220\n",
            "This row throws and error: https://www.youtube.com/channel/UCLIeH_RaUCItm8W0vATCazQ ඔබ මේවා දකින්නේ ජිවිතේ පළමු වතාවට EP219  මුතුරාජා වෙනුවට එවපු කුරුල්ලගෙ හපන්කම් මෙන්න\n",
            "This row throws and error: https://www.youtube.com/channel/UCLIeH_RaUCItm8W0vATCazQ ඔබ මේවා දකින්නේ ජිවිතේ පළමු වතාවට EP218\n",
            "This row throws and error: https://www.youtube.com/channel/UCLIeH_RaUCItm8W0vATCazQ ඔබ මේවා දකින්නේ ජිවිතේ පළමු වතාවට EP217\n",
            "This row throws and error: https://www.youtube.com/channel/UCLIeH_RaUCItm8W0vATCazQ ඔබ මේවා දකින්නේ ජිවිතේ පළමු වතාවට EP216\n",
            "This row throws and error: https://www.youtube.com/channel/UCLIeH_RaUCItm8W0vATCazQ ඔබ මේවා දකින්නේ ජිවිතේ පළමු වතාවට EP215\n",
            "This row throws and error: https://www.youtube.com/channel/UCLIeH_RaUCItm8W0vATCazQ ඔබ මේවා දකින්නේ ජිවිතේ පළමු වතාවට EP214  ටයියන් සබ්මැරීනයක්  නෙවෙයිලු ..\n",
            "This row throws and error: https://www.youtube.com/channel/UCLIeH_RaUCItm8W0vATCazQ ඔබ මේවා දකින්නේ ජිවිතේ පළමු වතාවට EP213  ටයිටැනික් චිත්‍රපටය හැදුනු හැටි\n",
            "This row throws and error: https://www.youtube.com/channel/UCLIeH_RaUCItm8W0vATCazQ ඔබ මේවා දකින්නේ ජිවිතේ පළමු වතාවට EP212  ටයිටන් සබ්මැරීනය නිසා ඔන්න  අපි 1\n",
            "This row throws and error: https://www.youtube.com/channel/UCLIeH_RaUCItm8W0vATCazQ ඔබ මේවා දකින්නේ ජිවිතේ පළමු වතාවට EP211\n",
            "This row throws and error: https://www.youtube.com/channel/UCLIeH_RaUCItm8W0vATCazQ ඔබ මේවා දකින්නේ ජිවිතේ පළමු වතාවට EP210\n",
            "This row throws and error: https://www.youtube.com/channel/UCLIeH_RaUCItm8W0vATCazQ ඔබ මේවා දකින්නේ ජිවිතේ පළමු වතාවට EP209\n",
            "This row throws and error: https://www.youtube.com/channel/UCLIeH_RaUCItm8W0vATCazQ ඔබ මේවා දකින්නේ ජිවිතේ පළමු වතාවට EP208\n",
            "This row throws and error: https://www.youtube.com/channel/UCLIeH_RaUCItm8W0vATCazQ ඔබ මේවා දකින්නේ ජිවිතේ පළමු වතාවට EP207\n",
            "This row throws and error: https://www.youtube.com/channel/UCLIeH_RaUCItm8W0vATCazQ ඔබ මේවා දකින්නේ ජිවිතේ පළමු වතාවට EP206\n",
            "This row throws and error: https://www.youtube.com/channel/UCLIeH_RaUCItm8W0vATCazQ ඔබ මේවා දකින්නේ ජිවිතේ පළමු වතාවට EP205\n",
            "This row throws and error: https://www.youtube.com/channel/UCLIeH_RaUCItm8W0vATCazQ ඔබ මේවා දකින්නේ ජිවිතේ පළමු වතාවට EP204\n",
            "This row throws and error: https://www.youtube.com/channel/UCLIeH_RaUCItm8W0vATCazQ ඔබ මේවා දකින්නේ ජිවිතේ පළමු වතාවට EP203\n",
            "This row throws and error: https://www.youtube.com/channel/UCLIeH_RaUCItm8W0vATCazQ ඔබ මේවා දකින්නේ ජිවිතේ පළමු වතාවට EP202\n",
            "This row throws and error: https://www.youtube.com/channel/UCLIeH_RaUCItm8W0vATCazQ ඔබ මේවා දකින්නේ ජිවිතේ පළමු වතාවට EP201\n",
            "This row throws and error: https://www.youtube.com/channel/UCLIeH_RaUCItm8W0vATCazQ ඔබ මේවා දකින්නේ ජිවිතේ පළමු වතාවට EP200\n",
            "This row throws and error: https://www.youtube.com/channel/UCLIeH_RaUCItm8W0vATCazQ ඔබ මේවා දකින්නේ ජිවිතේ පළමු වතාවට EP199\n",
            "This row throws and error: https://www.youtube.com/channel/UCLIeH_RaUCItm8W0vATCazQ ඔබ මේවා දකින්නේ ජිවිතේ පළමු වතාවට EP198\n",
            "This row throws and error: https://www.youtube.com/channel/UCLIeH_RaUCItm8W0vATCazQ ඔබ මේවා දකින්නේ ජිවිතේ පළමු වතාවට EP197\n",
            "This row throws and error: https://www.youtube.com/channel/UCLIeH_RaUCItm8W0vATCazQ ඔබ මේවා දකින්නේ ජිවිතේ පළමු වතාවට EP196\n",
            "This row throws and error: https://www.youtube.com/channel/UCLIeH_RaUCItm8W0vATCazQ ඔබ මේවා දකින්නේ ජිවිතේ පළමු වතාවට EP195\n",
            "This row throws and error: https://www.youtube.com/channel/UCLIeH_RaUCItm8W0vATCazQ ඔබ මේවා දකින්නේ ජිවිතේ පළමු වතාවට EP194\n",
            "This row throws and error: https://www.youtube.com/channel/UCLIeH_RaUCItm8W0vATCazQ ඔබ මේවා දකින්නේ ජිවිතේ පළමු වතාවට EP193\n",
            "This row throws and error: https://www.youtube.com/channel/UCLIeH_RaUCItm8W0vATCazQ ඔබ මේවා දකින්නේ ජිවිතේ පළමු වතාවට EP192\n",
            "This row throws and error: https://www.youtube.com/channel/UCLIeH_RaUCItm8W0vATCazQ ඔබ මේවා දකින්නේ ජිවිතේ පළමු වතාවට EP191\n",
            "This row throws and error: https://www.youtube.com/channel/UCLIeH_RaUCItm8W0vATCazQ ඔබ මේවා දකින්නේ ජිවිතේ පළමු වතාවට EP190\n",
            "This row throws and error: https://www.youtube.com/channel/UCLIeH_RaUCItm8W0vATCazQ ඔබ මේවා දකින්නේ ජිවිතේ පළමු වතාවට EP189\n",
            "This row throws and error: https://www.youtube.com/channel/UCLIeH_RaUCItm8W0vATCazQ ඔබ මේවා දකින්නේ ජිවිතේ පළමු වතාවට EP188\n",
            "This row throws and error: https://www.youtube.com/channel/UCLIeH_RaUCItm8W0vATCazQ ඔබ මේවා දකින්නේ ජිවිතේ පළමු වතාවට EP187\n",
            "This row throws and error: https://www.youtube.com/channel/UCLIeH_RaUCItm8W0vATCazQ ඔබ මේවා දකින්නේ ජිවිතේ පළමු වතාවට EP186\n",
            "This row throws and error: https://www.youtube.com/channel/UCLIeH_RaUCItm8W0vATCazQ ඔබ මේවා දකින්නේ ජිවිතේ පළමු වතාවට EP185\n",
            "This row throws and error: https://www.youtube.com/channel/UCLIeH_RaUCItm8W0vATCazQ ඔබ මේවා දකින්නේ ජිවිතේ පළමු වතාවට EP184\n",
            "This row throws and error: https://www.youtube.com/channel/UCLIeH_RaUCItm8W0vATCazQ ඔබ මේවා දකින්නේ ජිවිතේ පළමු වතාවට EP183\n",
            "This row throws and error: https://www.youtube.com/channel/UCLIeH_RaUCItm8W0vATCazQ Mr.පුදුමයට අවුරුද්දයි.මෙන්න ඔයාලට අත පිරෙන්න තෑගී !!!\n",
            "This row throws and error: https://www.youtube.com/channel/UCLIeH_RaUCItm8W0vATCazQ ඔබ මේවා දකින්නේ ජිවිතේ පළමු වතාවට EP182\n",
            "This row throws and error: https://www.youtube.com/channel/UCLIeH_RaUCItm8W0vATCazQ ඔබ මේවා දකින්නේ ජිවිතේ පළමු වතාවට EP181\n",
            "This row throws and error: https://www.youtube.com/channel/UCLIeH_RaUCItm8W0vATCazQ ඔබ මේවා දකින්නේ ජිවිතේ පළමු වතාවට EP180\n",
            "This row throws and error: https://www.youtube.com/channel/UCLIeH_RaUCItm8W0vATCazQ ඔබ මේවා දකින්නේ ජිවිතේ පළමු වතාවට EP179\n",
            "This row throws and error: https://www.youtube.com/channel/UCLIeH_RaUCItm8W0vATCazQ ඔබ මේවා දකින්නේ ජිවිතේ පළමු වතාවට EP178\n",
            "This row throws and error: https://www.youtube.com/channel/UCLIeH_RaUCItm8W0vATCazQ ඔබ මේවා දකින්නේ ජිවිතේ පළමු වතාවට EP177\n",
            "This row throws and error: https://www.youtube.com/channel/UCLIeH_RaUCItm8W0vATCazQ ඔබ මේවා දකින්නේ ජිවිතේ පළමු වතාවට EP176\n",
            "This row throws and error: https://www.youtube.com/channel/UCLIeH_RaUCItm8W0vATCazQ ඔබ මේවා දකින්නේ ජිවිතේ පළමු වතාවට EP175\n",
            "This row throws and error: https://www.youtube.com/channel/UCLIeH_RaUCItm8W0vATCazQ රු. 13000= ක අවුරුදු තෑගී දිනපු අය මෙන්න !!\n",
            "This row throws and error: https://www.youtube.com/channel/UCLIeH_RaUCItm8W0vATCazQ ඔබ මේවා දකින්නේ ජිවිතේ පළමු වතාවට EP174\n",
            "This row throws and error: https://www.youtube.com/channel/UCLIeH_RaUCItm8W0vATCazQ ඔබ මේවා දකින්නේ ජිවිතේ පළමු වතාවට EP173\n",
            "This row throws and error: https://www.youtube.com/channel/UCLIeH_RaUCItm8W0vATCazQ ඔබ මේවා දකින්නේ ජිවිතේ පළමු වතාවට EP172\n",
            "This row throws and error: https://www.youtube.com/channel/UCLIeH_RaUCItm8W0vATCazQ ඔබ මේවා දකින්නේ ජිවිතේ පළමු වතාවට EP171\n",
            "This row throws and error: https://www.youtube.com/channel/UCLIeH_RaUCItm8W0vATCazQ ඔබ මේවා දකින්නේ ජිවිතේ පළමු වතාවට EP170\n",
            "This row throws and error: https://www.youtube.com/channel/UCLIeH_RaUCItm8W0vATCazQ ඔබ මේවා දකින්නේ ජිවිතේ පළමු වතාවට EP169\n",
            "This row throws and error: https://www.youtube.com/channel/UCLIeH_RaUCItm8W0vATCazQ ඔබ මේවා දකින්නේ ජිවිතේ පළමු වතාවට EP168\n",
            "This row throws and error: https://www.youtube.com/channel/UCLIeH_RaUCItm8W0vATCazQ ඔබ මේවා දකින්නේ ජිවිතේ පළමු වතාවට EP167\n",
            "This row throws and error: https://www.youtube.com/channel/UCLIeH_RaUCItm8W0vATCazQ ඔබ මේවා දකින්නේ ජිවිතේ පළමු වතාවට EP166\n",
            "This row throws and error: https://www.youtube.com/channel/UCLIeH_RaUCItm8W0vATCazQ ඔබ මේවා දකින්නේ ජිවිතේ පළමු වතාවට EP165\n",
            "This row throws and error: https://www.youtube.com/channel/UCLIeH_RaUCItm8W0vATCazQ මෙන්න මගෙන් ඔයාලට අවුරුදු !!!\n",
            "This row throws and error: https://www.youtube.com/channel/UCLIeH_RaUCItm8W0vATCazQ ඔබ මේවා දකින්නේ ජිවිතේ පළමු වතාවට EP164\n",
            "This row throws and error: https://www.youtube.com/channel/UCLIeH_RaUCItm8W0vATCazQ ඔබ මේවා දකින්නේ ජිවිතේ පළමු වතාවට EP163\n",
            "This row throws and error: https://www.youtube.com/channel/UCLIeH_RaUCItm8W0vATCazQ ඔබ මේවා දකින්නේ ජිවිතේ පළමු වතාවට EP162\n",
            "This row throws and error: https://www.youtube.com/channel/UCLIeH_RaUCItm8W0vATCazQ ඔබ මේවා දකින්නේ ජිවිතේ පළමු වතාවට EP161\n",
            "This row throws and error: https://www.youtube.com/channel/UCLIeH_RaUCItm8W0vATCazQ ඔබ මේවා දකින්නේ ජිවිතේ පළමු වතාවට EP160\n",
            "This row throws and error: https://www.youtube.com/channel/UCLIeH_RaUCItm8W0vATCazQ ඔබ මේවා දකින්නේ ජිවිතේ පළමු වතාවට EP159\n",
            "This row throws and error: https://www.youtube.com/channel/UCLIeH_RaUCItm8W0vATCazQ ඔබ මේවා දකින්නේ ජිවිතේ පළමු වතාවට EP158\n",
            "This row throws and error: https://www.youtube.com/channel/UCLIeH_RaUCItm8W0vATCazQ ඔබ මේවා දකින්නේ ජිවිතේ පළමු වතාවට EP157\n",
            "This row throws and error: https://www.youtube.com/channel/UCLIeH_RaUCItm8W0vATCazQ ඔබ මේවා දකින්නේ ජිවිතේ පළමු වතාවට EP156\n",
            "This row throws and error: https://www.youtube.com/channel/UCLIeH_RaUCItm8W0vATCazQ ඔබ මේවා දකින්නේ ජිවිතේ පළමු වතාවට EP155\n",
            "This row throws and error: https://www.youtube.com/channel/UCLIeH_RaUCItm8W0vATCazQ ඔබ මේවා දකින්නේ ජිවිතේ පළමු වතාවට EP154\n",
            "This row throws and error: https://www.youtube.com/channel/UCLIeH_RaUCItm8W0vATCazQ ඔබ මේවා දකින්නේ ජිවිතේ පළමු වතාවට EP153\n",
            "This row throws and error: https://www.youtube.com/channel/UCLIeH_RaUCItm8W0vATCazQ ඔබ මේවා දකින්නේ ජිවිතේ පළමු වතාවට EP152\n",
            "This row throws and error: https://www.youtube.com/channel/UCLIeH_RaUCItm8W0vATCazQ ඔබ මේවා දකින්නේ ජිවිතේ පළමු වතාවට EP151\n",
            "This row throws and error: https://www.youtube.com/channel/UCLIeH_RaUCItm8W0vATCazQ ඔබ මේවා දකින්නේ ජිවිතේ පළමු වතාවට EP150\n",
            "This row throws and error: https://www.youtube.com/channel/UCLIeH_RaUCItm8W0vATCazQ ඔබ මේවා දකින්නේ ජිවිතේ පළමු වතාවට EP149\n",
            "This row throws and error: https://www.youtube.com/channel/UCLIeH_RaUCItm8W0vATCazQ ඔබ මේවා දකින්නේ ජිවිතේ පළමු වතාවට EP148\n",
            "This row throws and error: https://www.youtube.com/channel/UCLIeH_RaUCItm8W0vATCazQ ඔබ මේවා දකින්නේ ජිවිතේ පළමු වතාවට EP147\n",
            "This row throws and error: https://www.youtube.com/channel/UCLIeH_RaUCItm8W0vATCazQ ඔබ මේවා දකින්නේ ජිවිතේ පළමු වතාවට EP146\n",
            "This row throws and error: https://www.youtube.com/channel/UCLIeH_RaUCItm8W0vATCazQ ඔබ මේවා දකින්නේ ජිවිතේ පළමු වතාවට EP145\n",
            "This row throws and error: https://www.youtube.com/channel/UCLIeH_RaUCItm8W0vATCazQ ඔබ මේවා දකින්නේ ජිවිතේ පළමු වතාවට EP144\n",
            "This row throws and error: https://www.youtube.com/channel/UCLIeH_RaUCItm8W0vATCazQ ඔබ මේවා දකින්නේ ජිවිතේ පළමු වතාවට EP143\n",
            "This row throws and error: https://www.youtube.com/channel/UCLIeH_RaUCItm8W0vATCazQ Mr.පුදුමයාගෙන් හැමෝම කල ඉල්ලීම ඵලදරයි !!\n",
            "This row throws and error: https://www.youtube.com/channel/UCLIeH_RaUCItm8W0vATCazQ ඔබ මේවා දකින්නේ ජිවිතේ පළමු වතාවට EP142\n",
            "This row throws and error: https://www.youtube.com/channel/UCLIeH_RaUCItm8W0vATCazQ ඔබ මේවා දකින්නේ ජිවිතේ පළමු වතාවට EP141\n",
            "This row throws and error: https://www.youtube.com/channel/UCLIeH_RaUCItm8W0vATCazQ ඔබ මේවා දකින්නේ ජිවිතේ පළමු වතාවට EP140\n",
            "This row throws and error: https://www.youtube.com/channel/UCLIeH_RaUCItm8W0vATCazQ ඔබ මේවා දකින්නේ ජිවිතේ පළමු වතාවට EP139\n",
            "This row throws and error: https://www.youtube.com/channel/UCLIeH_RaUCItm8W0vATCazQ ඔබ මේවා දකින්නේ ජිවිතේ පළමු වතාවට EP138\n",
            "This row throws and error: https://www.youtube.com/channel/UCLIeH_RaUCItm8W0vATCazQ ඔබ මේවා දකින්නේ ජිවිතේ පළමු වතාවට EP137\n",
            "This row throws and error: https://www.youtube.com/channel/UCLIeH_RaUCItm8W0vATCazQ ඔබ මේවා දකින්නේ ජිවිතේ පළමු වතාවට EP136\n",
            "This row throws and error: https://www.youtube.com/channel/UCLIeH_RaUCItm8W0vATCazQ ඔබ මේවා දකින්නේ ජිවිතේ පළමු වතාවට EP135\n",
            "This row throws and error: https://www.youtube.com/channel/UCLIeH_RaUCItm8W0vATCazQ ඔබ මේවා දකින්නේ ජිවිතේ පළමු වතාවට EP134\n",
            "This row throws and error: https://www.youtube.com/channel/UCLIeH_RaUCItm8W0vATCazQ ඔබ මේවා දකින්නේ ජිවිතේ පළමු වතාවට EP133\n",
            "This row throws and error: https://www.youtube.com/channel/UCLIeH_RaUCItm8W0vATCazQ ඔබ මේවා දකින්නේ ජිවිතේ පළමු වතාවට EP132\n",
            "This row throws and error: https://www.youtube.com/channel/UCLIeH_RaUCItm8W0vATCazQ ඔබ මේවා දකින්නේ ජිවිතේ පළමු වතාවට EP131\n",
            "This row throws and error: https://www.youtube.com/channel/UCLIeH_RaUCItm8W0vATCazQ ඔබ මේවා දකින්නේ ජිවිතේ පළමු වතාවට EP130\n",
            "This row throws and error: https://www.youtube.com/channel/UCLIeH_RaUCItm8W0vATCazQ ඔබ මේවා දකින්නේ ජිවිතේ පළමු වතාවට EP129\n",
            "This row throws and error: https://www.youtube.com/channel/UCLIeH_RaUCItm8W0vATCazQ ඔබ මේවා දකින්නේ ජිවිතේ පළමු වතාවට EP128\n",
            "This row throws and error: https://www.youtube.com/channel/UCLIeH_RaUCItm8W0vATCazQ ඔබ මේවා දකින්නේ ජිවිතේ පළමු වතාවට EP127\n",
            "This row throws and error: https://www.youtube.com/channel/UCLIeH_RaUCItm8W0vATCazQ ඔබ මේවා දකින්නේ ජිවිතේ පළමු වතාවට EP126\n",
            "This row throws and error: https://www.youtube.com/channel/UCLIeH_RaUCItm8W0vATCazQ ඔබ මේවා දකින්නේ ජිවිතේ පළමු වතාවට EP125\n",
            "This row throws and error: https://www.youtube.com/channel/UCLIeH_RaUCItm8W0vATCazQ ඔබ මේවා දකින්නේ ජිවිතේ පළමු වතාවට EP124\n",
            "This row throws and error: https://www.youtube.com/channel/UCLIeH_RaUCItm8W0vATCazQ ඔබ මේවා දකින්නේ ජිවිතේ පළමු වතාවට EP123\n",
            "This row throws and error: https://www.youtube.com/channel/UCLIeH_RaUCItm8W0vATCazQ ඔබ මේවා දකින්නේ ජිවිතේ පළමු වතාවට EP122\n",
            "This row throws and error: https://www.youtube.com/channel/UCLIeH_RaUCItm8W0vATCazQ ඔබ මේවා දකින්නේ ජිවිතේ පළමු වතාවට EP121\n",
            "This row throws and error: https://www.youtube.com/channel/UCLIeH_RaUCItm8W0vATCazQ ඔබ මේවා දකින්නේ ජිවිතේ පළමු වතාවට EP120\n",
            "This row throws and error: https://www.youtube.com/channel/UCLIeH_RaUCItm8W0vATCazQ ඔබ මේවා දකින්නේ ජිවිතේ පළමු වතාවට EP119\n",
            "This row throws and error: https://www.youtube.com/channel/UCLIeH_RaUCItm8W0vATCazQ ඔබ මේවා දකින්නේ ජිවිතේ පළමු වතාවට EP118\n",
            "This row throws and error: https://www.youtube.com/channel/UCLIeH_RaUCItm8W0vATCazQ ඔබ මේවා දකින්නේ ජිවිතේ පළමු වතාවට EP117\n",
            "This row throws and error: https://www.youtube.com/channel/UCLIeH_RaUCItm8W0vATCazQ ඔබ මේවා දකින්නේ ජිවිතේ පළමු වතාවට EP116\n",
            "This row throws and error: https://www.youtube.com/channel/UCLIeH_RaUCItm8W0vATCazQ ඔබ මේවා දකින්නේ ජිවිතේ පළමු වතාවට EP115\n",
            "This row throws and error: https://www.youtube.com/channel/UCLIeH_RaUCItm8W0vATCazQ ඔබ මේවා දකින්නේ ජිවිතේ පළමු වතාවට EP114\n",
            "This row throws and error: https://www.youtube.com/channel/UCLIeH_RaUCItm8W0vATCazQ ඔබ මේවා දකින්නේ ජිවිතේ පළමු වතාවට EP113\n",
            "This row throws and error: https://www.youtube.com/channel/UCLIeH_RaUCItm8W0vATCazQ ඔබ මේවා දකින්නේ ජිවිතේ පළමු වතාවට EP112\n",
            "This row throws and error: https://www.youtube.com/channel/UCLIeH_RaUCItm8W0vATCazQ ඔබ මේවා දකින්නේ ජිවිතේ පළමු වතාවට EP111\n",
            "This row throws and error: https://www.youtube.com/channel/UCLIeH_RaUCItm8W0vATCazQ ඔබ මේවා දකින්නේ ජිවිතේ පළමු වතාවට EP110\n",
            "This row throws and error: https://www.youtube.com/channel/UCLIeH_RaUCItm8W0vATCazQ ඔබ මේවා දකින්නේ ජිවිතේ පළමු වතාවට EP109\n",
            "This row throws and error: https://www.youtube.com/channel/UCLIeH_RaUCItm8W0vATCazQ ඔබ මේවා දකින්නේ ජිවිතේ පළමු වතාවට EP108\n",
            "This row throws and error: https://www.youtube.com/channel/UCLIeH_RaUCItm8W0vATCazQ ඔබ මේවා දකින්නේ ජිවිතේ පළමු වතාවට EP107\n",
            "This row throws and error: https://www.youtube.com/channel/UCLIeH_RaUCItm8W0vATCazQ ඔබ මේවා දකින්නේ ජිවිතේ පළමු වතාවට EP106\n",
            "This row throws and error: https://www.youtube.com/channel/UCLIeH_RaUCItm8W0vATCazQ ඔබ මේවා දකින්නේ ජිවිතේ පළමු වතාවට EP105\n",
            "This row throws and error: https://www.youtube.com/channel/UCLIeH_RaUCItm8W0vATCazQ ඔබ මේවා දකින්නේ ජිවිතේ පළමු වතාවට EP104\n",
            "This row throws and error: https://www.youtube.com/channel/UCLIeH_RaUCItm8W0vATCazQ ඔබ මේවා දකින්නේ ජිවිතේ පළමු වතාවට EP103\n",
            "This row throws and error: https://www.youtube.com/channel/UCLIeH_RaUCItm8W0vATCazQ ඔබ මේවා දකින්නේ ජිවිතේ පළමු වතාවට EP102\n",
            "This row throws and error: https://www.youtube.com/channel/UCLIeH_RaUCItm8W0vATCazQ ඔබ මේවා දකින්නේ ජිවිතේ පළමු වතාවට EP101\n",
            "This row throws and error: https://www.youtube.com/channel/UCLIeH_RaUCItm8W0vATCazQ ඔබ මේවා දකින්නේ ජිවිතේ පළමු වතාවට EP100\n",
            "This row throws and error: https://www.youtube.com/channel/UCLIeH_RaUCItm8W0vATCazQ ඔබ මේවා දකින්නේ ජිවිතේ පළමු වතාවට EP99\n",
            "This row throws and error: https://www.youtube.com/channel/UCLIeH_RaUCItm8W0vATCazQ ඔබ මේවා දකින්නේ ජිවිතේ පළමු වතාවට EP98\n",
            "This row throws and error: https://www.youtube.com/channel/UCLIeH_RaUCItm8W0vATCazQ ඔබ මේවා දකින්නේ ජිවිතේ පළමු වතාවට EP97\n",
            "This row throws and error: https://www.youtube.com/channel/UCLIeH_RaUCItm8W0vATCazQ ඔබ මේවා දකින්නේ ජිවිතේ පළමු වතාවට EP96\n",
            "This row throws and error: https://www.youtube.com/channel/UCLIeH_RaUCItm8W0vATCazQ ඔබ මේවා දකින්නේ ජිවිතේ පළමු වතාවට EP95\n",
            "This row throws and error: https://www.youtube.com/channel/UCLIeH_RaUCItm8W0vATCazQ ඔබ මේවා දකින්නේ ජිවිතේ පළමු වතාවට EP94\n",
            "This row throws and error: https://www.youtube.com/channel/UCLIeH_RaUCItm8W0vATCazQ 2022 වසරේ Mr.පුදුමයාගේ හොඳම ටික EP03\n",
            "This row throws and error: https://www.youtube.com/channel/UCLIeH_RaUCItm8W0vATCazQ ඔබ මේවා දකින්නේ ජිවිතේ පළමු වතාවට EP93\n",
            "This row throws and error: https://www.youtube.com/channel/UCLIeH_RaUCItm8W0vATCazQ 2022 වසරේ Mr.පුදුමයාගේ හොඳම ටික EP02\n",
            "This row throws and error: https://www.youtube.com/channel/UCLIeH_RaUCItm8W0vATCazQ ඔබ මේවා දකින්නේ ජිවිතේ පළමු වතාවට EP92\n",
            "This row throws and error: https://www.youtube.com/channel/UCLIeH_RaUCItm8W0vATCazQ Mr.පුදුමයාගේ හොඳම short වීඩියෝ ටිකක් එක පෙලට EP12\n",
            "This row throws and error: https://www.youtube.com/channel/UCLIeH_RaUCItm8W0vATCazQ Mr.පුදුමයා දරුවන්ට කරපු කතාව\n",
            "This row throws and error: https://www.youtube.com/channel/UCLIeH_RaUCItm8W0vATCazQ 2022 වසරේ Mr.පුදුමයාගේ හොඳම ටික EP01\n",
            "This row throws and error: https://www.youtube.com/channel/UCLIeH_RaUCItm8W0vATCazQ ඔබ මේවා දකින්නේ ජිවිතේ පළමු වතාවට EP91\n",
            "This row throws and error: https://www.youtube.com/channel/UCLIeH_RaUCItm8W0vATCazQ හොරෙන්ම නත්තල් සීයෙක් වුනු Mr.පුදුමයා\n",
            "This row throws and error: https://www.youtube.com/channel/UCLIeH_RaUCItm8W0vATCazQ Mr.පුදුමයාගේ හොඳම short වීඩියෝ ටිකක් එක පෙලට EP11\n",
            "This row throws and error: https://www.youtube.com/channel/UCLIeH_RaUCItm8W0vATCazQ Mr.පුදුමයාගේ හොඳම short වීඩියෝ ටිකක් එක පෙලට EP10\n",
            "This row throws and error: https://www.youtube.com/channel/UCLIeH_RaUCItm8W0vATCazQ ඔබ මේවා දකින්නේ ජිවිතේ පළමු වතාවට EP90\n",
            "This row throws and error: https://www.youtube.com/channel/UCLIeH_RaUCItm8W0vATCazQ Mr.පුදුමයාගේ හොඳම short වීඩියෝ ටිකක් එක පෙලට EP09\n",
            "This row throws and error: https://www.youtube.com/channel/UCLIeH_RaUCItm8W0vATCazQ ඔබ මේවා දකින්නේ ජිවිතේ පළමු වතාවට EP89\n",
            "This row throws and error: https://www.youtube.com/channel/UCLIeH_RaUCItm8W0vATCazQ Mr.පුදුමයාගේ හොඳම short වීඩියෝ ටිකක් එක පෙලට EP08\n",
            "This row throws and error: https://www.youtube.com/channel/UCLIeH_RaUCItm8W0vATCazQ ඔබ මේවා දකින්නේ ජිවිතේ පළමු වතාවට EP88\n",
            "This row throws and error: https://www.youtube.com/channel/UCLIeH_RaUCItm8W0vATCazQ ඔබ මේවා දකින්නේ ජිවිතේ පළමු වතාවට EP87\n",
            "This row throws and error: https://www.youtube.com/channel/UCLIeH_RaUCItm8W0vATCazQ ඔබ මේවා දකින්නේ ජිවිතේ පළමු වතාවට EP86\n",
            "This row throws and error: https://www.youtube.com/channel/UCLIeH_RaUCItm8W0vATCazQ ඔබ මේවා දකින්නේ ජිවිතේ පළමු වතාවට EP85\n",
            "This row throws and error: https://www.youtube.com/channel/UCLIeH_RaUCItm8W0vATCazQ Mr.පුදුමයාගේ හොඳම short වීඩියෝ ටිකක් එක පෙලට EP07\n",
            "This row throws and error: https://www.youtube.com/channel/UCLIeH_RaUCItm8W0vATCazQ ඔබ මේවා දකින්නේ ජිවිතේ පළමු වතාවට EP84\n",
            "This row throws and error: https://www.youtube.com/channel/UCLIeH_RaUCItm8W0vATCazQ Mr.පුදුමයාගේ හොඳම short වීඩියෝ ටිකක් එක පෙලට EP06\n",
            "This row throws and error: https://www.youtube.com/channel/UCLIeH_RaUCItm8W0vATCazQ ඔබ මේවා දකින්නේ ජිවිතේ පළමු වතාවට EP83\n",
            "This row throws and error: https://www.youtube.com/channel/UCLIeH_RaUCItm8W0vATCazQ Mr.පුදුමයට වශී උන ජපන් යුවතිය ..\n",
            "This row throws and error: https://www.youtube.com/channel/UCLIeH_RaUCItm8W0vATCazQ Mr.පුදුමයාගේ හොඳම short වීඩියෝ ටිකක් එක පෙලට EP05\n",
            "This row throws and error: https://www.youtube.com/channel/UCLIeH_RaUCItm8W0vATCazQ ඔබ මේවා දකින්නේ ජිවිතේ පළමු වතාවට EP82\n",
            "This row throws and error: https://www.youtube.com/channel/UCLIeH_RaUCItm8W0vATCazQ ඔබ මේවා දකින්නේ ජිවිතේ පළමු වතාවට EP81\n",
            "This row throws and error: https://www.youtube.com/channel/UCLIeH_RaUCItm8W0vATCazQ ඔබ මේවා දකින්නේ ජිවිතේ පළමු වතාවට EP80\n",
            "This row throws and error: https://www.youtube.com/channel/UCLIeH_RaUCItm8W0vATCazQ Mr.පුදුමයාගේ හොඳම short වීඩියෝ ටිකක් එක පෙලට EP04\n",
            "This row throws and error: https://www.youtube.com/channel/UCLIeH_RaUCItm8W0vATCazQ ඔබ මේවා දකින්නේ ජිවිතේ පළමු වතාවට EP79\n",
            "This row throws and error: https://www.youtube.com/channel/UCLIeH_RaUCItm8W0vATCazQ ඔබ මේවා දකින්නේ ජිවිතේ පළමු වතාවට EP78\n",
            "This row throws and error: https://www.youtube.com/channel/UCLIeH_RaUCItm8W0vATCazQ Mr.පුදුමයාගේ හොඳම short වීඩියෝ ටිකක් එක පෙලට EP03\n",
            "This row throws and error: https://www.youtube.com/channel/UCLIeH_RaUCItm8W0vATCazQ ඔබ මේවා දකින්නේ ජිවිතේ පළමු වතාවට EP77\n",
            "This row throws and error: https://www.youtube.com/channel/UCLIeH_RaUCItm8W0vATCazQ ඔබ මේවා දකින්නේ ජිවිතේ පළමු වතාවට EP76\n",
            "This row throws and error: https://www.youtube.com/channel/UCLIeH_RaUCItm8W0vATCazQ Mr.පුදුමයාගේ හොඳම short වීඩියෝ ටිකක් එක පෙලට EP02\n",
            "This row throws and error: https://www.youtube.com/channel/UCLIeH_RaUCItm8W0vATCazQ ඔබ මේවා දකින්නේ ජිවිතේ පළමු වතාවට EP75\n",
            "This row throws and error: https://www.youtube.com/channel/UCLIeH_RaUCItm8W0vATCazQ ඔබ මේවා දකින්නේ ජිවිතේ පළමු වතාවට EP74\n",
            "This row throws and error: https://www.youtube.com/channel/UCLIeH_RaUCItm8W0vATCazQ ඔබ මේවා දකින්නේ ජිවිතේ පළමු වතාවට EP73\n",
            "This row throws and error: https://www.youtube.com/channel/UCLIeH_RaUCItm8W0vATCazQ ඔබ මේවා දකින්නේ ජිවිතේ පළමු වතාවට EP72\n",
            "This row throws and error: https://www.youtube.com/channel/UCLIeH_RaUCItm8W0vATCazQ Mr.පුදුමයාගේ හොඳම short වීඩියෝ ටිකක් එක පෙලට ..\n",
            "This row throws and error: https://www.youtube.com/channel/UCLIeH_RaUCItm8W0vATCazQ ඔබ මේවා දකින්නේ ජිවිතේ පළමු වතාවට EP71\n",
            "This row throws and error: https://www.youtube.com/channel/UCLIeH_RaUCItm8W0vATCazQ ඔබ මේවා දකින්නේ ජිවිතේ පළමු වතාවට EP70\n",
            "This row throws and error: https://www.youtube.com/channel/UCLIeH_RaUCItm8W0vATCazQ ඔබ මේවා දකින්නේ ජිවිතේ පළමු වතාවට EP69\n",
            "This row throws and error: https://www.youtube.com/channel/UCLIeH_RaUCItm8W0vATCazQ ඔබ මේවා දකින්නේ ජිවිතේ පළමු වතාවට EP68\n",
            "This row throws and error: https://www.youtube.com/channel/UCLIeH_RaUCItm8W0vATCazQ Mr.පුදුමයාගේ බර්ත් ඩේ ගිෆ්ට් එක !!\n",
            "This row throws and error: https://www.youtube.com/channel/UCLIeH_RaUCItm8W0vATCazQ ඔබ මේවා දකින්නේ ජිවිතේ පළමු වතාවට EP67\n",
            "This row throws and error: https://www.youtube.com/channel/UCLIeH_RaUCItm8W0vATCazQ ඔබ මේවා දකින්නේ ජිවිතේ පළමු වතාවට EP66\n",
            "This row throws and error: https://www.youtube.com/channel/UCLIeH_RaUCItm8W0vATCazQ ඔබ මේවා දකින්නේ ජිවිතේ පළමු වතාවට EP65\n",
            "This row throws and error: https://www.youtube.com/channel/UCLIeH_RaUCItm8W0vATCazQ ඔබ මේවා දකින්නේ ජිවිතේ පළමු වතාවට EP64\n",
            "This row throws and error: https://www.youtube.com/channel/UCLIeH_RaUCItm8W0vATCazQ ඔබ මේවා දකින්නේ ජිවිතේ පළමු වතාවට EP63\n",
            "This row throws and error: https://www.youtube.com/channel/UCLIeH_RaUCItm8W0vATCazQ ඔබ මේවා දකින්නේ ජිවිතේ පළමු වතාවට EP62\n",
            "This row throws and error: https://www.youtube.com/channel/UCLIeH_RaUCItm8W0vATCazQ ඔබ මේවා දකින්නේ ජිවිතේ පළමු වතාවට EP61\n",
            "This row throws and error: https://www.youtube.com/channel/UCLIeH_RaUCItm8W0vATCazQ ඔබ මේවා දකින්නේ ජිවිතේ පළමු වතාවට EP60\n",
            "This row throws and error: https://www.youtube.com/channel/UCLIeH_RaUCItm8W0vATCazQ ඔබ මේවා දකින්නේ ජිවිතේ පළමු වතාවට EP59\n",
            "This row throws and error: https://www.youtube.com/channel/UCLIeH_RaUCItm8W0vATCazQ ඔබ මේවා දකින්නේ ජිවිතේ පළමු වතාවට EP58\n",
            "This row throws and error: https://www.youtube.com/channel/UCLIeH_RaUCItm8W0vATCazQ ඔබ මේවා දකින්නේ ජිවිතේ පළමු වතාවට EP57\n",
            "This row throws and error: https://www.youtube.com/channel/UCLIeH_RaUCItm8W0vATCazQ ඔබ මේවා දකින්නේ ජිවිතේ පළමු වතාවට EP56\n",
            "This row throws and error: https://www.youtube.com/channel/UCLIeH_RaUCItm8W0vATCazQ ඔබ මේවා දකින්නේ ජිවිතේ පළමු වතාවට EP55\n",
            "This row throws and error: https://www.youtube.com/channel/UCLIeH_RaUCItm8W0vATCazQ ඔබ මේවා දකින්නේ ජිවිතේ පළමු වතාවට EP54\n",
            "This row throws and error: https://www.youtube.com/channel/UCLIeH_RaUCItm8W0vATCazQ ඔබ මේවා දකින්නේ ජිවිතේ පළමු වතාවට EP53\n",
            "This row throws and error: https://www.youtube.com/channel/UCLIeH_RaUCItm8W0vATCazQ ඔබ මේවා දකින්නේ ජිවිතේ පළමු වතාවට EP52\n",
            "This row throws and error: https://www.youtube.com/channel/UCLIeH_RaUCItm8W0vATCazQ ඔබ මේවා දකින්නේ ජිවිතේ පළමු වතාවට EP51\n",
            "This row throws and error: https://www.youtube.com/channel/UCLIeH_RaUCItm8W0vATCazQ ඔබ මේවා දකින්නේ ජිවිතේ පළමු වතාවට EP50\n",
            "This row throws and error: https://www.youtube.com/channel/UCLIeH_RaUCItm8W0vATCazQ ඔබ මේවා දකින්නේ ජිවිතේ පළමු වතාවට EP49\n",
            "This row throws and error: https://www.youtube.com/channel/UCLIeH_RaUCItm8W0vATCazQ ඔබ මේවා දකින්නේ ජිවිතේ පළමු වතාවට EP48\n",
            "This row throws and error: https://www.youtube.com/channel/UCLIeH_RaUCItm8W0vATCazQ ඔබ මේවා දකින්නේ ජිවිතේ පළමු වතාවට EP47\n",
            "This row throws and error: https://www.youtube.com/channel/UCLIeH_RaUCItm8W0vATCazQ ඔබ මේවා දකින්නේ ජිවිතේ පළමු වතාවට EP46\n",
            "This row throws and error: https://www.youtube.com/channel/UCLIeH_RaUCItm8W0vATCazQ ඔබ මේවා දකින්නේ ජිවිතේ පළමු වතාවට EP45\n",
            "This row throws and error: https://www.youtube.com/channel/UCLIeH_RaUCItm8W0vATCazQ ඔබ මේවා දකින්නේ ජිවිතේ පළමු වතාවට EP44\n",
            "This row throws and error: https://www.youtube.com/channel/UCLIeH_RaUCItm8W0vATCazQ ඔබ මේවා දකින්නේ ජිවිතේ පළමු වතාවට EP43\n",
            "This row throws and error: https://www.youtube.com/channel/UCLIeH_RaUCItm8W0vATCazQ ඔබ මේවා දකින්නේ ජිවිතේ පළමු වතාවට EP39\n",
            "This row throws and error: https://www.youtube.com/channel/UCLIeH_RaUCItm8W0vATCazQ ඔබ මේවා දකින්නේ ජිවිතේ පළමු වතාවට EP41\n",
            "This row throws and error: https://www.youtube.com/channel/UCLIeH_RaUCItm8W0vATCazQ ඔබ මේවා දකින්නේ ජිවිතේ පළමු වතාවට EP40\n",
            "This row throws and error: https://www.youtube.com/channel/UCLIeH_RaUCItm8W0vATCazQ ඔබ මේවා දකින්නේ ජිවිතේ පළමු වතාවට EP39\n",
            "This row throws and error: https://www.youtube.com/channel/UCLIeH_RaUCItm8W0vATCazQ ඔබ මේවා දකින්නේ ජිවිතේ පළමු වතාවට EP38\n",
            "This row throws and error: https://www.youtube.com/channel/UCLIeH_RaUCItm8W0vATCazQ ඔබ මේවා දකින්නේ ජිවිතේ පළමු වතාවට EP37\n",
            "This row throws and error: https://www.youtube.com/channel/UCLIeH_RaUCItm8W0vATCazQ ඔබ මේවා දකින්නේ ජිවිතේ පළමු වතාවට EP36\n",
            "This row throws and error: https://www.youtube.com/channel/UCLIeH_RaUCItm8W0vATCazQ ඔබ මේවා දකින්නේ ජිවිතේ පළමු වතාවට EP35\n",
            "This row throws and error: https://www.youtube.com/channel/UCLIeH_RaUCItm8W0vATCazQ ඔබ මේවා දකින්නේ ජිවිතේ පළමු වතාවට EP34\n",
            "This row throws and error: https://www.youtube.com/channel/UCLIeH_RaUCItm8W0vATCazQ ඔබ මේවා දකින්නේ ජිවිතේ පළමු වතාවට EP33\n",
            "This row throws and error: https://www.youtube.com/channel/UCLIeH_RaUCItm8W0vATCazQ ඔබ මේවා දකින්නේ ජිවිතේ පළමු වතාවට EP32\n",
            "This row throws and error: https://www.youtube.com/channel/UCLIeH_RaUCItm8W0vATCazQ ඔබ මේවා දකින්නේ ජිවිතේ පළමු වතාවට EP31\n",
            "This row throws and error: https://www.youtube.com/channel/UCLIeH_RaUCItm8W0vATCazQ ඔබ මේවා දකින්නේ ජිවිතේ පළමු වතාවට EP30\n",
            "This row throws and error: https://www.youtube.com/channel/UCLIeH_RaUCItm8W0vATCazQ ඔබ මේවා දකින්නේ ජිවිතේ පළමු වතාවට EP29\n",
            "This row throws and error: https://www.youtube.com/channel/UCLIeH_RaUCItm8W0vATCazQ ඔබ මේවා දකින්නේ ජිවිතේ පළමු වතාවට EP28\n",
            "This row throws and error: https://www.youtube.com/channel/UCLIeH_RaUCItm8W0vATCazQ ඔබ මේවා දකින්නේ ජිවිතේ පළමු වතාවට EP27\n",
            "This row throws and error: https://www.youtube.com/channel/UCLIeH_RaUCItm8W0vATCazQ ඔබ මේවා දකින්නේ ජිවිතේ පළමු වතාවට EP26\n",
            "This row throws and error: https://www.youtube.com/channel/UCLIeH_RaUCItm8W0vATCazQ ඔබ මේවා දකින්නේ ජිවිතේ පළමු වතාවට EP25\n",
            "This row throws and error: https://www.youtube.com/channel/UCLIeH_RaUCItm8W0vATCazQ ඔබ මේවා දකින්නේ ජිවිතේ පළමු වතාවට EP24\n",
            "This row throws and error: https://www.youtube.com/channel/UCLIeH_RaUCItm8W0vATCazQ ඔබ මේවා දකින්නේ ජිවිතේ පළමු වතාවට EP23\n",
            "This row throws and error: https://www.youtube.com/channel/UCLIeH_RaUCItm8W0vATCazQ ඔබ මේවා දකින්නේ ජිවිතේ පළමු වතාවට EP22\n",
            "This row throws and error: https://www.youtube.com/channel/UCLIeH_RaUCItm8W0vATCazQ ඔබ මේවා දකින්නේ ජිවිතේ පළමු වතාවට EP21\n",
            "This row throws and error: https://www.youtube.com/channel/UCLIeH_RaUCItm8W0vATCazQ ඔබ මේවා දකින්නේ ජිවිතේ පළමු වතාවට EP20\n",
            "This row throws and error: https://www.youtube.com/channel/UCLIeH_RaUCItm8W0vATCazQ ඔබ මේවා දකින්නේ ජිවිතේ පළමු වතාවට EP19\n",
            "This row throws and error: https://www.youtube.com/channel/UCLIeH_RaUCItm8W0vATCazQ ඔබ මේවා දකින්නේ ජිවිතේ පළමු වතාවට EP18\n",
            "This row throws and error: https://www.youtube.com/channel/UCLIeH_RaUCItm8W0vATCazQ ඔබ මේවා දකින්නේ ජිවිතේ පළමු වතාවට EP17\n",
            "This row throws and error: https://www.youtube.com/channel/UCLIeH_RaUCItm8W0vATCazQ ඔබ මේවා දකින්නේ ජිවිතේ පළමු වතාවට EP16\n",
            "This row throws and error: https://www.youtube.com/channel/UCLIeH_RaUCItm8W0vATCazQ ඔබ මේවා දකින්නේ ජිවිතේ පළමු වතාවට EP15\n",
            "This row throws and error: https://www.youtube.com/channel/UCLIeH_RaUCItm8W0vATCazQ ඔබ මේවා දකින්නේ ජිවිතේ පළමු වතාවට EP14\n",
            "This row throws and error: https://www.youtube.com/channel/UCLIeH_RaUCItm8W0vATCazQ ඔබ මේවා දකින්නේ ජිවිතේ පළමු වතාවට EP14\n",
            "This row throws and error: https://www.youtube.com/channel/UCLIeH_RaUCItm8W0vATCazQ ඔබ මේවා දකින්නේ ජිවිතේ පළමු වතාවට EP13\n",
            "This row throws and error: https://www.youtube.com/channel/UCLIeH_RaUCItm8W0vATCazQ ඔබ මේවා දකින්නේ ජිවිතේ පළමු වතාවට EP12\n",
            "This row throws and error: https://www.youtube.com/channel/UCLIeH_RaUCItm8W0vATCazQ ඔබ මේවා දකින්නේ ජිවිතේ පළමු වතාවට EP11\n",
            "This row throws and error: https://www.youtube.com/channel/UCLIeH_RaUCItm8W0vATCazQ Reload දිනාගත්තු වාසනාවන්තයෝ ටික මෙන්න,,,,\n",
            "This row throws and error: https://www.youtube.com/channel/UCLIeH_RaUCItm8W0vATCazQ මෙන්න ඔයාට රීලෝඩ් 100 ක් පුදුමයගෙන්\n",
            "This row throws and error: https://www.youtube.com/channel/UCLIeH_RaUCItm8W0vATCazQ ඔබ මේවා දකින්නේ ජිවිතේ පළමු වතාවට EP10\n",
            "This row throws and error: https://www.youtube.com/channel/UCLIeH_RaUCItm8W0vATCazQ ඔබ මේවා දකින්නේ ජිවිතේ පළමු වතාවට EP09\n",
            "This row throws and error: https://www.youtube.com/channel/UCLIeH_RaUCItm8W0vATCazQ ඔබ මේවා දකින්නේ ජිවිතේ පළමු වතාවට EP08\n",
            "This row throws and error: https://www.youtube.com/channel/UCLIeH_RaUCItm8W0vATCazQ ඔබ මේවා දකින්නේ ජිවිතේ පළමු වතාවට EP07\n",
            "This row throws and error: https://www.youtube.com/channel/UCLIeH_RaUCItm8W0vATCazQ ඔබ මේවා දකින්නේ ජිවිතේ පළමු වතාවට ..\n",
            "This row throws and error: https://www.youtube.com/channel/UCLIeH_RaUCItm8W0vATCazQ ඔබ මේවා දකින්නේ ජිවිතේ පළමු වතාවට EP05\n",
            "This row throws and error: https://www.youtube.com/channel/UCLIeH_RaUCItm8W0vATCazQ ඔබ මේවා දකින්නේ ජිවිතේ පළමු වතාවට EP04\n",
            "This row throws and error: https://www.youtube.com/channel/UCLIeH_RaUCItm8W0vATCazQ ඔබ මේවා දකින්නේ ජිවිතේ පළමු වතාවට EP03\n",
            "This row throws and error: https://www.youtube.com/channel/UCLIeH_RaUCItm8W0vATCazQ ඔබ මේවා දකින්නේ ජිවිතේ පළමු වතාවට EP 02\n",
            "This row throws and error: https://www.youtube.com/channel/UCLIeH_RaUCItm8W0vATCazQ ඔබ මේවා දකින්නේ ජිවිතේ පළමු වතාවට ..\n",
            "This row throws and error: https://www.youtube.com/channel/UCLIeH_RaUCItm8W0vATCazQ මෙහෙමත් ළමයි මේ ලෝකේ ඉන්නවද කියලා හිතෙයි\n",
            "This row throws and error: https://www.youtube.com/channel/UCLIeH_RaUCItm8W0vATCazQ වතුරෙන් ගල් කපන හැටි ...\n",
            "This row throws and error: https://www.youtube.com/channel/UCLIeH_RaUCItm8W0vATCazQ මෙහෙමත් සත්තු උපදිනවද ? නැරඹිය යුතුම වීඩියෝවක්..\n",
            "This row throws and error: https://www.youtube.com/channel/UCLIeH_RaUCItm8W0vATCazQ මේවා ඔබ දකින්නේ ජිවිතයේ ප්‍රථම වතාවට ...\n"
          ]
        },
        {
          "metadata": {
            "tags": null
          },
          "name": "stderr",
          "output_type": "stream",
          "text": [
            " 27%|██▋       | 2957/10879 [39:27<1:03:08,  2.09it/s]"
          ]
        },
        {
          "metadata": {
            "tags": null
          },
          "name": "stdout",
          "output_type": "stream",
          "text": [
            "This row throws and error: https://www.youtube.com/channel/UC_yCORmIAJntXQDSHs4iFcw 𝗣𝗵𝗶𝗹𝗶𝗽𝗽𝗶𝗻𝗲𝘀 𝘄𝗶𝗻𝘀 𝗚𝗹𝗼𝗯𝗮𝗹 𝗧𝗼𝘂𝗿𝗶𝘀𝗺 𝗥𝗲𝘀𝗶𝗹𝗶𝗲𝗻𝗰𝗲 𝗔𝘄𝗮𝗿𝗱\n",
            "This row throws and error: https://www.youtube.com/channel/UC_yCORmIAJntXQDSHs4iFcw 𝗠𝗮𝗻𝗶𝗹𝗮 𝘄𝗶𝗻𝘀 𝗪𝗼𝗿𝗹𝗱'𝘀 𝗟𝗲𝗮𝗱𝗶𝗻𝗴 𝗖𝗶𝘁𝘆 𝗗𝗲𝘀𝘁𝗶𝗻𝗮𝘁𝗶𝗼𝗻\n",
            "This row throws and error: https://www.youtube.com/channel/UC_yCORmIAJntXQDSHs4iFcw 𝗧𝗵𝗲 𝗣𝗵𝗶𝗹𝗶𝗽𝗽𝗶𝗻𝗲 𝗘𝘅𝗽𝗲𝗿𝗶𝗲𝗻𝗰𝗲 𝗣𝗿𝗼𝗴𝗿𝗮𝗺 𝗪𝗲𝘀𝘁𝗲𝗿𝗻 𝗩𝗶𝘀𝗮𝘆𝗮𝘀 𝗛𝗶𝗴𝗵𝗹𝗶𝗴𝗵𝘁𝘀 𝗡𝗼𝘃𝗲𝗺𝗯𝗲𝗿 𝟮𝟵 - 𝗗𝗲𝗰𝗲𝗺𝗯𝗲𝗿 𝟭, 𝟮𝟬𝟮𝟯\n",
            "This row throws and error: https://www.youtube.com/channel/UC_yCORmIAJntXQDSHs4iFcw 𝗣𝗵𝗶𝗹𝗶𝗽𝗽𝗶𝗻𝗲𝘀 𝘄𝗶𝗻𝘀 𝗪𝗼𝗿𝗹𝗱'𝘀 𝗟𝗲𝗮𝗱𝗶𝗻𝗴 𝗗𝗶𝘃𝗲 𝗗𝗲𝘀𝘁𝗶𝗻𝗮𝘁𝗶𝗼𝗻\n",
            "This row throws and error: https://www.youtube.com/channel/UC_yCORmIAJntXQDSHs4iFcw 𝗣𝗵𝗶𝗹𝗶𝗽𝗽𝗶𝗻𝗲𝘀 𝘄𝗶𝗻𝘀 𝗪𝗼𝗿𝗹𝗱'𝘀 𝗟𝗲𝗮𝗱𝗶𝗻𝗴 𝗕𝗲𝗮𝗰𝗵 𝗗𝗲𝘀𝘁𝗶𝗻𝗮𝘁𝗶𝗼𝗻\n"
          ]
        },
        {
          "metadata": {
            "tags": null
          },
          "name": "stderr",
          "output_type": "stream",
          "text": [
            " 28%|██▊       | 3056/10879 [40:37<1:04:14,  2.03it/s]"
          ]
        },
        {
          "metadata": {
            "tags": null
          },
          "name": "stdout",
          "output_type": "stream",
          "text": [
            "This row throws and error: https://www.youtube.com/channel/UCmKzPdGoPEdVyT5EHbhdcTw ℍ𝕐𝟡 ℍ - 𝕝𝕦𝕒\n"
          ]
        },
        {
          "metadata": {
            "tags": null
          },
          "name": "stderr",
          "output_type": "stream",
          "text": [
            " 29%|██▊       | 3124/10879 [41:28<58:38,  2.20it/s]  "
          ]
        },
        {
          "metadata": {
            "tags": null
          },
          "name": "stdout",
          "output_type": "stream",
          "text": [
            "This row throws and error: https://www.youtube.com/channel/UCYmhEV4vxOuuo5FEhUusFbg ＤＲＩＶＥ\n",
            "This row throws and error: https://www.youtube.com/channel/UCYmhEV4vxOuuo5FEhUusFbg ｐｏｉｓｏｎ⌛ｈｏｕｒｇｌａｓｓ\n",
            "This row throws and error: https://www.youtube.com/channel/UCYmhEV4vxOuuo5FEhUusFbg ｂｕｔ ｙｏｕ＇ｒｅ ｎｏｔ ｌｉｓｔｅｎｉｎｇ．．．\n",
            "This row throws and error: https://www.youtube.com/channel/UCYmhEV4vxOuuo5FEhUusFbg MDS ｅｌｅｃｔｒｉｃｉｔｙ ϟ\n",
            "This row throws and error: https://www.youtube.com/channel/UCYmhEV4vxOuuo5FEhUusFbg ｖｒｏｏｍＶＲＯＯＭ!!\n"
          ]
        },
        {
          "metadata": {
            "tags": null
          },
          "name": "stderr",
          "output_type": "stream",
          "text": [
            " 30%|███       | 3282/10879 [43:32<3:09:02,  1.49s/it]"
          ]
        },
        {
          "metadata": {
            "tags": null
          },
          "name": "stdout",
          "output_type": "stream",
          "text": [
            "This row throws and error: https://www.youtube.com/channel/UCJ_GGoAmF-LTtmV_2P5q8Dw 𝗛𝗘𝗟𝗟𝗢𝗪𝗘𝗘𝗡 - 𝗨𝗡𝗜𝗧𝗘𝗗 𝗔𝗟𝗜𝗩𝗘 𝗪𝗢𝗥𝗟𝗗 𝗧𝗢𝗨𝗥 𝗣𝗔𝗥𝗧 𝗜𝗜 𝗘𝗨𝗥𝗢𝗣𝗘 𝟮𝟬𝟮𝟬 (Official Trailer)\n"
          ]
        },
        {
          "metadata": {
            "tags": null
          },
          "name": "stderr",
          "output_type": "stream",
          "text": [
            " 30%|███       | 3296/10879 [43:39<1:37:59,  1.29it/s]"
          ]
        },
        {
          "metadata": {
            "tags": null
          },
          "name": "stdout",
          "output_type": "stream",
          "text": [
            "This row throws and error: https://www.youtube.com/channel/UCBRuxya3juxDB1SOg-QOBpg 👁️👄👁️\n"
          ]
        },
        {
          "metadata": {
            "tags": null
          },
          "name": "stderr",
          "output_type": "stream",
          "text": [
            " 30%|███       | 3308/10879 [43:53<2:01:31,  1.04it/s]"
          ]
        },
        {
          "metadata": {
            "tags": null
          },
          "name": "stdout",
          "output_type": "stream",
          "text": [
            "This row throws and error: https://www.youtube.com/channel/UCFdIUEgkJQhNyJ3o8rlysEw କଣ ଡାଇନେସର୍ ଭଳି ଆମେ ମନୁଷ୍ୟ ଜାତି ବିଲୁପ୍ତ ହୋଇଯିବା ?\n",
            "This row throws and error: https://www.youtube.com/channel/UCFdIUEgkJQhNyJ3o8rlysEw ଆଜିର ଦିନ ସବୁଠାରୁ ଲମ୍ବାଥିଲା ଏବଂ ଆଜିର ରାତି ସବୁଠାରୁ ଛୋଟ କାହିଁକି ?\n",
            "This row throws and error: https://www.youtube.com/channel/UCFdIUEgkJQhNyJ3o8rlysEw ପଦ୍ମନାଭ ସ୍ୱାମୀ ମନ୍ଦିରର ସେହି କବାଟ ଯାହାକୁ ସରକାର ମଧ୍ୟ ଖୋଲିବାକୁ ଡରନ୍ତି\n",
            "This row throws and error: https://www.youtube.com/channel/UCFdIUEgkJQhNyJ3o8rlysEw ଭାରତରେ ଦେଖାଦେଇଥିବା ଟୠଙ ଘଟଣା ଗୁଡିକରୁ ଏହି ଘଟଣାଟି କମାଲ\n",
            "This row throws and error: https://www.youtube.com/channel/UCFdIUEgkJQhNyJ3o8rlysEw ହାଁକିଙ୍ଗର ଏହି ୭ଟି ଭବିଷ୍ୟବାଣୀ ସତ ହୋଇଗଲେ ବିଶ୍ୱର ବିନାଶ ହୋଇଯିବ  Stephen Hawking Warnings\n",
            "This row throws and error: https://www.youtube.com/channel/UCFdIUEgkJQhNyJ3o8rlysEw ମେ ୨୬ ତାରିଖ ସଂଧ୍ୟାରେ ପୂର୍ବଦିଗ ଆକାଶରେ ଦେଖାଯିବ ସୁପର ବ୍ଲଡ୍ ମୁନ୍‌\n",
            "This row throws and error: https://www.youtube.com/channel/UCFdIUEgkJQhNyJ3o8rlysEw କ’ଣ ଆମ ମନୁଷ୍ୟଙ୍କ ବ୍ୟତୀତ ହିମ ମାନବ ଧରାପୃଷ୍ଠରେ ରୁହନ୍ତି ?\n",
            "This row throws and error: https://www.youtube.com/channel/UCFdIUEgkJQhNyJ3o8rlysEw ଏହି ବଡ ରହସ୍ୟମୟୀ ମୂର୍ତ୍ତୀଗୁଡିକୁ କଣ ଏଲିୟନ୍ସ ନିର୍ମାଣ କରିଛନ୍ତି ?  Mystery of Easter Island Moai\n",
            "This row throws and error: https://www.youtube.com/channel/UCFdIUEgkJQhNyJ3o8rlysEw କିଛି ରୋଚକ ତତ୍ତ୍ୱ ଯାହା ଜଗନ୍ନାଥ ଧାମକୁ କରେ ଆହୁରି ଅଧିକ ରହସ୍ୟମୟ\n",
            "This row throws and error: https://www.youtube.com/channel/UCFdIUEgkJQhNyJ3o8rlysEw ଏହି ଦ୍ୱାରମାନଙ୍କରେ କ’ଣ ଅଛି ଯାହାକୁ ଖୋଲିବାକୁ ଦୁନିଆଭରର ସରକାର ଡରୁଛନ୍ତି !\n",
            "This row throws and error: https://www.youtube.com/channel/UCFdIUEgkJQhNyJ3o8rlysEw ସେଇ ରାହସ୍ୟମୟୀ ସାପ ଯିଏ ହେଲିକ୍ୟାପ୍ଟର ଉପରେ କରିଥିଲା ଆକ୍ରମଣ  Congo Snake 1959 Story\n",
            "This row throws and error: https://www.youtube.com/channel/UCFdIUEgkJQhNyJ3o8rlysEw ଯେବେ ଏଲିଆନ୍ସ ଆମକୁ ପଠେଇଥିଲେ Wow ସିଗନାଲ କିନ୍ତୁ ଆମେ ବୁଝିପାରିନଥିଲୁ\n",
            "This row throws and error: https://www.youtube.com/channel/UCFdIUEgkJQhNyJ3o8rlysEw ଷ୍ଟିଫନ ହକିଙ୍ଗସଙ୍କର ଦୁନିଆ ଅନ୍ତ ହେବାର ଭବିଷ୍ୟତବାଣୀ\n",
            "This row throws and error: https://www.youtube.com/channel/UCFdIUEgkJQhNyJ3o8rlysEw ଯେଉଁଠି ଏଲିୟନ ଅଛନ୍ତି କଣ ସେଇଠି ଜାଗା କିଣିଥିଲେ ସୁଶାନ୍ତ ?  Sushant Singh Rajput\n",
            "This row throws and error: https://www.youtube.com/channel/UCFdIUEgkJQhNyJ3o8rlysEw ୱାର୍ମହୋଲ୍ ବ୍ରହ୍ମାଣ୍ଡର ସବୁକୋଣକୁ ଯିବା ପାଇଁ ଏକମାତ୍ରର ରାସ୍ତା\n",
            "This row throws and error: https://www.youtube.com/channel/UCFdIUEgkJQhNyJ3o8rlysEw ଏଲିୟନର ରହସ୍ୟ, ଯାହା ଆପଣଙ୍କୁ ଭାବିବାକୁ ବାଧ୍ୟ କରିବ  Does Aliens Exist?\n",
            "This row throws and error: https://www.youtube.com/channel/UCFdIUEgkJQhNyJ3o8rlysEw ଅଜନ୍ତା ଗୁମ୍ଫାର ଏହି ସବୁ ଜିନିଷ ଏହାକୁ କରିଛି ବିଶ୍ୱ ପ୍ରସିଦ୍ଧ\n",
            "This row throws and error: https://www.youtube.com/channel/UCFdIUEgkJQhNyJ3o8rlysEw ମହାଭାରତର ସାକ୍ଷୀ ଯାହା ଆଜି ବି ରହସ୍ୟଘେରରେ\n",
            "This row throws and error: https://www.youtube.com/channel/UCFdIUEgkJQhNyJ3o8rlysEw ଏହି ରହସ୍ୟମୟୀ ଘଟଣା ଗୁଡିକର ଆଜି ଯାଏଁ ମିଳିନି ସମାଧାନ\n",
            "This row throws and error: https://www.youtube.com/channel/UCFdIUEgkJQhNyJ3o8rlysEw ସୂର୍ଯ୍ୟ ଏତେ ଗରମ ହେଇଯିବ ଯେ ଆମକୁ ଜଳେଇ ନିଜେ ଭସ୍ମ ହେଇଯିବ\n",
            "This row throws and error: https://www.youtube.com/channel/UCFdIUEgkJQhNyJ3o8rlysEw ୯୦୦ବର୍ଷ ପୂର୍ବରୁ ଚନ୍ଦ୍ର କାହିଁକି ଉଭାନ ହୋଇଯାଇଥିଲା\n",
            "This row throws and error: https://www.youtube.com/channel/UCFdIUEgkJQhNyJ3o8rlysEw ଆଖି ପିଛୁଳାକେ ପୃଥିବୀକୁ ଗିଳିଦେଇପାରେ ବ୍ଲାକହୋଲ\n",
            "This row throws and error: https://www.youtube.com/channel/UCFdIUEgkJQhNyJ3o8rlysEw ଇତିହାସରେ ପ୍ରଥମଥର ପାଇଁ ଅଧିକାରିକ ରୂପରେ ସେୟାର ହେଲା ୟୁଏଫଓର ସତ୍ୟ\n",
            "This row throws and error: https://www.youtube.com/channel/UCFdIUEgkJQhNyJ3o8rlysEw ପବନରେ ହଠାତ୍ ହଜିଯାଇ ୩୫ବର୍ଷ ପରେ ଅଚାନକ ଲ୍ୟାଣ୍ଡ କଲା ଭୁତିୟା ଜାହଜ\n",
            "This row throws and error: https://www.youtube.com/channel/UCFdIUEgkJQhNyJ3o8rlysEw କରୋନା ଭାଇରସ କଣ ସେଇ ମହାମାରୀ ଯାହାର ଭବିଷ୍ୟବାଣୀ କରିଥିଲେ ନାସ୍ତ୍ରେ ଦମସ୍\n",
            "This row throws and error: https://www.youtube.com/channel/UCFdIUEgkJQhNyJ3o8rlysEw ଭାରତର ସବୁଠୁ ଭୂତିୟା କିଲ୍ଲା ଭାନ୍‌ଗଡ୍ ର ପୁରା କାହାଣୀ  Bhangarh Fort Story\n",
            "This row throws and error: https://www.youtube.com/channel/UCFdIUEgkJQhNyJ3o8rlysEw କଣ ଜୁପିଟରରୁ ଆସୁଥିବା ଏହି ଭୟାନକ ଉଲକାପିଣ୍ଡ ପୃଥିବୀକୁ ଧ୍ୱଂସ କରିଦେବ ?\n",
            "This row throws and error: https://www.youtube.com/channel/UCFdIUEgkJQhNyJ3o8rlysEw କାହିଁକି ହୁଏ ଗ୍ରହଣ ? ବିଜ୍ଞାନ ଓ ଭଗବାନଙ୍କ ଦୃଷ୍ଟିରେ ଏହା କଣ ? Why Eclipse Happens ?\n",
            "This row throws and error: https://www.youtube.com/channel/UCFdIUEgkJQhNyJ3o8rlysEw କଣ ହୋଇଥାନ୍ତା ଯଦି ଆମେରିକା ଚନ୍ଦ୍ରକୁ ପରମାଣୁ ବୋମାରେ ଧୋନ୍ସ କରିଦେଇଥାନ୍ତା  Moon Mystery\n",
            "This row throws and error: https://www.youtube.com/channel/UCFdIUEgkJQhNyJ3o8rlysEw ଅଲଗା ଦୁନିଆରୁ ଆସିଥିଲା ଏଲିୟନ ଯାହା ରହସ୍ଯମୟ ଭାବେ ଗାୟବ୍ ହୋଇଗଲା  Man without Country\n",
            "This row throws and error: https://www.youtube.com/channel/UCFdIUEgkJQhNyJ3o8rlysEw ଆମେ ଗୋଟିଏ ଦୁନିଆରେ ନୁହେଁ ଵଂର ଅନେକ ଦୁନିଆରେ ଅଛୁ  Parallel Universe\n",
            "This row throws and error: https://www.youtube.com/channel/UCFdIUEgkJQhNyJ3o8rlysEw ଅଲଗା ଦୁନିଆର ପ୍ରମାଣ ନେଇ ଫେରିଛି ଏହି ବ୍ୟକ୍ତି  Real Story\n",
            "This row throws and error: https://www.youtube.com/channel/UCFdIUEgkJQhNyJ3o8rlysEw ଆଦିବାସୀମାନଙ୍କୁ ଝଡ ଆସିବା ପୂର୍ବରୁ କେମିତି ମିଳିଯାଏ ଆଭାସ ?\n",
            "This row throws and error: https://www.youtube.com/channel/UCFdIUEgkJQhNyJ3o8rlysEw କଣ ଏଲିୟନ୍ସ ହିଁ ବନାଇଥିଲେ ମିଶରର ଏହି ରହସ୍ୟମୟୀ ପିରାମିଡ୍ ?\n",
            "This row throws and error: https://www.youtube.com/channel/UCFdIUEgkJQhNyJ3o8rlysEw ଓଡିଶାର ଏଠି ଦେଖାଯାଉଥିଲା ଏଲିୟନ୍ସ   UFO in Odisha\n",
            "This row throws and error: https://www.youtube.com/channel/UCFdIUEgkJQhNyJ3o8rlysEw ମଙ୍ଗଳ ଗ୍ରହର ଗୋଟିଏ ଏଲିୟନ ଯିଏ ଋଷରେ ନେଲା ପୁର୍ନଃଜନ୍ମ\n",
            "This row throws and error: https://www.youtube.com/channel/UCFdIUEgkJQhNyJ3o8rlysEw କାହିଁକି ପିଓକେରେ ଉଡୁଛନ୍ତି ଏତେ ଏଲିଏନଶିପ ?  Mystery of POK\n",
            "This row throws and error: https://www.youtube.com/channel/UCFdIUEgkJQhNyJ3o8rlysEw କଣ ଚନ୍ଦ୍ରର ଲ୍ୟାଣ୍ଡରକୁ ଏଲିୟନ୍ସମାନେ ମାରି ନଷ୍ଟକରିଦେଇଥିଲେ ?\n"
          ]
        },
        {
          "metadata": {
            "tags": null
          },
          "name": "stderr",
          "output_type": "stream",
          "text": [
            "\r 30%|███       | 3309/10879 [43:54<1:45:32,  1.20it/s]"
          ]
        },
        {
          "metadata": {
            "tags": null
          },
          "name": "stdout",
          "output_type": "stream",
          "text": [
            "This row throws and error: https://www.youtube.com/channel/UCFdIUEgkJQhNyJ3o8rlysEw ଏଭଳି ହୋଇଥିଲା ଆମର ଜନ୍ମ ଏବଂ ଡାଇନେଶରଙ୍କର ମୃତ୍ୟୁ  Part 2\n",
            "This row throws and error: https://www.youtube.com/channel/UCFdIUEgkJQhNyJ3o8rlysEw ଏମିତି ହୋଇଥିଲା ଡାଇନେସରଙ୍କ ଅନ୍ତ ଓ ମନୁଷ୍ୟଙ୍କ ସୃଷ୍ଟି  Part 1\n",
            "This row throws and error: https://www.youtube.com/channel/UCFdIUEgkJQhNyJ3o8rlysEw ଜଲ୍ଦି ମାରିବାକୁ ଚାହୁଁନାହାନ୍ତି ତ ଏ ଭିଡ଼ିଓ ଆପଣଙ୍କ ପାଇଁ\n",
            "This row throws and error: https://www.youtube.com/channel/UCFdIUEgkJQhNyJ3o8rlysEw କଣ ହେବ ଯଦି ପୃଥିବୀ ବୃହସ୍ପତିର ଚନ୍ଦ୍ର ହୋଇଯିବ ?\n",
            "This row throws and error: https://www.youtube.com/channel/UCFdIUEgkJQhNyJ3o8rlysEw କଣ ରହିଛି ଏହି ନଦୀର ରହସ୍ୟ ଏଠି ଗଲେ କାହିଁକି ମରନ୍ତି ଲୋକ\n",
            "This row throws and error: https://www.youtube.com/channel/UCFdIUEgkJQhNyJ3o8rlysEw ଏମିତି ଏକ ଗାଁ ଅଛି, ଯାହାକୁ ଡାହାଣୀ ଗାଁ ବୋଲି କୁହାଯାଏ\n"
          ]
        },
        {
          "metadata": {
            "tags": null
          },
          "name": "stderr",
          "output_type": "stream",
          "text": [
            " 33%|███▎      | 3553/10879 [47:01<44:26,  2.75it/s]"
          ]
        },
        {
          "metadata": {
            "tags": null
          },
          "name": "stdout",
          "output_type": "stream",
          "text": [
            "This row throws and error: https://www.youtube.com/channel/UCkDtCKtPKlsg-gJO_m5D0mQ 🐟\n"
          ]
        },
        {
          "metadata": {
            "tags": null
          },
          "name": "stderr",
          "output_type": "stream",
          "text": [
            " 33%|███▎      | 3604/10879 [47:41<54:26,  2.23it/s]  "
          ]
        },
        {
          "metadata": {
            "tags": null
          },
          "name": "stdout",
          "output_type": "stream",
          "text": [
            "This row throws and error: https://www.youtube.com/channel/UCRMau84sfJ2nZcr9NLY3pzg ２１０ ＬＩＬＡＣ ＳＫＹ\n",
            "This row throws and error: https://www.youtube.com/channel/UCRMau84sfJ2nZcr9NLY3pzg ＴＡＭＡＧＯＴＣＨＩ\n",
            "This row throws and error: https://www.youtube.com/channel/UCRMau84sfJ2nZcr9NLY3pzg ＣＲＩＳＩＳ\n",
            "This row throws and error: https://www.youtube.com/channel/UCRMau84sfJ2nZcr9NLY3pzg ＴＨＲＩＬＬＨＯＵＳＥ\n",
            "This row throws and error: https://www.youtube.com/channel/UCRMau84sfJ2nZcr9NLY3pzg ＳＵＮＤＡＹ ＳＣＨＯＯＬ\n",
            "This row throws and error: https://www.youtube.com/channel/UCRMau84sfJ2nZcr9NLY3pzg １９８５\n",
            "This row throws and error: https://www.youtube.com/channel/UCRMau84sfJ2nZcr9NLY3pzg ＳＰＲＩＮＧＦＩＥＬＤ  ＶＩＣＥ\n"
          ]
        },
        {
          "metadata": {
            "tags": null
          },
          "name": "stderr",
          "output_type": "stream",
          "text": [
            " 34%|███▍      | 3699/10879 [48:50<1:22:42,  1.45it/s]"
          ]
        },
        {
          "metadata": {
            "tags": null
          },
          "name": "stdout",
          "output_type": "stream",
          "text": [
            "This row throws and error: https://www.youtube.com/channel/UCsdXkstc8jFC3zpMYdEz_zA 11.13.20\n"
          ]
        },
        {
          "metadata": {
            "tags": null
          },
          "name": "stderr",
          "output_type": "stream",
          "text": [
            " 34%|███▍      | 3742/10879 [49:17<1:02:11,  1.91it/s]"
          ]
        },
        {
          "metadata": {
            "tags": null
          },
          "name": "stdout",
          "output_type": "stream",
          "text": [
            "This row throws and error: https://www.youtube.com/channel/UCTsqCLJjx0n_gWkS9uNt-zw រូបមន្តធ្វងៀតគោរសជាតិឆ្ងាញ់រក្សាទុកបានយូរ  - Cooking Beef\n"
          ]
        },
        {
          "metadata": {
            "tags": null
          },
          "name": "stderr",
          "output_type": "stream",
          "text": [
            " 35%|███▍      | 3760/10879 [49:30<1:15:11,  1.58it/s]"
          ]
        },
        {
          "metadata": {
            "tags": null
          },
          "name": "stdout",
          "output_type": "stream",
          "text": [
            "This row throws and error: https://www.youtube.com/channel/UCk9GmdlDTBfgGRb7vXeRMoQ 아이린의 원더랜드라는 환상 속에서 여러분들 모두는 자유로우니까요 🐰ㅣIRENE IN WONDERLAND\n",
            "This row throws and error: https://www.youtube.com/channel/UCk9GmdlDTBfgGRb7vXeRMoQ 앞으로도 제 가까이에서 저를 부디 지켜주세요💜ㅣYERI’s Birthday Party\n",
            "This row throws and error: https://www.youtube.com/channel/UCk9GmdlDTBfgGRb7vXeRMoQ 인생 한번 저한테 배팅해 보시죠😎 I HAPPY WENDY DAY\n"
          ]
        },
        {
          "metadata": {
            "tags": null
          },
          "name": "stderr",
          "output_type": "stream",
          "text": [
            " 36%|███▌      | 3907/10879 [51:25<1:57:15,  1.01s/it]"
          ]
        },
        {
          "metadata": {
            "tags": null
          },
          "name": "stdout",
          "output_type": "stream",
          "text": [
            "This row throws and error: https://www.youtube.com/channel/UCEHs7ymn9hxSJMHLlcFLj0w උමංදාව රාජකීය පොසොන් දන්සැල 2024\n",
            "This row throws and error: https://www.youtube.com/channel/UCEHs7ymn9hxSJMHLlcFLj0w ලංකාවේ ලොකුම BURGER 🍔 එකයි, දිගම PIZZA 🍕 එකයි..\n"
          ]
        },
        {
          "metadata": {
            "tags": null
          },
          "name": "stderr",
          "output_type": "stream",
          "text": [
            " 36%|███▌      | 3914/10879 [51:29<52:24,  2.22it/s]  "
          ]
        },
        {
          "metadata": {
            "tags": null
          },
          "name": "stdout",
          "output_type": "stream",
          "text": [
            "This row throws and error: https://www.youtube.com/channel/UC8ZcDHb1WKZnzmDCUoT8IVA 2024\n",
            "This row throws and error: https://www.youtube.com/channel/UC8ZcDHb1WKZnzmDCUoT8IVA 2022\n",
            "This row throws and error: https://www.youtube.com/channel/UC8ZcDHb1WKZnzmDCUoT8IVA 2021\n",
            "This row throws and error: https://www.youtube.com/channel/UC8ZcDHb1WKZnzmDCUoT8IVA 2020\n",
            "This row throws and error: https://www.youtube.com/channel/UC8ZcDHb1WKZnzmDCUoT8IVA 2019\n",
            "This row throws and error: https://www.youtube.com/channel/UC8ZcDHb1WKZnzmDCUoT8IVA 2018\n"
          ]
        },
        {
          "metadata": {
            "tags": null
          },
          "name": "stderr",
          "output_type": "stream",
          "text": [
            " 37%|███▋      | 3979/10879 [52:15<58:18,  1.97it/s]  "
          ]
        },
        {
          "metadata": {
            "tags": null
          },
          "name": "stdout",
          "output_type": "stream",
          "text": [
            "This row throws and error: https://www.youtube.com/channel/UCxXqeNx2u6mLcFiPrX3-G_g  \n"
          ]
        },
        {
          "metadata": {
            "tags": null
          },
          "name": "stderr",
          "output_type": "stream",
          "text": [
            " 38%|███▊      | 4083/10879 [53:30<1:44:22,  1.09it/s]"
          ]
        },
        {
          "metadata": {
            "tags": null
          },
          "name": "stdout",
          "output_type": "stream",
          "text": [
            "This row throws and error: https://www.youtube.com/channel/UCe3OmUXohXrXnNZSRl5Z9kA 𝐇𝐨𝐰 𝐏𝐫𝐚𝐦𝐛𝐚𝐧𝐚𝐧 𝐓𝐞𝐦𝐩𝐥𝐞 𝐃𝐞𝐛𝐮𝐧𝐤𝐞𝐝 𝐇𝐢𝐬𝐭𝐨𝐫𝐲?  𝐋𝐚𝐫𝐠𝐞𝐬𝐭 𝐇𝐢𝐧𝐝𝐮 𝐓𝐞𝐦𝐩𝐥𝐞 𝐈𝐧 𝐈𝐧𝐝𝐨𝐧𝐞𝐬𝐢𝐚\n",
            "This row throws and error: https://www.youtube.com/channel/UCe3OmUXohXrXnNZSRl5Z9kA 𝐃𝐈𝐃 𝐀𝐋𝐈𝐄𝐍𝐒 𝐖𝐈𝐓𝐇 𝐄𝐋𝐎𝐍𝐆𝐀𝐓𝐄𝐃 𝐒𝐊𝐔𝐋𝐋𝐒, 𝐆𝐄𝐍𝐄𝐓𝐈𝐂𝐀𝐋𝐋𝐘 𝐌𝐎𝐃𝐈𝐅𝐘 𝐇𝐔𝐌𝐀𝐍𝐒? Candi Sukuh Temple – Episode 2\n",
            "This row throws and error: https://www.youtube.com/channel/UCe3OmUXohXrXnNZSRl5Z9kA 𝐆𝐎𝐋𝐃𝐄𝐍 𝐋𝐈𝐍𝐆𝐀𝐌 𝐔𝐍𝐄𝐀𝐑𝐓𝐇𝐄𝐃 𝐈𝐍 𝐈𝐍𝐃𝐎𝐍𝐄𝐒𝐈𝐀 ?\n",
            "This row throws and error: https://www.youtube.com/channel/UCe3OmUXohXrXnNZSRl5Z9kA 𝐒𝐄𝐂𝐑𝐄𝐓 𝐎𝐑𝐈𝐆𝐈𝐍 𝐎𝐅 𝐓𝐀𝐍𝐓𝐑𝐀 - 𝐉𝐀𝐒𝐌𝐀𝐋𝐍𝐀𝐓𝐇𝐉𝐈 𝐓𝐞𝐦𝐩𝐥𝐞, 𝐆𝐮𝐣𝐚𝐫𝐚𝐭\n",
            "This row throws and error: https://www.youtube.com/channel/UCe3OmUXohXrXnNZSRl5Z9kA 𝐓𝐇𝐈𝐒 𝐈𝐒 𝐖𝐇𝐘 𝐈𝐍𝐃𝐈𝐀'𝐒 𝐒𝐄𝐂𝐑𝐄𝐓𝐒 𝐀𝐑𝐄 𝐍𝐄𝐕𝐄𝐑 𝐏𝐔𝐁𝐋𝐈𝐒𝐇𝐄𝐃\n",
            "This row throws and error: https://www.youtube.com/channel/UCe3OmUXohXrXnNZSRl5Z9kA 𝐌𝐀𝐘𝐀 - 𝐃𝐀𝐑𝐊 𝐒𝐄𝐂𝐑𝐄𝐓𝐒 𝐎𝐅 𝐇𝐈𝐍𝐃𝐔 𝐓𝐄𝐌𝐏𝐋𝐄𝐒\n",
            "This row throws and error: https://www.youtube.com/channel/UCe3OmUXohXrXnNZSRl5Z9kA 𝐖𝐇𝐀𝐓 𝐓𝐇𝐄𝐘 𝐅𝐎𝐔𝐍𝐃 𝐔𝐍𝐃𝐄𝐑𝐆𝐑𝐎𝐔𝐍𝐃 𝐂𝐀𝐍 𝐍𝐄𝐕𝐄𝐑 𝐁𝐄 𝐑𝐄𝐕𝐄𝐀𝐋𝐄𝐃\n",
            "This row throws and error: https://www.youtube.com/channel/UCe3OmUXohXrXnNZSRl5Z9kA 𝐄𝐗𝐏𝐄𝐑𝐓𝐒 𝐖𝐈𝐒𝐇 𝐓𝐇𝐈𝐒 𝐃𝐎𝐄𝐒 𝐍𝐎𝐓 𝐄𝐗𝐈𝐒𝐓\n",
            "This row throws and error: https://www.youtube.com/channel/UCe3OmUXohXrXnNZSRl5Z9kA 𝐓𝐇𝐄𝐘 𝐀𝐑𝐄 𝐂𝐎𝐕𝐄𝐑𝐈𝐍𝐆 𝐈𝐓 𝐔𝐏\n",
            "This row throws and error: https://www.youtube.com/channel/UCe3OmUXohXrXnNZSRl5Z9kA 𝐌𝐲𝐬𝐭𝐞𝐫𝐢𝐨𝐮𝐬 𝐓𝐞𝐦𝐩𝐥𝐞 𝐓𝐫𝐚𝐧𝐬𝐟𝐨𝐫𝐦𝐬 𝐈𝐧𝐭𝐨 𝐀 𝐌𝐚𝐜𝐡𝐢𝐧𝐞 𝐄𝐯𝐞𝐫𝐲 𝐍𝐢𝐠𝐡𝐭?\n",
            "This row throws and error: https://www.youtube.com/channel/UCe3OmUXohXrXnNZSRl5Z9kA 𝐈𝐟 𝐲𝐨𝐮 𝐬𝐞𝐞 𝐭𝐡𝐢𝐬 𝐢𝐧 𝐲𝐨𝐮𝐫 𝐝𝐫𝐞𝐚𝐦, 𝐓𝐇𝐄𝐍..\n",
            "This row throws and error: https://www.youtube.com/channel/UCe3OmUXohXrXnNZSRl5Z9kA 𝐘𝐎𝐔 𝐂𝐀𝐍𝐍𝐎𝐓 𝐔𝐍𝐒𝐄𝐄 𝐓𝐇𝐈𝐒  𝐌𝐄𝐃𝐈𝐀 𝐖𝐀𝐍𝐓𝐒 𝐓𝐎 𝐇𝐈𝐃𝐄 𝐓𝐇𝐈𝐒 𝐓𝐄𝐌𝐏𝐋𝐄\n",
            "This row throws and error: https://www.youtube.com/channel/UCe3OmUXohXrXnNZSRl5Z9kA 𝐓𝐇𝐄𝐘 𝐖𝐈𝐋𝐋 𝐍𝐄𝐕𝐄𝐑 𝐏𝐑𝐈𝐍𝐓 𝐓𝐇𝐈𝐒 𝐈𝐍 𝐁𝐎𝐎𝐊𝐒\n",
            "This row throws and error: https://www.youtube.com/channel/UCe3OmUXohXrXnNZSRl5Z9kA 𝑻𝒆𝒎𝒑𝒍𝒆 𝑫𝑬𝑩𝑼𝑵𝑲𝑺 E̶v̶o̶l̶u̶t̶i̶o̶n̶    𝑻𝒉𝒆𝒐𝒓𝒚?\n"
          ]
        },
        {
          "metadata": {
            "tags": null
          },
          "name": "stderr",
          "output_type": "stream",
          "text": [
            " 39%|███▉      | 4256/10879 [55:26<1:12:56,  1.51it/s]"
          ]
        },
        {
          "metadata": {
            "tags": null
          },
          "name": "stdout",
          "output_type": "stream",
          "text": [
            "This row throws and error: https://www.youtube.com/channel/UCxYP2p9momwAIpyroYEB9Ag 🤔\n"
          ]
        },
        {
          "metadata": {
            "tags": null
          },
          "name": "stderr",
          "output_type": "stream",
          "text": [
            " 42%|████▏     | 4519/10879 [58:43<1:01:31,  1.72it/s]"
          ]
        },
        {
          "metadata": {
            "tags": null
          },
          "name": "stdout",
          "output_type": "stream",
          "text": [
            "This row throws and error: https://www.youtube.com/channel/UC2_CgurqasNWY4JYjJBKfSg 2022🥳\n"
          ]
        },
        {
          "metadata": {
            "tags": null
          },
          "name": "stderr",
          "output_type": "stream",
          "text": [
            " 42%|████▏     | 4569/10879 [59:17<1:08:02,  1.55it/s]"
          ]
        },
        {
          "metadata": {
            "tags": null
          },
          "name": "stdout",
          "output_type": "stream",
          "text": [
            "This row throws and error: https://www.youtube.com/channel/UCOvIMdW_UA44IerwtMq9Adw ភ្ញៀវសម្រាប់ម្ចាស់ក្សត្រិយ  Quest for a Queen Story  រឿងនិទានខ្មែរ\n",
            "This row throws and error: https://www.youtube.com/channel/UCOvIMdW_UA44IerwtMq9Adw វ៉ាយអូលែត  Violet Story  រឿងនិទាន  រឿងនិទានខ្មែរ\n",
            "This row throws and error: https://www.youtube.com/channel/UCOvIMdW_UA44IerwtMq9Adw អ្វីដែលយើងដាំជាអ្វីដែលយើងនិងញុំា  What we plant we eat Story   រឿងនិទានខ្មែរ\n",
            "This row throws and error: https://www.youtube.com/channel/UCOvIMdW_UA44IerwtMq9Adw កូនក្រមុំទាំង៣  Three Dolls Story  រឿងនិទាន  រឿងនិទានខ្មែរ\n",
            "This row throws and error: https://www.youtube.com/channel/UCOvIMdW_UA44IerwtMq9Adw អំណោយវេទមន្ត  The Gift of Magi   រឿងនិទាន  រឿងនិទានខ្មែរ\n",
            "This row throws and error: https://www.youtube.com/channel/UCOvIMdW_UA44IerwtMq9Adw ព្រះអង្គម្ចាស់គួរអោយស្រលាញ់  Prince Darling Story  រឿងនិទាន  រឿងនិទានខ្មែរ\n",
            "This row throws and error: https://www.youtube.com/channel/UCOvIMdW_UA44IerwtMq9Adw អ្នកវៃស្គរ  The Drummer Story  រឿងនិទាន  រឿងនិទានខ្មែរ\n",
            "This row throws and error: https://www.youtube.com/channel/UCOvIMdW_UA44IerwtMq9Adw អ្នករវៃទាំង៣  The Three Spinners  រឿងនិទាន  រឿងនិទានខ្មែរ\n",
            "This row throws and error: https://www.youtube.com/channel/UCOvIMdW_UA44IerwtMq9Adw ទីក្រុងភ្លុកដំរី  The Ivory City Story  រឿងនិទាន  រឿងនិទានខ្មែរ\n",
            "This row throws and error: https://www.youtube.com/channel/UCOvIMdW_UA44IerwtMq9Adw ប្រើសំរាប់ធ្វើអ្វី  What Use Is It Story  រឿងនិទាន  រឿងនិទានខ្មែរ\n",
            "This row throws and error: https://www.youtube.com/channel/UCOvIMdW_UA44IerwtMq9Adw ចេះស្ពើ គ្រប់គ្រងហ្វូងទន្សាយ  Jesper And Hare Story រឿងនិទាន  រឿងនិទានខ្មែរ\n",
            "This row throws and error: https://www.youtube.com/channel/UCOvIMdW_UA44IerwtMq9Adw រឿងរបស់អាឡានតា  The Story of Atlanta  រឿងនិទាន  រឿងនិទានខ្មែរ\n",
            "This row throws and error: https://www.youtube.com/channel/UCOvIMdW_UA44IerwtMq9Adw ព្រះអង្គម្ចាស់មីឡាន  Prince Milan Story  រឿងនិទាន  រឿងនិទានខ្មែរ\n",
            "This row throws and error: https://www.youtube.com/channel/UCOvIMdW_UA44IerwtMq9Adw រឿង កញ្ចក់  The Mirror Story  រឿងនិទាន  រឿងនិទានខ្មែរ\n",
            "This row throws and error: https://www.youtube.com/channel/UCOvIMdW_UA44IerwtMq9Adw ព្រះអង្គម្ចាស់បីអង្គ  The Three Princes Story  រឿងនិទាន  រឿងនិទានខ្មែរ\n",
            "This row throws and error: https://www.youtube.com/channel/UCOvIMdW_UA44IerwtMq9Adw ក្រណាត់រហែក  Tatterhood Story  រឿងនិទាន  រឿងនិទានខ្មែរ\n",
            "This row throws and error: https://www.youtube.com/channel/UCOvIMdW_UA44IerwtMq9Adw ប្រាជ្ញានិងសំណាង  Wisdom And Luck Story  រឿងនិទាន  រឿងនិទានខ្មែរ\n",
            "This row throws and error: https://www.youtube.com/channel/UCOvIMdW_UA44IerwtMq9Adw ពន្លឺនៃក្តីសង្ឃឹម ផ្នែកទី ២  A Ray of Hope - Part 2 Story  រឿងនិទាន  រឿងនិទានខ្មែរ\n",
            "This row throws and error: https://www.youtube.com/channel/UCOvIMdW_UA44IerwtMq9Adw ពន្លឺនៃក្តីសង្ឃឹម - ផ្នែកទី ១  A Ray of Hope - Part 1 Story  រឿងនិទាន  រឿងនិទានខ្មែរ\n"
          ]
        },
        {
          "metadata": {
            "tags": null
          },
          "name": "stderr",
          "output_type": "stream",
          "text": [
            " 42%|████▏     | 4574/10879 [59:20<46:57,  2.24it/s]"
          ]
        },
        {
          "metadata": {
            "tags": null
          },
          "name": "stdout",
          "output_type": "stream",
          "text": [
            "This row throws and error: https://www.youtube.com/channel/UCOvIMdW_UA44IerwtMq9Adw ភ្ញៀវសម្រាប់ម្ចាស់ក្សត្រិយ  Quest for a Queen Story  រឿងនិទានខ្មែរ\n",
            "This row throws and error: https://www.youtube.com/channel/UCOvIMdW_UA44IerwtMq9Adw វ៉ាយអូលែត  Violet Story  រឿងនិទាន  រឿងនិទានខ្មែរ\n",
            "This row throws and error: https://www.youtube.com/channel/UCOvIMdW_UA44IerwtMq9Adw អ្វីដែលយើងដាំជាអ្វីដែលយើងនិងញុំា  What we plant we eat Story   រឿងនិទានខ្មែរ\n",
            "This row throws and error: https://www.youtube.com/channel/UCOvIMdW_UA44IerwtMq9Adw កូនក្រមុំទាំង៣  Three Dolls Story  រឿងនិទាន  រឿងនិទានខ្មែរ\n",
            "This row throws and error: https://www.youtube.com/channel/UCOvIMdW_UA44IerwtMq9Adw អំណោយវេទមន្ត  The Gift of Magi   រឿងនិទាន  រឿងនិទានខ្មែរ\n",
            "This row throws and error: https://www.youtube.com/channel/UCOvIMdW_UA44IerwtMq9Adw ព្រះអង្គម្ចាស់គួរអោយស្រលាញ់  Prince Darling Story  រឿងនិទាន  រឿងនិទានខ្មែរ\n",
            "This row throws and error: https://www.youtube.com/channel/UCOvIMdW_UA44IerwtMq9Adw អ្នកវៃស្គរ  The Drummer Story  រឿងនិទាន  រឿងនិទានខ្មែរ\n",
            "This row throws and error: https://www.youtube.com/channel/UCOvIMdW_UA44IerwtMq9Adw អ្នករវៃទាំង៣  The Three Spinners  រឿងនិទាន  រឿងនិទានខ្មែរ\n",
            "This row throws and error: https://www.youtube.com/channel/UCOvIMdW_UA44IerwtMq9Adw ទីក្រុងភ្លុកដំរី  The Ivory City Story  រឿងនិទាន  រឿងនិទានខ្មែរ\n",
            "This row throws and error: https://www.youtube.com/channel/UCOvIMdW_UA44IerwtMq9Adw ប្រើសំរាប់ធ្វើអ្វី  What Use Is It Story  រឿងនិទាន  រឿងនិទានខ្មែរ\n",
            "This row throws and error: https://www.youtube.com/channel/UCOvIMdW_UA44IerwtMq9Adw ចេះស្ពើ គ្រប់គ្រងហ្វូងទន្សាយ  Jesper And Hare Story រឿងនិទាន  រឿងនិទានខ្មែរ\n",
            "This row throws and error: https://www.youtube.com/channel/UCOvIMdW_UA44IerwtMq9Adw រឿងរបស់អាឡានតា  The Story of Atlanta  រឿងនិទាន  រឿងនិទានខ្មែរ\n",
            "This row throws and error: https://www.youtube.com/channel/UCOvIMdW_UA44IerwtMq9Adw ព្រះអង្គម្ចាស់មីឡាន  Prince Milan Story  រឿងនិទាន  រឿងនិទានខ្មែរ\n",
            "This row throws and error: https://www.youtube.com/channel/UCOvIMdW_UA44IerwtMq9Adw រឿង កញ្ចក់  The Mirror Story  រឿងនិទាន  រឿងនិទានខ្មែរ\n",
            "This row throws and error: https://www.youtube.com/channel/UCOvIMdW_UA44IerwtMq9Adw ព្រះអង្គម្ចាស់បីអង្គ  The Three Princes Story  រឿងនិទាន  រឿងនិទានខ្មែរ\n",
            "This row throws and error: https://www.youtube.com/channel/UCOvIMdW_UA44IerwtMq9Adw ក្រណាត់រហែក  Tatterhood Story  រឿងនិទាន  រឿងនិទានខ្មែរ\n",
            "This row throws and error: https://www.youtube.com/channel/UCOvIMdW_UA44IerwtMq9Adw ប្រាជ្ញានិងសំណាង  Wisdom And Luck Story  រឿងនិទាន  រឿងនិទានខ្មែរ\n",
            "This row throws and error: https://www.youtube.com/channel/UCOvIMdW_UA44IerwtMq9Adw ពន្លឺនៃក្តីសង្ឃឹម ផ្នែកទី ២  A Ray of Hope - Part 2 Story  រឿងនិទាន  រឿងនិទានខ្មែរ\n",
            "This row throws and error: https://www.youtube.com/channel/UCOvIMdW_UA44IerwtMq9Adw ពន្លឺនៃក្តីសង្ឃឹម - ផ្នែកទី ១  A Ray of Hope - Part 1 Story  រឿងនិទាន  រឿងនិទានខ្មែរ\n"
          ]
        },
        {
          "metadata": {
            "tags": null
          },
          "name": "stderr",
          "output_type": "stream",
          "text": [
            "\r 42%|████▏     | 4575/10879 [59:21<1:18:55,  1.33it/s]"
          ]
        },
        {
          "metadata": {
            "tags": null
          },
          "name": "stdout",
          "output_type": "stream",
          "text": [
            "This row throws and error: https://www.youtube.com/channel/UCOvIMdW_UA44IerwtMq9Adw ក្មេងប្រុសមានផ្កាយ  រឿងនិទាន  រឿងនិទានខ្មែរ\n"
          ]
        },
        {
          "metadata": {
            "tags": null
          },
          "name": "stderr",
          "output_type": "stream",
          "text": [
            " 42%|████▏     | 4586/10879 [59:30<54:37,  1.92it/s]  "
          ]
        },
        {
          "metadata": {
            "tags": null
          },
          "name": "stdout",
          "output_type": "stream",
          "text": [
            "This row throws and error: https://www.youtube.com/channel/UC0BBdPzPD4wumBqL7haqejw මිරිස්ස බොක්කත් වැලිගම බොක්කත් එකම තැනකින් පෙනෙන දුර්ලභ වීඩියෝවක්\n",
            "This row throws and error: https://www.youtube.com/channel/UC0BBdPzPD4wumBqL7haqejw වෙසක් මස ප්‍රථම දහම් දෙසුම දෙවිනුවරදී - 2015.05.01\n",
            "This row throws and error: https://www.youtube.com/channel/UC0BBdPzPD4wumBqL7haqejw බුදුගල වන්දනාව\n"
          ]
        },
        {
          "metadata": {
            "tags": null
          },
          "name": "stderr",
          "output_type": "stream",
          "text": [
            " 44%|████▎     | 4744/10879 [1:01:34<54:13,  1.89it/s]"
          ]
        },
        {
          "metadata": {
            "tags": null
          },
          "name": "stdout",
          "output_type": "stream",
          "text": [
            "This row throws and error: https://www.youtube.com/channel/UCBuNyNyenZiGSRSEO9xQfxg Ethiopia - ልዩ የበዐል ዝግጅት ከንብረት ገላው ጋር\n",
            "This row throws and error: https://www.youtube.com/channel/UCBuNyNyenZiGSRSEO9xQfxg አስደሳች ዜና ንብረት ገላው እከ እና አብዱል ፈታ አስደሳች ሰርፕራይዝ!  ETHIOPIA\n",
            "This row throws and error: https://www.youtube.com/channel/UCBuNyNyenZiGSRSEO9xQfxg ተወዳጁ እከ ደብረ ሊባኖስ ገዳም አንድ አባት የነገሩት አስገራሚ ሚስጢር  Ethiopia\n",
            "This row throws and error: https://www.youtube.com/channel/UCBuNyNyenZiGSRSEO9xQfxg ተወዳጁ ንብረት ገላው ከሞት ተነስቼ አዲስ ነገር ይዤላችሁ መጥታችለሁ ብሏል\n",
            "This row throws and error: https://www.youtube.com/channel/UCBuNyNyenZiGSRSEO9xQfxg Ethiopia አርቲስት ንብረት ገላው አስደናቂ ተግባር ፈፀመ!\n",
            "This row throws and error: https://www.youtube.com/channel/UCBuNyNyenZiGSRSEO9xQfxg Ethiopia የህፃናቱ ልብ የሚነካ ንግግር ለንብረት ገላው 'እቴቴ በእግሯ እንድትሄድ አድርግልን!'\n",
            "This row throws and error: https://www.youtube.com/channel/UCBuNyNyenZiGSRSEO9xQfxg Ethiopia እከ የማሥታወቂያውን ዙር በልዩነት አከረረው!!! ሚሊዮኖች ተገረሙ\n",
            "This row throws and error: https://www.youtube.com/channel/UCBuNyNyenZiGSRSEO9xQfxg Ethiopia እናታችን አይናቸውን ደህና ናቸው እንኳን ደስ አላችሁ!\n",
            "This row throws and error: https://www.youtube.com/channel/UCBuNyNyenZiGSRSEO9xQfxg Ethiopia የእናታችን ምርቃት ይድረሳችሁ አርቲስት ንብረት ገላው ጧሪ ከሌላቸው ምስኪን እናት ጋር ያደረገው ቆይታ\n",
            "This row throws and error: https://www.youtube.com/channel/UCBuNyNyenZiGSRSEO9xQfxg በህይወቴ ልቤ እንዲህ ተሰብሮ አይውቅም ይህንን አይቶ አለማልቀስ አይቻልም  Ethiopia\n",
            "This row throws and error: https://www.youtube.com/channel/UCBuNyNyenZiGSRSEO9xQfxg ለስጦታ የቀረበችው ኢትዮጲያዊት ህፃን\n",
            "This row throws and error: https://www.youtube.com/channel/UCBuNyNyenZiGSRSEO9xQfxg እናታችን አርፈዋል ነብስ ይማር አርቲስት ንብረት ገላው ከወዳጅ ጎረቤቶቻቸው ጋር ያደረገው ቆይታ  Ethiopia\n",
            "This row throws and error: https://www.youtube.com/channel/UCBuNyNyenZiGSRSEO9xQfxg አሳዛኝ ገጠመኝ! አርቲስቱ ለበጎ አድሪጎት የሄደበት ግለሰብ በድንገት ሂወቱ አለፈ  Ethiopia\n",
            "This row throws and error: https://www.youtube.com/channel/UCBuNyNyenZiGSRSEO9xQfxg ነቅዕ ድራማችን የምስኪኗን እናት ህይወት ቀየረ! ልዩ ሰርፕራይዝ ከአሜሪካ በአርቲስት በንብረት ገላው  Ethiopia\n",
            "This row throws and error: https://www.youtube.com/channel/UCBuNyNyenZiGSRSEO9xQfxg አርቲስት ንብረት ገላው በገና በአል እቤት ለቀረው ዝነኛ አርቲስት የፈፀመው ልብ የሚነካ ድርጊት  Ethiopia\n",
            "This row throws and error: https://www.youtube.com/channel/UCBuNyNyenZiGSRSEO9xQfxg የአዲስ አመት ልዩ ዝግጅት ከተወዳጅ ህፃናት ተዋናዮች ጋር አዝናኝ ጨዋታዎች  Nek'e Drama\n",
            "This row throws and error: https://www.youtube.com/channel/UCBuNyNyenZiGSRSEO9xQfxg [ልዩ የአዲስ አመት ዝግጅት] ተወዳጇ ድምፃዊት ዘቢባ ግርማ ገራገር ሙዚቃዋን በቀጥታ  Nek'e Drama\n",
            "This row throws and error: https://www.youtube.com/channel/UCBuNyNyenZiGSRSEO9xQfxg ተወዳጁ አርቲስት ንብረት ገላው (እከ) በአዲስ አመት ስጦታ ሰርፕራይዝ አደረጋቸው\n"
          ]
        },
        {
          "metadata": {
            "tags": null
          },
          "name": "stderr",
          "output_type": "stream",
          "text": [
            "\r 44%|████▎     | 4745/10879 [1:01:35<1:04:31,  1.58it/s]"
          ]
        },
        {
          "metadata": {
            "tags": null
          },
          "name": "stdout",
          "output_type": "stream",
          "text": [
            "This row throws and error: https://www.youtube.com/channel/UCBuNyNyenZiGSRSEO9xQfxg ነቅዕ ድራማ ከማህፀን ማዶ፣ ጥበብ ሲታመም፣ የት እንሂድ፣ ሜሴጅ፣ ክብር፣ ኪኒኑና ሌሎችም\n"
          ]
        },
        {
          "metadata": {
            "tags": null
          },
          "name": "stderr",
          "output_type": "stream",
          "text": [
            " 44%|████▍     | 4807/10879 [1:02:21<29:31,  3.43it/s]"
          ]
        },
        {
          "metadata": {
            "tags": null
          },
          "name": "stdout",
          "output_type": "stream",
          "text": [
            "This row throws and error: https://www.youtube.com/channel/UCQzIRd56s9I63YfJAWLi2SA 50 000\n"
          ]
        },
        {
          "metadata": {
            "tags": null
          },
          "name": "stderr",
          "output_type": "stream",
          "text": [
            " 46%|████▌     | 5018/10879 [1:05:06<59:16,  1.65it/s]  "
          ]
        },
        {
          "metadata": {
            "tags": null
          },
          "name": "stdout",
          "output_type": "stream",
          "text": [
            "This row throws and error: https://www.youtube.com/channel/UCZHYynl7LO2v6023LO0YAJA በመላው አለም የሚኖሩ የአማራ ተወላጆች ሊሰሙት የሚገባ ጉድ\n",
            "This row throws and error: https://www.youtube.com/channel/UCZHYynl7LO2v6023LO0YAJA ሀሰተኛው ነብይ 16 አመት በትዳር ላይ ያለሁትን እኔን  ጌታ በዚህ አመት እንደሚድረኝ ሲናገር ለዚህም 80 ሺህ ብር ሲቀበል የስልክ ቅጂ\n",
            "This row throws and error: https://www.youtube.com/channel/UCZHYynl7LO2v6023LO0YAJA ሁለት ጊዜ መኪናዪን ለመስረቅ የመጡት እጅግ ከፍንጅ ሲያዙ የሚያሳይ ቪዲዮ እናንተ ይሄን ተጠቀሙ\n",
            "This row throws and error: https://www.youtube.com/channel/UCZHYynl7LO2v6023LO0YAJA የአቡነ ጴጥሮስ ምን እየሰሩ ነው። እውነታው ሲጋለጥ\n",
            "This row throws and error: https://www.youtube.com/channel/UCZHYynl7LO2v6023LO0YAJA የትግራይ ቆይታዪ በአክሱም እጅግ በጣም አመሰግናለሁ ስላደረጋችሁልኝ ነገር ሁሉ\n",
            "This row throws and error: https://www.youtube.com/channel/UCZHYynl7LO2v6023LO0YAJA ብርሀኑ ነጋ ምን ነካው?\n",
            "This row throws and error: https://www.youtube.com/channel/UCZHYynl7LO2v6023LO0YAJA ከ 3 አመት በፊት የተነገረ ትንቢት ለአማራ ተወላጅ ኢትዮጵያውያን\n",
            "This row throws and error: https://www.youtube.com/channel/UCZHYynl7LO2v6023LO0YAJA ይድረስ በመላው ኢትዮጵያ እና በመላው አለም ለምትኖሩ የትግራይ ተወላጆች በሙሉ ይህ ቃሌ ነው አሁንም ከጎናችሁ ነኝ። በሼር አድርሱልኝ\n",
            "This row throws and error: https://www.youtube.com/channel/UCZHYynl7LO2v6023LO0YAJA እድል በራችሁን እያንኳንኳ ቢሆንስ ቶሎ ክፈቱለት DV2025 አሞላል በነፃ\n",
            "This row throws and error: https://www.youtube.com/channel/UCZHYynl7LO2v6023LO0YAJA አንዳርጋቸው ፅጌ በአማራ ተወላጆች ላይ ያደረገው ታሪክ ይቅር የማይለው ንግግር እጅግ አሳፋር ሁሉም መስማት ያለበት\n",
            "This row throws and error: https://www.youtube.com/channel/UCZHYynl7LO2v6023LO0YAJA የማይታመን እንዴት እዚህ ደረጃ ደረስን?\n",
            "This row throws and error: https://www.youtube.com/channel/UCZHYynl7LO2v6023LO0YAJA የእምነት አባት ስለምን ጦርነትን መረጡ?\n",
            "This row throws and error: https://www.youtube.com/channel/UCZHYynl7LO2v6023LO0YAJA እውነትም ያስፈራ መጨረሻው ዘመን ይሄን ጉድ አሰማን\n",
            "This row throws and error: https://www.youtube.com/channel/UCZHYynl7LO2v6023LO0YAJA ያልታሰበ ነገር በካህናቱ መካከል ተፈጠረ? ምን ተፈጥሮ ይሆን?\n",
            "This row throws and error: https://www.youtube.com/channel/UCZHYynl7LO2v6023LO0YAJA መፍትሄው አንድ ነው። የቱን እንምርጥ?\n",
            "This row throws and error: https://www.youtube.com/channel/UCZHYynl7LO2v6023LO0YAJA ወደ ካናዳም ሆነ አውሮፓ ለመጓዝ ያሰበ ይሄን ቪዲዮ ተመልክቶ የፈለገውን ጥያቄ ያቅርብ በ ሰከንድ መልስ አለው። እድሉን ተጠቀሙ ChatGPT\n",
            "This row throws and error: https://www.youtube.com/channel/UCZHYynl7LO2v6023LO0YAJA እውነታው እና መፍትሄው ተጋልጧል። ያልተሰሙ ሚስጥሮች አቡነ ጴጥሮስ ከ አንድ አመት በፊት የተናገሩት\n",
            "This row throws and error: https://www.youtube.com/channel/UCZHYynl7LO2v6023LO0YAJA ጌታቸው ረዳ በአዲስ አበባ ጎዳናዎች ላይ ታይቷል? አብራር አብዶ እና ችሮታው ከልካይ የት ይገቡ ይሆን?\n",
            "This row throws and error: https://www.youtube.com/channel/UCZHYynl7LO2v6023LO0YAJA የአዲስ አበባ ህዝብ ምን ነካው?\n",
            "This row throws and error: https://www.youtube.com/channel/UCZHYynl7LO2v6023LO0YAJA የወንጌላዊ ተክሉ ተመስገን እና የዶር ደብረፅዮን ገብረሚካኤል ግንኙነት ምን ነበር እውነታው ሲጋልጥ በቪዲዮ ማስረጃ\n",
            "This row throws and error: https://www.youtube.com/channel/UCZHYynl7LO2v6023LO0YAJA እንጠንቀቅ ዘመኑ ከፍቷል እናስተውል። ኢትዮጵያ ምን ተፈጥሮ ነው?\n",
            "This row throws and error: https://www.youtube.com/channel/UCZHYynl7LO2v6023LO0YAJA ልብ የሚነካ እውነት። ከዚህ ምን እንማር?\n",
            "This row throws and error: https://www.youtube.com/channel/UCZHYynl7LO2v6023LO0YAJA በታሪክ ተመዝግቧል። የፋኖ ነውር እና ጥቁር ጠባሳም ላይረሳ ተፅፏል\n",
            "This row throws and error: https://www.youtube.com/channel/UCZHYynl7LO2v6023LO0YAJA በአክሱም በአል አከባበር ላይ ምን ተፈጠረ? እውነታዎች በማስረጃ እንዲህ ቀርበዋል የጨዋነት ጥግ ጉድ ተመልከቱ።\n",
            "This row throws and error: https://www.youtube.com/channel/UCZHYynl7LO2v6023LO0YAJA በንፁሀን ላይ የሚደርስን በደል እቃወማለሁ\n",
            "This row throws and error: https://www.youtube.com/channel/UCZHYynl7LO2v6023LO0YAJA የጌታቸው ረዳ ቪዲዮ 50 ሺህ ዶላር ተገመተ ከ 4 ሚሊዮን 500 ብር በላይ በዚህ እድል ተጠቀሙ\n",
            "This row throws and error: https://www.youtube.com/channel/UCZHYynl7LO2v6023LO0YAJA ሰላም ወዳጆች እንኳን ደስ አላችሁ እውነት አሸንፏል። የሀሰት መረጃን እናጋልጥ\n",
            "This row throws and error: https://www.youtube.com/channel/UCZHYynl7LO2v6023LO0YAJA በማንም ላይ የሚደርስን በደል እቃወማለሁ። ከእውነት ጋር እቆማለሁ\n",
            "This row throws and error: https://www.youtube.com/channel/UCZHYynl7LO2v6023LO0YAJA ኢትዮጵያውያን ስለምን እንዲህ ሆኑ? መፍትሄ ይኖር ይሆን?\n",
            "This row throws and error: https://www.youtube.com/channel/UCZHYynl7LO2v6023LO0YAJA የኛ ነገር ማለቂያ መቆሚያ የለውም\n",
            "This row throws and error: https://www.youtube.com/channel/UCZHYynl7LO2v6023LO0YAJA እንዴት ይሄን አምነን እንቀበል። ይገርማል\n",
            "This row throws and error: https://www.youtube.com/channel/UCZHYynl7LO2v6023LO0YAJA የኢትዮጵያ ወጣት ሆይ እንዴት ነህ?\n",
            "This row throws and error: https://www.youtube.com/channel/UCZHYynl7LO2v6023LO0YAJA ህዝቤ ሆይ እንዴት ነህ? እኔ ደህና ነኝ\n",
            "This row throws and error: https://www.youtube.com/channel/UCZHYynl7LO2v6023LO0YAJA ኢትዮጵያ የት ነው ያለችው?\n",
            "This row throws and error: https://www.youtube.com/channel/UCZHYynl7LO2v6023LO0YAJA አብይ አህመድ ስራውን ሰርቶ ጨርሷል\n",
            "This row throws and error: https://www.youtube.com/channel/UCZHYynl7LO2v6023LO0YAJA የምርኮኛው ሚስጥር ሲጋለጥ የአብይ አህመድ ጄኔራሎች እውነቱን ሲያፈርጡት\n",
            "This row throws and error: https://www.youtube.com/channel/UCZHYynl7LO2v6023LO0YAJA እንዴት በነዚህ ላይ እንንቃባቸው?\n",
            "This row throws and error: https://www.youtube.com/channel/UCZHYynl7LO2v6023LO0YAJA ማነው እውነተኛ? ማንን እንመን?\n",
            "This row throws and error: https://www.youtube.com/channel/UCZHYynl7LO2v6023LO0YAJA የጀዋር መሀመድ ኢንተርቪው እና የጀዋር መጨረሻ ሲጋለጥ የአብይ ውርደት ሲቀርብ\n",
            "This row throws and error: https://www.youtube.com/channel/UCZHYynl7LO2v6023LO0YAJA ይሄም ተደርጎ ነበር?\n",
            "This row throws and error: https://www.youtube.com/channel/UCZHYynl7LO2v6023LO0YAJA HR 6600 ታላቅ የምስራች\n",
            "This row throws and error: https://www.youtube.com/channel/UCZHYynl7LO2v6023LO0YAJA ለጋራ በጋራ እንስራ\n",
            "This row throws and error: https://www.youtube.com/channel/UCZHYynl7LO2v6023LO0YAJA አስቴር በዳኔ ሌላ አለም ላይ ነች? እንዴ?\n",
            "This row throws and error: https://www.youtube.com/channel/UCZHYynl7LO2v6023LO0YAJA የማይታመን ግን እውነት\n",
            "This row throws and error: https://www.youtube.com/channel/UCZHYynl7LO2v6023LO0YAJA ይሄን አይቶ የማይነቃ ካለ ምን ይባላል?\n",
            "This row throws and error: https://www.youtube.com/channel/UCZHYynl7LO2v6023LO0YAJA አብይ አህመድን እንዴት አመነው?\n",
            "This row throws and error: https://www.youtube.com/channel/UCZHYynl7LO2v6023LO0YAJA እንዴት ፖለቲካ ውስጥ ገባሁኝ?\n",
            "This row throws and error: https://www.youtube.com/channel/UCZHYynl7LO2v6023LO0YAJA የኢትዮጵያ እናቶች ሆይ አላችሁ?\n",
            "This row throws and error: https://www.youtube.com/channel/UCZHYynl7LO2v6023LO0YAJA የኢትዮጵያ እውነተኛ ወዳጅ ማነው?\n",
            "This row throws and error: https://www.youtube.com/channel/UCZHYynl7LO2v6023LO0YAJA ህዝብ መስማት ያለበት የተረጋገጠ እውነት በቪዲዮ ማስረጃ ተጋልጧል ።\n",
            "This row throws and error: https://www.youtube.com/channel/UCZHYynl7LO2v6023LO0YAJA ዲያቆን ዳንኤል ክብረት 100% የተረጋገጠ ማስረጃ\n",
            "This row throws and error: https://www.youtube.com/channel/UCZHYynl7LO2v6023LO0YAJA እንዲህም ተደርጎ ነበር?\n",
            "This row throws and error: https://www.youtube.com/channel/UCZHYynl7LO2v6023LO0YAJA ፓስተር ዘላለም ጌታቸው ምን እያለን ነው?\n",
            "This row throws and error: https://www.youtube.com/channel/UCZHYynl7LO2v6023LO0YAJA ህዝቡን እናስተምረው እናንቃው\n",
            "This row throws and error: https://www.youtube.com/channel/UCZHYynl7LO2v6023LO0YAJA ህዝብ ያልተረዳው ብርሀኑ ጁላ ያለበት አደገኛ ሁኔታ በማስረጃ ሲጋለጥ\n",
            "This row throws and error: https://www.youtube.com/channel/UCZHYynl7LO2v6023LO0YAJA ልጆቻን የት ናቸው? እንጠይቅ\n",
            "This row throws and error: https://www.youtube.com/channel/UCZHYynl7LO2v6023LO0YAJA የአቶ አገኘው ዘንድሮ ብዙ ነገር ያሰሙናል\n",
            "This row throws and error: https://www.youtube.com/channel/UCZHYynl7LO2v6023LO0YAJA ከወደ አዲስ አበባ ምን ተሰምቶ ይሆን?\n",
            "This row throws and error: https://www.youtube.com/channel/UCZHYynl7LO2v6023LO0YAJA የምርጫውን ውጤት በቀጥታ ለመከታተል ሰዋስው ብሳይት ምርጥ መንገድ አስተዋወቀ።\n",
            "This row throws and error: https://www.youtube.com/channel/UCZHYynl7LO2v6023LO0YAJA ለጥንቃቄ በአስቸኳይ መሰማት ያለበት መረጃ ለሁሉም የሚጠቅም\n",
            "This row throws and error: https://www.youtube.com/channel/UCZHYynl7LO2v6023LO0YAJA ከባድ የመኪና አደጋ ገጥሞኝ ነበር ፈጣሪ አወጣኝ ይህው ቪዲዮውን ተመልከቱ\n",
            "This row throws and error: https://www.youtube.com/channel/UCZHYynl7LO2v6023LO0YAJA ከዚህ አበኋላ አናምነውም\n",
            "This row throws and error: https://www.youtube.com/channel/UCZHYynl7LO2v6023LO0YAJA በመከላከያ  ትኩረት ያጣው ውጊያ ላይ የሚገኘው የኮረኔል ልጅ ስቃይ እና የእናቱ ጥሪ\n",
            "This row throws and error: https://www.youtube.com/channel/UCZHYynl7LO2v6023LO0YAJA አሁንስ ምን ይሻላል?\n",
            "This row throws and error: https://www.youtube.com/channel/UCZHYynl7LO2v6023LO0YAJA ኢትዮጵያ እንደ ሀገር ያላት አንድ እድል አብይ እንደ ግለሰብ ያለው አንድ እድል ብቻ ነው\n",
            "This row throws and error: https://www.youtube.com/channel/UCZHYynl7LO2v6023LO0YAJA ህዝቤ ሆይ ንቃ ፓለቲከኞች ሊያጫርሱን ነው ለኛ የሚበጀን ሰላም ነው\n",
            "This row throws and error: https://www.youtube.com/channel/UCZHYynl7LO2v6023LO0YAJA ለማመን የሚያስቸግረው ወደ ካናዳ የሚመጣበት መንገድ እውነታው ሲጋለጥ\n",
            "This row throws and error: https://www.youtube.com/channel/UCZHYynl7LO2v6023LO0YAJA እውነታው በቪዲዮ ማስረጃ ሲጋለጥ  የኢትዮጵያ ፖለቲካ ሴራ\n",
            "This row throws and error: https://www.youtube.com/channel/UCZHYynl7LO2v6023LO0YAJA የጥያቄው መልስ ተገኝቷል\n",
            "This row throws and error: https://www.youtube.com/channel/UCZHYynl7LO2v6023LO0YAJA ስለ ቲክቶክ ማወቅ ያለባችሁ ወሳኝ ነገር\n",
            "This row throws and error: https://www.youtube.com/channel/UCZHYynl7LO2v6023LO0YAJA በልብ ውስጥ የሚኖር እረጅም ታሪክ\n",
            "This row throws and error: https://www.youtube.com/channel/UCZHYynl7LO2v6023LO0YAJA አዲስ አበባ ላይ ጩቤ አንገቱ ላይ ተደርጎ ያመለጠው ሰው ቃሉን ስሙት\n",
            "This row throws and error: https://www.youtube.com/channel/UCZHYynl7LO2v6023LO0YAJA የማይነገሩ የኛ እውነቶች እና ማስመሰሎች ሲጋለጡ ከአንድ አንድ\n",
            "This row throws and error: https://www.youtube.com/channel/UCZHYynl7LO2v6023LO0YAJA ቀጣዩ አሰላለፍ እጅግ ከባድ ነው በታሪክ ተዋርደናል ምን ይፈጠር ይሆን\n",
            "This row throws and error: https://www.youtube.com/channel/UCZHYynl7LO2v6023LO0YAJA እውነታው ሲጋለጥ የቲውት አካውንቱ ፎቶ ቀይሮ ተገኘ\n",
            "This row throws and error: https://www.youtube.com/channel/UCZHYynl7LO2v6023LO0YAJA ወዴት እየሄድን ነው ?\n",
            "This row throws and error: https://www.youtube.com/channel/UCZHYynl7LO2v6023LO0YAJA መቀበል ይከብዳል\n",
            "This row throws and error: https://www.youtube.com/channel/UCZHYynl7LO2v6023LO0YAJA ከፖሊስ በተደወለ ስልክ ገንዘቧን የተበላችው ሁሉም ሊሰማው የሚገባ እጅግ አስተማሪ ታሪክ የሰማ ላልሰማ ያሰማ\n",
            "This row throws and error: https://www.youtube.com/channel/UCZHYynl7LO2v6023LO0YAJA አለመሳቅ አይቻልም በሉ ሳቁ\n",
            "This row throws and error: https://www.youtube.com/channel/UCZHYynl7LO2v6023LO0YAJA የሚሰማው ከባድ ነው ነገ በጓዳችን ይገባል ከዚህም የከፋ ነገር ይመጣል\n",
            "This row throws and error: https://www.youtube.com/channel/UCZHYynl7LO2v6023LO0YAJA እውነታው ይሄ ነው ፊስቡክ ይሰልለናል? ዩቱብስ ይሰልለናል ? ምን እናድርግ\n",
            "This row throws and error: https://www.youtube.com/channel/UCZHYynl7LO2v6023LO0YAJA የሃና ዮሀንስ ስህተቶች በቪዲዮ ማስረጃ ሲጋለጡ\n",
            "This row throws and error: https://www.youtube.com/channel/UCZHYynl7LO2v6023LO0YAJA የሚሰማ ጆሮ ያለው ይስማ ነገርን በምሳሌ ጠጅን በብርሌ እንዳይቆጨን እንጠንቀቅ\n",
            "This row throws and error: https://www.youtube.com/channel/UCZHYynl7LO2v6023LO0YAJA እውነታው ሲጋለጥ ሀጎስ ወይስ በቀለ ሻንቆ የመከላከያ ሰራዊት የሀሰት ዜና ተጋልጧል\n",
            "This row throws and error: https://www.youtube.com/channel/UCZHYynl7LO2v6023LO0YAJA ምን እየተደረገ ነው? እናስተውል\n",
            "This row throws and error: https://www.youtube.com/channel/UCZHYynl7LO2v6023LO0YAJA የሆነው ይሄ ነው\n",
            "This row throws and error: https://www.youtube.com/channel/UCZHYynl7LO2v6023LO0YAJA እጅግ ያሳዝናል ህዝብ በግልጥ እያለቀ ነው እውነታው ለምን ተደበቀ\n",
            "This row throws and error: https://www.youtube.com/channel/UCZHYynl7LO2v6023LO0YAJA ምን ይሻለናል? ከባድ ጊዜ መጥቷል ተጠንቀቁ\n",
            "This row throws and error: https://www.youtube.com/channel/UCZHYynl7LO2v6023LO0YAJA ጌታ እንዲህ ይላል ኑሮ ለከበዳችሁ ሚሪንዳ ጠጡ ሙዝ ብሉ ጁስ ጠጡ\n",
            "This row throws and error: https://www.youtube.com/channel/UCZHYynl7LO2v6023LO0YAJA ስለ ጠም አብይ ጌታ ተናገረኝ ያለው ሰው ጌታ የተናገረውን ቆርጦ አወጣው\n",
            "This row throws and error: https://www.youtube.com/channel/UCZHYynl7LO2v6023LO0YAJA ለጥንቃቄ ህዝብ በጡት በአንጀት በመሀፀን ካንሰር እያለቀ ነው ያልሰማ ላለስማ ያስማ\n",
            "This row throws and error: https://www.youtube.com/channel/UCZHYynl7LO2v6023LO0YAJA ስቃይ ጨምሯል ጦርነቱ በኛ ውስጥ በሶስት እጥፍ ቀጥሏል ትዳር ፈርሷል\n",
            "This row throws and error: https://www.youtube.com/channel/UCZHYynl7LO2v6023LO0YAJA የኮሮና ክትባት እውነታውን ላልሰማ አሰሙ አስደንጋጩ ዜና ሲጋለጥ\n",
            "This row throws and error: https://www.youtube.com/channel/UCZHYynl7LO2v6023LO0YAJA መድሀኒቱ በዚህ አስጨናቂ ጊዜ ሁሉም ማየት ያለበት ቪዲዮ\n",
            "This row throws and error: https://www.youtube.com/channel/UCZHYynl7LO2v6023LO0YAJA ወደ ካናዳ የሚመጣባቸው ትክክለኛ መንገዶች ከአጭበርባሪዎች ተጠንቀቁ\n",
            "This row throws and error: https://www.youtube.com/channel/UCZHYynl7LO2v6023LO0YAJA የሀሰተኛ ነብይት ብርቱኳን ሀሰቶች በማስረጃ ሲጋለጡ! እኔ ባጠፋሁት ይቅርታ እጠይቃለሁ ይቅር በሉኝ\n",
            "This row throws and error: https://www.youtube.com/channel/UCZHYynl7LO2v6023LO0YAJA እውነታው ሲጋለጥ ማነው ገዳይ ማነው አስገዳይ ለህሊና ፍረዱ እውነት ስሙ ጠይቁ\n",
            "This row throws and error: https://www.youtube.com/channel/UCZHYynl7LO2v6023LO0YAJA በኦን ላይን እንዴት ፓስፖርት ማውጣት ይቻላል? የጠፋበት ለማሳደስ ክፍል አንድ\n",
            "This row throws and error: https://www.youtube.com/channel/UCZHYynl7LO2v6023LO0YAJA ዛሬ ከሞት ያመለጥኩበት ገራሚ ቀን እና እጅግ የተማርኩበት የዲቪ ሎተሪ\n",
            "This row throws and error: https://www.youtube.com/channel/UCZHYynl7LO2v6023LO0YAJA የ DV 2022 ሎተሪ አሞላል እና አስፈላጊ ዶክመንቶችን የሚያሳይ ምርጥ ቪዲዮ\n",
            "This row throws and error: https://www.youtube.com/channel/UCZHYynl7LO2v6023LO0YAJA 11 ሺህ ዶላር በካናዳ በአሜሪካ 10 ዶላር በላሁኝ ወይስ ተበላሁኝ እውነታው ይሄ ነው\n",
            "This row throws and error: https://www.youtube.com/channel/UCZHYynl7LO2v6023LO0YAJA ተዋረድኩኝ 2013 ብር በመቀየሩ ተናድጄ ተቃጥዪ አላባራም 2 ሚሊዮን ኪሳራ\n",
            "This row throws and error: https://www.youtube.com/channel/UCZHYynl7LO2v6023LO0YAJA ለ 2013 እውነታው ይሄ ነው የሚሰማ ጆሮ ያለው ይስማ\n",
            "This row throws and error: https://www.youtube.com/channel/UCZHYynl7LO2v6023LO0YAJA ኑ አብረን እንደግ እራሳችንን እንለውጥ በነፃ ተጠቀሙ\n",
            "This row throws and error: https://www.youtube.com/channel/UCZHYynl7LO2v6023LO0YAJA ይሄን መስማት በጣም ያማል እጅግ በጣም ያማል የደረሰበት ያውቀዋል\n",
            "This row throws and error: https://www.youtube.com/channel/UCZHYynl7LO2v6023LO0YAJA ማን ይሆን አዚም አድርጎብን እንዲህ የወረድነው?\n",
            "This row throws and error: https://www.youtube.com/channel/UCZHYynl7LO2v6023LO0YAJA የሃጫሉ አጎት ግድያ እና ሰለፎች እውነት እና ውሸት\n",
            "This row throws and error: https://www.youtube.com/channel/UCZHYynl7LO2v6023LO0YAJA እስልምናን እና ክርስትናን ለማጋጨት ሆን ተብሎ የተፖሰተው ሲጋለጥ\n",
            "This row throws and error: https://www.youtube.com/channel/UCZHYynl7LO2v6023LO0YAJA የመጨረሻው መጨረሻ ለዶክተር አብይ ከዚህ የሚበልጥ ምንም የለም\n",
            "This row throws and error: https://www.youtube.com/channel/UCZHYynl7LO2v6023LO0YAJA የኢትዮጵያ አስደንጋጭ ሁኔታ እውነታው ይሄ ነው\n",
            "This row throws and error: https://www.youtube.com/channel/UCZHYynl7LO2v6023LO0YAJA ፈገግታ እና ቁምነገር እየሳቁ መማር\n",
            "This row throws and error: https://www.youtube.com/channel/UCZHYynl7LO2v6023LO0YAJA ከሻሸመኔ እጅግ የሚያሳዝን ክስተት ከተጎጂዎች አንደበት ህዝብ ይፍረድ\n",
            "This row throws and error: https://www.youtube.com/channel/UCZHYynl7LO2v6023LO0YAJA የአባይ ግድብ የውሃ ሙሌት ውሸት ነው\n",
            "This row throws and error: https://www.youtube.com/channel/UCZHYynl7LO2v6023LO0YAJA እውነታው ይህ ነው ከነመረጃው የሚዘገንኑት ፎቶዎች ገበና\n",
            "This row throws and error: https://www.youtube.com/channel/UCZHYynl7LO2v6023LO0YAJA የቄሮ የእልቂት እና የዘረፋ ጥሪ መጨረሻው ከባድ ነው እናስጠንቅቅ\n",
            "This row throws and error: https://www.youtube.com/channel/UCZHYynl7LO2v6023LO0YAJA እጅግ አስደንጋጭ የጦርነት ቅስቀሳ እየተደረገ ነው ያሳዝናል በትልቅ ሚዲያ\n",
            "This row throws and error: https://www.youtube.com/channel/UCZHYynl7LO2v6023LO0YAJA ሁለት ኢትዮጵያውያንን በግብፅ በጩቤ ማን ወጋቸው ሌላም መረጃ\n",
            "This row throws and error: https://www.youtube.com/channel/UCZHYynl7LO2v6023LO0YAJA ጃዋር ጥቃት ደርሶበታል በእሳት ቃጠሎ የአማራ ተወላጆች የትግራይ ተወላጆች በአሩሲ በኦሮሚያ ሞተዋል?\n",
            "This row throws and error: https://www.youtube.com/channel/UCZHYynl7LO2v6023LO0YAJA እርስ በእርስ እንድንባላ የሚያድርጉንን እናጋልጣለን\n",
            "This row throws and error: https://www.youtube.com/channel/UCZHYynl7LO2v6023LO0YAJA ነፍሰ በላዎቹ ከነማንነታቸው ሲጋለጡ\n",
            "This row throws and error: https://www.youtube.com/channel/UCZHYynl7LO2v6023LO0YAJA የአስቴር በዳኔ አሳፋሪ ተግባር በሃጫሉ ሞት\n",
            "This row throws and error: https://www.youtube.com/channel/UCZHYynl7LO2v6023LO0YAJA ከሃጫሉ ሞት ጀርባ ያሉ ሚስጥሮች እና የጃዋር ትልቁ ሚና\n",
            "This row throws and error: https://www.youtube.com/channel/UCZHYynl7LO2v6023LO0YAJA ገድለህው ስልክ ደውልልኝ ያለው ሰው ማንነት ለምን ተደበቀ ከነሰሀረ ግድያ ጀርባ ያለው ሚስጥር ምንድነው\n",
            "This row throws and error: https://www.youtube.com/channel/UCZHYynl7LO2v6023LO0YAJA የአባይ ግድብ እንዳይሞላ ጠቅላይ ሚንስትር አብይ አህመድ ምን አደረጉ\n",
            "This row throws and error: https://www.youtube.com/channel/UCZHYynl7LO2v6023LO0YAJA የአጫሉ አላማ ግቡን መቷል በሙስሊሞች ላይ ጥላቻን የሚዘራው ማነው\n",
            "This row throws and error: https://www.youtube.com/channel/UCZHYynl7LO2v6023LO0YAJA አባይ ፖለቲካ አይደለም አባይ ከብሔር በላይ ነው\n",
            "This row throws and error: https://www.youtube.com/channel/UCZHYynl7LO2v6023LO0YAJA ይህ እጅግ ትልቅ ቁምነገር ነው የትኛውም ኢትዮጵያዊ ማወቅ መስማት ያለበት እውነት\n",
            "This row throws and error: https://www.youtube.com/channel/UCZHYynl7LO2v6023LO0YAJA ያሳዝናል ዘንድሮ የማይሰማ የማይታይ የለም ከአሳፋሪው እስከ አሸማቃቂው ይሄን ጉድ ስሙልኝ\n",
            "This row throws and error: https://www.youtube.com/channel/UCZHYynl7LO2v6023LO0YAJA ለካናዳ አሜሪካ አውሮፓ ጉዞ በኢንተርኔት ጎዞ ለጀመራችሁ ላሰባችሁ መረጃ\n",
            "This row throws and error: https://www.youtube.com/channel/UCZHYynl7LO2v6023LO0YAJA ኮሮና ሳይዘን ምልክቱ ሳይኖርብን በግድ ማገገሚያ ገብተናል የሞት ሪፖርቱም ይጣራ\n",
            "This row throws and error: https://www.youtube.com/channel/UCZHYynl7LO2v6023LO0YAJA እንዳይቆጨን እንዳይፀፅተን ይሄን እንስማ\n",
            "This row throws and error: https://www.youtube.com/channel/UCZHYynl7LO2v6023LO0YAJA ETHIOPIA በአማራ ክልል ስላለሁ ሁኔታ እውነታው ሲጋለጥ ከነማስረጃው\n",
            "This row throws and error: https://www.youtube.com/channel/UCZHYynl7LO2v6023LO0YAJA ETHIOPIA በትግራይ ያለው እውነታው ሲጋለጥ ከነማስረጃው\n",
            "This row throws and error: https://www.youtube.com/channel/UCZHYynl7LO2v6023LO0YAJA ETHIOPIA ከዚህ በኋላ ለፊስቡክ ፎቶ መጨነቅ ቀረ እድሜ ለቴክኖሎጂ\n",
            "This row throws and error: https://www.youtube.com/channel/UCZHYynl7LO2v6023LO0YAJA ETHIOPIA እንዳይቆጨን ይሄን እውነት እንስማ ላልሰማ እናሰማ\n",
            "This row throws and error: https://www.youtube.com/channel/UCZHYynl7LO2v6023LO0YAJA ETHIOPIA አንፋታም ችግርን እንፈታለን እንጂ በኮሮና የተፈተነው ትዳር\n",
            "This row throws and error: https://www.youtube.com/channel/UCZHYynl7LO2v6023LO0YAJA ETHIOPIA እውነታን የቱ ነው ኮሮና አለ ወይስ የለም ጉድ ስሙ\n",
            "This row throws and error: https://www.youtube.com/channel/UCZHYynl7LO2v6023LO0YAJA ETHIOPIA እጅግ አስተማሪ በቶሮንቶ ከተማ ከኮሮና 80 ፐርሰንት ያገገመው ወንድማችን\n",
            "This row throws and error: https://www.youtube.com/channel/UCZHYynl7LO2v6023LO0YAJA Ethiopian ዘንድሮ የማይሰማ የለም 4 ቱ የአባይ ግድብን ለማፍረስ መቶ ሚሊዮን ዶላር የተቀበሉት\n",
            "This row throws and error: https://www.youtube.com/channel/UCZHYynl7LO2v6023LO0YAJA ETHIOPIA እንኳን ደስ አላችሁ በኢትዮጵያ እና ከኢትዮጵያ ውጪ ላላችሁ በሙሉ ምርጥ አፕ\n",
            "This row throws and error: https://www.youtube.com/channel/UCZHYynl7LO2v6023LO0YAJA ETHIOPIA ዲጂታል ማርኬቲንግ ምንድነው እውነታው ሲጋለጥ\n",
            "This row throws and error: https://www.youtube.com/channel/UCZHYynl7LO2v6023LO0YAJA ETHIOPIA በቤሩት ምን ተፈጠረ መፍትሄውስ ምንድነው\n",
            "This row throws and error: https://www.youtube.com/channel/UCZHYynl7LO2v6023LO0YAJA ETHIOPIA ለነባር እና አዳዲስ ዩቱበሮች አስቸኳይ መረጃ\n",
            "This row throws and error: https://www.youtube.com/channel/UCZHYynl7LO2v6023LO0YAJA ETHIOPIA የሚሊኒየም አዳራሽ ገበና በአሌክስ አብርሀ\n",
            "This row throws and error: https://www.youtube.com/channel/UCZHYynl7LO2v6023LO0YAJA ETHIOPIA በራሱ ጊዜ እራሱን ያዋረደው ነብይ እውነታው በማስረጃ ሲጋለጥ\n",
            "This row throws and error: https://www.youtube.com/channel/UCZHYynl7LO2v6023LO0YAJA ETHIOPIA እጅግ ምርጥ መረጃ ኮሮና ይዞብን የመጣው የህይውት ትርጉም\n",
            "This row throws and error: https://www.youtube.com/channel/UCZHYynl7LO2v6023LO0YAJA ETHIOPIA እሳዛኝ ጊዜ ነበር ከ 11 አመት በፊት የጥላሁን ገሰሰ የአስከሬን ሽኝት\n",
            "This row throws and error: https://www.youtube.com/channel/UCZHYynl7LO2v6023LO0YAJA ETHIOPIA እውነታው ይሄ ነው በዱባይ ለምን ኢትዮጵያውያን የከፋ የኮሮና ስርጭት ገጠማቸው\n",
            "This row throws and error: https://www.youtube.com/channel/UCZHYynl7LO2v6023LO0YAJA ETHIOPIA እጅግ አስደንጋጭ መታየት ያለበት ኮሮና የሚያስተላልፉ ተጋለጡ\n",
            "This row throws and error: https://www.youtube.com/channel/UCZHYynl7LO2v6023LO0YAJA ETHIOPIA ዘንድሮ ገና ጉድ እንሰማለን ያልተሰሙ እውነቶች ፈረጡ\n",
            "This row throws and error: https://www.youtube.com/channel/UCZHYynl7LO2v6023LO0YAJA ETHIOPIA ከአዲስ አበባ ከተማ የተሰማ እጅግ አሳፋሪ ተግባር\n",
            "This row throws and error: https://www.youtube.com/channel/UCZHYynl7LO2v6023LO0YAJA ETHIOPIA ስለ ዮኒ እና ስለ ኮሮና እውነትን መስማት እና ማወቅ አርነት ያወጣል\n",
            "This row throws and error: https://www.youtube.com/channel/UCZHYynl7LO2v6023LO0YAJA ETHIOPIA እጅግ አስደንጋጭ ፉገራ 286 ሺህ በወረርሽኝ ተነካክቷል ይለናል\n",
            "This row throws and error: https://www.youtube.com/channel/UCZHYynl7LO2v6023LO0YAJA ETHIOPIA ከቤታችን ሳንወጣ እንዴት እራሳሽንን መመርመር እንችላለን ስለ ወረርሽኙ\n",
            "This row throws and error: https://www.youtube.com/channel/UCZHYynl7LO2v6023LO0YAJA ETHIOPIA ይሄን የሰማህ ስለዚህ መረጃ ላልሰማ አሰማ\n",
            "This row throws and error: https://www.youtube.com/channel/UCZHYynl7LO2v6023LO0YAJA ETHIOPIA ይህ ወረርሽኝ ቀልድ አይደለም ቶሮንቶ ይህው ይሄን መስሏል\n",
            "This row throws and error: https://www.youtube.com/channel/UCZHYynl7LO2v6023LO0YAJA ETHIOPIA ከቶሮንቶ በአዲሱ ወረርሽኝ የተያዘው ኢትዮጵያዊ ከእኔ ተማሩ ይለናል\n",
            "This row throws and error: https://www.youtube.com/channel/UCZHYynl7LO2v6023LO0YAJA ETHIOPIA ህዝብን በማዘናጋት ሊጠየቁ ይገባል ማስጠንቀቂያ\n",
            "This row throws and error: https://www.youtube.com/channel/UCZHYynl7LO2v6023LO0YAJA ETHIOPIA ይህ የመጨረሻው መጨረሻ ማስጠንቀቂያ ነው ላልሰማ አሰሙ\n",
            "This row throws and error: https://www.youtube.com/channel/UCZHYynl7LO2v6023LO0YAJA ETHIOPIA በአዲሱ ወረርሽኝ የተያዘው ኢትዮጵያዊ ዝምታውን ሰበረው ቃለምልልስም ሰጠ\n",
            "This row throws and error: https://www.youtube.com/channel/UCZHYynl7LO2v6023LO0YAJA ETHIOPIA እጅ መታጠብ ያሳያችሁ በሙሉ 50% ተሸውዳችኋል እውነታው ይህ ነው\n",
            "This row throws and error: https://www.youtube.com/channel/UCZHYynl7LO2v6023LO0YAJA ETHIOPIA ሳትጨነቁ ስለ አዲሱ ወረርሽኝ ይሄን የህዝብ ድምፅ ስሙ\n",
            "This row throws and error: https://www.youtube.com/channel/UCZHYynl7LO2v6023LO0YAJA ETHIOPIA እጅግ አሳዛኝ የወሲብ ቪዲዮ በማየት የተቸገረው ኢትዮጵያዊ\n",
            "This row throws and error: https://www.youtube.com/channel/UCZHYynl7LO2v6023LO0YAJA ETHIOPIA እንደ እኔ ቀድሞ ፍርሀቱ ላስጨነቃችሁ ይቺን እውነት ስሙ በዛውም ተፈወሱ\n",
            "This row throws and error: https://www.youtube.com/channel/UCZHYynl7LO2v6023LO0YAJA ETHIOPIA ለአባይ ወታደር ሆኜ እዘምታለሁ ድምፃዊ ያሬድ አፈወርቅ እና ሌሎችም ክፍል 1\n",
            "This row throws and error: https://www.youtube.com/channel/UCZHYynl7LO2v6023LO0YAJA ETHIOPIA በካናዳ ፕሮሰስ ስም የሚያጭበረብሩ 14 ግለሰቦች ሲጋለጡ\n",
            "This row throws and error: https://www.youtube.com/channel/UCZHYynl7LO2v6023LO0YAJA ETHIOPIA ጃዋር ስለምርጫው ጉድ ሊያፈላብን ነው ዘንድሮ የማይሰማ የለም\n",
            "This row throws and error: https://www.youtube.com/channel/UCZHYynl7LO2v6023LO0YAJA ETHIOPIA በጎንደር 13 ካናዳዊያን ለምን ታሰሩ\n",
            "This row throws and error: https://www.youtube.com/channel/UCZHYynl7LO2v6023LO0YAJA ETHIOPIA ስለ ትዳር ስለ ፍቅር ስለ ገንዘብ ስለ ጤና በነፃ ትምህርት\n",
            "This row throws and error: https://www.youtube.com/channel/UCZHYynl7LO2v6023LO0YAJA ETHIOPIA ስለ ዶር አብይ ነቢያት እግዞ እንዲህ አይነት ድፍረት ይከብዳል\n",
            "This row throws and error: https://www.youtube.com/channel/UCZHYynl7LO2v6023LO0YAJA ETHIOPIA አንድ ሰው በህይወት እስካለ ማወቅ ማየት ያለበት ምርጥ ቪዲዮ\n",
            "This row throws and error: https://www.youtube.com/channel/UCZHYynl7LO2v6023LO0YAJA ETHIOPIA የራቁት ቪዲዮ እና ፎቶ መጨረሻው ሲጋለጥ እጅግ አስደንጋጭ መረጃ\n",
            "This row throws and error: https://www.youtube.com/channel/UCZHYynl7LO2v6023LO0YAJA ETHIOPIA ሁለት ሚሊዮን ብር ሲጋለጥ  አሁን በዚህ ካልሳቅን በምን እንስቃለን\n",
            "This row throws and error: https://www.youtube.com/channel/UCZHYynl7LO2v6023LO0YAJA ETHIOPIA ብዙዎችን ግራ ያጋባው አስደንጋጭ የዶር አብይ የኦሮምኛ ንግግር ሙሉ ትርጉም\n",
            "This row throws and error: https://www.youtube.com/channel/UCZHYynl7LO2v6023LO0YAJA ETHIOPIA የፈይሳ አዱኛ እና የኛ መጨቃጨቂያ አዲሱ ቋንቋችን ወይስ ነባሩ\n",
            "This row throws and error: https://www.youtube.com/channel/UCZHYynl7LO2v6023LO0YAJA ETHIOPIA እውነታን ማንወቅ አርነት ያወጣል እውነታውን በዚህ እንረዳ\n",
            "This row throws and error: https://www.youtube.com/channel/UCZHYynl7LO2v6023LO0YAJA ETHIOPIA ይሄን ቪዲዮ አለማድነቅ እንዴት ይቻላል እጅግ ምርጥ ጠቃሚ በጣም ጠቃሚ\n",
            "This row throws and error: https://www.youtube.com/channel/UCZHYynl7LO2v6023LO0YAJA ETHIOPIA ሞት አይቀርም እንዲህ መሞት ግን ያናድዳል እጅግ ምርጥ መረጃ\n",
            "This row throws and error: https://www.youtube.com/channel/UCZHYynl7LO2v6023LO0YAJA ETHIOPIA ሰው እየሞተ ነው እጅግ አስደንጋጭ ግን ጠቃሚ መረጃ መታየት ያለበት\n",
            "This row throws and error: https://www.youtube.com/channel/UCZHYynl7LO2v6023LO0YAJA ETHIOPIA ስልኮት ተጠልፎ ይሆን ማን ጠለፈው ታዲያ ያለ እርሶ ፍቃድ እንዴት ተደወለ\n",
            "This row throws and error: https://www.youtube.com/channel/UCZHYynl7LO2v6023LO0YAJA ETHIOPIA እውነታው ተጋለጠ መቶ ፐርሰንት ታወቀ ቤክ ለማቃጠል 2 ሚሊዮን ተቀበሉ ስለተባሉት\n",
            "This row throws and error: https://www.youtube.com/channel/UCZHYynl7LO2v6023LO0YAJA ETHIOPIA እንደ ሰው ካሰብህን ህሊና ካለን ስለ እውነት ብለን እንፍረድ\n",
            "This row throws and error: https://www.youtube.com/channel/UCZHYynl7LO2v6023LO0YAJA ETHIOPIA ማስጠንቀቂያ በሜሴጅ በዋትሳፕ በኢሞ የሚላክ የአዲስ አመት መልእክት በጭራሽ እንዳትከፍቱት\n",
            "This row throws and error: https://www.youtube.com/channel/UCZHYynl7LO2v6023LO0YAJA ETHIOPIA እስላም ሰላም ነው ቤክ እና መስኪድ ያቃጠለው ማነው\n",
            "This row throws and error: https://www.youtube.com/channel/UCZHYynl7LO2v6023LO0YAJA ETHIOPIA አልሞተም የሀሰት መረጃ ነው ዜናውን በትክክል የለቀቀቅ 100 % ዋልታ ነው\n",
            "This row throws and error: https://www.youtube.com/channel/UCZHYynl7LO2v6023LO0YAJA ETHIOPIA እኔ በግሌ ተፀፅቻለሁ ይቅርታም እጠይቃለሁ እውነታው ያስለቅሳል\n",
            "This row throws and error: https://www.youtube.com/channel/UCZHYynl7LO2v6023LO0YAJA ETHIOPIA እህታችን ሳራ ጥፋቷን ሁሉ አምና የኢትዮጵያን ህዝብ ይቅርታ ጠይቃለች እንቀበላት\n",
            "This row throws and error: https://www.youtube.com/channel/UCZHYynl7LO2v6023LO0YAJA ETHIOPIA የሳራ ጥላሁን ማንነት ከፊስቡክ እስከ እንግሊዝ ከእንግሊዝ እስከ ቱርክ ከ ቱርክ እስከ ካናዳ\n",
            "This row throws and error: https://www.youtube.com/channel/UCZHYynl7LO2v6023LO0YAJA ETHIOPIA እውነታን መስማት ያሳርፋል የወልዲያ ዩንቨርስቲ እውነታው ይህ ነው\n",
            "This row throws and error: https://www.youtube.com/channel/UCZHYynl7LO2v6023LO0YAJA ETHIOPIA ወጣት ሆይ ለዚህ ወሳኝ ጥሪ እውነተኛ ታሪክ እራስህን አዘጋጅ\n",
            "This row throws and error: https://www.youtube.com/channel/UCZHYynl7LO2v6023LO0YAJA ETHIOPIA የአሸባሪ ማንነት እና የትራምፕ ቲውተር ሲፈተሽ እውነታው ሲጋለጥ\n",
            "This row throws and error: https://www.youtube.com/channel/UCZHYynl7LO2v6023LO0YAJA የኢትዮጵ ሴቶች አሜሪካ አግብተው የሚመጡት ለገንዘብ ነው ጀዋር ትዳርስ አፋቷል\n",
            "This row throws and error: https://www.youtube.com/channel/UCZHYynl7LO2v6023LO0YAJA ETHIOPIA እግዚኦ ያሰኘው የቄሮ ድርጊት በአዲስ አበባ እና በኦሮሚያ\n",
            "This row throws and error: https://www.youtube.com/channel/UCZHYynl7LO2v6023LO0YAJA ETHIOPIA አስገራሚው ምርጥ የእንግሊዘኛ አስተማሪው ኢትዮጵያዊ\n",
            "This row throws and error: https://www.youtube.com/channel/UCZHYynl7LO2v6023LO0YAJA ETHIOPIA አስደንጋጭ ዩቱብ የሰብስክራይብ ቁጥርን ሊቀንስ ነው\n",
            "This row throws and error: https://www.youtube.com/channel/UCZHYynl7LO2v6023LO0YAJA ETHIOPIA የሌብነት ደፍረት እዚህ ደርሷል ሀገሪቱ የሌቦች ሆናለች መንግስት የለም\n",
            "This row throws and error: https://www.youtube.com/channel/UCZHYynl7LO2v6023LO0YAJA Ethiopia ጉድ ስሙልኝ ከራሳቸው አንደበት ብዙ ትዳር በስልክ እየፈረሰ ነው ልጆች እየተበተኑ ነው\n",
            "This row throws and error: https://www.youtube.com/channel/UCZHYynl7LO2v6023LO0YAJA ETHIOPIA እውነት ሙሌ ሞቷል ለምን ይሄስ አሥፈለገ\n",
            "This row throws and error: https://www.youtube.com/channel/UCZHYynl7LO2v6023LO0YAJA ETHIOPIA እጅግ ምርጥ የ DV 2021 ሙሉ አሞላል ከነማብራሪያው\n",
            "This row throws and error: https://www.youtube.com/channel/UCZHYynl7LO2v6023LO0YAJA ETHIOPIA ተጠንቀቁ እውነታው ይሄን ነው በከንቱ አትልፉ ሁሉም ውሸት ነው\n",
            "This row throws and error: https://www.youtube.com/channel/UCZHYynl7LO2v6023LO0YAJA ETHIOPIA ትልቅ ማስጠንቀቂያ የሰማ ላልሰማ ያሰማ ይህ ወሳኝ መረጃ ነው\n",
            "This row throws and error: https://www.youtube.com/channel/UCZHYynl7LO2v6023LO0YAJA ETHIOPIA 10 ሚልዮን ዶላር ሎተሪ ያሸነፈውን በአዲስ አበባ ማን ገደለው ለምን ተገደለ\n",
            "This row throws and error: https://www.youtube.com/channel/UCZHYynl7LO2v6023LO0YAJA ETHIOPIA ዘቅጠናል በአስተሳሰባችን ላሽቀናል እኛ ማለት እንዲህ ወርደናል\n",
            "This row throws and error: https://www.youtube.com/channel/UCZHYynl7LO2v6023LO0YAJA ETHIOPIA ከሰው በታች ማሰብ ማለት ህሊናህ ሲታወር የምታስበው ሀሳብ ነው\n",
            "This row throws and error: https://www.youtube.com/channel/UCZHYynl7LO2v6023LO0YAJA ETHIOPIA በነዚህ ምርጥ ኢትዮጵያውያን መኩራት ካለብን እንኩራባቸው\n",
            "This row throws and error: https://www.youtube.com/channel/UCZHYynl7LO2v6023LO0YAJA ETHIOPIA በደብቡ አፍሪካ የሚኖሩ ወገኖቻችን ትክክለኛው ጩህታቸው እና መረጃ በቀጥታ\n",
            "This row throws and error: https://www.youtube.com/channel/UCZHYynl7LO2v6023LO0YAJA ETHIOPIA እጅግ አስደንጋጭ እየተጫወተ በተቀመጠበት ሸርተት አለ በዛውም ሞተ\n",
            "This row throws and error: https://www.youtube.com/channel/UCZHYynl7LO2v6023LO0YAJA ETHIOPIA የመስቀል ስር ቁማርተኞች ቆብ ለባሽ ፖለቲከኞችን እፋለማለሁ በቃ\n",
            "This row throws and error: https://www.youtube.com/channel/UCZHYynl7LO2v6023LO0YAJA ETHIOPIA እንጀራ የኛ ሱስ የኛ ድራግ ያለመሳቀቅ ብሉ ለጤና ጥሩ ነው ተባልን\n",
            "This row throws and error: https://www.youtube.com/channel/UCZHYynl7LO2v6023LO0YAJA ETHIOPIA ይህ እጅግ አንገብጋቢ መረጃ ነው አልሰማሁም የለም ለዩቱዩበሮች\n",
            "This row throws and error: https://www.youtube.com/channel/UCZHYynl7LO2v6023LO0YAJA Ethiopia የማንኛውንም ነገር ፓስዋርድ ለማግኘት ቁልፉ መቶ ፐርሰንት\n",
            "This row throws and error: https://www.youtube.com/channel/UCZHYynl7LO2v6023LO0YAJA ETHIOPIA ከመቅናቴ የተነሳ በቀል አማረኝ ኑ እንበቀል\n",
            "This row throws and error: https://www.youtube.com/channel/UCZHYynl7LO2v6023LO0YAJA ETHIOPIA የሚስቴ ሰባትመቶ ሀምሳ ሚሊዮን ዶላር እና የሚገርመው ምርጥ የዘመኑ አፕ\n",
            "This row throws and error: https://www.youtube.com/channel/UCZHYynl7LO2v6023LO0YAJA ETHIOPIA ይሄን ቪዲዮ አለማየትም አለማድነቅም አይቻልም አቤት ተፈጥሮ\n",
            "This row throws and error: https://www.youtube.com/channel/UCZHYynl7LO2v6023LO0YAJA ETHIOPIA ኤርትራ ህውሃትን ለመደምሰስ አንድ ጀምበር በቂነው ስትል አስጠነቀቀች እና የግድያ ሙከራው\n",
            "This row throws and error: https://www.youtube.com/channel/UCZHYynl7LO2v6023LO0YAJA ETHIOPIA ጀዋር መሀመድ ያስገደላቸው እና ያስቃጠላቸው ኢትዮጵያውያን እውነታው\n",
            "This row throws and error: https://www.youtube.com/channel/UCZHYynl7LO2v6023LO0YAJA ETHIOPIA አስደንጋጭ ክስተት በእኔ እና በዘረኞች ምክንያት የተፈጠረ ነገር\n",
            "This row throws and error: https://www.youtube.com/channel/UCZHYynl7LO2v6023LO0YAJA ETHIOPIA FACEAPP ይሄን አፕ ዳውን ሎድ ያደረጋችሁ ተጠንቀቁ በአስችኳይ ዴሊት አድርጉ ለማንኛውም\n",
            "This row throws and error: https://www.youtube.com/channel/UCZHYynl7LO2v6023LO0YAJA ETHIOPIA የሰንሰለት ድራ  ተዋናይት ማገጥች የሚባለው ትክክለኛው እውነት ሲጋለጥ እውነታው ይህ ነው\n",
            "This row throws and error: https://www.youtube.com/channel/UCZHYynl7LO2v6023LO0YAJA ETHIOPIA ገዳይ እና አስገዳይ ትክክለኛ እውነተኛ መረጃ በኢትዮጵያ ላይ\n",
            "This row throws and error: https://www.youtube.com/channel/UCZHYynl7LO2v6023LO0YAJA ETHIOPIA የብጄ አስማነው ፅጌ የባንክ ቡክ እና የኢቲቪ ቅሌት\n",
            "This row throws and error: https://www.youtube.com/channel/UCZHYynl7LO2v6023LO0YAJA ETHIOPIA ዶ ር አብይ ሸወደን ለካስ ሙስሊም ነው እና የታከለ ኦማ ጫማ ዋጋ ታላቅ ውርደት\n",
            "This row throws and error: https://www.youtube.com/channel/UCZHYynl7LO2v6023LO0YAJA ዋትስ አፕ ኢንስትግራም ሜሰንጀር እና ፊስቡክ መስራት አቆመ እንዲሁም ፊስቡክ ኢትዮጵያዊ ለምን ቀጠረ\n",
            "This row throws and error: https://www.youtube.com/channel/UCZHYynl7LO2v6023LO0YAJA ETHIOPIA በአሜሪካ ሀገር የጥላቻ ሰባኪዎች  እና ብሄርን ከብሄር የሚያጋጩ በህግ ሊጠየቁ ነው\n",
            "This row throws and error: https://www.youtube.com/channel/UCZHYynl7LO2v6023LO0YAJA ETHIOPIA እውነታው ይፍረጥረጥ ነገሩ ይገለጥ እውነታው ይህ ነው\n",
            "This row throws and error: https://www.youtube.com/channel/UCZHYynl7LO2v6023LO0YAJA ETHIOPIA እውነተኛው የጀነራል ሰዓረ መኮንን ገዳይ መሳፍንት ጥጋቡ የቱ ነው\n",
            "This row throws and error: https://www.youtube.com/channel/UCZHYynl7LO2v6023LO0YAJA ETHIOPIA ማንም ምንም ቢል እውነታው ግን ይህ ነው\n",
            "This row throws and error: https://www.youtube.com/channel/UCZHYynl7LO2v6023LO0YAJA ETHIOPIA በመላው አለም ለምትገኙ  የእስልምና እምነት ተከታዮች እንኳን አደረሳችሁ\n",
            "This row throws and error: https://www.youtube.com/channel/UCZHYynl7LO2v6023LO0YAJA ETHIOPIA ይህ ለሁሉም የቀረበ አስቸኳይ ጥሪ ነው\n",
            "This row throws and error: https://www.youtube.com/channel/UCZHYynl7LO2v6023LO0YAJA ETHIOPIA የእስራኤልን ባንዲራ ያቃጠሉት የኦነግ ደጋፊዎች እውነታው ሲጋለጥ\n",
            "This row throws and error: https://www.youtube.com/channel/UCZHYynl7LO2v6023LO0YAJA Ethiopian ስለ አገልጋይ ዮናታን አክሊሉ መታወቅ ያለበት እውነት ሲገለጥ\n",
            "This row throws and error: https://www.youtube.com/channel/UCZHYynl7LO2v6023LO0YAJA Ethiopia ወደ ውጪ የሚላከው እንጀራ ተበሎ የተናፈሰው የሀሰት ወሬ እውነታው ሲጋለጥ\n",
            "This row throws and error: https://www.youtube.com/channel/UCZHYynl7LO2v6023LO0YAJA Ethiopia የአማኑኤል ወላጅ እናት ተበሎ የተናፈሰው ወሬ ትልቅ ውሸት ነው\n",
            "This row throws and error: https://www.youtube.com/channel/UCZHYynl7LO2v6023LO0YAJA ETHIOPIA እጅግ አሳዛኝ ክስተት ጭንቅላቷ ብቻ የሚያደገው የ8 ወር ህፃን ስቃይ\n",
            "This row throws and error: https://www.youtube.com/channel/UCZHYynl7LO2v6023LO0YAJA ETHIOPIA ሙሉቀን መለሰ እልሞትኩም ግን ድረሰልኝ ይለናል\n",
            "This row throws and error: https://www.youtube.com/channel/UCZHYynl7LO2v6023LO0YAJA ተቋርጦ የነበረው Dv 2020 ያለምንም ችግር በድጋሚ ለህዝብ ይፋ ተደረገ\n",
            "This row throws and error: https://www.youtube.com/channel/UCZHYynl7LO2v6023LO0YAJA የ DV 2020 ውጤት እና ስም ዝርዝር ማወቂያው መንገድ ይፋ ሆነ\n",
            "This row throws and error: https://www.youtube.com/channel/UCZHYynl7LO2v6023LO0YAJA Ethiopia ይሄን ለምትጠቀሙ በሙሉ በጥንቃቄ ተጠቀሙ ለባለትዳር አይመከርም\n",
            "This row throws and error: https://www.youtube.com/channel/UCZHYynl7LO2v6023LO0YAJA Ethiopia ገዳይ እና ሟች እውነታው ከሀሰቱ ሲለይ\n",
            "This row throws and error: https://www.youtube.com/channel/UCZHYynl7LO2v6023LO0YAJA Ethiopia ይህ መልእክት በመላው አለም ለምትኖሩ ኢትዮጵያውያን እና ኤርትራውያን ይድረስልኝ\n",
            "This row throws and error: https://www.youtube.com/channel/UCZHYynl7LO2v6023LO0YAJA Ethiopia እጅግ በጣም በጣም በጣም አስፈላጊ መረጃ ለሁሉም የግድ መታየት ያለበት\n",
            "This row throws and error: https://www.youtube.com/channel/UCZHYynl7LO2v6023LO0YAJA Ethiopia ኢትዮጵያዊት ናት ብታምኑም ባታምኑም ይህ ያልተለመደ እውነት ነው\n",
            "This row throws and error: https://www.youtube.com/channel/UCZHYynl7LO2v6023LO0YAJA ETHIOPIA የእህቶቻችንን ገበና የሚያጋልጠው ቪዲዮ ለምን እና በማን ተለቀቀ ምርጥ መረጃ\n",
            "This row throws and error: https://www.youtube.com/channel/UCZHYynl7LO2v6023LO0YAJA ETHIOPIA እጅግ በጣም አንገብጋቢ እና አስቸኳይ ስለ አዲስ አበባ\n",
            "This row throws and error: https://www.youtube.com/channel/UCZHYynl7LO2v6023LO0YAJA Ethiopia እጅግ አሳፋሪ ተግባር ያደረገችው ወንጌላዊት ሰብለ ውሸቷ ሲገለጥ\n",
            "This row throws and error: https://www.youtube.com/channel/UCZHYynl7LO2v6023LO0YAJA Ethiopia 70 እጅግ ተፅእኖ ፈጣሪ ግለሰቦች ፎቷቸው ለህዝብ ይፋ ሆነ\n",
            "This row throws and error: https://www.youtube.com/channel/UCZHYynl7LO2v6023LO0YAJA Ethiopian የዶክተር ብርሀኑ ጉዳይ እውነታው ሲጋለጥ\n",
            "This row throws and error: https://www.youtube.com/channel/UCZHYynl7LO2v6023LO0YAJA Ethiopia በቶሮንቶ በ 6 ፈረንጅ ጓደኖቹ የተደበደበው ጥቁር አፍሪካ\n",
            "This row throws and error: https://www.youtube.com/channel/UCZHYynl7LO2v6023LO0YAJA Ethiopia አስገራሚዋ ነፍስ እና እጅግ መጠንቀቅ ያለብን ማስጠንቀቅ  ለሁሉም\n",
            "This row throws and error: https://www.youtube.com/channel/UCZHYynl7LO2v6023LO0YAJA Ethiopia ይሄን ቪዲዮ ለማየት የሚያስፈልገው የልብ አይን ብቻ ነው\n",
            "This row throws and error: https://www.youtube.com/channel/UCZHYynl7LO2v6023LO0YAJA Ethiopia - አስገራሚው ንግግር ድሮ ድሀ እንጂ ባለጌ አይደላችሁም አሁን ግን ድሀም ባለጌም ናችሁ\n",
            "This row throws and error: https://www.youtube.com/channel/UCZHYynl7LO2v6023LO0YAJA Ethiopia - በመጨረሻ ላይ ሳትስመኝ መሄዷ ይቆጨኛል የአያንቱ ወላጅ  እናት እያለቀሱ የተናገሩት\n",
            "This row throws and error: https://www.youtube.com/channel/UCZHYynl7LO2v6023LO0YAJA Ethiopia እጅግ አሳፋሪው የእኛ የኢትዮጵያውያን ተግባሮች\n",
            "This row throws and error: https://www.youtube.com/channel/UCZHYynl7LO2v6023LO0YAJA Ethiopia የምስራች የፊስቡክ ፎቶ እና ቪዲዮ እየተወሰደባችሁ ለተቸገራችሁ  በሙሉ\n",
            "This row throws and error: https://www.youtube.com/channel/UCZHYynl7LO2v6023LO0YAJA Ethiopia የካፒቴን ያሬድ አባት ዶር ጌታቸው ስለልጃቸው እውነታውን ተናገሩ\n",
            "This row throws and error: https://www.youtube.com/channel/UCZHYynl7LO2v6023LO0YAJA Ethiopia ስልኬ ሞልቶ ሊፈነዳ ነው ምን ላድርገው ምርጥ መፍትሄ\n",
            "This row throws and error: https://www.youtube.com/channel/UCZHYynl7LO2v6023LO0YAJA Ethiopia ምን አይነት ስልክ ልግዛ ስልኬስ ጥሩ እንደሆነ እንዴት ልወቅ\n",
            "This row throws and error: https://www.youtube.com/channel/UCZHYynl7LO2v6023LO0YAJA Ethiopia የማይታመን እንደ መፅሐፍ የሚገለጠው ስልክ ተሰራ\n",
            "This row throws and error: https://www.youtube.com/channel/UCZHYynl7LO2v6023LO0YAJA ለጀማሪ እና ለነባር የዩቱብ ቻናል ተጠቃሚዎች ምርጥ መረጃ እና የመግቢያ ኢንትሮ\n",
            "This row throws and error: https://www.youtube.com/channel/UCZHYynl7LO2v6023LO0YAJA ማስጠንቀቂያ በ 599 ዶላር ወጪ ብቻ እንዴት ካናዳ መግባት ይቻላል? እውነት ወይስ ሀሰት?\n",
            "This row throws and error: https://www.youtube.com/channel/UCZHYynl7LO2v6023LO0YAJA ከወለዱ አይቅር እረ እንደው እንዲህ ነው እንጂ!! እኔ ግን ጭንቅላቴ ፈነዳ\n",
            "This row throws and error: https://www.youtube.com/channel/UCZHYynl7LO2v6023LO0YAJA አስጨናቂው የዛሬ የካናዳ በረዶ እና የመኪናዬ መጨረሻ ይሄን ይመስል ነበር\n",
            "This row throws and error: https://www.youtube.com/channel/UCZHYynl7LO2v6023LO0YAJA በነርሲንግ ሞያ  እና ከነርሲንግ ህክምና ጋር ተያይዞ በዚህ ሞያ ወደ ካናዳ እንዴት ይመጣል\n",
            "This row throws and error: https://www.youtube.com/channel/UCZHYynl7LO2v6023LO0YAJA ጉዞ ካናዳ ሙሉ ፎርም አሞላል ምርጥ እና ምርጥ መረጃ\n",
            "This row throws and error: https://www.youtube.com/channel/UCZHYynl7LO2v6023LO0YAJA ጉዞ ካናዳ እንዴት ፎርም ልሙላ ብቃቴንስ እንዴት ላረጋግጥ ክፍል 2\n",
            "This row throws and error: https://www.youtube.com/channel/UCZHYynl7LO2v6023LO0YAJA Canada Visa እንዴት ወደ ካናዳ መምጣት እችላለሁ እንዴት ፎርም ልሙላ ክፍል አንድ\n",
            "This row throws and error: https://www.youtube.com/channel/UCZHYynl7LO2v6023LO0YAJA ምርጥ እጅግ ሲበዛ የተዋጣለት የአማርኛ አፕልኬሽን\n",
            "This row throws and error: https://www.youtube.com/channel/UCZHYynl7LO2v6023LO0YAJA በአዲስ አበባ ወጣት እያለቀ ነው በመንግስት ወይስ በመድሀኒት ይህው መረጃው ከነ ማስረጃው\n",
            "This row throws and error: https://www.youtube.com/channel/UCZHYynl7LO2v6023LO0YAJA RIP SISTER ሞት ክፉ ነው በሞት ላጣኋት እህቴ መታሰቢያ ይህ ቪዲዮ ተሰራ\n",
            "This row throws and error: https://www.youtube.com/channel/UCZHYynl7LO2v6023LO0YAJA psychology በነፃ ያለምንም ውጣ ውረድ እስከ 250 ዶላር በሰአት በነፃ\n",
            "This row throws and error: https://www.youtube.com/channel/UCZHYynl7LO2v6023LO0YAJA Ethiopia-amazing poem የት ነበር ? መልስ ያጣው የዶክተር አብይ ይጠየቅልን ጥያቄ በዲና ኤልያስ የተጠየቀ ገራሚ ጥያቄ\n",
            "This row throws and error: https://www.youtube.com/channel/UCZHYynl7LO2v6023LO0YAJA whats app news የዋትስ አፕ እጅግ ምርጥ ነገር እና የዩቱዩብ አዲስ ነገር\n",
            "This row throws and error: https://www.youtube.com/channel/UCZHYynl7LO2v6023LO0YAJA Eid mubarak በመላው አለም ለምትገኙ የእስልምና እምነት ተከታይ ወዳጆቼ በሙሉ እንኳን አደረሳችሁ\n",
            "This row throws and error: https://www.youtube.com/channel/UCZHYynl7LO2v6023LO0YAJA ለቫይበር ተጠቃሚዎች በሙሉ አዲስ ነገር እና ማስጠንቀቂያ viber new update 2018\n",
            "This row throws and error: https://www.youtube.com/channel/UCZHYynl7LO2v6023LO0YAJA DV ሎተሪ የወጣላቸው የስም ዝርዝራቸው ይፋ ተደረገ የእርሶም ስም ካለ ይሞክሩት\n",
            "This row throws and error: https://www.youtube.com/channel/UCZHYynl7LO2v6023LO0YAJA የጭንቅላት ካንሰር የሚያመጣው የስልካችን የአጠቃቀም ችግር እና ጥንቃቄው በ CNN ቀርቦ የነበረው\n",
            "This row throws and error: https://www.youtube.com/channel/UCZHYynl7LO2v6023LO0YAJA ይሄን ቪዲዮ አለማድነቅ አይቻልም እንዲህም አይነት ጠንካራ ተምሳሌት እናቶች አሉን እስቲ ስሟቸ\n",
            "This row throws and error: https://www.youtube.com/channel/UCZHYynl7LO2v6023LO0YAJA ለዋትስ አፕ ተጠቃሚዎች የምስራች ነው እኔ ደስ ብሎኛል እናንተስ whatsapp new\n",
            "This row throws and error: https://www.youtube.com/channel/UCZHYynl7LO2v6023LO0YAJA ተገኘች እኮ አይገርም እንኳንም ደስ አላችሁ ይህ ለሌሎቻችሁ ተስፋ ነው ሼር ይደረግ\n",
            "This row throws and error: https://www.youtube.com/channel/UCZHYynl7LO2v6023LO0YAJA Important for facebook users ፊስቡክ አስፈላጊ ለሆኑ መረጃዎችን ከለላ ለመስጠት እየላከልን ያለው አዲስ ነገር ሁሉም ማድረግ ያለበት\n"
          ]
        },
        {
          "metadata": {
            "tags": null
          },
          "name": "stderr",
          "output_type": "stream",
          "text": [
            "\r 46%|████▌     | 5019/10879 [1:05:07<1:12:10,  1.35it/s]"
          ]
        },
        {
          "metadata": {
            "tags": null
          },
          "name": "stdout",
          "output_type": "stream",
          "text": [
            "This row throws and error: https://www.youtube.com/channel/UCZHYynl7LO2v6023LO0YAJA በአዲስ መንፈስ በአዲስ ነገር መልካም ፋሲካ ለማለት እንዲህ ብቅ ብያለሁ\n",
            "This row throws and error: https://www.youtube.com/channel/UCZHYynl7LO2v6023LO0YAJA ምርጥ አፕ እጅግ ምርጥ ለዛውም አስተማማኝ የጎግል ምርት የሆነው አሪፉ አፕ\n",
            "This row throws and error: https://www.youtube.com/channel/UCZHYynl7LO2v6023LO0YAJA ማወቅ መልካም ነው ያወቁትን ማሳወቅ ፍጹም በጎነት ነው ！\n",
            "This row throws and error: https://www.youtube.com/channel/UCZHYynl7LO2v6023LO0YAJA እኔ ተስፍሽ ከጠቅላይ ሚንስተር ዶር አብይ አህመድ ጋር ያደረኩት አጭር ቆይታ\n",
            "This row throws and error: https://www.youtube.com/channel/UCZHYynl7LO2v6023LO0YAJA የዋትስ አፑ ነብይ እና አስቀዳሹ ተጓዥ ሥራቸው ሲጋለጥ እጅግ ለጥንቃቄ ሲባል የቀረበ\n"
          ]
        },
        {
          "metadata": {
            "tags": null
          },
          "name": "stderr",
          "output_type": "stream",
          "text": [
            " 48%|████▊     | 5168/10879 [1:07:17<35:05,  2.71it/s]"
          ]
        },
        {
          "metadata": {
            "tags": null
          },
          "name": "stdout",
          "output_type": "stream",
          "text": [
            "This row throws and error: https://www.youtube.com/channel/UCwmFOfFuvRPI112vR5DNnrA ∞³\n"
          ]
        },
        {
          "metadata": {
            "tags": null
          },
          "name": "stderr",
          "output_type": "stream",
          "text": [
            " 48%|████▊     | 5196/10879 [1:07:37<45:59,  2.06it/s]"
          ]
        },
        {
          "metadata": {
            "tags": null
          },
          "name": "stdout",
          "output_type": "stream",
          "text": [
            "This row throws and error: https://www.youtube.com/channel/UCLFXk9J3O-hhOk0msOjKYdQ ? ? ? ? ? ? ? ? ? ?\n"
          ]
        },
        {
          "metadata": {
            "tags": null
          },
          "name": "stderr",
          "output_type": "stream",
          "text": [
            " 48%|████▊     | 5261/10879 [1:08:23<1:24:52,  1.10it/s]"
          ]
        },
        {
          "metadata": {
            "tags": null
          },
          "name": "stdout",
          "output_type": "stream",
          "text": [
            "This row throws and error: https://www.youtube.com/channel/UC6UBbvEA8uh6Ulc6ax1Zs0g 238\n"
          ]
        },
        {
          "metadata": {
            "tags": null
          },
          "name": "stderr",
          "output_type": "stream",
          "text": [
            "\r 48%|████▊     | 5262/10879 [1:08:23<1:09:52,  1.34it/s]"
          ]
        },
        {
          "metadata": {
            "tags": null
          },
          "name": "stdout",
          "output_type": "stream",
          "text": [
            "This row throws and error: https://www.youtube.com/channel/UC6UBbvEA8uh6Ulc6ax1Zs0g ‌\n"
          ]
        },
        {
          "metadata": {
            "tags": null
          },
          "name": "stderr",
          "output_type": "stream",
          "text": [
            " 50%|████▉     | 5390/10879 [1:10:13<59:54,  1.53it/s]  "
          ]
        },
        {
          "metadata": {
            "tags": null
          },
          "name": "stdout",
          "output_type": "stream",
          "text": [
            "This row throws and error: https://www.youtube.com/channel/UCmqEvzJ8CvkwaUnihIJUgYg 4851\n"
          ]
        },
        {
          "metadata": {
            "tags": null
          },
          "name": "stderr",
          "output_type": "stream",
          "text": [
            " 51%|█████     | 5542/10879 [1:11:58<57:19,  1.55it/s]  "
          ]
        },
        {
          "metadata": {
            "tags": null
          },
          "name": "stdout",
          "output_type": "stream",
          "text": [
            "This row throws and error: https://www.youtube.com/channel/UCIG4eP361-Lru2b2CWY8m0w 🐟\n"
          ]
        },
        {
          "metadata": {
            "tags": null
          },
          "name": "stderr",
          "output_type": "stream",
          "text": [
            "\r 51%|█████     | 5543/10879 [1:11:59<1:12:44,  1.22it/s]"
          ]
        },
        {
          "metadata": {
            "tags": null
          },
          "name": "stdout",
          "output_type": "stream",
          "text": [
            "This row throws and error: https://www.youtube.com/channel/UCIG4eP361-Lru2b2CWY8m0w ._.\n"
          ]
        },
        {
          "metadata": {
            "tags": null
          },
          "name": "stderr",
          "output_type": "stream",
          "text": [
            " 51%|█████     | 5557/10879 [1:12:09<57:03,  1.55it/s]  "
          ]
        },
        {
          "metadata": {
            "tags": null
          },
          "name": "stdout",
          "output_type": "stream",
          "text": [
            "This row throws and error: https://www.youtube.com/channel/UCYFvEPbFbDIVRiODrh1-x4g 🎩\n",
            "This row throws and error: https://www.youtube.com/channel/UCYFvEPbFbDIVRiODrh1-x4g 👖👖\n",
            "This row throws and error: https://www.youtube.com/channel/UCYFvEPbFbDIVRiODrh1-x4g ＥＬＥＣＴＲＩＣ ＢＯＤＹＢＵＩＬＤＥＲ ＦＲＯＭ ＴＨＥ ＵＮＤＥＲＧＲＯＵＮＤ\n",
            "This row throws and error: https://www.youtube.com/channel/UCYFvEPbFbDIVRiODrh1-x4g 👖\n"
          ]
        },
        {
          "metadata": {
            "tags": null
          },
          "name": "stderr",
          "output_type": "stream",
          "text": [
            " 52%|█████▏    | 5666/10879 [1:13:29<44:30,  1.95it/s]"
          ]
        },
        {
          "metadata": {
            "tags": null
          },
          "name": "stdout",
          "output_type": "stream",
          "text": [
            "This row throws and error: https://www.youtube.com/channel/UCk2E0dbAyEJWnrN2bbQOcbg 🐱🍒🍑🐻\n",
            "This row throws and error: https://www.youtube.com/channel/UCk2E0dbAyEJWnrN2bbQOcbg 🌕🐰🐶🐯\n"
          ]
        },
        {
          "metadata": {
            "tags": null
          },
          "name": "stderr",
          "output_type": "stream",
          "text": [
            " 53%|█████▎    | 5731/10879 [1:14:24<37:11,  2.31it/s]"
          ]
        },
        {
          "metadata": {
            "tags": null
          },
          "name": "stdout",
          "output_type": "stream",
          "text": [
            "This row throws and error: https://www.youtube.com/channel/UCgLJdlL_NeoKhdBBBFsUhcw මොකක්ද හොඳම DAW එක?\n"
          ]
        },
        {
          "metadata": {
            "tags": null
          },
          "name": "stderr",
          "output_type": "stream",
          "text": [
            " 54%|█████▎    | 5847/10879 [1:16:01<59:20,  1.41it/s]  "
          ]
        },
        {
          "metadata": {
            "tags": null
          },
          "name": "stdout",
          "output_type": "stream",
          "text": [
            "This row throws and error: https://www.youtube.com/channel/UC7t5OM0oKq_x8w4oXjxqeWw 50,000\n"
          ]
        },
        {
          "metadata": {
            "tags": null
          },
          "name": "stderr",
          "output_type": "stream",
          "text": [
            " 54%|█████▍    | 5893/10879 [1:16:41<50:45,  1.64it/s]"
          ]
        },
        {
          "metadata": {
            "tags": null
          },
          "name": "stdout",
          "output_type": "stream",
          "text": [
            "This row throws and error: https://www.youtube.com/channel/UCS6FGe6Jrr3nqXtLc1DqAeQ නැවේ වටයක්\n",
            "This row throws and error: https://www.youtube.com/channel/UCS6FGe6Jrr3nqXtLc1DqAeQ ආයිත් නැවට ⚓️🛳️\n",
            "This row throws and error: https://www.youtube.com/channel/UCS6FGe6Jrr3nqXtLc1DqAeQ Pirates  මුහුදු මංකොල්ලකාරයෝ\n",
            "This row throws and error: https://www.youtube.com/channel/UCS6FGe6Jrr3nqXtLc1DqAeQ නැව වටේ වටයක්\n",
            "This row throws and error: https://www.youtube.com/channel/UCS6FGe6Jrr3nqXtLc1DqAeQ නැවේ ගෙනියන UN වාහන\n",
            "This row throws and error: https://www.youtube.com/channel/UCS6FGe6Jrr3nqXtLc1DqAeQ ෂෝ එක 😊\n"
          ]
        },
        {
          "metadata": {
            "tags": null
          },
          "name": "stderr",
          "output_type": "stream",
          "text": [
            "\r 54%|█████▍    | 5894/10879 [1:16:41<46:12,  1.80it/s]"
          ]
        },
        {
          "metadata": {
            "tags": null
          },
          "name": "stdout",
          "output_type": "stream",
          "text": [
            "This row throws and error: https://www.youtube.com/channel/UCS6FGe6Jrr3nqXtLc1DqAeQ නැව් කෝස් එකක් කරන්න කලින් මේක බලන්න\n",
            "This row throws and error: https://www.youtube.com/channel/UCS6FGe6Jrr3nqXtLc1DqAeQ ජපානයේ අලුතින්ම නැව් හැදෙන හැටි\n"
          ]
        },
        {
          "metadata": {
            "tags": null
          },
          "name": "stderr",
          "output_type": "stream",
          "text": [
            " 57%|█████▋    | 6176/10879 [1:19:53<48:32,  1.61it/s]"
          ]
        },
        {
          "metadata": {
            "tags": null
          },
          "name": "stdout",
          "output_type": "stream",
          "text": [
            "This row throws and error: https://www.youtube.com/channel/UCIGeHM48kK9ZSACNCdnpXUg 2020\n",
            "This row throws and error: https://www.youtube.com/channel/UCIGeHM48kK9ZSACNCdnpXUg 2019\n"
          ]
        },
        {
          "metadata": {
            "tags": null
          },
          "name": "stderr",
          "output_type": "stream",
          "text": [
            " 57%|█████▋    | 6230/10879 [1:20:34<29:46,  2.60it/s]"
          ]
        },
        {
          "metadata": {
            "tags": null
          },
          "name": "stdout",
          "output_type": "stream",
          "text": [
            "This row throws and error: https://www.youtube.com/channel/UCtEq0lwjvBRrPMPtWtKcMxQ ＡＬＲＩＧＨＴ ＰＩＮＨＥＡＤ\n",
            "This row throws and error: https://www.youtube.com/channel/UCtEq0lwjvBRrPMPtWtKcMxQ ⇋ 𝐇𝐎𝐌𝐄 - 𝐑𝐞𝐬𝐨𝐧𝐚𝐧𝐜𝐞 𝐈𝐈 - 𝐏𝐞𝐫𝐟𝐞𝐜𝐭𝐥𝐲 𝐥𝐨𝐨𝐩𝐞𝐝 ⇌\n"
          ]
        },
        {
          "metadata": {
            "tags": null
          },
          "name": "stderr",
          "output_type": "stream",
          "text": [
            " 57%|█████▋    | 6254/10879 [1:20:47<24:51,  3.10it/s]"
          ]
        },
        {
          "metadata": {
            "tags": null
          },
          "name": "stdout",
          "output_type": "stream",
          "text": [
            "This row throws and error: https://www.youtube.com/channel/UCtECrfmHyJ0n32jSUfxcvXg 32 🎂\n"
          ]
        },
        {
          "metadata": {
            "tags": null
          },
          "name": "stderr",
          "output_type": "stream",
          "text": [
            " 59%|█████▉    | 6409/10879 [1:23:01<1:39:22,  1.33s/it]"
          ]
        },
        {
          "metadata": {
            "tags": null
          },
          "name": "stdout",
          "output_type": "stream",
          "text": [
            "This row throws and error: https://www.youtube.com/channel/UCXDY2FHLmmMQ2dacN9Jb8mA ଇଲେକ୍ଟ୍ରିସିଟି ବିଲ୍‍💡, ମୋବାଇଲ୍‍ ବିଲ୍‍📱, DTH ବିଲ୍‍📺 – ଏବେ ସବୁ ପାଇଁ କେବଳ #PaytmKaro\n"
          ]
        },
        {
          "metadata": {
            "tags": null
          },
          "name": "stderr",
          "output_type": "stream",
          "text": [
            " 59%|█████▉    | 6418/10879 [1:23:07<43:25,  1.71it/s]"
          ]
        },
        {
          "metadata": {
            "tags": null
          },
          "name": "stdout",
          "output_type": "stream",
          "text": [
            "This row throws and error: https://www.youtube.com/channel/UCv_ZsD6F_qLsN6wmPLm9rwg ??? (33)\n",
            "This row throws and error: https://www.youtube.com/channel/UCv_ZsD6F_qLsN6wmPLm9rwg ??? (23)\n",
            "This row throws and error: https://www.youtube.com/channel/UCv_ZsD6F_qLsN6wmPLm9rwg ??? (13)\n"
          ]
        },
        {
          "metadata": {
            "tags": null
          },
          "name": "stderr",
          "output_type": "stream",
          "text": [
            " 60%|██████    | 6540/10879 [1:24:29<33:54,  2.13it/s]"
          ]
        },
        {
          "metadata": {
            "tags": null
          },
          "name": "stdout",
          "output_type": "stream",
          "text": [
            "This row throws and error: https://www.youtube.com/channel/UC6EwW9j_1_VA8--vtPWQXdg T͍̠̞̺̱̯̱h̜̦e C̲u̳͈͇̳͉r̥s̟͓̲̯̮̫̗ḛd ̠̼̝̖C͓̰͓͕̩̠a͔̺t ☠2☠\n",
            "This row throws and error: https://www.youtube.com/channel/UC6EwW9j_1_VA8--vtPWQXdg T͍̠̞̺̱̯̱h̜̦e C̲u̳͈͇̳͉r̥s̟͓̲̯̮̫̗ḛd ̠̼̝̖C͓̰͓͕̩̠a͔̺t ☠\n"
          ]
        },
        {
          "metadata": {
            "tags": null
          },
          "name": "stderr",
          "output_type": "stream",
          "text": [
            " 60%|██████    | 6578/10879 [1:24:58<26:44,  2.68it/s]"
          ]
        },
        {
          "metadata": {
            "tags": null
          },
          "name": "stdout",
          "output_type": "stream",
          "text": [
            "This row throws and error: https://www.youtube.com/channel/UCoBWkLSzC5q8xOtOHwv6MGQ 28\n"
          ]
        },
        {
          "metadata": {
            "tags": null
          },
          "name": "stderr",
          "output_type": "stream",
          "text": [
            " 61%|██████▏   | 6666/10879 [1:26:14<40:53,  1.72it/s]"
          ]
        },
        {
          "metadata": {
            "tags": null
          },
          "name": "stdout",
          "output_type": "stream",
          "text": [
            "This row throws and error: https://www.youtube.com/channel/UCVEUCWGFB_-ojubEDjts2nA 2\n"
          ]
        },
        {
          "metadata": {
            "tags": null
          },
          "name": "stderr",
          "output_type": "stream",
          "text": [
            " 63%|██████▎   | 6839/10879 [1:28:42<46:58,  1.43it/s]"
          ]
        },
        {
          "metadata": {
            "tags": null
          },
          "name": "stdout",
          "output_type": "stream",
          "text": [
            "This row throws and error: https://www.youtube.com/channel/UCq6aw03lNILzV96UvEAASfQ 9 8 7\n"
          ]
        },
        {
          "metadata": {
            "tags": null
          },
          "name": "stderr",
          "output_type": "stream",
          "text": [
            " 63%|██████▎   | 6903/10879 [1:29:26<42:04,  1.58it/s]"
          ]
        },
        {
          "metadata": {
            "tags": null
          },
          "name": "stdout",
          "output_type": "stream",
          "text": [
            "This row throws and error: https://www.youtube.com/channel/UCKbL6Jjg6XiesPD4YNDOKNA ‎‎\n"
          ]
        },
        {
          "metadata": {
            "tags": null
          },
          "name": "stderr",
          "output_type": "stream",
          "text": [
            " 64%|██████▍   | 6960/10879 [1:30:09<26:01,  2.51it/s]"
          ]
        },
        {
          "metadata": {
            "tags": null
          },
          "name": "stdout",
          "output_type": "stream",
          "text": [
            "This row throws and error: https://www.youtube.com/channel/UCaeOtPJ3AJgOeUkG9v0YRNw #ସବୁଠୁ​ ବଡ ଅଲ୍-ରାଉଣ୍ଡର୍  ଟାଫେ ର ମେସୀ ଫର୍ଗୁସନ୍ ଡାଇନାଟ୍ରାକ୍ ଟ୍ରାକ୍ଟର  Odia\n"
          ]
        },
        {
          "metadata": {
            "tags": null
          },
          "name": "stderr",
          "output_type": "stream",
          "text": [
            " 66%|██████▋   | 7225/10879 [1:33:35<2:06:59,  2.09s/it]"
          ]
        },
        {
          "metadata": {
            "tags": null
          },
          "name": "stdout",
          "output_type": "stream",
          "text": [
            "This row throws and error: https://www.youtube.com/channel/UCpmZQGTZXn9xd4nN59pbIWQ 𝐘𝐨𝐮𝐫 𝐍𝐞𝐰 𝐋𝐢𝐟𝐞 𝐖𝐢𝐥𝐥 𝐂𝐨𝐬𝐭 𝐘𝐨𝐮 𝐘𝐨𝐮𝐫 𝐎𝐥𝐝 𝐎𝐧𝐞.\n"
          ]
        },
        {
          "metadata": {
            "tags": null
          },
          "name": "stderr",
          "output_type": "stream",
          "text": [
            " 67%|██████▋   | 7251/10879 [1:34:05<54:03,  1.12it/s]"
          ]
        },
        {
          "metadata": {
            "tags": null
          },
          "name": "stdout",
          "output_type": "stream",
          "text": [
            "This row throws and error: https://www.youtube.com/channel/UCC9EjyMN_hx5NdctLBx5X7w 𝙎𝙘𝙖𝙢𝙢𝙚𝙧 𝘾𝙧𝙪𝙚𝙡𝙩𝙮...\n"
          ]
        },
        {
          "metadata": {
            "tags": null
          },
          "name": "stderr",
          "output_type": "stream",
          "text": [
            " 72%|███████▏  | 7847/10879 [1:42:02<38:47,  1.30it/s]"
          ]
        },
        {
          "metadata": {
            "tags": null
          },
          "name": "stdout",
          "output_type": "stream",
          "text": [
            "This row throws and error: https://www.youtube.com/channel/UCjyqR75IQwOROnq-HKBtWag 100\n"
          ]
        },
        {
          "metadata": {
            "tags": null
          },
          "name": "stderr",
          "output_type": "stream",
          "text": [
            " 73%|███████▎  | 7913/10879 [1:42:55<50:46,  1.03s/it]"
          ]
        },
        {
          "metadata": {
            "tags": null
          },
          "name": "stdout",
          "output_type": "stream",
          "text": [
            "This row throws and error: https://www.youtube.com/channel/UCLYcN4vo1tjDHK44PoSAt4g ｎｏｓｔａｌｇｉａ. ｅｘｅ\n"
          ]
        },
        {
          "metadata": {
            "tags": null
          },
          "name": "stderr",
          "output_type": "stream",
          "text": [
            " 73%|███████▎  | 7985/10879 [1:43:45<33:12,  1.45it/s]"
          ]
        },
        {
          "metadata": {
            "tags": null
          },
          "name": "stdout",
          "output_type": "stream",
          "text": [
            "This row throws and error: https://www.youtube.com/channel/UCjLVHOL7Ez9LnaNU5lUGDWg ✌️\n"
          ]
        },
        {
          "metadata": {
            "tags": null
          },
          "name": "stderr",
          "output_type": "stream",
          "text": [
            " 74%|███████▍  | 8042/10879 [1:44:37<24:57,  1.89it/s]"
          ]
        },
        {
          "metadata": {
            "tags": null
          },
          "name": "stdout",
          "output_type": "stream",
          "text": [
            "This row throws and error: https://www.youtube.com/channel/UCUKxvWVo8lmRXkbTOkqUhGg ✪ ✪\n",
            "This row throws and error: https://www.youtube.com/channel/UCUKxvWVo8lmRXkbTOkqUhGg 🌹🌹🌹🌹🌹🌹🌹🌹🌹\n"
          ]
        },
        {
          "metadata": {
            "tags": null
          },
          "name": "stderr",
          "output_type": "stream",
          "text": [
            " 75%|███████▌  | 8164/10879 [1:46:07<57:12,  1.26s/it]"
          ]
        },
        {
          "metadata": {
            "tags": null
          },
          "name": "stdout",
          "output_type": "stream",
          "text": [
            "This row throws and error: https://www.youtube.com/channel/UCugJq15BiB-c1NDYPHiznWQ ...\n"
          ]
        },
        {
          "metadata": {
            "tags": null
          },
          "name": "stderr",
          "output_type": "stream",
          "text": [
            " 76%|███████▋  | 8315/10879 [1:48:01<18:11,  2.35it/s]"
          ]
        },
        {
          "metadata": {
            "tags": null
          },
          "name": "stdout",
          "output_type": "stream",
          "text": [
            "This row throws and error: https://www.youtube.com/channel/UCc5xaGD7CkOcALAR5tPKygQ Eritrean Music 2021 - ኣርቲስት ኣሮን ብርሃነ (ጭፍላቂስታ)ን - ኣርቲስት ያፌት ኣብርሃ  - ብዛዕባ ቆርጫጭን ሓዳስ ኣልቡምን እንታይ ይብሉ\n"
          ]
        },
        {
          "metadata": {
            "tags": null
          },
          "name": "stderr",
          "output_type": "stream",
          "text": [
            " 77%|███████▋  | 8357/10879 [1:48:30<18:10,  2.31it/s]"
          ]
        },
        {
          "metadata": {
            "tags": null
          },
          "name": "stdout",
          "output_type": "stream",
          "text": [
            "This row throws and error: https://www.youtube.com/channel/UCJL33sl0UYzAgAc0g3Yq5LQ බඩෙන් එකයි යෝධ අලේ - කාලා අපිට වෙච්ච් වැඩේ  Istanbul Bites\n",
            "This row throws and error: https://www.youtube.com/channel/UCJL33sl0UYzAgAc0g3Yq5LQ නොමිලේ හම්බෙන පුදුම තෑගි  Tada Box\n",
            "This row throws and error: https://www.youtube.com/channel/UCJL33sl0UYzAgAc0g3Yq5LQ මේ වගේ Buffet එකක් දැකලා තිබ්බද?\n",
            "This row throws and error: https://www.youtube.com/channel/UCJL33sl0UYzAgAc0g3Yq5LQ සෙට් එකත් එක්ක සෙට් වෙමු\n",
            "This row throws and error: https://www.youtube.com/channel/UCJL33sl0UYzAgAc0g3Yq5LQ රස බලන්නම වටින වෙනස් විදියෙ Snacks\n",
            "This row throws and error: https://www.youtube.com/channel/UCJL33sl0UYzAgAc0g3Yq5LQ Ice Cream කෑවා දවසකටම හරියන්න\n",
            "This row throws and error: https://www.youtube.com/channel/UCJL33sl0UYzAgAc0g3Yq5LQ පොසොන්  දන්සැල් යාලුවොත් එක්ක\n",
            "This row throws and error: https://www.youtube.com/channel/UCJL33sl0UYzAgAc0g3Yq5LQ අමුතු දන්සැලක් කෑම ජාති ගොඩක් එක්ක\n",
            "This row throws and error: https://www.youtube.com/channel/UCJL33sl0UYzAgAc0g3Yq5LQ මෙච්චර ලොකු බයිට් මේසයක් දැකලා තියේද?\n",
            "This row throws and error: https://www.youtube.com/channel/UCJL33sl0UYzAgAc0g3Yq5LQ වීඩියෝ බලන අයට දුන්න Buffet කෑම වේල\n",
            "This row throws and error: https://www.youtube.com/channel/UCJL33sl0UYzAgAc0g3Yq5LQ ලක්ශ ගානකට නොමිලේ කෑම - දැන්සැල් වන්දනාවෙ සුපිරිම තැන්\n",
            "This row throws and error: https://www.youtube.com/channel/UCJL33sl0UYzAgAc0g3Yq5LQ හොඳ කෑමයි ජරා කෑමයි - වාසනාව කාගෙ වෙයිද?\n"
          ]
        },
        {
          "metadata": {
            "tags": null
          },
          "name": "stderr",
          "output_type": "stream",
          "text": [
            "\r 77%|███████▋  | 8358/10879 [1:48:31<17:34,  2.39it/s]"
          ]
        },
        {
          "metadata": {
            "tags": null
          },
          "name": "stdout",
          "output_type": "stream",
          "text": [
            "This row throws and error: https://www.youtube.com/channel/UCJL33sl0UYzAgAc0g3Yq5LQ හොඳම කෑම සෙට් එක තෝරමුද?\n",
            "This row throws and error: https://www.youtube.com/channel/UCJL33sl0UYzAgAc0g3Yq5LQ රසම ව්යාංජනය කාගෙද?\n",
            "This row throws and error: https://www.youtube.com/channel/UCJL33sl0UYzAgAc0g3Yq5LQ පොඩි බඩගින්නට පොඩි පොඩි කෑම පිටරටින්\n",
            "This row throws and error: https://www.youtube.com/channel/UCJL33sl0UYzAgAc0g3Yq5LQ පවුලෙ අයත් එක්ක කුල්ලෙන් කෑවා  Galu Bojuna\n"
          ]
        },
        {
          "metadata": {
            "tags": null
          },
          "name": "stderr",
          "output_type": "stream",
          "text": [
            " 77%|███████▋  | 8395/10879 [1:49:01<19:01,  2.18it/s]"
          ]
        },
        {
          "metadata": {
            "tags": null
          },
          "name": "stdout",
          "output_type": "stream",
          "text": [
            "This row throws and error: https://www.youtube.com/channel/UCz4Qb-1lIttNRgB_lQDm6eA 𝗪𝗲 𝗛𝗮𝘃𝗲 𝗨𝗻𝗱𝗲𝗿𝗲𝘀𝘁𝗶𝗺𝗮𝘁𝗲𝗱 𝗦𝗮𝘁𝗮𝗻 𝗔𝗻 𝗨𝗿𝗴𝗲𝗻𝘁 𝗪𝗮𝗿𝗻𝗶𝗻𝗴 𝗧𝗼 𝗔𝗹𝗹 𝗖𝗵𝘂𝗿𝗰𝗵𝗲𝘀 𝗼𝗳 𝘁𝗵𝗶𝘀 𝗘𝗮𝗿𝘁𝗵!\n",
            "This row throws and error: https://www.youtube.com/channel/UCz4Qb-1lIttNRgB_lQDm6eA 𝗗𝗢 𝗡𝗘𝗩𝗘𝗥 𝗗𝗢 𝗧𝗛𝗜𝗦 𝗚𝗼𝘀𝘀𝗶𝗽 𝗮𝗻𝗱 𝗙𝗮𝗹𝘀𝗲 𝗗𝗶𝘀𝗰𝗲𝗿𝗻𝗺𝗲𝗻𝘁!  𝗖𝗮𝗿𝘁𝗲𝗿 𝗖𝗼𝗻𝗹𝗼𝗻\n",
            "This row throws and error: https://www.youtube.com/channel/UCz4Qb-1lIttNRgB_lQDm6eA 𝗣𝗿𝗼𝘁𝗲𝗰𝘁𝗶𝗻𝗴 𝗬𝗼𝘂𝗿 𝗛𝗼𝗺𝗲 𝗙𝗿𝗼𝗺 𝗦𝗮𝘁𝗮𝗻𝗶𝗰 𝗜𝗻𝘃𝗮𝘁𝗶𝗼𝗻   𝗗𝗮𝘃𝗶𝗱 𝗪𝗶𝗹𝗸𝗲𝗿𝘀𝗼𝗻\n",
            "This row throws and error: https://www.youtube.com/channel/UCz4Qb-1lIttNRgB_lQDm6eA 𝗧𝗵𝗲 𝗗𝗮𝘆 𝘁𝗵𝗲 𝗦𝘂𝗻 & 𝗠𝗼𝗼𝗻 𝗪𝗶𝗹𝗹 𝗥𝗲𝗳𝘂𝘀𝗲 𝗧𝗼 𝗦𝗵𝗶𝗻𝗲 𝗧𝗵𝗲 𝗚𝗿𝗲𝗮𝘁 𝗥𝗲𝘁𝘂𝗿𝗻  𝗗𝗮𝘃𝗶𝗱 𝗪𝗶𝗹𝗸𝗲𝗿𝘀𝗼𝗻\n",
            "This row throws and error: https://www.youtube.com/channel/UCz4Qb-1lIttNRgB_lQDm6eA 𝗚𝗘𝗧𝗧𝗜𝗡𝗚 𝗧𝗢 𝗞𝗡𝗢𝗪 𝗧𝗛𝗘 𝗣𝗢𝗪𝗘𝗥 𝗢𝗙 𝗧𝗛𝗘 𝗛𝗢𝗟𝗬 𝗦𝗣𝗜𝗥𝗜𝗧  𝗗𝗔𝗩𝗜𝗗 𝗪𝗜𝗞𝗘𝗥𝗦𝗢𝗡\n",
            "This row throws and error: https://www.youtube.com/channel/UCz4Qb-1lIttNRgB_lQDm6eA 𝗗𝗼 𝗬𝗼𝘂 𝗛𝗮𝘃𝗲 𝗔𝗻𝘅𝗶𝗲𝘁𝘆 𝗮𝗻𝗱 𝗖𝗼𝗻𝘀𝘁𝗮𝗻𝘁 𝗪𝗼𝗿𝗿𝘆? - 𝗧𝗵𝗶𝘀 𝗣𝗼𝘄𝗲𝗿𝗳𝘂𝗹 𝗠𝗲𝘀𝘀𝗮𝗴𝗲 𝗶𝘀 𝗙𝗼𝗿 𝗬𝗼𝘂!\n",
            "This row throws and error: https://www.youtube.com/channel/UCz4Qb-1lIttNRgB_lQDm6eA 𝟳 𝗖𝗟𝗨𝗘𝗦 𝗧𝗢 𝗥𝗘𝗖𝗢𝗚𝗡𝗜𝗭𝗘 𝗧𝗛𝗘 𝗩𝗢𝗜𝗖𝗘 𝗢𝗙 𝗦𝗔𝗧𝗔𝗡 𝗢𝗩𝗘𝗥𝗖𝗢𝗠𝗘 𝗧𝗘𝗠𝗣𝗧𝗔𝗧𝗜𝗢𝗡𝗦\n"
          ]
        },
        {
          "metadata": {
            "tags": null
          },
          "name": "stderr",
          "output_type": "stream",
          "text": [
            " 79%|███████▉  | 8579/10879 [1:51:34<24:46,  1.55it/s]"
          ]
        },
        {
          "metadata": {
            "tags": null
          },
          "name": "stdout",
          "output_type": "stream",
          "text": [
            "This row throws and error: https://www.youtube.com/channel/UCPT8dk2pgHX4g8aCysVTDZw Corona වෛරසය බෝ වෙන්නේ මෙහෙමයි..\n"
          ]
        },
        {
          "metadata": {
            "tags": null
          },
          "name": "stderr",
          "output_type": "stream",
          "text": [
            " 79%|███████▉  | 8646/10879 [1:52:10<26:45,  1.39it/s]"
          ]
        },
        {
          "metadata": {
            "tags": null
          },
          "name": "stdout",
          "output_type": "stream",
          "text": [
            "This row throws and error: https://www.youtube.com/channel/UCm2mA8FCaPP1ySSA8CL46YQ 1,000\n"
          ]
        },
        {
          "metadata": {
            "tags": null
          },
          "name": "stderr",
          "output_type": "stream",
          "text": [
            " 81%|████████  | 8789/10879 [1:53:51<34:25,  1.01it/s]"
          ]
        },
        {
          "metadata": {
            "tags": null
          },
          "name": "stdout",
          "output_type": "stream",
          "text": [
            "This row throws and error: https://www.youtube.com/channel/UCuZPtWDsczOuztPMUr0mmpw 𝘶𝘯𝘥𝘦𝘳 𝘵𝘩𝘦 𝘸𝘦𝘢𝘵𝘩𝘦𝘳\n",
            "This row throws and error: https://www.youtube.com/channel/UCuZPtWDsczOuztPMUr0mmpw 𝘭𝘪𝘧𝘦 𝘸𝘢𝘴𝘵𝘦𝘳\n",
            "This row throws and error: https://www.youtube.com/channel/UCuZPtWDsczOuztPMUr0mmpw 🌧️ 𝘢𝘨𝘰𝘳𝘢𝘱𝘩𝘰𝘣𝘪𝘤 🌧️\n"
          ]
        },
        {
          "metadata": {
            "tags": null
          },
          "name": "stderr",
          "output_type": "stream",
          "text": [
            " 83%|████████▎ | 8979/10879 [1:57:01<18:45,  1.69it/s]"
          ]
        },
        {
          "metadata": {
            "tags": null
          },
          "name": "stdout",
          "output_type": "stream",
          "text": [
            "This row throws and error: https://www.youtube.com/channel/UCR54lF_dD3f-8srmRqnTwgQ 𝐀𝐥𝐥 𝐈 𝐊𝐧𝐨𝐰 𝐢𝐬 𝐆𝐫𝐢𝐧𝐝.\n"
          ]
        },
        {
          "metadata": {
            "tags": null
          },
          "name": "stderr",
          "output_type": "stream",
          "text": [
            " 83%|████████▎ | 9022/10879 [1:57:44<12:06,  2.56it/s]"
          ]
        },
        {
          "metadata": {
            "tags": null
          },
          "name": "stdout",
          "output_type": "stream",
          "text": [
            "This row throws and error: https://www.youtube.com/channel/UCF3ARK6F6-wwsWmNes_aTZw ㅤㅤㅤㅤㅤㅤㅤㅤㅤㅤㅤㅤ\n"
          ]
        },
        {
          "metadata": {
            "tags": null
          },
          "name": "stderr",
          "output_type": "stream",
          "text": [
            " 83%|████████▎ | 9035/10879 [1:57:54<15:06,  2.03it/s]"
          ]
        },
        {
          "metadata": {
            "tags": null
          },
          "name": "stdout",
          "output_type": "stream",
          "text": [
            "This row throws and error: https://www.youtube.com/channel/UCWb_VZSlaXAzTekRPPbZiPw අපි අහුවුනාද? 😵‍💫👍🏼 හඳ බලන්න ගිහිම්න් 🥴\n",
            "This row throws and error: https://www.youtube.com/channel/UCWb_VZSlaXAzTekRPPbZiPw තව ටික දවසකින් කියන්නේ, submarine එක එලවලා තියෙන්නේ ගුවන් නියමුවෙක් 🥹👍🏼\n",
            "This row throws and error: https://www.youtube.com/channel/UCWb_VZSlaXAzTekRPPbZiPw ඔය නිල්නෙතු - That Blue Eyes  අපි ඉන්නෙ 2019, මු ඉන්නෙ 2079\n",
            "This row throws and error: https://www.youtube.com/channel/UCWb_VZSlaXAzTekRPPbZiPw කුඩු උනාම!! (ආතල් විඩියො)  NAWRAN  2019\n"
          ]
        },
        {
          "metadata": {
            "tags": null
          },
          "name": "stderr",
          "output_type": "stream",
          "text": [
            "\r 83%|████████▎ | 9036/10879 [1:57:55<15:02,  2.04it/s]"
          ]
        },
        {
          "metadata": {
            "tags": null
          },
          "name": "stdout",
          "output_type": "stream",
          "text": [
            "This row throws and error: https://www.youtube.com/channel/UCWb_VZSlaXAzTekRPPbZiPw Q & A  අහපු ප්‍රශ්න වලට උත්තර - NAWRAN\n"
          ]
        },
        {
          "metadata": {
            "tags": null
          },
          "name": "stderr",
          "output_type": "stream",
          "text": [
            " 83%|████████▎ | 9047/10879 [1:58:02<23:36,  1.29it/s]"
          ]
        },
        {
          "metadata": {
            "tags": null
          },
          "name": "stdout",
          "output_type": "stream",
          "text": [
            "This row throws and error: https://www.youtube.com/channel/UC0dQFymlTdbTuj4pLZd80uQ 2022\n"
          ]
        },
        {
          "metadata": {
            "tags": null
          },
          "name": "stderr",
          "output_type": "stream",
          "text": [
            " 84%|████████▍ | 9127/10879 [1:59:08<12:47,  2.28it/s]"
          ]
        },
        {
          "metadata": {
            "tags": null
          },
          "name": "stdout",
          "output_type": "stream",
          "text": [
            "This row throws and error: https://www.youtube.com/channel/UC8JE00xTMBOqKs7o0grFTfQ 3.14\n"
          ]
        },
        {
          "metadata": {
            "tags": null
          },
          "name": "stderr",
          "output_type": "stream",
          "text": [
            " 85%|████████▍ | 9196/10879 [1:59:56<22:20,  1.26it/s]"
          ]
        },
        {
          "metadata": {
            "tags": null
          },
          "name": "stdout",
          "output_type": "stream",
          "text": [
            "This row throws and error: https://www.youtube.com/channel/UCSI7RaMeFJWaaUOPHpNnlIQ 4202024\n"
          ]
        },
        {
          "metadata": {
            "tags": null
          },
          "name": "stderr",
          "output_type": "stream",
          "text": [
            " 86%|████████▌ | 9307/10879 [2:01:20<26:14,  1.00s/it]"
          ]
        },
        {
          "metadata": {
            "tags": null
          },
          "name": "stdout",
          "output_type": "stream",
          "text": [
            "This row throws and error: https://www.youtube.com/channel/UCtkxb6ZnhcF2ZkCgQzNvftQ 𝟔𝟒 𝐛𝐢𝐭𝐬 𝟑𝟐 𝐛𝐢𝐭𝐬 𝟏𝟔 𝐛𝐢𝐭𝐬 𝟖 𝐛𝐢𝐭𝐬 𝟒 𝐛𝐢𝐭𝐬 𝟐 𝐛𝐢𝐭𝐬 𝟏 𝐛𝐢𝐭 𝐛𝐮𝐭 𝐢𝐭'𝐬 𝐓𝐲𝐥𝐞𝐫𝟏\n",
            "This row throws and error: https://www.youtube.com/channel/UCtkxb6ZnhcF2ZkCgQzNvftQ 𝙃𝙀𝙃𝙀𝙃𝙀\n"
          ]
        },
        {
          "metadata": {
            "tags": null
          },
          "name": "stderr",
          "output_type": "stream",
          "text": [
            " 86%|████████▌ | 9315/10879 [2:01:29<32:17,  1.24s/it]"
          ]
        },
        {
          "metadata": {
            "tags": null
          },
          "name": "stdout",
          "output_type": "stream",
          "text": [
            "This row throws and error: https://www.youtube.com/channel/UCznza7zIGPvwmOYgSemgMUQ 𝕷𝖊𝖘𝖘 𝕭𝖗𝖎𝖙𝖎𝖘𝖍\n"
          ]
        },
        {
          "metadata": {
            "tags": null
          },
          "name": "stderr",
          "output_type": "stream",
          "text": [
            " 86%|████████▌ | 9354/10879 [2:01:55<23:56,  1.06it/s]"
          ]
        },
        {
          "metadata": {
            "tags": null
          },
          "name": "stdout",
          "output_type": "stream",
          "text": [
            "This row throws and error: https://www.youtube.com/channel/UC-9GZ7QHKOmLS0APnfz2g1Q ស្ទីវ រ៉កវូដ ថ្លែង​សុន្ទរកថា  RootsTech ឆ្នាំ ២០២៤\n"
          ]
        },
        {
          "metadata": {
            "tags": null
          },
          "name": "stderr",
          "output_type": "stream",
          "text": [
            " 86%|████████▌ | 9370/10879 [2:02:02<07:42,  3.27it/s]"
          ]
        },
        {
          "metadata": {
            "tags": null
          },
          "name": "stdout",
          "output_type": "stream",
          "text": [
            "This row throws and error: https://www.youtube.com/channel/UC--LAVm36WiCmqQbekV17qQ ‎ ‎\n",
            "This row throws and error: https://www.youtube.com/channel/UC--LAVm36WiCmqQbekV17qQ ‎\n",
            "This row throws and error: https://www.youtube.com/channel/UC--LAVm36WiCmqQbekV17qQ ‎\n",
            "This row throws and error: https://www.youtube.com/channel/UC--LAVm36WiCmqQbekV17qQ ‎\n",
            "This row throws and error: https://www.youtube.com/channel/UC--LAVm36WiCmqQbekV17qQ ,\n",
            "This row throws and error: https://www.youtube.com/channel/UC--LAVm36WiCmqQbekV17qQ .\n"
          ]
        },
        {
          "metadata": {
            "tags": null
          },
          "name": "stderr",
          "output_type": "stream",
          "text": [
            " 90%|█████████ | 9834/10879 [2:08:24<19:36,  1.13s/it]"
          ]
        },
        {
          "metadata": {
            "tags": null
          },
          "name": "stdout",
          "output_type": "stream",
          "text": [
            "This row throws and error: https://www.youtube.com/channel/UCDFUWZ_VtAS28P2exM9Y6Jw 30.05\n",
            "This row throws and error: https://www.youtube.com/channel/UCDFUWZ_VtAS28P2exM9Y6Jw 30.05\n",
            "This row throws and error: https://www.youtube.com/channel/UCDFUWZ_VtAS28P2exM9Y6Jw 30.05\n"
          ]
        },
        {
          "output_type": "stream",
          "name": "stderr",
          "text": [
            " 91%|█████████ | 9883/10879 [2:09:02<22:23,  1.35s/it]"
          ]
        },
        {
          "output_type": "stream",
          "name": "stdout",
          "text": [
            "This row throws and error: https://www.youtube.com/channel/UCSJ4gkVC6NrvII8umztf0Ow 🔎\n",
            "This row throws and error: https://www.youtube.com/channel/UCSJ4gkVC6NrvII8umztf0Ow ?????\n",
            "This row throws and error: https://www.youtube.com/channel/UCSJ4gkVC6NrvII8umztf0Ow 26022024 🔔\n",
            "This row throws and error: https://www.youtube.com/channel/UCSJ4gkVC6NrvII8umztf0Ow 😱\n"
          ]
        },
        {
          "output_type": "stream",
          "name": "stderr",
          "text": [
            " 94%|█████████▍| 10228/10879 [2:13:11<05:45,  1.89it/s]"
          ]
        },
        {
          "output_type": "stream",
          "name": "stdout",
          "text": [
            "This row throws and error: https://www.youtube.com/channel/UCvJS1ATO9dcQ0r2u0KJ0PPg 100.000\n"
          ]
        },
        {
          "output_type": "stream",
          "name": "stderr",
          "text": [
            " 95%|█████████▌| 10342/10879 [2:14:30<05:51,  1.53it/s]"
          ]
        },
        {
          "output_type": "stream",
          "name": "stdout",
          "text": [
            "This row throws and error: https://www.youtube.com/channel/UC8BDPbc5lKVBaz4LFVeWWcw ᅠᅠ\n"
          ]
        },
        {
          "output_type": "stream",
          "name": "stderr",
          "text": [
            " 95%|█████████▌| 10344/10879 [2:14:32<07:12,  1.24it/s]"
          ]
        },
        {
          "output_type": "stream",
          "name": "stdout",
          "text": [
            "This row throws and error: https://www.youtube.com/channel/UCqmugCqELzhIMNYnsjScXXw 01000011 01111001 01100010 01101111 01110010 01100111\n"
          ]
        },
        {
          "output_type": "stream",
          "name": "stderr",
          "text": [
            " 96%|█████████▌| 10450/10879 [2:15:57<03:17,  2.17it/s]"
          ]
        },
        {
          "output_type": "stream",
          "name": "stdout",
          "text": [
            "This row throws and error: https://www.youtube.com/channel/UCBa659QWEk1AI4Tg--mrJ2A ᚛ᚈᚑᚋ ᚄᚉᚑᚈᚈ᚜ and ᚛ᚑᚌᚐᚋ᚜\n",
            "This row throws and error: https://www.youtube.com/channel/UCBa659QWEk1AI4Tg--mrJ2A ᑖᒻ ᔅᑳᑦ and ᖃᓂᐅᔮᖅᐸᐃᑦ\n"
          ]
        },
        {
          "output_type": "stream",
          "name": "stderr",
          "text": [
            " 97%|█████████▋| 10555/10879 [2:17:10<03:11,  1.69it/s]"
          ]
        },
        {
          "output_type": "stream",
          "name": "stdout",
          "text": [
            "This row throws and error: https://www.youtube.com/channel/UCAvKpW4hS34JXmfqbMbhPrw 313\n"
          ]
        },
        {
          "output_type": "stream",
          "name": "stderr",
          "text": [
            " 97%|█████████▋| 10561/10879 [2:17:16<04:19,  1.22it/s]"
          ]
        },
        {
          "output_type": "stream",
          "name": "stdout",
          "text": [
            "This row throws and error: https://www.youtube.com/channel/UCs2Xfykq6ONapqI6TFKNyOg 다람쥐 코 보고 깜짝 놀람\n",
            "This row throws and error: https://www.youtube.com/channel/UCs2Xfykq6ONapqI6TFKNyOg 둘이 무슨 대화를 나눴을까?\n"
          ]
        },
        {
          "output_type": "stream",
          "name": "stderr",
          "text": [
            " 99%|█████████▉| 10774/10879 [2:19:59<02:34,  1.47s/it]"
          ]
        },
        {
          "output_type": "stream",
          "name": "stdout",
          "text": [
            "This row throws and error: https://www.youtube.com/channel/UCW67rDTapVxGZ69Ja9i6Ifw 3 ❤️\n"
          ]
        },
        {
          "output_type": "stream",
          "name": "stderr",
          "text": [
            "100%|█████████▉| 10867/10879 [2:21:09<00:03,  3.51it/s]"
          ]
        },
        {
          "output_type": "stream",
          "name": "stdout",
          "text": [
            "This row throws and error: https://www.youtube.com/channel/UCz66sJbzTTte0_lX6rzkK5A )\n"
          ]
        },
        {
          "output_type": "stream",
          "name": "stderr",
          "text": [
            "100%|██████████| 10879/10879 [2:21:14<00:00,  1.28it/s]\n"
          ]
        }
      ],
      "source": [
        "import csv\n",
        "from tqdm import tqdm\n",
        "from langdetect import detect\n",
        "with open('./gdrive/MyDrive/youtube_thumbnails/training_data.csv', 'w', newline='') as file:\n",
        "    writer = csv.writer(file,escapechar='\\\\')\n",
        "    field = [\"channel_description\", \"channel_name\", \"channel_url\",\"title\",\"thumb_url\",\"views\"]\n",
        "    writer.writerow(field)\n",
        "    for channel in tqdm(data_thumbnail):\n",
        "      channel_description,channel_name,channel_url=channel[\"description\"][0],channel[\"channel_name\"],channel[\"channel_url\"]\n",
        "      counter=0\n",
        "      for title,thumbnail_url,views in channel[\"thumb_title\"]:\n",
        "        try:\n",
        "          if(detect(title)==\"en\"):\n",
        "            writer.writerow([channel_description,channel_name,channel_url,title,thumbnail_url,views])\n",
        "          else:\n",
        "            counter+=1\n",
        "            if(counter>=10):#you can choose any other number\n",
        "              break\n",
        "        except:\n",
        "          print(\"This row throws and error:\", channel_url, title)"
      ]
    },
    {
      "cell_type": "code",
      "execution_count": null,
      "id": "IayAcYh0hk8K",
      "metadata": {
        "id": "IayAcYh0hk8K",
        "colab": {
          "base_uri": "https://localhost:8080/",
          "height": 597
        },
        "outputId": "b5af7e04-e4fd-4289-a01c-4a85cf19307b"
      },
      "outputs": [
        {
          "output_type": "execute_result",
          "data": {
            "text/plain": [
              "                                      channel_description  \\\n",
              "0       My name is JR Alli. I'm a 26 year old Filmmake...   \n",
              "1       My name is JR Alli. I'm a 26 year old Filmmake...   \n",
              "2       My name is JR Alli. I'm a 26 year old Filmmake...   \n",
              "3       My name is JR Alli. I'm a 26 year old Filmmake...   \n",
              "4       My name is JR Alli. I'm a 26 year old Filmmake...   \n",
              "...                                                   ...   \n",
              "795946  Chasing Summer Productions is a team of videog...   \n",
              "795947  Chasing Summer Productions is a team of videog...   \n",
              "795948  Chasing Summer Productions is a team of videog...   \n",
              "795949  Chasing Summer Productions is a team of videog...   \n",
              "795950  Chasing Summer Productions is a team of videog...   \n",
              "\n",
              "                      channel_name  \\\n",
              "0                          JR Alli   \n",
              "1                          JR Alli   \n",
              "2                          JR Alli   \n",
              "3                          JR Alli   \n",
              "4                          JR Alli   \n",
              "...                            ...   \n",
              "795946  Chasing Summer Productions   \n",
              "795947  Chasing Summer Productions   \n",
              "795948  Chasing Summer Productions   \n",
              "795949  Chasing Summer Productions   \n",
              "795950  Chasing Summer Productions   \n",
              "\n",
              "                                              channel_url  \\\n",
              "0       https://www.youtube.com/channel/UC94IKgdvTjCqo...   \n",
              "1       https://www.youtube.com/channel/UC94IKgdvTjCqo...   \n",
              "2       https://www.youtube.com/channel/UC94IKgdvTjCqo...   \n",
              "3       https://www.youtube.com/channel/UC94IKgdvTjCqo...   \n",
              "4       https://www.youtube.com/channel/UC94IKgdvTjCqo...   \n",
              "...                                                   ...   \n",
              "795946  https://www.youtube.com/channel/UCLogORgVX9dA3...   \n",
              "795947  https://www.youtube.com/channel/UCLogORgVX9dA3...   \n",
              "795948  https://www.youtube.com/channel/UCLogORgVX9dA3...   \n",
              "795949  https://www.youtube.com/channel/UCLogORgVX9dA3...   \n",
              "795950  https://www.youtube.com/channel/UCLogORgVX9dA3...   \n",
              "\n",
              "                                           title  \\\n",
              "0                           The Age of Addiction   \n",
              "1                          AROUND THE WORLD 2023   \n",
              "2                              the Memory Palace   \n",
              "3                                  Dear Iceland,   \n",
              "4           RONIN-SC Hands On Review in TALLINN!   \n",
              "...                                          ...   \n",
              "795946  Dummy Mount GoPro's Most Versatile Mount   \n",
              "795947                    Cliff Dive Hawaii Oahu   \n",
              "795948     Cliff Diving Hawaii Maui & Big Island   \n",
              "795949                         Maui Cliff Diving   \n",
              "795950                  Backyard Downhill Course   \n",
              "\n",
              "                                                thumb_url   views  \n",
              "0        https://i.ytimg.com/vi/oyGmpCJJfHU/sddefault.jpg   16284  \n",
              "1        https://i.ytimg.com/vi/NTlEQRZzd4A/sddefault.jpg   17218  \n",
              "2        https://i.ytimg.com/vi/lQfadWsNIXQ/sddefault.jpg   83667  \n",
              "3        https://i.ytimg.com/vi/f-fJ6aav-Cs/sddefault.jpg  170228  \n",
              "4        https://i.ytimg.com/vi/KYzk7Br6vd4/sddefault.jpg   69699  \n",
              "...                                                   ...     ...  \n",
              "795946   https://i.ytimg.com/vi/fD0ptaUxYLY/sddefault.jpg   70925  \n",
              "795947  https://i.ytimg.com/vi/5OPbI2f9Qtw/sddefault.j...    3789  \n",
              "795948   https://i.ytimg.com/vi/cUmCPaVhul4/sddefault.jpg  257435  \n",
              "795949  https://i.ytimg.com/vi/3y8AHGm60-4/sddefault.j...    2152  \n",
              "795950  https://i.ytimg.com/vi/AtS1-zA1E_E/sddefault.j...    2258  \n",
              "\n",
              "[795951 rows x 6 columns]"
            ],
            "text/html": [
              "\n",
              "  <div id=\"df-f96a8e65-96ba-4dbf-a864-b0414da1ef9d\" class=\"colab-df-container\">\n",
              "    <div>\n",
              "<style scoped>\n",
              "    .dataframe tbody tr th:only-of-type {\n",
              "        vertical-align: middle;\n",
              "    }\n",
              "\n",
              "    .dataframe tbody tr th {\n",
              "        vertical-align: top;\n",
              "    }\n",
              "\n",
              "    .dataframe thead th {\n",
              "        text-align: right;\n",
              "    }\n",
              "</style>\n",
              "<table border=\"1\" class=\"dataframe\">\n",
              "  <thead>\n",
              "    <tr style=\"text-align: right;\">\n",
              "      <th></th>\n",
              "      <th>channel_description</th>\n",
              "      <th>channel_name</th>\n",
              "      <th>channel_url</th>\n",
              "      <th>title</th>\n",
              "      <th>thumb_url</th>\n",
              "      <th>views</th>\n",
              "    </tr>\n",
              "  </thead>\n",
              "  <tbody>\n",
              "    <tr>\n",
              "      <th>0</th>\n",
              "      <td>My name is JR Alli. I'm a 26 year old Filmmake...</td>\n",
              "      <td>JR Alli</td>\n",
              "      <td>https://www.youtube.com/channel/UC94IKgdvTjCqo...</td>\n",
              "      <td>The Age of Addiction</td>\n",
              "      <td>https://i.ytimg.com/vi/oyGmpCJJfHU/sddefault.jpg</td>\n",
              "      <td>16284</td>\n",
              "    </tr>\n",
              "    <tr>\n",
              "      <th>1</th>\n",
              "      <td>My name is JR Alli. I'm a 26 year old Filmmake...</td>\n",
              "      <td>JR Alli</td>\n",
              "      <td>https://www.youtube.com/channel/UC94IKgdvTjCqo...</td>\n",
              "      <td>AROUND THE WORLD 2023</td>\n",
              "      <td>https://i.ytimg.com/vi/NTlEQRZzd4A/sddefault.jpg</td>\n",
              "      <td>17218</td>\n",
              "    </tr>\n",
              "    <tr>\n",
              "      <th>2</th>\n",
              "      <td>My name is JR Alli. I'm a 26 year old Filmmake...</td>\n",
              "      <td>JR Alli</td>\n",
              "      <td>https://www.youtube.com/channel/UC94IKgdvTjCqo...</td>\n",
              "      <td>the Memory Palace</td>\n",
              "      <td>https://i.ytimg.com/vi/lQfadWsNIXQ/sddefault.jpg</td>\n",
              "      <td>83667</td>\n",
              "    </tr>\n",
              "    <tr>\n",
              "      <th>3</th>\n",
              "      <td>My name is JR Alli. I'm a 26 year old Filmmake...</td>\n",
              "      <td>JR Alli</td>\n",
              "      <td>https://www.youtube.com/channel/UC94IKgdvTjCqo...</td>\n",
              "      <td>Dear Iceland,</td>\n",
              "      <td>https://i.ytimg.com/vi/f-fJ6aav-Cs/sddefault.jpg</td>\n",
              "      <td>170228</td>\n",
              "    </tr>\n",
              "    <tr>\n",
              "      <th>4</th>\n",
              "      <td>My name is JR Alli. I'm a 26 year old Filmmake...</td>\n",
              "      <td>JR Alli</td>\n",
              "      <td>https://www.youtube.com/channel/UC94IKgdvTjCqo...</td>\n",
              "      <td>RONIN-SC Hands On Review in TALLINN!</td>\n",
              "      <td>https://i.ytimg.com/vi/KYzk7Br6vd4/sddefault.jpg</td>\n",
              "      <td>69699</td>\n",
              "    </tr>\n",
              "    <tr>\n",
              "      <th>...</th>\n",
              "      <td>...</td>\n",
              "      <td>...</td>\n",
              "      <td>...</td>\n",
              "      <td>...</td>\n",
              "      <td>...</td>\n",
              "      <td>...</td>\n",
              "    </tr>\n",
              "    <tr>\n",
              "      <th>795946</th>\n",
              "      <td>Chasing Summer Productions is a team of videog...</td>\n",
              "      <td>Chasing Summer Productions</td>\n",
              "      <td>https://www.youtube.com/channel/UCLogORgVX9dA3...</td>\n",
              "      <td>Dummy Mount GoPro's Most Versatile Mount</td>\n",
              "      <td>https://i.ytimg.com/vi/fD0ptaUxYLY/sddefault.jpg</td>\n",
              "      <td>70925</td>\n",
              "    </tr>\n",
              "    <tr>\n",
              "      <th>795947</th>\n",
              "      <td>Chasing Summer Productions is a team of videog...</td>\n",
              "      <td>Chasing Summer Productions</td>\n",
              "      <td>https://www.youtube.com/channel/UCLogORgVX9dA3...</td>\n",
              "      <td>Cliff Dive Hawaii Oahu</td>\n",
              "      <td>https://i.ytimg.com/vi/5OPbI2f9Qtw/sddefault.j...</td>\n",
              "      <td>3789</td>\n",
              "    </tr>\n",
              "    <tr>\n",
              "      <th>795948</th>\n",
              "      <td>Chasing Summer Productions is a team of videog...</td>\n",
              "      <td>Chasing Summer Productions</td>\n",
              "      <td>https://www.youtube.com/channel/UCLogORgVX9dA3...</td>\n",
              "      <td>Cliff Diving Hawaii Maui &amp; Big Island</td>\n",
              "      <td>https://i.ytimg.com/vi/cUmCPaVhul4/sddefault.jpg</td>\n",
              "      <td>257435</td>\n",
              "    </tr>\n",
              "    <tr>\n",
              "      <th>795949</th>\n",
              "      <td>Chasing Summer Productions is a team of videog...</td>\n",
              "      <td>Chasing Summer Productions</td>\n",
              "      <td>https://www.youtube.com/channel/UCLogORgVX9dA3...</td>\n",
              "      <td>Maui Cliff Diving</td>\n",
              "      <td>https://i.ytimg.com/vi/3y8AHGm60-4/sddefault.j...</td>\n",
              "      <td>2152</td>\n",
              "    </tr>\n",
              "    <tr>\n",
              "      <th>795950</th>\n",
              "      <td>Chasing Summer Productions is a team of videog...</td>\n",
              "      <td>Chasing Summer Productions</td>\n",
              "      <td>https://www.youtube.com/channel/UCLogORgVX9dA3...</td>\n",
              "      <td>Backyard Downhill Course</td>\n",
              "      <td>https://i.ytimg.com/vi/AtS1-zA1E_E/sddefault.j...</td>\n",
              "      <td>2258</td>\n",
              "    </tr>\n",
              "  </tbody>\n",
              "</table>\n",
              "<p>795951 rows × 6 columns</p>\n",
              "</div>\n",
              "    <div class=\"colab-df-buttons\">\n",
              "\n",
              "  <div class=\"colab-df-container\">\n",
              "    <button class=\"colab-df-convert\" onclick=\"convertToInteractive('df-f96a8e65-96ba-4dbf-a864-b0414da1ef9d')\"\n",
              "            title=\"Convert this dataframe to an interactive table.\"\n",
              "            style=\"display:none;\">\n",
              "\n",
              "  <svg xmlns=\"http://www.w3.org/2000/svg\" height=\"24px\" viewBox=\"0 -960 960 960\">\n",
              "    <path d=\"M120-120v-720h720v720H120Zm60-500h600v-160H180v160Zm220 220h160v-160H400v160Zm0 220h160v-160H400v160ZM180-400h160v-160H180v160Zm440 0h160v-160H620v160ZM180-180h160v-160H180v160Zm440 0h160v-160H620v160Z\"/>\n",
              "  </svg>\n",
              "    </button>\n",
              "\n",
              "  <style>\n",
              "    .colab-df-container {\n",
              "      display:flex;\n",
              "      gap: 12px;\n",
              "    }\n",
              "\n",
              "    .colab-df-convert {\n",
              "      background-color: #E8F0FE;\n",
              "      border: none;\n",
              "      border-radius: 50%;\n",
              "      cursor: pointer;\n",
              "      display: none;\n",
              "      fill: #1967D2;\n",
              "      height: 32px;\n",
              "      padding: 0 0 0 0;\n",
              "      width: 32px;\n",
              "    }\n",
              "\n",
              "    .colab-df-convert:hover {\n",
              "      background-color: #E2EBFA;\n",
              "      box-shadow: 0px 1px 2px rgba(60, 64, 67, 0.3), 0px 1px 3px 1px rgba(60, 64, 67, 0.15);\n",
              "      fill: #174EA6;\n",
              "    }\n",
              "\n",
              "    .colab-df-buttons div {\n",
              "      margin-bottom: 4px;\n",
              "    }\n",
              "\n",
              "    [theme=dark] .colab-df-convert {\n",
              "      background-color: #3B4455;\n",
              "      fill: #D2E3FC;\n",
              "    }\n",
              "\n",
              "    [theme=dark] .colab-df-convert:hover {\n",
              "      background-color: #434B5C;\n",
              "      box-shadow: 0px 1px 3px 1px rgba(0, 0, 0, 0.15);\n",
              "      filter: drop-shadow(0px 1px 2px rgba(0, 0, 0, 0.3));\n",
              "      fill: #FFFFFF;\n",
              "    }\n",
              "  </style>\n",
              "\n",
              "    <script>\n",
              "      const buttonEl =\n",
              "        document.querySelector('#df-f96a8e65-96ba-4dbf-a864-b0414da1ef9d button.colab-df-convert');\n",
              "      buttonEl.style.display =\n",
              "        google.colab.kernel.accessAllowed ? 'block' : 'none';\n",
              "\n",
              "      async function convertToInteractive(key) {\n",
              "        const element = document.querySelector('#df-f96a8e65-96ba-4dbf-a864-b0414da1ef9d');\n",
              "        const dataTable =\n",
              "          await google.colab.kernel.invokeFunction('convertToInteractive',\n",
              "                                                    [key], {});\n",
              "        if (!dataTable) return;\n",
              "\n",
              "        const docLinkHtml = 'Like what you see? Visit the ' +\n",
              "          '<a target=\"_blank\" href=https://colab.research.google.com/notebooks/data_table.ipynb>data table notebook</a>'\n",
              "          + ' to learn more about interactive tables.';\n",
              "        element.innerHTML = '';\n",
              "        dataTable['output_type'] = 'display_data';\n",
              "        await google.colab.output.renderOutput(dataTable, element);\n",
              "        const docLink = document.createElement('div');\n",
              "        docLink.innerHTML = docLinkHtml;\n",
              "        element.appendChild(docLink);\n",
              "      }\n",
              "    </script>\n",
              "  </div>\n",
              "\n",
              "\n",
              "<div id=\"df-60e2424d-0b0f-4391-ae7e-763b87cebb7e\">\n",
              "  <button class=\"colab-df-quickchart\" onclick=\"quickchart('df-60e2424d-0b0f-4391-ae7e-763b87cebb7e')\"\n",
              "            title=\"Suggest charts\"\n",
              "            style=\"display:none;\">\n",
              "\n",
              "<svg xmlns=\"http://www.w3.org/2000/svg\" height=\"24px\"viewBox=\"0 0 24 24\"\n",
              "     width=\"24px\">\n",
              "    <g>\n",
              "        <path d=\"M19 3H5c-1.1 0-2 .9-2 2v14c0 1.1.9 2 2 2h14c1.1 0 2-.9 2-2V5c0-1.1-.9-2-2-2zM9 17H7v-7h2v7zm4 0h-2V7h2v10zm4 0h-2v-4h2v4z\"/>\n",
              "    </g>\n",
              "</svg>\n",
              "  </button>\n",
              "\n",
              "<style>\n",
              "  .colab-df-quickchart {\n",
              "      --bg-color: #E8F0FE;\n",
              "      --fill-color: #1967D2;\n",
              "      --hover-bg-color: #E2EBFA;\n",
              "      --hover-fill-color: #174EA6;\n",
              "      --disabled-fill-color: #AAA;\n",
              "      --disabled-bg-color: #DDD;\n",
              "  }\n",
              "\n",
              "  [theme=dark] .colab-df-quickchart {\n",
              "      --bg-color: #3B4455;\n",
              "      --fill-color: #D2E3FC;\n",
              "      --hover-bg-color: #434B5C;\n",
              "      --hover-fill-color: #FFFFFF;\n",
              "      --disabled-bg-color: #3B4455;\n",
              "      --disabled-fill-color: #666;\n",
              "  }\n",
              "\n",
              "  .colab-df-quickchart {\n",
              "    background-color: var(--bg-color);\n",
              "    border: none;\n",
              "    border-radius: 50%;\n",
              "    cursor: pointer;\n",
              "    display: none;\n",
              "    fill: var(--fill-color);\n",
              "    height: 32px;\n",
              "    padding: 0;\n",
              "    width: 32px;\n",
              "  }\n",
              "\n",
              "  .colab-df-quickchart:hover {\n",
              "    background-color: var(--hover-bg-color);\n",
              "    box-shadow: 0 1px 2px rgba(60, 64, 67, 0.3), 0 1px 3px 1px rgba(60, 64, 67, 0.15);\n",
              "    fill: var(--button-hover-fill-color);\n",
              "  }\n",
              "\n",
              "  .colab-df-quickchart-complete:disabled,\n",
              "  .colab-df-quickchart-complete:disabled:hover {\n",
              "    background-color: var(--disabled-bg-color);\n",
              "    fill: var(--disabled-fill-color);\n",
              "    box-shadow: none;\n",
              "  }\n",
              "\n",
              "  .colab-df-spinner {\n",
              "    border: 2px solid var(--fill-color);\n",
              "    border-color: transparent;\n",
              "    border-bottom-color: var(--fill-color);\n",
              "    animation:\n",
              "      spin 1s steps(1) infinite;\n",
              "  }\n",
              "\n",
              "  @keyframes spin {\n",
              "    0% {\n",
              "      border-color: transparent;\n",
              "      border-bottom-color: var(--fill-color);\n",
              "      border-left-color: var(--fill-color);\n",
              "    }\n",
              "    20% {\n",
              "      border-color: transparent;\n",
              "      border-left-color: var(--fill-color);\n",
              "      border-top-color: var(--fill-color);\n",
              "    }\n",
              "    30% {\n",
              "      border-color: transparent;\n",
              "      border-left-color: var(--fill-color);\n",
              "      border-top-color: var(--fill-color);\n",
              "      border-right-color: var(--fill-color);\n",
              "    }\n",
              "    40% {\n",
              "      border-color: transparent;\n",
              "      border-right-color: var(--fill-color);\n",
              "      border-top-color: var(--fill-color);\n",
              "    }\n",
              "    60% {\n",
              "      border-color: transparent;\n",
              "      border-right-color: var(--fill-color);\n",
              "    }\n",
              "    80% {\n",
              "      border-color: transparent;\n",
              "      border-right-color: var(--fill-color);\n",
              "      border-bottom-color: var(--fill-color);\n",
              "    }\n",
              "    90% {\n",
              "      border-color: transparent;\n",
              "      border-bottom-color: var(--fill-color);\n",
              "    }\n",
              "  }\n",
              "</style>\n",
              "\n",
              "  <script>\n",
              "    async function quickchart(key) {\n",
              "      const quickchartButtonEl =\n",
              "        document.querySelector('#' + key + ' button');\n",
              "      quickchartButtonEl.disabled = true;  // To prevent multiple clicks.\n",
              "      quickchartButtonEl.classList.add('colab-df-spinner');\n",
              "      try {\n",
              "        const charts = await google.colab.kernel.invokeFunction(\n",
              "            'suggestCharts', [key], {});\n",
              "      } catch (error) {\n",
              "        console.error('Error during call to suggestCharts:', error);\n",
              "      }\n",
              "      quickchartButtonEl.classList.remove('colab-df-spinner');\n",
              "      quickchartButtonEl.classList.add('colab-df-quickchart-complete');\n",
              "    }\n",
              "    (() => {\n",
              "      let quickchartButtonEl =\n",
              "        document.querySelector('#df-60e2424d-0b0f-4391-ae7e-763b87cebb7e button');\n",
              "      quickchartButtonEl.style.display =\n",
              "        google.colab.kernel.accessAllowed ? 'block' : 'none';\n",
              "    })();\n",
              "  </script>\n",
              "</div>\n",
              "\n",
              "  <div id=\"id_ff15bd6b-985a-4677-9eeb-63dab5f720a1\">\n",
              "    <style>\n",
              "      .colab-df-generate {\n",
              "        background-color: #E8F0FE;\n",
              "        border: none;\n",
              "        border-radius: 50%;\n",
              "        cursor: pointer;\n",
              "        display: none;\n",
              "        fill: #1967D2;\n",
              "        height: 32px;\n",
              "        padding: 0 0 0 0;\n",
              "        width: 32px;\n",
              "      }\n",
              "\n",
              "      .colab-df-generate:hover {\n",
              "        background-color: #E2EBFA;\n",
              "        box-shadow: 0px 1px 2px rgba(60, 64, 67, 0.3), 0px 1px 3px 1px rgba(60, 64, 67, 0.15);\n",
              "        fill: #174EA6;\n",
              "      }\n",
              "\n",
              "      [theme=dark] .colab-df-generate {\n",
              "        background-color: #3B4455;\n",
              "        fill: #D2E3FC;\n",
              "      }\n",
              "\n",
              "      [theme=dark] .colab-df-generate:hover {\n",
              "        background-color: #434B5C;\n",
              "        box-shadow: 0px 1px 3px 1px rgba(0, 0, 0, 0.15);\n",
              "        filter: drop-shadow(0px 1px 2px rgba(0, 0, 0, 0.3));\n",
              "        fill: #FFFFFF;\n",
              "      }\n",
              "    </style>\n",
              "    <button class=\"colab-df-generate\" onclick=\"generateWithVariable('Data')\"\n",
              "            title=\"Generate code using this dataframe.\"\n",
              "            style=\"display:none;\">\n",
              "\n",
              "  <svg xmlns=\"http://www.w3.org/2000/svg\" height=\"24px\"viewBox=\"0 0 24 24\"\n",
              "       width=\"24px\">\n",
              "    <path d=\"M7,19H8.4L18.45,9,17,7.55,7,17.6ZM5,21V16.75L18.45,3.32a2,2,0,0,1,2.83,0l1.4,1.43a1.91,1.91,0,0,1,.58,1.4,1.91,1.91,0,0,1-.58,1.4L9.25,21ZM18.45,9,17,7.55Zm-12,3A5.31,5.31,0,0,0,4.9,8.1,5.31,5.31,0,0,0,1,6.5,5.31,5.31,0,0,0,4.9,4.9,5.31,5.31,0,0,0,6.5,1,5.31,5.31,0,0,0,8.1,4.9,5.31,5.31,0,0,0,12,6.5,5.46,5.46,0,0,0,6.5,12Z\"/>\n",
              "  </svg>\n",
              "    </button>\n",
              "    <script>\n",
              "      (() => {\n",
              "      const buttonEl =\n",
              "        document.querySelector('#id_ff15bd6b-985a-4677-9eeb-63dab5f720a1 button.colab-df-generate');\n",
              "      buttonEl.style.display =\n",
              "        google.colab.kernel.accessAllowed ? 'block' : 'none';\n",
              "\n",
              "      buttonEl.onclick = () => {\n",
              "        google.colab.notebook.generateWithVariable('Data');\n",
              "      }\n",
              "      })();\n",
              "    </script>\n",
              "  </div>\n",
              "\n",
              "    </div>\n",
              "  </div>\n"
            ],
            "application/vnd.google.colaboratory.intrinsic+json": {
              "type": "dataframe",
              "variable_name": "Data"
            }
          },
          "metadata": {},
          "execution_count": 6
        }
      ],
      "source": [
        "import pandas as pd\n",
        "Data=pd.read_csv('./gdrive/MyDrive/youtube_thumbnails/training_data.csv')\n",
        "Data"
      ]
    }
  ],
  "metadata": {
    "colab": {
      "provenance": []
    },
    "kernelspec": {
      "display_name": "internship 2GIS",
      "language": "python",
      "name": "internship_2gis"
    },
    "language_info": {
      "codemirror_mode": {
        "name": "ipython",
        "version": 3
      },
      "file_extension": ".py",
      "mimetype": "text/x-python",
      "name": "python",
      "nbconvert_exporter": "python",
      "pygments_lexer": "ipython3",
      "version": "3.10.14"
    },
    "widgets": {
      "application/vnd.jupyter.widget-state+json": {
        "ef5f08cce0a3425798831e36f55327ed": {
          "model_module": "@jupyter-widgets/output",
          "model_name": "OutputModel",
          "model_module_version": "1.0.0",
          "state": {
            "_dom_classes": [],
            "_model_module": "@jupyter-widgets/output",
            "_model_module_version": "1.0.0",
            "_model_name": "OutputModel",
            "_view_count": null,
            "_view_module": "@jupyter-widgets/output",
            "_view_module_version": "1.0.0",
            "_view_name": "OutputView",
            "layout": "IPY_MODEL_0e0a3784d89942909e96771bd1d9c486",
            "msg_id": "",
            "outputs": [
              {
                "output_type": "display_data",
                "data": {
                  "text/plain": "\u001b[32m351/352\u001b[0m \u001b[38;2;249;38;114m━━━━━━━━━━━━━━━━━━━━━━━━━━━\u001b[0m\u001b[38;2;249;38;114m╸\u001b[0m \u001b[35m100%\u001b[0m \u001b[36m0:00:12\u001b[0m \u001b[33m2:04:31\u001b[0m                                                          \n\u001b[32m26/26  \u001b[0m \u001b[38;2;114;156;31m━━━━━━━━━━━━━━━━━━━━━━━━━━━━\u001b[0m \u001b[35m100%\u001b[0m \u001b[33m0:00:03\u001b[0m \u001b[33m0:00:03\u001b[0m  \u001b[1;34mhttps://www.youtube.com/channel/UCLogORgVX9dA3WODIaZTulQ\u001b[0m\n",
                  "text/html": "<pre style=\"white-space:pre;overflow-x:auto;line-height:normal;font-family:Menlo,'DejaVu Sans Mono',consolas,'Courier New',monospace\"><span style=\"color: #008000; text-decoration-color: #008000\">351/352</span> <span style=\"color: #f92672; text-decoration-color: #f92672\">━━━━━━━━━━━━━━━━━━━━━━━━━━━╸</span> <span style=\"color: #800080; text-decoration-color: #800080\">100%</span> <span style=\"color: #008080; text-decoration-color: #008080\">0:00:12</span> <span style=\"color: #808000; text-decoration-color: #808000\">2:04:31</span>                                                          \n<span style=\"color: #008000; text-decoration-color: #008000\">26/26  </span> <span style=\"color: #729c1f; text-decoration-color: #729c1f\">━━━━━━━━━━━━━━━━━━━━━━━━━━━━</span> <span style=\"color: #800080; text-decoration-color: #800080\">100%</span> <span style=\"color: #808000; text-decoration-color: #808000\">0:00:03</span> <span style=\"color: #808000; text-decoration-color: #808000\">0:00:03</span>  <span style=\"color: #000080; text-decoration-color: #000080; font-weight: bold\">https://www.youtube.com/channel/UCLogORgVX9dA3WODIaZTulQ</span>\n</pre>\n"
                },
                "metadata": {}
              }
            ]
          }
        },
        "0e0a3784d89942909e96771bd1d9c486": {
          "model_module": "@jupyter-widgets/base",
          "model_name": "LayoutModel",
          "model_module_version": "1.2.0",
          "state": {
            "_model_module": "@jupyter-widgets/base",
            "_model_module_version": "1.2.0",
            "_model_name": "LayoutModel",
            "_view_count": null,
            "_view_module": "@jupyter-widgets/base",
            "_view_module_version": "1.2.0",
            "_view_name": "LayoutView",
            "align_content": null,
            "align_items": null,
            "align_self": null,
            "border": null,
            "bottom": null,
            "display": null,
            "flex": null,
            "flex_flow": null,
            "grid_area": null,
            "grid_auto_columns": null,
            "grid_auto_flow": null,
            "grid_auto_rows": null,
            "grid_column": null,
            "grid_gap": null,
            "grid_row": null,
            "grid_template_areas": null,
            "grid_template_columns": null,
            "grid_template_rows": null,
            "height": null,
            "justify_content": null,
            "justify_items": null,
            "left": null,
            "margin": null,
            "max_height": null,
            "max_width": null,
            "min_height": null,
            "min_width": null,
            "object_fit": null,
            "object_position": null,
            "order": null,
            "overflow": null,
            "overflow_x": null,
            "overflow_y": null,
            "padding": null,
            "right": null,
            "top": null,
            "visibility": null,
            "width": null
          }
        }
      }
    }
  },
  "nbformat": 4,
  "nbformat_minor": 5
}
